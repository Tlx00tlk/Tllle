{
  "nbformat": 4,
  "nbformat_minor": 0,
  "metadata": {
    "colab": {
      "provenance": [],
      "mount_file_id": "1yT0U7YtXCSiryYGrOlVmipogp2_UWl3_",
      "authorship_tag": "ABX9TyOeiqsWXezRnuh+Kgq9qpuP",
      "include_colab_link": true
    },
    "kernelspec": {
      "name": "python3",
      "display_name": "Python 3"
    }
  },
  "cells": [
    {
      "cell_type": "markdown",
      "metadata": {
        "id": "view-in-github",
        "colab_type": "text"
      },
      "source": [
        "<a href=\"https://colab.research.google.com/github/pasdptt/PasdPublicNB/blob/master/Customer_segmentation.ipynb\" target=\"_parent\"><img src=\"https://colab.research.google.com/assets/colab-badge.svg\" alt=\"Open In Colab\"/></a>"
      ]
    },
    {
      "cell_type": "markdown",
      "metadata": {
        "id": "kUDclT1O1idv"
      },
      "source": [
        "# Install Spark + import lib + start spark session\n"
      ]
    },
    {
      "cell_type": "code",
      "metadata": {
        "id": "K_jf_lcc1Qg3",
        "outputId": "b6ca7352-e02e-4126-c6a6-d0e923c596f8",
        "colab": {
          "base_uri": "https://localhost:8080/"
        }
      },
      "source": [
        "!apt-get update"
      ],
      "execution_count": 1,
      "outputs": [
        {
          "output_type": "stream",
          "name": "stdout",
          "text": [
            "\r0% [Working]\r            \rGet:1 http://security.ubuntu.com/ubuntu bionic-security InRelease [88.7 kB]\n",
            "\r0% [Waiting for headers] [1 InRelease 14.2 kB/88.7 kB 16%] [Connected to cloud.\r                                                                               \rHit:2 http://archive.ubuntu.com/ubuntu bionic InRelease\n",
            "\r0% [Waiting for headers] [1 InRelease 31.5 kB/88.7 kB 36%] [Connected to cloud.\r0% [2 InRelease gpgv 242 kB] [Waiting for headers] [1 InRelease 34.4 kB/88.7 kB\r                                                                               \rGet:3 https://cloud.r-project.org/bin/linux/ubuntu bionic-cran40/ InRelease [3,626 B]\n",
            "\r0% [2 InRelease gpgv 242 kB] [Waiting for headers] [1 InRelease 40.2 kB/88.7 kB\r                                                                               \rGet:4 http://archive.ubuntu.com/ubuntu bionic-updates InRelease [88.7 kB]\n",
            "\r0% [2 InRelease gpgv 242 kB] [4 InRelease 14.2 kB/88.7 kB 16%] [1 InRelease 43.\r0% [2 InRelease gpgv 242 kB] [4 InRelease 21.4 kB/88.7 kB 24%] [Waiting for hea\r                                                                               \rIgn:5 https://developer.download.nvidia.com/compute/machine-learning/repos/ubuntu1804/x86_64  InRelease\n",
            "\r0% [2 InRelease gpgv 242 kB] [4 InRelease 64.9 kB/88.7 kB 73%] [Waiting for hea\r                                                                               \rHit:6 https://developer.download.nvidia.com/compute/cuda/repos/ubuntu1804/x86_64  InRelease\n",
            "\r0% [2 InRelease gpgv 242 kB] [4 InRelease 88.7 kB/88.7 kB 100%] [Waiting for he\r                                                                               \r0% [2 InRelease gpgv 242 kB] [Waiting for headers] [Waiting for headers]\r                                                                        \rHit:7 http://ppa.launchpad.net/c2d4u.team/c2d4u4.0+/ubuntu bionic InRelease\n",
            "\r0% [2 InRelease gpgv 242 kB] [Waiting for headers] [Waiting for headers]\r                                                                        \rHit:8 https://developer.download.nvidia.com/compute/machine-learning/repos/ubuntu1804/x86_64  Release\n",
            "Get:9 http://archive.ubuntu.com/ubuntu bionic-backports InRelease [83.3 kB]\n",
            "Hit:10 http://ppa.launchpad.net/cran/libgit2/ubuntu bionic InRelease\n",
            "Get:11 http://ppa.launchpad.net/deadsnakes/ppa/ubuntu bionic InRelease [15.9 kB]\n",
            "Get:12 http://security.ubuntu.com/ubuntu bionic-security/restricted amd64 Packages [1,217 kB]\n",
            "Hit:13 http://ppa.launchpad.net/graphics-drivers/ppa/ubuntu bionic InRelease\n",
            "Get:14 http://archive.ubuntu.com/ubuntu bionic-updates/restricted amd64 Packages [1,257 kB]\n",
            "Get:15 http://archive.ubuntu.com/ubuntu bionic-updates/main amd64 Packages [3,467 kB]\n",
            "Get:16 http://archive.ubuntu.com/ubuntu bionic-updates/universe amd64 Packages [2,332 kB]\n",
            "Fetched 8,553 kB in 3s (2,568 kB/s)\n",
            "Reading package lists... Done\n"
          ]
        }
      ]
    },
    {
      "cell_type": "code",
      "metadata": {
        "id": "fjvFIN_M1sGc",
        "outputId": "411d3b14-090d-4475-ff1b-d89f100d0a45",
        "colab": {
          "base_uri": "https://localhost:8080/"
        }
      },
      "source": [
        "#Get Install the Java Development Kit\n",
        "!apt-get install openjdk-8-jdk-headless -qq > /dev/null\n",
        "#Get Spark lib -- address need to be change according to the current version of Spark: https://downloads.apache.org/spark/\n",
        "!wget -q http://apache.osuosl.org/spark/spark-3.3.1/spark-3.3.1-bin-hadoop3.tgz\n",
        "#Unzip th Spark\n",
        "!tar xf spark-3.3.1-bin-hadoop3.tgz\n",
        "#install findspark for Python\n",
        "!pip install -q findspark\n",
        "#Install extra lib(s)\n",
        "!pip install -q xlrd\n",
        "!pip install -q kaggle\n",
        "!pip install -q kora\n",
        "\n",
        "#import and set environment for spark\n",
        "import os\n",
        "os.environ[\"JAVA_HOME\"] = \"/usr/lib/jvm/java-8-openjdk-amd64\"\n",
        "os.environ[\"SPARK_HOME\"] = \"/content/spark-3.3.1-bin-hadoop3\"\n",
        "\n",
        "import kora\n",
        "import pandas as pd\n",
        "\n",
        "import findspark\n",
        "findspark.init()\n",
        "from pyspark import SparkContext\n",
        "from pyspark.sql import SparkSession\n",
        "from pyspark.sql import *\n",
        "\n",
        "SPARK_URL = \"local[*]\"\n",
        "\n",
        "spark = SparkSession.builder.master(SPARK_URL).getOrCreate()\n",
        "\n",
        "# Check the pyspark version\n",
        "import pyspark\n",
        "print(pyspark.__version__)"
      ],
      "execution_count": 6,
      "outputs": [
        {
          "output_type": "stream",
          "name": "stdout",
          "text": [
            "3.3.1\n"
          ]
        }
      ]
    },
    {
      "cell_type": "code",
      "metadata": {
        "id": "j8xO9w5ZGhu5"
      },
      "source": [
        "from __future__ import print_function\n",
        "\n",
        "import numpy as np\n",
        "import pandas as pd\n",
        "import matplotlib.pyplot as plt\n",
        "from mpl_toolkits.mplot3d import Axes3D\n",
        "\n",
        "import findspark\n",
        "findspark.init()\n",
        "\n",
        "import pyspark\n",
        "\n",
        "from pyspark.sql import SparkSession\n",
        "from pyspark.sql.functions import *\n",
        "from pyspark.sql.types import *\n",
        "\n",
        "%matplotlib inline"
      ],
      "execution_count": 7,
      "outputs": []
    },
    {
      "cell_type": "code",
      "metadata": {
        "id": "WMFxhU-ghc9c",
        "outputId": "dfbc7f16-93e0-4553-d388-5b51e8fbe171",
        "colab": {
          "base_uri": "https://localhost:8080/",
          "height": 219
        }
      },
      "source": [
        "spark"
      ],
      "execution_count": 8,
      "outputs": [
        {
          "output_type": "execute_result",
          "data": {
            "text/plain": [
              "<pyspark.sql.session.SparkSession at 0x7f5f4c11c690>"
            ],
            "text/html": [
              "\n",
              "            <div>\n",
              "                <p><b>SparkSession - in-memory</b></p>\n",
              "                \n",
              "        <div>\n",
              "            <p><b>SparkContext</b></p>\n",
              "\n",
              "            <p><a href=\"http://fcf9b125c34b:4040\">Spark UI</a></p>\n",
              "\n",
              "            <dl>\n",
              "              <dt>Version</dt>\n",
              "                <dd><code>v3.3.1</code></dd>\n",
              "              <dt>Master</dt>\n",
              "                <dd><code>local[*]</code></dd>\n",
              "              <dt>AppName</dt>\n",
              "                <dd><code>pyspark-shell</code></dd>\n",
              "            </dl>\n",
              "        </div>\n",
              "        \n",
              "            </div>\n",
              "        "
            ]
          },
          "metadata": {},
          "execution_count": 8
        }
      ]
    },
    {
      "cell_type": "markdown",
      "metadata": {
        "id": "AFb7LiIw2Swd"
      },
      "source": [
        "#Getting Dataset"
      ]
    },
    {
      "cell_type": "code",
      "metadata": {
        "id": "KOOGn53C1w9K",
        "outputId": "a76a3474-a0a1-4725-c909-efacbb18a092",
        "colab": {
          "base_uri": "https://localhost:8080/"
        }
      },
      "source": [
        "from google.colab import drive\n",
        "drive.mount('/content/gdrive')\n",
        "\n",
        "import os\n",
        "os.environ['KAGGLE_CONFIG_DIR'] = \"/content/gdrive/My Drive/Kaggle\"\n",
        "\n",
        "#Adding API code here\n",
        "!kaggle datasets download -d carrie1/ecommerce-data"
      ],
      "execution_count": 9,
      "outputs": [
        {
          "output_type": "stream",
          "name": "stdout",
          "text": [
            "Mounted at /content/gdrive\n",
            "Downloading ecommerce-data.zip to /content\n",
            "  0% 0.00/7.20M [00:00<?, ?B/s]\n",
            "100% 7.20M/7.20M [00:00<00:00, 76.3MB/s]\n"
          ]
        }
      ]
    },
    {
      "cell_type": "code",
      "metadata": {
        "id": "5jHCvIq2iyeF",
        "outputId": "5aae6f5c-d9d0-4ca8-eb6a-e89b74e81560",
        "colab": {
          "base_uri": "https://localhost:8080/"
        }
      },
      "source": [
        "!unzip /content/ecommerce-data.zip  && rm /content/ecommerce-data.zip"
      ],
      "execution_count": 10,
      "outputs": [
        {
          "output_type": "stream",
          "name": "stdout",
          "text": [
            "Archive:  /content/ecommerce-data.zip\n",
            "  inflating: data.csv                \n"
          ]
        }
      ]
    },
    {
      "cell_type": "markdown",
      "metadata": {
        "id": "pSU7adQ8mSI2"
      },
      "source": [
        "#Exploring Data"
      ]
    },
    {
      "cell_type": "markdown",
      "metadata": {
        "id": "sm-Fcyd6aTCm"
      },
      "source": [
        "##About the dataset\n",
        "\n",
        "In this article, we will use an e-commerce dataset which contains transactions for a UK-based and registered non-store online retail from 2010 to 2011 and is provided freely from The UCI Machine Learning Repository. You can download the data here.\n",
        "\n",
        "The dataset contains the following relevant columns needed for our analysis:\n",
        "\n",
        "* InvoiceNo. Unique id for each sale.\n",
        "* StockCode. Unique id for each product.\n",
        "* Quantity. Number of units bought.\n",
        "* InvioceDate. Date of the sale.\n",
        "* UnitPrice. Retail price of the product.\n",
        "* CustomerID. Unique id for each customer."
      ]
    },
    {
      "cell_type": "code",
      "metadata": {
        "id": "xyEiNu4z0qUv"
      },
      "source": [
        "data = spark.read.format(\"csv\").option(\"header\", \"true\").load(\"data.csv\")"
      ],
      "execution_count": 11,
      "outputs": []
    },
    {
      "cell_type": "code",
      "metadata": {
        "id": "st3I2joa0w-S",
        "outputId": "92d2c993-08fd-4e0a-d097-fb62241d26a0",
        "colab": {
          "base_uri": "https://localhost:8080/"
        }
      },
      "source": [
        "data.printSchema()"
      ],
      "execution_count": 12,
      "outputs": [
        {
          "output_type": "stream",
          "name": "stdout",
          "text": [
            "root\n",
            " |-- InvoiceNo: string (nullable = true)\n",
            " |-- StockCode: string (nullable = true)\n",
            " |-- Description: string (nullable = true)\n",
            " |-- Quantity: string (nullable = true)\n",
            " |-- InvoiceDate: string (nullable = true)\n",
            " |-- UnitPrice: string (nullable = true)\n",
            " |-- CustomerID: string (nullable = true)\n",
            " |-- Country: string (nullable = true)\n",
            "\n"
          ]
        }
      ]
    },
    {
      "cell_type": "code",
      "metadata": {
        "id": "Q-lj5DlshhTB",
        "outputId": "f5000608-5c22-4cb5-e0d8-0851bae0b643",
        "colab": {
          "base_uri": "https://localhost:8080/"
        }
      },
      "source": [
        "data.count()"
      ],
      "execution_count": 13,
      "outputs": [
        {
          "output_type": "execute_result",
          "data": {
            "text/plain": [
              "541909"
            ]
          },
          "metadata": {},
          "execution_count": 13
        }
      ]
    },
    {
      "cell_type": "code",
      "metadata": {
        "id": "-mNhhIUQhli6",
        "outputId": "8e345cdc-e8d9-408f-b6f8-f1ca229c9296",
        "colab": {
          "base_uri": "https://localhost:8080/"
        }
      },
      "source": [
        "data.agg(countDistinct(\"InvoiceNo\")).show()"
      ],
      "execution_count": 14,
      "outputs": [
        {
          "output_type": "stream",
          "name": "stdout",
          "text": [
            "+----------------+\n",
            "|count(InvoiceNo)|\n",
            "+----------------+\n",
            "|           25900|\n",
            "+----------------+\n",
            "\n"
          ]
        }
      ]
    },
    {
      "cell_type": "markdown",
      "metadata": {
        "id": "ZZbOiTi22LEY"
      },
      "source": [
        "##Check \"Null\""
      ]
    },
    {
      "cell_type": "code",
      "metadata": {
        "id": "z1s8Fwas2I2U",
        "outputId": "b0e1a4ad-b529-4fd1-afc3-448da80ddd88",
        "colab": {
          "base_uri": "https://localhost:8080/"
        }
      },
      "source": [
        "from pyspark.sql.functions import isnan, when, count, col\n",
        "\n",
        "data.select([count(when(isnan(c) | col(c).isNull(), c)).alias(c) for c in data.columns]).show()"
      ],
      "execution_count": 15,
      "outputs": [
        {
          "output_type": "stream",
          "name": "stdout",
          "text": [
            "+---------+---------+-----------+--------+-----------+---------+----------+-------+\n",
            "|InvoiceNo|StockCode|Description|Quantity|InvoiceDate|UnitPrice|CustomerID|Country|\n",
            "+---------+---------+-----------+--------+-----------+---------+----------+-------+\n",
            "|        0|        0|       1454|       0|          0|        0|    135080|      0|\n",
            "+---------+---------+-----------+--------+-----------+---------+----------+-------+\n",
            "\n"
          ]
        }
      ]
    },
    {
      "cell_type": "code",
      "metadata": {
        "id": "tSkWtflJoOsV",
        "outputId": "c6ff7950-c043-4520-b4e3-ed43847568dd",
        "colab": {
          "base_uri": "https://localhost:8080/"
        }
      },
      "source": [
        "data.describe().show()"
      ],
      "execution_count": 16,
      "outputs": [
        {
          "output_type": "stream",
          "name": "stdout",
          "text": [
            "+-------+------------------+------------------+--------------------+------------------+---------------+-----------------+------------------+-----------+\n",
            "|summary|         InvoiceNo|         StockCode|         Description|          Quantity|    InvoiceDate|        UnitPrice|        CustomerID|    Country|\n",
            "+-------+------------------+------------------+--------------------+------------------+---------------+-----------------+------------------+-----------+\n",
            "|  count|            541909|            541909|              540455|            541909|         541909|           541909|            406829|     541909|\n",
            "|   mean|  559965.752026781|27623.240210938104|             20713.0|  9.55224954743324|           null|4.611113626082972|15287.690570239585|       null|\n",
            "| stddev|13428.417280800133| 16799.73762842775|                null|218.08115785023486|           null| 96.7598530611797| 1713.600303321594|       null|\n",
            "|    min|            536365|             10002| 4 PURPLE FLOCK D...|                -1|1/10/2011 10:04|        -11062.06|             12346|  Australia|\n",
            "|    max|           C581569|                 m|   wrongly sold sets|               992|  9/9/2011 9:52|            99.96|             18287|Unspecified|\n",
            "+-------+------------------+------------------+--------------------+------------------+---------------+-----------------+------------------+-----------+\n",
            "\n"
          ]
        }
      ]
    },
    {
      "cell_type": "code",
      "metadata": {
        "id": "vV_ePTO3-v9k",
        "outputId": "382c4417-efc5-4185-f50c-47fac15ec82d",
        "colab": {
          "base_uri": "https://localhost:8080/"
        }
      },
      "source": [
        "data.show()"
      ],
      "execution_count": 17,
      "outputs": [
        {
          "output_type": "stream",
          "name": "stdout",
          "text": [
            "+---------+---------+--------------------+--------+--------------+---------+----------+--------------+\n",
            "|InvoiceNo|StockCode|         Description|Quantity|   InvoiceDate|UnitPrice|CustomerID|       Country|\n",
            "+---------+---------+--------------------+--------+--------------+---------+----------+--------------+\n",
            "|   536365|   85123A|WHITE HANGING HEA...|       6|12/1/2010 8:26|     2.55|     17850|United Kingdom|\n",
            "|   536365|    71053| WHITE METAL LANTERN|       6|12/1/2010 8:26|     3.39|     17850|United Kingdom|\n",
            "|   536365|   84406B|CREAM CUPID HEART...|       8|12/1/2010 8:26|     2.75|     17850|United Kingdom|\n",
            "|   536365|   84029G|KNITTED UNION FLA...|       6|12/1/2010 8:26|     3.39|     17850|United Kingdom|\n",
            "|   536365|   84029E|RED WOOLLY HOTTIE...|       6|12/1/2010 8:26|     3.39|     17850|United Kingdom|\n",
            "|   536365|    22752|SET 7 BABUSHKA NE...|       2|12/1/2010 8:26|     7.65|     17850|United Kingdom|\n",
            "|   536365|    21730|GLASS STAR FROSTE...|       6|12/1/2010 8:26|     4.25|     17850|United Kingdom|\n",
            "|   536366|    22633|HAND WARMER UNION...|       6|12/1/2010 8:28|     1.85|     17850|United Kingdom|\n",
            "|   536366|    22632|HAND WARMER RED P...|       6|12/1/2010 8:28|     1.85|     17850|United Kingdom|\n",
            "|   536367|    84879|ASSORTED COLOUR B...|      32|12/1/2010 8:34|     1.69|     13047|United Kingdom|\n",
            "|   536367|    22745|POPPY'S PLAYHOUSE...|       6|12/1/2010 8:34|      2.1|     13047|United Kingdom|\n",
            "|   536367|    22748|POPPY'S PLAYHOUSE...|       6|12/1/2010 8:34|      2.1|     13047|United Kingdom|\n",
            "|   536367|    22749|FELTCRAFT PRINCES...|       8|12/1/2010 8:34|     3.75|     13047|United Kingdom|\n",
            "|   536367|    22310|IVORY KNITTED MUG...|       6|12/1/2010 8:34|     1.65|     13047|United Kingdom|\n",
            "|   536367|    84969|BOX OF 6 ASSORTED...|       6|12/1/2010 8:34|     4.25|     13047|United Kingdom|\n",
            "|   536367|    22623|BOX OF VINTAGE JI...|       3|12/1/2010 8:34|     4.95|     13047|United Kingdom|\n",
            "|   536367|    22622|BOX OF VINTAGE AL...|       2|12/1/2010 8:34|     9.95|     13047|United Kingdom|\n",
            "|   536367|    21754|HOME BUILDING BLO...|       3|12/1/2010 8:34|     5.95|     13047|United Kingdom|\n",
            "|   536367|    21755|LOVE BUILDING BLO...|       3|12/1/2010 8:34|     5.95|     13047|United Kingdom|\n",
            "|   536367|    21777|RECIPE BOX WITH M...|       4|12/1/2010 8:34|     7.95|     13047|United Kingdom|\n",
            "+---------+---------+--------------------+--------+--------------+---------+----------+--------------+\n",
            "only showing top 20 rows\n",
            "\n"
          ]
        }
      ]
    },
    {
      "cell_type": "markdown",
      "metadata": {
        "id": "QlHHeWBjj7_X"
      },
      "source": [
        "#Basic transformation"
      ]
    },
    {
      "cell_type": "code",
      "metadata": {
        "id": "eJkkb_bSmvF3"
      },
      "source": [
        "data = data.withColumn(\"Quantity\", data[\"Quantity\"].cast(IntegerType()))\n",
        "data = data.withColumn(\"UnitPrice\", data[\"UnitPrice\"].cast(DoubleType()))\n",
        "\n",
        "spark.sql(\"set spark.sql.legacy.timeParserPolicy=LEGACY\")\n",
        "data = data.withColumn(\"Date\", to_date(col(\"InvoiceDate\"), \"MM/dd/yyyy\"))\n",
        "\n",
        "# define Total column\n",
        "data = data.withColumn(\"Total\", round(data[\"UnitPrice\"] * data[\"Quantity\"], 2))\n",
        "\n",
        "# calculate difference in days between 2011-12-31 and the Invoice Date\n",
        "data = data.withColumn(\"RecencyDays\", expr(\"datediff('2011-12-31', Date)\"))"
      ],
      "execution_count": 18,
      "outputs": []
    },
    {
      "cell_type": "code",
      "metadata": {
        "id": "StDyHn2aID_k",
        "outputId": "b949b648-78e1-469d-987a-086e4ec73634",
        "colab": {
          "base_uri": "https://localhost:8080/"
        }
      },
      "source": [
        "data.printSchema()"
      ],
      "execution_count": 19,
      "outputs": [
        {
          "output_type": "stream",
          "name": "stdout",
          "text": [
            "root\n",
            " |-- InvoiceNo: string (nullable = true)\n",
            " |-- StockCode: string (nullable = true)\n",
            " |-- Description: string (nullable = true)\n",
            " |-- Quantity: integer (nullable = true)\n",
            " |-- InvoiceDate: string (nullable = true)\n",
            " |-- UnitPrice: double (nullable = true)\n",
            " |-- CustomerID: string (nullable = true)\n",
            " |-- Country: string (nullable = true)\n",
            " |-- Date: date (nullable = true)\n",
            " |-- Total: double (nullable = true)\n",
            " |-- RecencyDays: integer (nullable = true)\n",
            "\n"
          ]
        }
      ]
    },
    {
      "cell_type": "code",
      "metadata": {
        "id": "H8ZUYBbgkF0Y",
        "outputId": "bf80fa24-3583-49ec-9187-43e25bb8bfad",
        "colab": {
          "base_uri": "https://localhost:8080/"
        }
      },
      "source": [
        "data.show()"
      ],
      "execution_count": 20,
      "outputs": [
        {
          "output_type": "stream",
          "name": "stdout",
          "text": [
            "+---------+---------+--------------------+--------+--------------+---------+----------+--------------+----------+-----+-----------+\n",
            "|InvoiceNo|StockCode|         Description|Quantity|   InvoiceDate|UnitPrice|CustomerID|       Country|      Date|Total|RecencyDays|\n",
            "+---------+---------+--------------------+--------+--------------+---------+----------+--------------+----------+-----+-----------+\n",
            "|   536365|   85123A|WHITE HANGING HEA...|       6|12/1/2010 8:26|     2.55|     17850|United Kingdom|2010-12-01| 15.3|        395|\n",
            "|   536365|    71053| WHITE METAL LANTERN|       6|12/1/2010 8:26|     3.39|     17850|United Kingdom|2010-12-01|20.34|        395|\n",
            "|   536365|   84406B|CREAM CUPID HEART...|       8|12/1/2010 8:26|     2.75|     17850|United Kingdom|2010-12-01| 22.0|        395|\n",
            "|   536365|   84029G|KNITTED UNION FLA...|       6|12/1/2010 8:26|     3.39|     17850|United Kingdom|2010-12-01|20.34|        395|\n",
            "|   536365|   84029E|RED WOOLLY HOTTIE...|       6|12/1/2010 8:26|     3.39|     17850|United Kingdom|2010-12-01|20.34|        395|\n",
            "|   536365|    22752|SET 7 BABUSHKA NE...|       2|12/1/2010 8:26|     7.65|     17850|United Kingdom|2010-12-01| 15.3|        395|\n",
            "|   536365|    21730|GLASS STAR FROSTE...|       6|12/1/2010 8:26|     4.25|     17850|United Kingdom|2010-12-01| 25.5|        395|\n",
            "|   536366|    22633|HAND WARMER UNION...|       6|12/1/2010 8:28|     1.85|     17850|United Kingdom|2010-12-01| 11.1|        395|\n",
            "|   536366|    22632|HAND WARMER RED P...|       6|12/1/2010 8:28|     1.85|     17850|United Kingdom|2010-12-01| 11.1|        395|\n",
            "|   536367|    84879|ASSORTED COLOUR B...|      32|12/1/2010 8:34|     1.69|     13047|United Kingdom|2010-12-01|54.08|        395|\n",
            "|   536367|    22745|POPPY'S PLAYHOUSE...|       6|12/1/2010 8:34|      2.1|     13047|United Kingdom|2010-12-01| 12.6|        395|\n",
            "|   536367|    22748|POPPY'S PLAYHOUSE...|       6|12/1/2010 8:34|      2.1|     13047|United Kingdom|2010-12-01| 12.6|        395|\n",
            "|   536367|    22749|FELTCRAFT PRINCES...|       8|12/1/2010 8:34|     3.75|     13047|United Kingdom|2010-12-01| 30.0|        395|\n",
            "|   536367|    22310|IVORY KNITTED MUG...|       6|12/1/2010 8:34|     1.65|     13047|United Kingdom|2010-12-01|  9.9|        395|\n",
            "|   536367|    84969|BOX OF 6 ASSORTED...|       6|12/1/2010 8:34|     4.25|     13047|United Kingdom|2010-12-01| 25.5|        395|\n",
            "|   536367|    22623|BOX OF VINTAGE JI...|       3|12/1/2010 8:34|     4.95|     13047|United Kingdom|2010-12-01|14.85|        395|\n",
            "|   536367|    22622|BOX OF VINTAGE AL...|       2|12/1/2010 8:34|     9.95|     13047|United Kingdom|2010-12-01| 19.9|        395|\n",
            "|   536367|    21754|HOME BUILDING BLO...|       3|12/1/2010 8:34|     5.95|     13047|United Kingdom|2010-12-01|17.85|        395|\n",
            "|   536367|    21755|LOVE BUILDING BLO...|       3|12/1/2010 8:34|     5.95|     13047|United Kingdom|2010-12-01|17.85|        395|\n",
            "|   536367|    21777|RECIPE BOX WITH M...|       4|12/1/2010 8:34|     7.95|     13047|United Kingdom|2010-12-01| 31.8|        395|\n",
            "+---------+---------+--------------------+--------+--------------+---------+----------+--------------+----------+-----+-----------+\n",
            "only showing top 20 rows\n",
            "\n"
          ]
        }
      ]
    },
    {
      "cell_type": "markdown",
      "metadata": {
        "id": "Q4dOVnSknmi-"
      },
      "source": [
        "#Create RFM Table"
      ]
    },
    {
      "cell_type": "markdown",
      "metadata": {
        "id": "U-4E4y69auMD"
      },
      "source": [
        "Now that we have preprocessed our data, the creation of the RFM table is quite straightforward. For each customer, we need to measure the following indicators:\n",
        "* Recency. We shall consider as recency the minimum RecencyDays that we calculated in the previous step. This makes sense since the minimum RecencyDays will give us the number of days that have passed since the customer’s last purchase.\n",
        "* Frequency. It is calculated as the number of purchases that the customer has made.\n",
        "* Monetary. It is the total value of all purchases for each customer."
      ]
    },
    {
      "cell_type": "code",
      "metadata": {
        "id": "Xwt0t2h7kEG4"
      },
      "source": [
        "rfm_table = data.groupBy(\"CustomerId\")\\\n",
        "                        .agg(min(\"RecencyDays\").alias(\"Recency\"), \\\n",
        "                             count(\"InvoiceNo\").alias(\"Frequency\"), \\\n",
        "                             sum(\"Total\").alias(\"Monetary\"))"
      ],
      "execution_count": 21,
      "outputs": []
    },
    {
      "cell_type": "code",
      "metadata": {
        "id": "kO1TQaIpkOwg",
        "outputId": "ea1ac33b-b0b2-42eb-9a66-18a41ffb188d",
        "colab": {
          "base_uri": "https://localhost:8080/"
        }
      },
      "source": [
        "rfm_table.show()"
      ],
      "execution_count": 22,
      "outputs": [
        {
          "output_type": "stream",
          "name": "stdout",
          "text": [
            "+----------+-------+---------+------------------+\n",
            "|CustomerId|Recency|Frequency|          Monetary|\n",
            "+----------+-------+---------+------------------+\n",
            "|     16250|    283|       24| 389.4400000000001|\n",
            "|     15574|    199|      168| 702.2500000000001|\n",
            "|     15555|     34|      925| 4758.199999999993|\n",
            "|     15271|     29|      275|2485.8199999999997|\n",
            "|     17714|    342|       10|             153.0|\n",
            "|     17686|     29|      286| 5739.460000000005|\n",
            "|     13865|     80|       30|501.55999999999995|\n",
            "|     14157|     41|       49|400.43000000000006|\n",
            "|     13610|     34|      228|1115.4299999999998|\n",
            "|     13772|     55|      177|           1132.13|\n",
            "|     13282|     40|       40|           1047.84|\n",
            "|     12394|     85|       27|           1272.48|\n",
            "|     16320|    194|       56|           1038.46|\n",
            "|     13192|    117|       63|            911.94|\n",
            "|     17757|     23|      742| 5585.489999999997|\n",
            "|     17551|    381|       43|            306.84|\n",
            "|     13187|    359|       37|236.01999999999995|\n",
            "|     16549|     32|      981| 4154.640000000004|\n",
            "|     12637|     89|      394| 5953.250000000002|\n",
            "|     15052|    341|       30|            215.78|\n",
            "+----------+-------+---------+------------------+\n",
            "only showing top 20 rows\n",
            "\n"
          ]
        }
      ]
    },
    {
      "cell_type": "markdown",
      "metadata": {
        "id": "x-QGpk3ua5nP"
      },
      "source": [
        "Statisticly segmenting"
      ]
    },
    {
      "cell_type": "code",
      "metadata": {
        "id": "RugHjAXhp1YH"
      },
      "source": [
        "r_quartile = rfm_table.approxQuantile(\"Recency\", [0.25, 0.5, 0.75], 0)\n",
        "f_quartile = rfm_table.approxQuantile(\"Frequency\", [0.25, 0.5, 0.75], 0)\n",
        "m_quartile = rfm_table.approxQuantile(\"Monetary\", [0.25, 0.5, 0.75], 0)\n",
        "\n",
        "rfm_table = rfm_table.withColumn(\"R_Quartile\", \\\n",
        "                                 when(col(\"Recency\") >= r_quartile[2] , 1).\\\n",
        "                                 when(col(\"Recency\") >= r_quartile[1] , 2).\\\n",
        "                                 when(col(\"Recency\") >= r_quartile[0] , 3).\\\n",
        "                                 otherwise(4))\n",
        "\n",
        "rfm_table = rfm_table.withColumn(\"F_Quartile\", \\\n",
        "                                 when(col(\"Frequency\") > f_quartile[2] , 4).\\\n",
        "                                 when(col(\"Frequency\") > f_quartile[1] , 3).\\\n",
        "                                 when(col(\"Frequency\") > f_quartile[0] , 2).\\\n",
        "                                 otherwise(1))\n",
        "\n",
        "rfm_table = rfm_table.withColumn(\"M_Quartile\", \\\n",
        "                                 when(col(\"Monetary\") >= m_quartile[2] , 4).\\\n",
        "                                 when(col(\"Monetary\") >= m_quartile[1] , 3).\\\n",
        "                                 when(col(\"Monetary\") >= m_quartile[0] , 2).\\\n",
        "                                 otherwise(1))\n",
        "\n",
        "rfm_table = rfm_table.withColumn(\"RFM_Score\", concat(col(\"R_Quartile\"), col(\"F_Quartile\"), col(\"M_Quartile\")))\n"
      ],
      "execution_count": 23,
      "outputs": []
    },
    {
      "cell_type": "code",
      "metadata": {
        "id": "zgct2bAHjvs2",
        "outputId": "ffc0a6ab-bd40-4a03-d83f-1896c0036c5d",
        "colab": {
          "base_uri": "https://localhost:8080/"
        }
      },
      "source": [
        "print(r_quartile)\n",
        "print(f_quartile)\n",
        "print(m_quartile)"
      ],
      "execution_count": 24,
      "outputs": [
        {
          "output_type": "stream",
          "name": "stdout",
          "text": [
            "[38.0, 72.0, 165.0]\n",
            "[17.0, 42.0, 102.0]\n",
            "[293.45, 648.4099999999999, 1612.1299999999999]\n"
          ]
        }
      ]
    },
    {
      "cell_type": "code",
      "metadata": {
        "id": "79NxWrCprsTC",
        "outputId": "c03926ec-5d9c-4e74-9606-e836c7602725",
        "colab": {
          "base_uri": "https://localhost:8080/"
        }
      },
      "source": [
        "rfm_table.show()"
      ],
      "execution_count": 25,
      "outputs": [
        {
          "output_type": "stream",
          "name": "stdout",
          "text": [
            "+----------+-------+---------+------------------+----------+----------+----------+---------+\n",
            "|CustomerId|Recency|Frequency|          Monetary|R_Quartile|F_Quartile|M_Quartile|RFM_Score|\n",
            "+----------+-------+---------+------------------+----------+----------+----------+---------+\n",
            "|     16250|    283|       24| 389.4400000000001|         1|         2|         2|      122|\n",
            "|     15574|    199|      168| 702.2500000000001|         1|         4|         3|      143|\n",
            "|     15555|     34|      925| 4758.199999999993|         4|         4|         4|      444|\n",
            "|     15271|     29|      275|2485.8199999999997|         4|         4|         4|      444|\n",
            "|     17714|    342|       10|             153.0|         1|         1|         1|      111|\n",
            "|     17686|     29|      286| 5739.460000000005|         4|         4|         4|      444|\n",
            "|     13865|     80|       30|501.55999999999995|         2|         2|         2|      222|\n",
            "|     14157|     41|       49|400.43000000000006|         3|         3|         2|      332|\n",
            "|     13610|     34|      228|1115.4299999999998|         4|         4|         3|      443|\n",
            "|     13772|     55|      177|           1132.13|         3|         4|         3|      343|\n",
            "|     13282|     40|       40|           1047.84|         3|         2|         3|      323|\n",
            "|     12394|     85|       27|           1272.48|         2|         2|         3|      223|\n",
            "|     16320|    194|       56|           1038.46|         1|         3|         3|      133|\n",
            "|     13192|    117|       63|            911.94|         2|         3|         3|      233|\n",
            "|     17757|     23|      742| 5585.489999999997|         4|         4|         4|      444|\n",
            "|     17551|    381|       43|            306.84|         1|         3|         2|      132|\n",
            "|     13187|    359|       37|236.01999999999995|         1|         2|         1|      121|\n",
            "|     16549|     32|      981| 4154.640000000004|         4|         4|         4|      444|\n",
            "|     12637|     89|      394| 5953.250000000002|         2|         4|         4|      244|\n",
            "|     15052|    341|       30|            215.78|         1|         2|         1|      121|\n",
            "+----------+-------+---------+------------------+----------+----------+----------+---------+\n",
            "only showing top 20 rows\n",
            "\n"
          ]
        }
      ]
    },
    {
      "cell_type": "code",
      "metadata": {
        "id": "IXxlJ83fqBQE",
        "outputId": "ebcdc78e-0588-40e7-a63a-fe8b11972017",
        "colab": {
          "base_uri": "https://localhost:8080/",
          "height": 452
        }
      },
      "source": [
        "import plotly.graph_objs as go\n",
        "import plotly.graph_objs as iplot\n",
        "\n",
        "\n",
        "grouped_by_rfmscore = rfm_table.groupBy(\"RFM_Score\").count().orderBy(\"count\", ascending=False)\n",
        "grouped_by_rfmscore_pandas = grouped_by_rfmscore.toPandas()\n",
        "\n",
        "data2 = [go.Bar(x=grouped_by_rfmscore_pandas['RFM_Score'], y=grouped_by_rfmscore_pandas['count'])]\n",
        "\n",
        "fig = grouped_by_rfmscore_pandas.plot(kind=\"bar\",x='RFM_Score',figsize=(15,7))\n",
        "\n",
        "#(kind=\"bar\",figsize=(15,7))"
      ],
      "execution_count": 26,
      "outputs": [
        {
          "output_type": "display_data",
          "data": {
            "text/plain": [
              "<Figure size 1080x504 with 1 Axes>"
            ],
            "image/png": "[encoded data removed]"
          },
          "metadata": {
            "needs_background": "light"
          }
        }
      ]
    },
    {
      "cell_type": "code",
      "metadata": {
        "id": "YR825Ih-uai-",
        "outputId": "05ccc433-930e-4222-bd58-adc6e179b666",
        "colab": {
          "base_uri": "https://localhost:8080/"
        }
      },
      "source": [
        "print(grouped_by_rfmscore_pandas)"
      ],
      "execution_count": 27,
      "outputs": [
        {
          "output_type": "stream",
          "name": "stdout",
          "text": [
            "   RFM_Score  count\n",
            "0        444    442\n",
            "1        111    395\n",
            "2        344    234\n",
            "3        122    210\n",
            "4        333    187\n",
            "..       ...    ...\n",
            "57       124      6\n",
            "58       142      4\n",
            "59       414      3\n",
            "60       441      1\n",
            "61       241      1\n",
            "\n",
            "[62 rows x 2 columns]\n"
          ]
        }
      ]
    },
    {
      "cell_type": "markdown",
      "metadata": {
        "id": "NjCdoox9Z3em"
      },
      "source": [
        "Surprisingly, the best customers compose the largest segment :), but ironically the worst customers (customers with all scores of 1s) are the second-largest segment :(.\n",
        "\n",
        "Apart from the best and worst customers, we may also define the following important customer segments:\n",
        "High-spending New Customers — This group consists of those customers in 4–1–3 and 4–1–4. These are customers who transacted only once, but very recently and they spent a lot.\n",
        "\n",
        "Lowest-Spending Active Loyal Customers — This group consists of those customers in segments 3–4–1 and 4–4–1 (they transacted recently and do so often, but spend the least).\n",
        "\n",
        "Churned Best Customers — This segment consists of those customers in groups 1–3–3, 1–4–3, 1–3–4 and 1–4–4 (they transacted frequently and spent a lot, but it’s been a long time since they’ve transacted)."
      ]
    },
    {
      "cell_type": "code",
      "metadata": {
        "id": "F-fJ0gzBLxhK"
      },
      "source": [
        "from __future__ import print_function\n",
        "\n",
        "import numpy as np\n",
        "import pandas as pd\n",
        "import matplotlib.pyplot as plt\n",
        "from mpl_toolkits.mplot3d import Axes3D\n",
        "#from sklearn.datasets.samples_generator import make_blobs\n",
        "from pyspark import SparkContext\n",
        "from pyspark.ml.clustering import KMeans\n",
        "from pyspark.ml.feature import VectorAssembler\n",
        "from pyspark.sql import SQLContext\n",
        "\n",
        "%matplotlib inline"
      ],
      "execution_count": 29,
      "outputs": []
    },
    {
      "cell_type": "code",
      "metadata": {
        "id": "uhz7IYGgLQu_"
      },
      "source": [
        "FEATURES_COL = ['Recency', 'Frequency', 'Monetary']"
      ],
      "execution_count": 30,
      "outputs": []
    },
    {
      "cell_type": "code",
      "metadata": {
        "id": "WM1CcFXcmwGy",
        "outputId": "3d65cb79-f653-4287-8034-1f3e1fe78edd",
        "colab": {
          "base_uri": "https://localhost:8080/"
        }
      },
      "source": [
        "rfm_table.describe().show()"
      ],
      "execution_count": 31,
      "outputs": [
        {
          "output_type": "stream",
          "name": "stdout",
          "text": [
            "+-------+------------------+------------------+-----------------+------------------+------------------+------------------+------------------+------------------+\n",
            "|summary|        CustomerId|           Recency|        Frequency|          Monetary|        R_Quartile|        F_Quartile|        M_Quartile|         RFM_Score|\n",
            "+-------+------------------+------------------+-----------------+------------------+------------------+------------------+------------------+------------------+\n",
            "|  count|              4372|              4373|             4373|              4373|              4373|              4373|              4373|              4373|\n",
            "|   mean|15299.677721866423|113.56025611708209|123.9215641436085| 2229.075675737519|2.4866224559798766|2.4877658358106562|2.5003430139492338| 276.0402469700434|\n",
            "| stddev| 1722.390705427692|100.77013075625818|2054.469339333586|23356.826780076663|1.1079092074312684|1.1192194656586405|1.1182640658287535|117.10355724341044|\n",
            "|    min|             12346|                22|                1|          -4287.63|                 1|                 1|                 1|               111|\n",
            "|    max|             18287|               395|           135080|  1447682.12000015|                 4|                 4|                 4|               444|\n",
            "+-------+------------------+------------------+-----------------+------------------+------------------+------------------+------------------+------------------+\n",
            "\n"
          ]
        }
      ]
    },
    {
      "cell_type": "code",
      "metadata": {
        "id": "IOIfb6SonLi9"
      },
      "source": [
        "r_outliner = rfm_table.approxQuantile(\"Recency\", [0.005, 0.995], 0)\n",
        "f_outliner = rfm_table.approxQuantile(\"Frequency\", [0.005, 0.995], 0)\n",
        "m_outliner = rfm_table.approxQuantile(\"Monetary\", [0.005, 0.995], 0)"
      ],
      "execution_count": 32,
      "outputs": []
    },
    {
      "cell_type": "code",
      "metadata": {
        "id": "3gJ_0R6dnr5t",
        "outputId": "a453368e-4231-4b52-9ab2-7d3ceebb0e6f",
        "colab": {
          "base_uri": "https://localhost:8080/"
        }
      },
      "source": [
        "print(r_outliner)\n",
        "print(f_outliner)\n",
        "print(m_outliner)"
      ],
      "execution_count": 33,
      "outputs": [
        {
          "output_type": "stream",
          "name": "stdout",
          "text": [
            "[22.0, 394.0]\n",
            "[1.0, 1061.0]\n",
            "[-35.4, 33805.69000000002]\n"
          ]
        }
      ]
    },
    {
      "cell_type": "code",
      "metadata": {
        "id": "A_BiLM_qo1op",
        "outputId": "7fe0155a-e7b7-4979-e547-ab2fedd13499",
        "colab": {
          "base_uri": "https://localhost:8080/"
        }
      },
      "source": [
        "rfm_table.printSchema()"
      ],
      "execution_count": 34,
      "outputs": [
        {
          "output_type": "stream",
          "name": "stdout",
          "text": [
            "root\n",
            " |-- CustomerId: string (nullable = true)\n",
            " |-- Recency: integer (nullable = true)\n",
            " |-- Frequency: long (nullable = false)\n",
            " |-- Monetary: double (nullable = true)\n",
            " |-- R_Quartile: integer (nullable = false)\n",
            " |-- F_Quartile: integer (nullable = false)\n",
            " |-- M_Quartile: integer (nullable = false)\n",
            " |-- RFM_Score: string (nullable = false)\n",
            "\n"
          ]
        }
      ]
    },
    {
      "cell_type": "code",
      "metadata": {
        "id": "juT0ukjsoAYu"
      },
      "source": [
        "rfm_table_cleaned = rfm_table.filter((rfm_table.Monetary>=0.)).filter((rfm_table.Monetary<=3400.00))"
      ],
      "execution_count": 35,
      "outputs": []
    },
    {
      "cell_type": "code",
      "metadata": {
        "id": "uVJCDoF0pRtV",
        "outputId": "1c56de74-c712-4ace-a0e7-fc893f5332c6",
        "colab": {
          "base_uri": "https://localhost:8080/"
        }
      },
      "source": [
        "rfm_table_cleaned.describe().show()"
      ],
      "execution_count": 36,
      "outputs": [
        {
          "output_type": "stream",
          "name": "stdout",
          "text": [
            "+-------+------------------+------------------+-----------------+-----------------+------------------+------------------+------------------+------------------+\n",
            "|summary|        CustomerId|           Recency|        Frequency|         Monetary|        R_Quartile|        F_Quartile|        M_Quartile|         RFM_Score|\n",
            "+-------+------------------+------------------+-----------------+-----------------+------------------+------------------+------------------+------------------+\n",
            "|  count|              3868|              3868|             3868|             3868|              3868|              3868|              3868|              3868|\n",
            "|   mean|15334.480093071355| 119.8722854188211|61.30377456049638|  841.09105222337|2.3813340227507758|  2.34746639089969| 2.338676318510858| 263.9467425025853|\n",
            "| stddev| 1707.250247372858|101.03658621033154|75.78714436034109| 770.613105853223|1.0807256893543167|1.0636584614599407|1.0459242782086362|113.22212142132582|\n",
            "|    min|             12346|                22|                1|              0.0|                 1|                 1|                 1|               111|\n",
            "|    max|             18287|               395|              977|3385.620000000001|                 4|                 4|                 4|               444|\n",
            "+-------+------------------+------------------+-----------------+-----------------+------------------+------------------+------------------+------------------+\n",
            "\n"
          ]
        }
      ]
    },
    {
      "cell_type": "code",
      "metadata": {
        "id": "wSCGcPsqLHHf",
        "outputId": "f668d5d4-142d-46f0-a5a3-9f4e1c053dbd",
        "colab": {
          "base_uri": "https://localhost:8080/"
        }
      },
      "source": [
        "vecAssembler = VectorAssembler(inputCols=FEATURES_COL, outputCol=\"features\")\n",
        "df_kmeans = vecAssembler.transform(rfm_table_cleaned).select('CustomerId', 'features')\n",
        "df_kmeans.show()"
      ],
      "execution_count": 37,
      "outputs": [
        {
          "output_type": "stream",
          "name": "stdout",
          "text": [
            "+----------+--------------------+\n",
            "|CustomerId|            features|\n",
            "+----------+--------------------+\n",
            "|     16250|[283.0,24.0,389.4...|\n",
            "|     15574|[199.0,168.0,702....|\n",
            "|     15271|[29.0,275.0,2485....|\n",
            "|     17714|  [342.0,10.0,153.0]|\n",
            "|     13865|[80.0,30.0,501.55...|\n",
            "|     14157|[41.0,49.0,400.43...|\n",
            "|     13610|[34.0,228.0,1115....|\n",
            "|     13772|[55.0,177.0,1132.13]|\n",
            "|     13282| [40.0,40.0,1047.84]|\n",
            "|     12394| [85.0,27.0,1272.48]|\n",
            "|     16320|[194.0,56.0,1038.46]|\n",
            "|     13192| [117.0,63.0,911.94]|\n",
            "|     17551| [381.0,43.0,306.84]|\n",
            "|     13187|[359.0,37.0,236.0...|\n",
            "|     15052| [341.0,30.0,215.78]|\n",
            "|     15448|[334.0,28.0,494.6...|\n",
            "|     12888|  [236.0,7.0,313.77]|\n",
            "|     16639|[47.0,52.0,1169.3...|\n",
            "|     17866|  [164.0,10.0,325.7]|\n",
            "|     18283|[25.0,756.0,2094....|\n",
            "+----------+--------------------+\n",
            "only showing top 20 rows\n",
            "\n"
          ]
        }
      ]
    },
    {
      "cell_type": "code",
      "metadata": {
        "id": "SB1OYa67LouB"
      },
      "source": [
        "from pyspark.ml.evaluation import *\n",
        "\n",
        "cost = list()\n",
        "evaluator = ClusteringEvaluator()\n",
        "for k in range(2,10):\n",
        "    bkm = KMeans().setK(k).setSeed(1).setFeaturesCol(\"features\")\n",
        "    bkm_model = bkm.fit(df_kmeans.sample(False,0.1, seed=42))\n",
        "    tags_predictions = bkm_model.transform(df_kmeans.sample(False,0.1, seed=42))\n",
        "    silhouette = evaluator.evaluate(tags_predictions)\n",
        "    cost.append(silhouette)\n",
        "    \n",
        "kIdx = np.argmax(cost)"
      ],
      "execution_count": 38,
      "outputs": []
    },
    {
      "cell_type": "code",
      "metadata": {
        "id": "RnJqxtT4MBWR",
        "outputId": "8a6a8428-7089-4239-8955-0f83f6d9d4ab",
        "colab": {
          "base_uri": "https://localhost:8080/",
          "height": 573
        }
      },
      "source": [
        "fig, ax = plt.subplots()\n",
        "plt.plot(range(2,10), cost, 'b*-')\n",
        "plt.plot(range(2,10)[kIdx], cost[kIdx], marker='o', markersize=12, \n",
        "         markeredgewidth=2, markeredgecolor='r', markerfacecolor='None')\n",
        "plt.xlim(1, plt.xlim()[1])\n",
        "plt.xlabel('Number of clusters')\n",
        "plt.ylabel('Silhouette Coefficient')\n",
        "plt.title('Silhouette Scores for k-means clustering')\n",
        "# Uncomment the next line\n",
        "display(fig)"
      ],
      "execution_count": 39,
      "outputs": [
        {
          "output_type": "display_data",
          "data": {
            "text/plain": [
              "<Figure size 432x288 with 1 Axes>"
            ],
            "image/png": "[encoded data removed]"
          },
          "metadata": {}
        },
        {
          "output_type": "display_data",
          "data": {
            "text/plain": [
              "<Figure size 432x288 with 1 Axes>"
            ],
            "image/png": "[encoded data removed]"
          },
          "metadata": {
            "needs_background": "light"
          }
        }
      ]
    },
    {
      "cell_type": "code",
      "metadata": {
        "id": "D1BvdA4HM-r5",
        "outputId": "0e6686cd-8fad-4582-dd5b-73552efe3d85",
        "colab": {
          "base_uri": "https://localhost:8080/"
        }
      },
      "source": [
        "k = 3\n",
        "kmeans = KMeans().setK(k).setSeed(1).setFeaturesCol(\"features\")\n",
        "model = kmeans.fit(df_kmeans)\n",
        "centers = model.clusterCenters()\n",
        "\n",
        "print(\"Cluster Centers: \")\n",
        "for center in centers:\n",
        "    print(center)"
      ],
      "execution_count": 40,
      "outputs": [
        {
          "output_type": "stream",
          "name": "stdout",
          "text": [
            "Cluster Centers: \n",
            "[  61.60706861  164.91060291 2487.5491684 ]\n",
            "[146.73061056  30.77929043 357.51965759]\n",
            "[  81.36863967   86.38836968 1235.93083074]\n"
          ]
        }
      ]
    },
    {
      "cell_type": "code",
      "metadata": {
        "id": "u_BF8pdrM6Bl",
        "outputId": "5ae55821-0b38-483d-d349-894baf1014f6",
        "colab": {
          "base_uri": "https://localhost:8080/"
        }
      },
      "source": [
        "transformed = model.transform(df_kmeans).select('CustomerId', 'prediction')\n",
        "rows = transformed.collect()\n",
        "print(rows[:3])"
      ],
      "execution_count": 41,
      "outputs": [
        {
          "output_type": "stream",
          "name": "stdout",
          "text": [
            "[Row(CustomerId='16250', prediction=1), Row(CustomerId='15574', prediction=1), Row(CustomerId='15271', prediction=0)]\n"
          ]
        }
      ]
    },
    {
      "cell_type": "code",
      "metadata": {
        "id": "4hKd8EaXOcfI",
        "outputId": "56b54874-edaf-4a3e-ca2b-207c5498e110",
        "colab": {
          "base_uri": "https://localhost:8080/"
        }
      },
      "source": [
        "df_pred = spark.createDataFrame(rows)\n",
        "df_pred.show()"
      ],
      "execution_count": 42,
      "outputs": [
        {
          "output_type": "stream",
          "name": "stdout",
          "text": [
            "+----------+----------+\n",
            "|CustomerId|prediction|\n",
            "+----------+----------+\n",
            "|     16250|         1|\n",
            "|     15574|         1|\n",
            "|     15271|         0|\n",
            "|     17714|         1|\n",
            "|     13865|         1|\n",
            "|     14157|         1|\n",
            "|     13610|         2|\n",
            "|     13772|         2|\n",
            "|     13282|         2|\n",
            "|     12394|         2|\n",
            "|     16320|         2|\n",
            "|     13192|         2|\n",
            "|     17551|         1|\n",
            "|     13187|         1|\n",
            "|     15052|         1|\n",
            "|     15448|         1|\n",
            "|     12888|         1|\n",
            "|     16639|         2|\n",
            "|     17866|         1|\n",
            "|     18283|         0|\n",
            "+----------+----------+\n",
            "only showing top 20 rows\n",
            "\n"
          ]
        }
      ]
    },
    {
      "cell_type": "code",
      "metadata": {
        "id": "i365dGTcNDOr",
        "outputId": "5afab720-143f-4e4d-db59-04f6e388f62b",
        "colab": {
          "base_uri": "https://localhost:8080/"
        }
      },
      "source": [
        "df_pred = df_pred.join(rfm_table_cleaned, 'CustomerId')\n",
        "df_pred.show()"
      ],
      "execution_count": 43,
      "outputs": [
        {
          "output_type": "stream",
          "name": "stdout",
          "text": [
            "+----------+----------+-------+---------+------------------+----------+----------+----------+---------+\n",
            "|CustomerId|prediction|Recency|Frequency|          Monetary|R_Quartile|F_Quartile|M_Quartile|RFM_Score|\n",
            "+----------+----------+-------+---------+------------------+----------+----------+----------+---------+\n",
            "|     16250|         1|    283|       24| 389.4400000000001|         1|         2|         2|      122|\n",
            "|     15574|         1|    199|      168| 702.2500000000001|         1|         4|         3|      143|\n",
            "|     15271|         0|     29|      275|2485.8199999999997|         4|         4|         4|      444|\n",
            "|     17714|         1|    342|       10|             153.0|         1|         1|         1|      111|\n",
            "|     13865|         1|     80|       30|501.55999999999995|         2|         2|         2|      222|\n",
            "|     14157|         1|     41|       49|400.43000000000006|         3|         3|         2|      332|\n",
            "|     13610|         2|     34|      228|1115.4299999999998|         4|         4|         3|      443|\n",
            "|     13772|         2|     55|      177|           1132.13|         3|         4|         3|      343|\n",
            "|     13282|         2|     40|       40|           1047.84|         3|         2|         3|      323|\n",
            "|     12394|         2|     85|       27|           1272.48|         2|         2|         3|      223|\n",
            "|     16320|         2|    194|       56|           1038.46|         1|         3|         3|      133|\n",
            "|     13192|         2|    117|       63|            911.94|         2|         3|         3|      233|\n",
            "|     17551|         1|    381|       43|            306.84|         1|         3|         2|      132|\n",
            "|     13187|         1|    359|       37|236.01999999999995|         1|         2|         1|      121|\n",
            "|     15052|         1|    341|       30|            215.78|         1|         2|         1|      121|\n",
            "|     15448|         1|    334|       28|494.64000000000004|         1|         2|         2|      122|\n",
            "|     12888|         1|    236|        7|            313.77|         1|         1|         2|      112|\n",
            "|     16639|         2|     47|       52|1169.3799999999999|         3|         3|         3|      333|\n",
            "|     17866|         1|    164|       10|             325.7|         2|         1|         2|      212|\n",
            "|     18283|         0|     25|      756| 2094.879999999998|         4|         4|         4|      444|\n",
            "+----------+----------+-------+---------+------------------+----------+----------+----------+---------+\n",
            "only showing top 20 rows\n",
            "\n"
          ]
        }
      ]
    },
    {
      "cell_type": "code",
      "metadata": {
        "id": "iBgF5wRsOx1Z"
      },
      "source": [
        "df_pred2=df_pred.select(\"CustomerId\",\"prediction\",\"Recency\",\"Frequency\",\"Monetary\")"
      ],
      "execution_count": 44,
      "outputs": []
    },
    {
      "cell_type": "code",
      "metadata": {
        "id": "24lD1BbYOl1L",
        "outputId": "bdc90ff2-f7b7-4131-dfb7-097c9dc06216",
        "colab": {
          "base_uri": "https://localhost:8080/",
          "height": 1000
        }
      },
      "source": [
        "pddf_pred = df_pred2.toPandas().set_index('CustomerId')\n",
        "pddf_pred.head(30)"
      ],
      "execution_count": 47,
      "outputs": [
        {
          "output_type": "execute_result",
          "data": {
            "text/plain": [
              "            prediction  Recency  Frequency  Monetary\n",
              "CustomerId                                          \n",
              "16250                1      283         24    389.44\n",
              "15574                1      199        168    702.25\n",
              "15271                0       29        275   2485.82\n",
              "17714                1      342         10    153.00\n",
              "13865                1       80         30    501.56\n",
              "14157                1       41         49    400.43\n",
              "13610                2       34        228   1115.43\n",
              "13772                2       55        177   1132.13\n",
              "13282                2       40         40   1047.84\n",
              "12394                2       85         27   1272.48\n",
              "16320                2      194         56   1038.46\n",
              "13192                2      117         63    911.94\n",
              "17551                1      381         43    306.84\n",
              "13187                1      359         37    236.02\n",
              "15052                1      341         30    215.78\n",
              "15448                1      334         28    494.64\n",
              "12888                1      236          7    313.77\n",
              "16639                2       47         52   1169.38\n",
              "17866                1      164         10    325.70\n",
              "18283                0       25        756   2094.88\n",
              "13107                2       66         60   1524.07\n",
              "17256                1      129         16    240.00\n",
              "16027                2      113         17    852.12\n",
              "12811                1      282         31    514.85\n",
              "16619                1      275         16    204.41\n",
              "17438                1      269         19    378.30\n",
              "14000                1      228         16    633.71\n",
              "13395                1      207         21    307.72\n",
              "15041                1      192         67    180.35\n",
              "17024                1       67          3     95.85"
            ],
            "text/html": [
              "\n",
              "  <div id=\"df-ad71ce63-eebb-4f25-8a1a-9996c51c3308\">\n",
              "    <div class=\"colab-df-container\">\n",
              "      <div>\n",
              "<style scoped>\n",
              "    .dataframe tbody tr th:only-of-type {\n",
              "        vertical-align: middle;\n",
              "    }\n",
              "\n",
              "    .dataframe tbody tr th {\n",
              "        vertical-align: top;\n",
              "    }\n",
              "\n",
              "    .dataframe thead th {\n",
              "        text-align: right;\n",
              "    }\n",
              "</style>\n",
              "<table border=\"1\" class=\"dataframe\">\n",
              "  <thead>\n",
              "    <tr style=\"text-align: right;\">\n",
              "      <th></th>\n",
              "      <th>prediction</th>\n",
              "      <th>Recency</th>\n",
              "      <th>Frequency</th>\n",
              "      <th>Monetary</th>\n",
              "    </tr>\n",
              "    <tr>\n",
              "      <th>CustomerId</th>\n",
              "      <th></th>\n",
              "      <th></th>\n",
              "      <th></th>\n",
              "      <th></th>\n",
              "    </tr>\n",
              "  </thead>\n",
              "  <tbody>\n",
              "    <tr>\n",
              "      <th>16250</th>\n",
              "      <td>1</td>\n",
              "      <td>283</td>\n",
              "      <td>24</td>\n",
              "      <td>389.44</td>\n",
              "    </tr>\n",
              "    <tr>\n",
              "      <th>15574</th>\n",
              "      <td>1</td>\n",
              "      <td>199</td>\n",
              "      <td>168</td>\n",
              "      <td>702.25</td>\n",
              "    </tr>\n",
              "    <tr>\n",
              "      <th>15271</th>\n",
              "      <td>0</td>\n",
              "      <td>29</td>\n",
              "      <td>275</td>\n",
              "      <td>2485.82</td>\n",
              "    </tr>\n",
              "    <tr>\n",
              "      <th>17714</th>\n",
              "      <td>1</td>\n",
              "      <td>342</td>\n",
              "      <td>10</td>\n",
              "      <td>153.00</td>\n",
              "    </tr>\n",
              "    <tr>\n",
              "      <th>13865</th>\n",
              "      <td>1</td>\n",
              "      <td>80</td>\n",
              "      <td>30</td>\n",
              "      <td>501.56</td>\n",
              "    </tr>\n",
              "    <tr>\n",
              "      <th>14157</th>\n",
              "      <td>1</td>\n",
              "      <td>41</td>\n",
              "      <td>49</td>\n",
              "      <td>400.43</td>\n",
              "    </tr>\n",
              "    <tr>\n",
              "      <th>13610</th>\n",
              "      <td>2</td>\n",
              "      <td>34</td>\n",
              "      <td>228</td>\n",
              "      <td>1115.43</td>\n",
              "    </tr>\n",
              "    <tr>\n",
              "      <th>13772</th>\n",
              "      <td>2</td>\n",
              "      <td>55</td>\n",
              "      <td>177</td>\n",
              "      <td>1132.13</td>\n",
              "    </tr>\n",
              "    <tr>\n",
              "      <th>13282</th>\n",
              "      <td>2</td>\n",
              "      <td>40</td>\n",
              "      <td>40</td>\n",
              "      <td>1047.84</td>\n",
              "    </tr>\n",
              "    <tr>\n",
              "      <th>12394</th>\n",
              "      <td>2</td>\n",
              "      <td>85</td>\n",
              "      <td>27</td>\n",
              "      <td>1272.48</td>\n",
              "    </tr>\n",
              "    <tr>\n",
              "      <th>16320</th>\n",
              "      <td>2</td>\n",
              "      <td>194</td>\n",
              "      <td>56</td>\n",
              "      <td>1038.46</td>\n",
              "    </tr>\n",
              "    <tr>\n",
              "      <th>13192</th>\n",
              "      <td>2</td>\n",
              "      <td>117</td>\n",
              "      <td>63</td>\n",
              "      <td>911.94</td>\n",
              "    </tr>\n",
              "    <tr>\n",
              "      <th>17551</th>\n",
              "      <td>1</td>\n",
              "      <td>381</td>\n",
              "      <td>43</td>\n",
              "      <td>306.84</td>\n",
              "    </tr>\n",
              "    <tr>\n",
              "      <th>13187</th>\n",
              "      <td>1</td>\n",
              "      <td>359</td>\n",
              "      <td>37</td>\n",
              "      <td>236.02</td>\n",
              "    </tr>\n",
              "    <tr>\n",
              "      <th>15052</th>\n",
              "      <td>1</td>\n",
              "      <td>341</td>\n",
              "      <td>30</td>\n",
              "      <td>215.78</td>\n",
              "    </tr>\n",
              "    <tr>\n",
              "      <th>15448</th>\n",
              "      <td>1</td>\n",
              "      <td>334</td>\n",
              "      <td>28</td>\n",
              "      <td>494.64</td>\n",
              "    </tr>\n",
              "    <tr>\n",
              "      <th>12888</th>\n",
              "      <td>1</td>\n",
              "      <td>236</td>\n",
              "      <td>7</td>\n",
              "      <td>313.77</td>\n",
              "    </tr>\n",
              "    <tr>\n",
              "      <th>16639</th>\n",
              "      <td>2</td>\n",
              "      <td>47</td>\n",
              "      <td>52</td>\n",
              "      <td>1169.38</td>\n",
              "    </tr>\n",
              "    <tr>\n",
              "      <th>17866</th>\n",
              "      <td>1</td>\n",
              "      <td>164</td>\n",
              "      <td>10</td>\n",
              "      <td>325.70</td>\n",
              "    </tr>\n",
              "    <tr>\n",
              "      <th>18283</th>\n",
              "      <td>0</td>\n",
              "      <td>25</td>\n",
              "      <td>756</td>\n",
              "      <td>2094.88</td>\n",
              "    </tr>\n",
              "    <tr>\n",
              "      <th>13107</th>\n",
              "      <td>2</td>\n",
              "      <td>66</td>\n",
              "      <td>60</td>\n",
              "      <td>1524.07</td>\n",
              "    </tr>\n",
              "    <tr>\n",
              "      <th>17256</th>\n",
              "      <td>1</td>\n",
              "      <td>129</td>\n",
              "      <td>16</td>\n",
              "      <td>240.00</td>\n",
              "    </tr>\n",
              "    <tr>\n",
              "      <th>16027</th>\n",
              "      <td>2</td>\n",
              "      <td>113</td>\n",
              "      <td>17</td>\n",
              "      <td>852.12</td>\n",
              "    </tr>\n",
              "    <tr>\n",
              "      <th>12811</th>\n",
              "      <td>1</td>\n",
              "      <td>282</td>\n",
              "      <td>31</td>\n",
              "      <td>514.85</td>\n",
              "    </tr>\n",
              "    <tr>\n",
              "      <th>16619</th>\n",
              "      <td>1</td>\n",
              "      <td>275</td>\n",
              "      <td>16</td>\n",
              "      <td>204.41</td>\n",
              "    </tr>\n",
              "    <tr>\n",
              "      <th>17438</th>\n",
              "      <td>1</td>\n",
              "      <td>269</td>\n",
              "      <td>19</td>\n",
              "      <td>378.30</td>\n",
              "    </tr>\n",
              "    <tr>\n",
              "      <th>14000</th>\n",
              "      <td>1</td>\n",
              "      <td>228</td>\n",
              "      <td>16</td>\n",
              "      <td>633.71</td>\n",
              "    </tr>\n",
              "    <tr>\n",
              "      <th>13395</th>\n",
              "      <td>1</td>\n",
              "      <td>207</td>\n",
              "      <td>21</td>\n",
              "      <td>307.72</td>\n",
              "    </tr>\n",
              "    <tr>\n",
              "      <th>15041</th>\n",
              "      <td>1</td>\n",
              "      <td>192</td>\n",
              "      <td>67</td>\n",
              "      <td>180.35</td>\n",
              "    </tr>\n",
              "    <tr>\n",
              "      <th>17024</th>\n",
              "      <td>1</td>\n",
              "      <td>67</td>\n",
              "      <td>3</td>\n",
              "      <td>95.85</td>\n",
              "    </tr>\n",
              "  </tbody>\n",
              "</table>\n",
              "</div>\n",
              "      <button class=\"colab-df-convert\" onclick=\"convertToInteractive('df-ad71ce63-eebb-4f25-8a1a-9996c51c3308')\"\n",
              "              title=\"Convert this dataframe to an interactive table.\"\n",
              "              style=\"display:none;\">\n",
              "        \n",
              "  <svg xmlns=\"http://www.w3.org/2000/svg\" height=\"24px\"viewBox=\"0 0 24 24\"\n",
              "       width=\"24px\">\n",
              "    <path d=\"M0 0h24v24H0V0z\" fill=\"none\"/>\n",
              "    <path d=\"M18.56 5.44l.94 2.06.94-2.06 2.06-.94-2.06-.94-.94-2.06-.94 2.06-2.06.94zm-11 1L8.5 8.5l.94-2.06 2.06-.94-2.06-.94L8.5 2.5l-.94 2.06-2.06.94zm10 10l.94 2.06.94-2.06 2.06-.94-2.06-.94-.94-2.06-.94 2.06-2.06.94z\"/><path d=\"M17.41 7.96l-1.37-1.37c-.4-.4-.92-.59-1.43-.59-.52 0-1.04.2-1.43.59L10.3 9.45l-7.72 7.72c-.78.78-.78 2.05 0 2.83L4 21.41c.39.39.9.59 1.41.59.51 0 1.02-.2 1.41-.59l7.78-7.78 2.81-2.81c.8-.78.8-2.07 0-2.86zM5.41 20L4 18.59l7.72-7.72 1.47 1.35L5.41 20z\"/>\n",
              "  </svg>\n",
              "      </button>\n",
              "      \n",
              "  <style>\n",
              "    .colab-df-container {\n",
              "      display:flex;\n",
              "      flex-wrap:wrap;\n",
              "      gap: 12px;\n",
              "    }\n",
              "\n",
              "    .colab-df-convert {\n",
              "      background-color: #E8F0FE;\n",
              "      border: none;\n",
              "      border-radius: 50%;\n",
              "      cursor: pointer;\n",
              "      display: none;\n",
              "      fill: #1967D2;\n",
              "      height: 32px;\n",
              "      padding: 0 0 0 0;\n",
              "      width: 32px;\n",
              "    }\n",
              "\n",
              "    .colab-df-convert:hover {\n",
              "      background-color: #E2EBFA;\n",
              "      box-shadow: 0px 1px 2px rgba(60, 64, 67, 0.3), 0px 1px 3px 1px rgba(60, 64, 67, 0.15);\n",
              "      fill: #174EA6;\n",
              "    }\n",
              "\n",
              "    [theme=dark] .colab-df-convert {\n",
              "      background-color: #3B4455;\n",
              "      fill: #D2E3FC;\n",
              "    }\n",
              "\n",
              "    [theme=dark] .colab-df-convert:hover {\n",
              "      background-color: #434B5C;\n",
              "      box-shadow: 0px 1px 3px 1px rgba(0, 0, 0, 0.15);\n",
              "      filter: drop-shadow(0px 1px 2px rgba(0, 0, 0, 0.3));\n",
              "      fill: #FFFFFF;\n",
              "    }\n",
              "  </style>\n",
              "\n",
              "      <script>\n",
              "        const buttonEl =\n",
              "          document.querySelector('#df-ad71ce63-eebb-4f25-8a1a-9996c51c3308 button.colab-df-convert');\n",
              "        buttonEl.style.display =\n",
              "          google.colab.kernel.accessAllowed ? 'block' : 'none';\n",
              "\n",
              "        async function convertToInteractive(key) {\n",
              "          const element = document.querySelector('#df-ad71ce63-eebb-4f25-8a1a-9996c51c3308');\n",
              "          const dataTable =\n",
              "            await google.colab.kernel.invokeFunction('convertToInteractive',\n",
              "                                                     [key], {});\n",
              "          if (!dataTable) return;\n",
              "\n",
              "          const docLinkHtml = 'Like what you see? Visit the ' +\n",
              "            '<a target=\"_blank\" href=https://colab.research.google.com/notebooks/data_table.ipynb>data table notebook</a>'\n",
              "            + ' to learn more about interactive tables.';\n",
              "          element.innerHTML = '';\n",
              "          dataTable['output_type'] = 'display_data';\n",
              "          await google.colab.output.renderOutput(dataTable, element);\n",
              "          const docLink = document.createElement('div');\n",
              "          docLink.innerHTML = docLinkHtml;\n",
              "          element.appendChild(docLink);\n",
              "        }\n",
              "      </script>\n",
              "    </div>\n",
              "  </div>\n",
              "  "
            ]
          },
          "metadata": {},
          "execution_count": 47
        }
      ]
    },
    {
      "cell_type": "code",
      "metadata": {
        "id": "Eh252q8hPC4c",
        "outputId": "a3f450e1-c30b-4ace-dea3-3ca3e2261d3f",
        "colab": {
          "base_uri": "https://localhost:8080/",
          "height": 575
        }
      },
      "source": [
        "threedee = plt.figure(figsize=(12,10)).gca(projection='3d')\n",
        "threedee.scatter(pddf_pred.Recency, pddf_pred.Frequency, pddf_pred.Monetary, c=pddf_pred.prediction)\n",
        "threedee.set_xlabel('Recency')\n",
        "threedee.set_ylabel('Frequency')\n",
        "threedee.set_zlabel('Monetary')\n",
        "plt.show()"
      ],
      "execution_count": 46,
      "outputs": [
        {
          "output_type": "display_data",
          "data": {
            "text/plain": [
              "<Figure size 864x720 with 1 Axes>"
            ],
            "image/png": "[encoded data removed]"
          },
          "metadata": {
            "needs_background": "light"
          }
        }
      ]
    }
  ]
}