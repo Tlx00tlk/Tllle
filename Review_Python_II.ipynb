{
  "nbformat": 4,
  "nbformat_minor": 0,
  "metadata": {
    "colab": {
      "name": "Review: Python II.ipynb",
      "provenance": [],
      "toc_visible": true,
      "authorship_tag": "ABX9TyPgNQURnDVpOw+AkmAud23u",
      "include_colab_link": true
    },
    "kernelspec": {
      "name": "python3",
      "display_name": "Python 3"
    }
  },
  "cells": [
    {
      "cell_type": "markdown",
      "metadata": {
        "id": "view-in-github",
        "colab_type": "text"
      },
      "source": [
        "<a href=\"https://colab.research.google.com/github/pasdptt/PasdPublicNB/blob/master/Review_Python_II.ipynb\" target=\"_parent\"><img src=\"https://colab.research.google.com/assets/colab-badge.svg\" alt=\"Open In Colab\"/></a>"
      ]
    },
    {
      "cell_type": "markdown",
      "metadata": {
        "id": "r88TyQjIHrgp"
      },
      "source": [
        "#Review Python (for Statistician, class 2)"
      ]
    },
    {
      "cell_type": "code",
      "metadata": {
        "id": "07J2JR9MUsg0"
      },
      "source": [
        "import math\n",
        "import statistics\n",
        "import numpy as np\n",
        "import scipy.stats\n",
        "import pandas as pd\n",
        "\n",
        "newline = \"\\r\\n\""
      ],
      "execution_count": 3,
      "outputs": []
    },
    {
      "cell_type": "code",
      "metadata": {
        "colab": {
          "base_uri": "https://localhost:8080/"
        },
        "id": "khAyB-gpUqeO",
        "outputId": "8b6245c6-f162-4b2c-bcb4-dac1d52585ac"
      },
      "source": [
        "x = [8.0, 1, 2.5, 4, 28.0]\n",
        "x_with_nan = [8.0, 1, 2.5, math.nan, 4, 28.0]\n",
        "x"
      ],
      "execution_count": 4,
      "outputs": [
        {
          "output_type": "execute_result",
          "data": {
            "text/plain": [
              "[8.0, 1, 2.5, 4, 28.0]"
            ]
          },
          "metadata": {
            "tags": []
          },
          "execution_count": 4
        }
      ]
    },
    {
      "cell_type": "code",
      "metadata": {
        "colab": {
          "base_uri": "https://localhost:8080/"
        },
        "id": "BvDFXmil1oiF",
        "outputId": "0951890c-a739-40fd-ead3-61ed96960e00"
      },
      "source": [
        "y, y_with_nan = np.array(x), np.array(x_with_nan)\n",
        "z, z_with_nan = pd.Series(x), pd.Series(x_with_nan)\n",
        "print(newline,y,newline,y_with_nan)"
      ],
      "execution_count": 5,
      "outputs": [
        {
          "output_type": "stream",
          "text": [
            "\r\n",
            " [ 8.   1.   2.5  4.  28. ] \r\n",
            " [ 8.   1.   2.5  nan  4.  28. ]\n"
          ],
          "name": "stdout"
        }
      ]
    },
    {
      "cell_type": "markdown",
      "metadata": {
        "id": "VfaD5hX7MfVy"
      },
      "source": [
        "#Measures of Variability\n",
        "The measures of central tendency aren’t sufficient to describe data. You’ll also need the measures of variability that quantify the spread of data points. In this section, you’ll learn how to identify and calculate the following variability measures:\n",
        "\n",
        "* Variance\n",
        "* Standard deviation\n",
        "* Skewness\n",
        "* Percentiles\n",
        "* RangesNew Section"
      ]
    },
    {
      "cell_type": "markdown",
      "metadata": {
        "id": "1ykyfpKUMlst"
      },
      "source": [
        "##Variance\n",
        "The sample variance quantifies the spread of the data. It shows numerically how far the data points are from the mean. You can express the sample variance of the dataset 𝑥 with 𝑛 elements mathematically as 𝑠² = Σᵢ(𝑥ᵢ − mean(𝑥))² / (𝑛 − 1), where 𝑖 = 1, 2, …, 𝑛 and mean(𝑥) is the sample mean of 𝑥. If you want to understand deeper why you divide the sum with 𝑛 − 1 instead of 𝑛, then you can dive deeper into Bessel’s correction.\n",
        "\n",
        "The following figure shows you why it’s important to consider the variance when describing datasets:\n",
        "\n",
        "![py-stats-06.2cafb41d561e.png](data:image/png;base64,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)\n",
        "\n",
        "Python Statistics\n",
        "There are two datasets in this figure:\n",
        "\n",
        "1. **Green dots:** This dataset has a smaller variance or a smaller average difference \n",
        "from the mean. It also has a smaller range or a smaller difference between the largest and smallest item.\n",
        "2. **White dots:** This dataset has a larger variance or a larger average difference from the mean. It also has a bigger range or a bigger difference between the largest and smallest item.\n",
        "Note that these two datasets have the same mean and median, even though they appear to differ significantly. Neither the mean nor the median can describe this difference. That’s why you need the measures of variability.\n",
        "\n",
        "Here’s how you can calculate the sample variance with pure Python:"
      ]
    },
    {
      "cell_type": "code",
      "metadata": {
        "id": "7H0m6x7BHp77"
      },
      "source": [
        "n = len(x)\n",
        "mean_ = sum(x) / n\n",
        "var_ = \n",
        "var_"
      ],
      "execution_count": null,
      "outputs": []
    },
    {
      "cell_type": "markdown",
      "metadata": {
        "id": "Gs9QCi7Azkvr"
      },
      "source": [
        "This approach is sufficient and calculates the sample variance well. However, the shorter and more elegant solution is to call the existing function statistics.variance():"
      ]
    },
    {
      "cell_type": "code",
      "metadata": {
        "id": "FnFj_1-azkad"
      },
      "source": [
        "var_ = \n",
        "var_"
      ],
      "execution_count": null,
      "outputs": []
    },
    {
      "cell_type": "markdown",
      "metadata": {
        "id": "Di4D8sIC1Lxa"
      },
      "source": [
        "You’ve obtained the same result for the variance as above. variance() can avoid calculating the mean if you provide the mean explicitly as the second argument: statistics.variance(x, mean_).\n",
        "\n",
        "If you have nan values among your data, then statistics.variance() will return nan:"
      ]
    },
    {
      "cell_type": "code",
      "metadata": {
        "id": "tNrDA717yMMs"
      },
      "source": [
        "var_ = \n",
        "var_"
      ],
      "execution_count": null,
      "outputs": []
    },
    {
      "cell_type": "code",
      "metadata": {
        "id": "rFEIbXME1iL4"
      },
      "source": [
        "var_ = \n",
        "var_"
      ],
      "execution_count": null,
      "outputs": []
    },
    {
      "cell_type": "markdown",
      "metadata": {
        "id": "Ktb7STLW6g1M"
      },
      "source": [
        "It’s very important to specify the parameter ddof=1. That’s how you set the delta degrees of freedom to 1. This parameter allows the proper calculation of 𝑠², with (𝑛 − 1) in the denominator instead of 𝑛.\n",
        "\n",
        "If you have nan values in the dataset, then np.var() and .var() will return nan:"
      ]
    },
    {
      "cell_type": "code",
      "metadata": {
        "id": "m2EQ2Rtt6JVe"
      },
      "source": [
        ""
      ],
      "execution_count": null,
      "outputs": []
    },
    {
      "cell_type": "code",
      "metadata": {
        "id": "-jfrEGS16-Hi"
      },
      "source": [
        ""
      ],
      "execution_count": null,
      "outputs": []
    },
    {
      "cell_type": "markdown",
      "metadata": {
        "id": "0OI2LiVN7-J-"
      },
      "source": [
        "This is consistent with np.mean() and np.average(). If you want to skip nan values, then you should use np.nanvar():"
      ]
    },
    {
      "cell_type": "code",
      "metadata": {
        "id": "vXSbuzxO6-to"
      },
      "source": [
        ""
      ],
      "execution_count": null,
      "outputs": []
    },
    {
      "cell_type": "markdown",
      "metadata": {
        "id": "y8Jfc-1r8OfX"
      },
      "source": [
        "np.nanvar() ignores nan values. It also needs you to specify ddof=1.\n",
        "\n",
        "pd.Series objects have the method .var() that skips nan values by default:"
      ]
    },
    {
      "cell_type": "code",
      "metadata": {
        "id": "YEt4AZv98OCW"
      },
      "source": [
        ""
      ],
      "execution_count": null,
      "outputs": []
    },
    {
      "cell_type": "markdown",
      "metadata": {
        "id": "iMUhjHI88f9t"
      },
      "source": [
        "It also has the parameter ddof, but its default value is 1, so you can omit it. If you want a different behavior related to nan values, then use the optional parameter skipna.\n",
        "\n",
        "You calculate the population variance similarly to the sample variance. However, you have to use 𝑛 in the denominator instead of 𝑛 − 1: Σᵢ(𝑥ᵢ − mean(𝑥))² / 𝑛. In this case, 𝑛 is the number of items in the entire population. You can get the population variance similar to the sample variance, with the following differences:\n",
        "\n",
        "* **Replace** (n - 1) with n in the pure Python implementation.\n",
        "* **Use** statistics.pvariance() instead of statistics.variance().\n",
        "* **Specify** the parameter ddof=0 if you use NumPy or Pandas. In NumPy, you can omit ddof because its default value is 0.\n",
        "\n",
        "Note that you should always be aware of whether you’re working with a sample or the entire population whenever you’re calculating the variance!"
      ]
    },
    {
      "cell_type": "markdown",
      "metadata": {
        "id": "vMEnqo6s9OD7"
      },
      "source": [
        "##Standard Deviation"
      ]
    },
    {
      "cell_type": "markdown",
      "metadata": {
        "id": "KJXrwQji9M3r"
      },
      "source": [
        "The sample standard deviation is another measure of data spread. It’s connected to the sample variance, as standard deviation, 𝑠, is the positive square root of the sample variance. The standard deviation is often more convenient than the variance because it has the same unit as the data points. Once you get the variance, you can calculate the standard deviation with pure Python:"
      ]
    },
    {
      "cell_type": "code",
      "metadata": {
        "id": "USD5JdxT9S8q"
      },
      "source": [
        "std_ = \n",
        "std_"
      ],
      "execution_count": null,
      "outputs": []
    },
    {
      "cell_type": "markdown",
      "metadata": {
        "id": "MwE66MAm9fob"
      },
      "source": [
        "Although this solution works, you can also use statistics.stdev():"
      ]
    },
    {
      "cell_type": "code",
      "metadata": {
        "id": "MY5ovvPR9g4Z"
      },
      "source": [
        "std_ = \n",
        "std_"
      ],
      "execution_count": null,
      "outputs": []
    },
    {
      "cell_type": "markdown",
      "metadata": {
        "id": "kqCgremO98n1"
      },
      "source": [
        "Of course, the result is the same as before. Like variance(), stdev() doesn’t calculate the mean if you provide it explicitly as the second argument: statistics.stdev(x, mean_).\n",
        "\n",
        "You can get the standard deviation with NumPy in almost the same way. You can use the function std() and the corresponding method .std() to calculate the standard deviation. If there are nan values in the dataset, then they’ll return nan. To ignore nan values, you should use np.nanstd(). You use std(), .std(), and nanstd() from NumPy as you would use var(), .var(), and nanvar():"
      ]
    },
    {
      "cell_type": "code",
      "metadata": {
        "id": "dKyliGhw-Qzl"
      },
      "source": [
        "np.std(y, ddof=1)"
      ],
      "execution_count": null,
      "outputs": []
    },
    {
      "cell_type": "code",
      "metadata": {
        "id": "Q0q6LgzH-QrP"
      },
      "source": [
        "y.std(ddof=1)"
      ],
      "execution_count": null,
      "outputs": []
    },
    {
      "cell_type": "code",
      "metadata": {
        "id": "U8feR8tO-Yhz"
      },
      "source": [
        "np.std(y_with_nan, ddof=1)"
      ],
      "execution_count": null,
      "outputs": []
    },
    {
      "cell_type": "code",
      "metadata": {
        "id": "VAangwEk-Z8V"
      },
      "source": [
        "y_with_nan.std(ddof=1)"
      ],
      "execution_count": null,
      "outputs": []
    },
    {
      "cell_type": "code",
      "metadata": {
        "id": "KQRKvf-a-bDo"
      },
      "source": [
        "np.nanstd(y_with_nan, ddof=1)"
      ],
      "execution_count": null,
      "outputs": []
    },
    {
      "cell_type": "markdown",
      "metadata": {
        "id": "LmZq9E637_rJ"
      },
      "source": [
        "Don’t forget to set the delta degrees of freedom to 1!\n",
        "\n",
        "pd.Series objects also have the method .std() that skips nan by default:"
      ]
    },
    {
      "cell_type": "code",
      "metadata": {
        "id": "-F8g3Nwg-PNl"
      },
      "source": [
        "z.std(ddof=1)"
      ],
      "execution_count": null,
      "outputs": []
    },
    {
      "cell_type": "code",
      "metadata": {
        "id": "V3nzfTdW-yXQ"
      },
      "source": [
        "z_with_nan.std(ddof=1)"
      ],
      "execution_count": null,
      "outputs": []
    },
    {
      "cell_type": "markdown",
      "metadata": {
        "id": "l5cP48Vr-5Dy"
      },
      "source": [
        "The parameter ddof defaults to 1, so you can omit it. Again, if you want to treat nan values differently, then apply the parameter skipna.\n",
        "\n",
        "The population standard deviation refers to the entire population. It’s the positive square root of the population variance. You can calculate it just like the sample standard deviation, with the following differences:\n",
        "\n",
        "* **Find** the square root of the population variance in the pure Python implementation.\n",
        "* **Use** statistics.pstdev() instead of statistics.stdev().\n",
        "* **Specify** the parameter ddof=0 if you use NumPy or Pandas. In NumPy, you can omit ddof because its default value is 0.\n",
        "As you can see, you can determine the standard deviation in Python, NumPy, and \n",
        "\n",
        "Pandas in almost the same way as you determine the variance. You use different but analogous functions and methods with the same arguments."
      ]
    },
    {
      "cell_type": "markdown",
      "metadata": {
        "id": "6v1CyX2t_HtJ"
      },
      "source": [
        "##Skewness"
      ]
    },
    {
      "cell_type": "markdown",
      "metadata": {
        "id": "16Fm3TCh_QFN"
      },
      "source": [
        "The sample skewness measures the asymmetry of a data sample.\n",
        "\n",
        "There are several mathematical definitions of skewness. One common expression to calculate the skewness of the dataset 𝑥 with 𝑛 elements is (𝑛² / ((𝑛 − 1)(𝑛 − 2))) (Σᵢ(𝑥ᵢ − mean(𝑥))³ / (𝑛𝑠³)). A simpler expression is Σᵢ(𝑥ᵢ − mean(𝑥))³ 𝑛 / ((𝑛 − 1)(𝑛 − 2)𝑠³), where 𝑖 = 1, 2, …, 𝑛 and mean(𝑥) is the sample mean of 𝑥. The skewness defined like this is called the adjusted Fisher-Pearson standardized moment coefficient.\n",
        "\n",
        "The previous figure showed two datasets that were quite symmetrical. In other words, their points had similar distances from the mean. In contrast, the following image illustrates two asymmetrical sets:\n",
        "\n",
        "![py-stats-07.92abf9f362b0.png](data:image/png;base64,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)\n",
        "\n",
        "Python Statistics\n",
        "The first set is represented by the green dots and the second with the white ones. Usually, negative skewness values indicate that there’s a dominant tail on the left side, which you can see with the first set. Positive skewness values correspond to a longer or fatter tail on the right side, which you can see in the second set. If the skewness is close to 0 (for example, between −0.5 and 0.5), then the dataset is considered quite symmetrical.\n",
        "\n",
        "Once you’ve calculated the size of your dataset n, the sample mean mean_, and the standard deviation std_, you can get the sample skewness with pure Python:"
      ]
    },
    {
      "cell_type": "code",
      "metadata": {
        "colab": {
          "base_uri": "https://localhost:8080/"
        },
        "id": "Qk6JxBas-4tJ",
        "outputId": "eddcc2cd-7d31-4234-c0ee-1dee90ad9c43"
      },
      "source": [
        "x = [8.0, 1, 2.5, 4, 28.0]\n",
        "n = len(x)\n",
        "mean_ = sum(x) / n\n",
        "var_ = sum((item - mean_)**2 for item in x) / (n - 1)\n",
        "std_ = var_ ** 0.5\n",
        "skew_ = (sum((item - mean_)**3 for item in x)* n / ((n - 1) * (n - 2) * std_**3))\n",
        "skew_\n"
      ],
      "execution_count": 1,
      "outputs": [
        {
          "output_type": "execute_result",
          "data": {
            "text/plain": [
              "1.9470432273905929"
            ]
          },
          "metadata": {
            "tags": []
          },
          "execution_count": 1
        }
      ]
    },
    {
      "cell_type": "markdown",
      "metadata": {
        "id": "IUoS1kLMnwPw"
      },
      "source": [
        "Pandas Series objects have the method .skew() that also returns the skewness of a dataset:"
      ]
    },
    {
      "cell_type": "code",
      "metadata": {
        "id": "NDaM0POm-y23"
      },
      "source": [
        "z"
      ],
      "execution_count": null,
      "outputs": []
    },
    {
      "cell_type": "markdown",
      "metadata": {
        "id": "D-ecMtyNoYOj"
      },
      "source": [
        "Like other methods, .skew() ignores nan values by default, because of the default value of the optional parameter skipna.\n",
        "\n"
      ]
    },
    {
      "cell_type": "markdown",
      "metadata": {
        "id": "PW0EV9UGo83L"
      },
      "source": [
        "##Percentiles"
      ]
    },
    {
      "cell_type": "markdown",
      "metadata": {
        "id": "IMppduWmo8oj"
      },
      "source": [
        "The sample 𝑝 percentile is the element in the dataset such that 𝑝% of the elements in the dataset are less than or equal to that value. Also, (100 − 𝑝)% of the elements are greater than or equal to that value. If there are two such elements in the dataset, then the sample 𝑝 percentile is their arithmetic mean. Each dataset has three quartiles, which are the percentiles that divide the dataset into four parts:\n",
        "\n",
        "* **The first quartile** is the sample 25th percentile. It divides roughly 25% of the smallest items from the rest of the dataset.\n",
        "* **The second quartile** is the sample 50th percentile or the median. Approximately 25% of the items lie between the first and second quartiles and another 25% between the second and third quartiles.\n",
        "* **The third quartile** is the sample 75th percentile. It divides roughly 25% of the largest items from the rest of the dataset.\n",
        "\n",
        "We can use **np.percentile()** to determine any sample percentile in your dataset. For example, this is how you can find the 5th and 95th percentiles:"
      ]
    },
    {
      "cell_type": "code",
      "metadata": {
        "colab": {
          "base_uri": "https://localhost:8080/"
        },
        "id": "408Jb2vCn7IN",
        "outputId": "0be747d9-8f58-4c3f-e763-f89fe7a292fd"
      },
      "source": [
        "x = [-5.0, -1.1, 0.1, 2.0, 8.0, 12.8, 21.0, 25.8, 41.0]\n",
        "y = np.array(x)\n",
        "\n",
        "print(np.percentile(y, 5),np.percentile(y,25),np.percentile(y,75),np.percentile(y, 95))"
      ],
      "execution_count": 9,
      "outputs": [
        {
          "output_type": "stream",
          "text": [
            "-3.44 0.1 21.0 34.919999999999995\n"
          ],
          "name": "stdout"
        }
      ]
    },
    {
      "cell_type": "markdown",
      "metadata": {
        "id": "9PYHSC8j2wXx"
      },
      "source": [
        "percentile() takes several arguments. You have to provide the dataset as the first argument and the percentile value as the second. The dataset can be in the form of a NumPy array, list, tuple, or similar data structure. The percentile can be a number between 0 and 100 like in the example above, but it can also be a sequence of numbers:"
      ]
    },
    {
      "cell_type": "code",
      "metadata": {
        "colab": {
          "base_uri": "https://localhost:8080/"
        },
        "id": "yV7tg-RL2JaQ",
        "outputId": "5efc43d2-288e-4a23-c060-689dfc04cfe5"
      },
      "source": [
        "np.percentile(y, [25, 50, 75])"
      ],
      "execution_count": 10,
      "outputs": [
        {
          "output_type": "execute_result",
          "data": {
            "text/plain": [
              "array([ 0.1,  8. , 21. ])"
            ]
          },
          "metadata": {
            "tags": []
          },
          "execution_count": 10
        }
      ]
    },
    {
      "cell_type": "markdown",
      "metadata": {
        "id": "_URlG4Ha3ACJ"
      },
      "source": [
        "This code calculates the 25th, 50th, and 75th percentiles all at once. If the percentile value is a sequence, then percentile() returns a NumPy array with the results. The first statement returns the array of quartiles. The second statement returns the median, so you can confirm it’s equal to the 50th percentile, which is 8.0.\n",
        "\n",
        "If you want to ignore nan values, then use np.nanpercentile() instead:"
      ]
    },
    {
      "cell_type": "code",
      "metadata": {
        "colab": {
          "base_uri": "https://localhost:8080/"
        },
        "id": "xC8GW7YM21cD",
        "outputId": "47a31063-9b01-482f-a7e1-9073310f5772"
      },
      "source": [
        "y_with_nan = np.insert(y, 2, np.nan)\n",
        "y_with_nan"
      ],
      "execution_count": 11,
      "outputs": [
        {
          "output_type": "execute_result",
          "data": {
            "text/plain": [
              "array([-5. , -1.1,  nan,  0.1,  2. ,  8. , 12.8, 21. , 25.8, 41. ])"
            ]
          },
          "metadata": {
            "tags": []
          },
          "execution_count": 11
        }
      ]
    },
    {
      "cell_type": "code",
      "metadata": {
        "colab": {
          "base_uri": "https://localhost:8080/"
        },
        "id": "TgfAhuql3Ilh",
        "outputId": "42fa9e6b-d429-4503-d999-d0cb187d83fe"
      },
      "source": [
        "np.nanpercentile(y_with_nan, [25, 50, 75])"
      ],
      "execution_count": 13,
      "outputs": [
        {
          "output_type": "execute_result",
          "data": {
            "text/plain": [
              "array([ 0.1,  8. , 21. ])"
            ]
          },
          "metadata": {
            "tags": []
          },
          "execution_count": 13
        }
      ]
    },
    {
      "cell_type": "markdown",
      "metadata": {
        "id": "SWLmhZbZ3QO9"
      },
      "source": [
        "That’s how you can avoid nan values.\n",
        "\n",
        "NumPy also offers you very similar functionality in quantile() and nanquantile()\n",
        "\n",
        "If you use them, then you’ll need to provide the quantile values as the numbers between 0 and 1 instead of percentiles:"
      ]
    },
    {
      "cell_type": "code",
      "metadata": {
        "colab": {
          "base_uri": "https://localhost:8080/"
        },
        "id": "aKwebGW-3J4X",
        "outputId": "a3f4af81-d827-473d-c37c-873989ef0cb4"
      },
      "source": [
        "np.quantile(y, 0.05)"
      ],
      "execution_count": 14,
      "outputs": [
        {
          "output_type": "execute_result",
          "data": {
            "text/plain": [
              "-3.44"
            ]
          },
          "metadata": {
            "tags": []
          },
          "execution_count": 14
        }
      ]
    },
    {
      "cell_type": "code",
      "metadata": {
        "colab": {
          "base_uri": "https://localhost:8080/"
        },
        "id": "dPc6Xhyd3e5c",
        "outputId": "8ef49c94-1c74-4d6c-ea25-b80393a09279"
      },
      "source": [
        "np.quantile(y, 0.95)"
      ],
      "execution_count": 15,
      "outputs": [
        {
          "output_type": "execute_result",
          "data": {
            "text/plain": [
              "34.919999999999995"
            ]
          },
          "metadata": {
            "tags": []
          },
          "execution_count": 15
        }
      ]
    },
    {
      "cell_type": "code",
      "metadata": {
        "colab": {
          "base_uri": "https://localhost:8080/"
        },
        "id": "_dO8FlhK3iG0",
        "outputId": "6812b35e-4ce8-4358-dbc9-5bbf3d5de0b1"
      },
      "source": [
        "np.quantile(y, [0.25, 0.5, 0.75])"
      ],
      "execution_count": 16,
      "outputs": [
        {
          "output_type": "execute_result",
          "data": {
            "text/plain": [
              "array([ 0.1,  8. , 21. ])"
            ]
          },
          "metadata": {
            "tags": []
          },
          "execution_count": 16
        }
      ]
    },
    {
      "cell_type": "code",
      "metadata": {
        "colab": {
          "base_uri": "https://localhost:8080/"
        },
        "id": "Zl-TlkoT3kNL",
        "outputId": "9a5cd5fd-e8b7-46c0-b01b-6687b2c258d1"
      },
      "source": [
        "np.nanquantile(y_with_nan, [0.25, 0.5, 0.75])"
      ],
      "execution_count": 17,
      "outputs": [
        {
          "output_type": "execute_result",
          "data": {
            "text/plain": [
              "array([ 0.1,  8. , 21. ])"
            ]
          },
          "metadata": {
            "tags": []
          },
          "execution_count": 17
        }
      ]
    },
    {
      "cell_type": "markdown",
      "metadata": {
        "id": "AEeNEkfd32L4"
      },
      "source": [
        "The results are the same as in the previous examples, but here your arguments are between 0 and 1. In other words, you passed 0.05 instead of 5 and 0.95 instead of 95.\n",
        "\n",
        "pd.Series objects have the method .quantile():\n",
        "\n",
        "Remark: .quantile() also needs you to provide the quantile value as the argument. This value can be a number between 0 and 1 or a sequence of numbers. In the first case, .quantile() returns a scalar. In the second case, it returns a new Series holding the results.\n",
        "\n"
      ]
    },
    {
      "cell_type": "code",
      "metadata": {
        "colab": {
          "base_uri": "https://localhost:8080/"
        },
        "id": "nhf2JbV-311Z",
        "outputId": "f6cb1c8b-c605-4c09-bcd1-b80533fa927a"
      },
      "source": [
        "z, z_with_nan = pd.Series(y), pd.Series(y_with_nan)\n",
        "z.quantile(0.05)"
      ],
      "execution_count": 18,
      "outputs": [
        {
          "output_type": "execute_result",
          "data": {
            "text/plain": [
              "-3.44"
            ]
          },
          "metadata": {
            "tags": []
          },
          "execution_count": 18
        }
      ]
    },
    {
      "cell_type": "code",
      "metadata": {
        "id": "ZheUhD4l3kr4"
      },
      "source": [
        "#pandas pecential 95?"
      ],
      "execution_count": null,
      "outputs": []
    },
    {
      "cell_type": "code",
      "metadata": {
        "id": "Rf7omZOV4ERU"
      },
      "source": [
        "#pandas run each quatile"
      ],
      "execution_count": null,
      "outputs": []
    },
    {
      "cell_type": "code",
      "metadata": {
        "id": "zX332nQi4JEa"
      },
      "source": [
        "#pandas with nan"
      ],
      "execution_count": null,
      "outputs": []
    },
    {
      "cell_type": "markdown",
      "metadata": {
        "id": "9LBKKLJC4W9U"
      },
      "source": [
        "##Range\n",
        "\n",
        "The range of data is the difference between the maximum and minimum element in the dataset. You can get it with the function np.ptp():"
      ]
    },
    {
      "cell_type": "code",
      "metadata": {
        "colab": {
          "base_uri": "https://localhost:8080/"
        },
        "id": "hDcCPJob4jH2",
        "outputId": "74193815-3e86-48c8-86be-d5e1afa8d42e"
      },
      "source": [
        "np.ptp(y)"
      ],
      "execution_count": 19,
      "outputs": [
        {
          "output_type": "execute_result",
          "data": {
            "text/plain": [
              "46.0"
            ]
          },
          "metadata": {
            "tags": []
          },
          "execution_count": 19
        }
      ]
    },
    {
      "cell_type": "code",
      "metadata": {
        "colab": {
          "base_uri": "https://localhost:8080/"
        },
        "id": "ga-lCHJn4mA3",
        "outputId": "01dbca30-bb40-42ed-fdd4-2d5daeba502e"
      },
      "source": [
        "np.ptp(z)"
      ],
      "execution_count": 21,
      "outputs": [
        {
          "output_type": "execute_result",
          "data": {
            "text/plain": [
              "46.0"
            ]
          },
          "metadata": {
            "tags": []
          },
          "execution_count": 21
        }
      ]
    },
    {
      "cell_type": "code",
      "metadata": {
        "colab": {
          "base_uri": "https://localhost:8080/"
        },
        "id": "CKdl2eyX4pL4",
        "outputId": "c46aaf73-2c82-4a9f-f8df-cf161ec5c48a"
      },
      "source": [
        "np.ptp(y_with_nan)"
      ],
      "execution_count": 22,
      "outputs": [
        {
          "output_type": "execute_result",
          "data": {
            "text/plain": [
              "nan"
            ]
          },
          "metadata": {
            "tags": []
          },
          "execution_count": 22
        }
      ]
    },
    {
      "cell_type": "code",
      "metadata": {
        "colab": {
          "base_uri": "https://localhost:8080/"
        },
        "id": "E9VHBg3K4rhD",
        "outputId": "b11fd48e-8f4a-4cac-e110-e8671a972ed1"
      },
      "source": [
        "np.ptp(z_with_nan)"
      ],
      "execution_count": 23,
      "outputs": [
        {
          "output_type": "execute_result",
          "data": {
            "text/plain": [
              "nan"
            ]
          },
          "metadata": {
            "tags": []
          },
          "execution_count": 23
        }
      ]
    },
    {
      "cell_type": "markdown",
      "metadata": {
        "id": "0bjY1NWK47UP"
      },
      "source": [
        "This function returns nan if there are nan values in your NumPy array. If you use a Pandas Series object, then it will return a number.\n",
        "\n",
        "Alternatively, you can use built-in Python, NumPy, or Pandas functions and methods to calculate the maxima and minima of sequences:\n",
        "\n",
        "* max() and min() from the Python standard library\n",
        "* amax() and amin() from NumPy\n",
        "*nanmax() and nanmin() from NumPy to ignore nan values\n",
        "* .max() and .min() from NumPy\n",
        "* .max() and .min() from Pandas to ignore nan values by default\n",
        "\n",
        "Here are some examples of how you would use these routines:\n",
        "\n"
      ]
    },
    {
      "cell_type": "code",
      "metadata": {
        "colab": {
          "base_uri": "https://localhost:8080/"
        },
        "id": "ktPJjdez5EoD",
        "outputId": "0af671ec-c00d-4f53-8a27-6a67a33b32c7"
      },
      "source": [
        "np.amax(y) - np.amin(y)\n",
        "\n"
      ],
      "execution_count": 24,
      "outputs": [
        {
          "output_type": "execute_result",
          "data": {
            "text/plain": [
              "46.0"
            ]
          },
          "metadata": {
            "tags": []
          },
          "execution_count": 24
        }
      ]
    },
    {
      "cell_type": "code",
      "metadata": {
        "colab": {
          "base_uri": "https://localhost:8080/"
        },
        "id": "9yw8JyMf5RFk",
        "outputId": "bbea1831-f214-4966-d74e-d4bdf0c2bbb8"
      },
      "source": [
        "np.nanmax(y_with_nan) - np.nanmin(y_with_nan)"
      ],
      "execution_count": 25,
      "outputs": [
        {
          "output_type": "execute_result",
          "data": {
            "text/plain": [
              "46.0"
            ]
          },
          "metadata": {
            "tags": []
          },
          "execution_count": 25
        }
      ]
    },
    {
      "cell_type": "code",
      "metadata": {
        "colab": {
          "base_uri": "https://localhost:8080/"
        },
        "id": "Llrms3UR5X8V",
        "outputId": "6dc598ee-85d6-448a-df16-cbe93452810f"
      },
      "source": [
        "y.max() - y.min()"
      ],
      "execution_count": 26,
      "outputs": [
        {
          "output_type": "execute_result",
          "data": {
            "text/plain": [
              "46.0"
            ]
          },
          "metadata": {
            "tags": []
          },
          "execution_count": 26
        }
      ]
    },
    {
      "cell_type": "code",
      "metadata": {
        "id": "oXX5ilKN5aGq"
      },
      "source": [
        "#Try with pandas"
      ],
      "execution_count": null,
      "outputs": []
    },
    {
      "cell_type": "markdown",
      "metadata": {
        "id": "ICUED7B45P_b"
      },
      "source": [
        "That’s how you get the range of data.\n",
        "\n",
        "The **interquartile** range is the difference between the first and third quartile. Once you calculate the quartiles, you can take their difference:"
      ]
    },
    {
      "cell_type": "code",
      "metadata": {
        "id": "sPj_2HPS5nUs"
      },
      "source": [
        "##Try to build code here"
      ],
      "execution_count": null,
      "outputs": []
    },
    {
      "cell_type": "markdown",
      "metadata": {
        "id": "mSWYoPEh4O71"
      },
      "source": [
        "#Summary of Descriptive Statistics"
      ]
    },
    {
      "cell_type": "markdown",
      "metadata": {
        "id": "ve7pi_1K6a70"
      },
      "source": [
        "SciPy and Pandas offer useful routines to quickly get descriptive statistics with a single function or method call. You can use scipy.stats.describe() like this:"
      ]
    },
    {
      "cell_type": "code",
      "metadata": {
        "colab": {
          "base_uri": "https://localhost:8080/"
        },
        "id": "jY7rU5fg6amA",
        "outputId": "c48cf46a-0379-4701-f558-dd94170bfa96"
      },
      "source": [
        "result = scipy.stats.describe(y, ddof=1, bias=False)\n",
        "result"
      ],
      "execution_count": 27,
      "outputs": [
        {
          "output_type": "execute_result",
          "data": {
            "text/plain": [
              "DescribeResult(nobs=9, minmax=(-5.0, 41.0), mean=11.622222222222222, variance=228.75194444444446, skewness=0.9249043136685094, kurtosis=0.14770623629658886)"
            ]
          },
          "metadata": {
            "tags": []
          },
          "execution_count": 27
        }
      ]
    },
    {
      "cell_type": "markdown",
      "metadata": {
        "id": "yOUA7zDD6kvR"
      },
      "source": [
        "You have to provide the dataset as the first argument. The argument can be a NumPy array, list, tuple, or similar data structure. You can omit ddof=1 since it’s the default and only matters when you’re calculating the variance. You can pass bias=False to force correcting the skewness and kurtosis for statistical bias."
      ]
    },
    {
      "cell_type": "markdown",
      "metadata": {
        "id": "tz5mJpwm6otL"
      },
      "source": [
        "describe() returns an object that holds the following descriptive statistics:\n",
        "\n",
        "* nobs: the number of observations or elements in your dataset\n",
        "* minmax: the tuple with the minimum and maximum values of your dataset\n",
        "* mean: the mean of your dataset\n",
        "* variance: the variance of your dataset\n",
        "* skewness: the skewness of your dataset\n",
        "* kurtosis: the kurtosis of your dataset\n",
        "\n",
        "You can access particular values with dot notation:"
      ]
    },
    {
      "cell_type": "code",
      "metadata": {
        "colab": {
          "base_uri": "https://localhost:8080/"
        },
        "id": "_u4vGCNR6oeD",
        "outputId": "f86eb55a-fd3b-4c0d-e7e6-f2d4d89e4c63"
      },
      "source": [
        "result.nobs"
      ],
      "execution_count": 28,
      "outputs": [
        {
          "output_type": "execute_result",
          "data": {
            "text/plain": [
              "9"
            ]
          },
          "metadata": {
            "tags": []
          },
          "execution_count": 28
        }
      ]
    },
    {
      "cell_type": "code",
      "metadata": {
        "colab": {
          "base_uri": "https://localhost:8080/"
        },
        "id": "zHnVsrFv5DUv",
        "outputId": "8fef64d9-292a-4aff-f08b-e753f28324b1"
      },
      "source": [
        "result.minmax[0] # Min"
      ],
      "execution_count": 29,
      "outputs": [
        {
          "output_type": "execute_result",
          "data": {
            "text/plain": [
              "-5.0"
            ]
          },
          "metadata": {
            "tags": []
          },
          "execution_count": 29
        }
      ]
    },
    {
      "cell_type": "code",
      "metadata": {
        "colab": {
          "base_uri": "https://localhost:8080/"
        },
        "id": "_pQGlVQS7d7b",
        "outputId": "b5f376fa-dd2c-4d43-e332-3550dbc39a2f"
      },
      "source": [
        "result.minmax[1]  # Max"
      ],
      "execution_count": 30,
      "outputs": [
        {
          "output_type": "execute_result",
          "data": {
            "text/plain": [
              "41.0"
            ]
          },
          "metadata": {
            "tags": []
          },
          "execution_count": 30
        }
      ]
    },
    {
      "cell_type": "code",
      "metadata": {
        "colab": {
          "base_uri": "https://localhost:8080/"
        },
        "id": "GV_EBSJx7ff0",
        "outputId": "5d5ca8ad-e08b-46c7-d23c-44b8825c4dd7"
      },
      "source": [
        "result.mean"
      ],
      "execution_count": 31,
      "outputs": [
        {
          "output_type": "execute_result",
          "data": {
            "text/plain": [
              "11.622222222222222"
            ]
          },
          "metadata": {
            "tags": []
          },
          "execution_count": 31
        }
      ]
    },
    {
      "cell_type": "code",
      "metadata": {
        "colab": {
          "base_uri": "https://localhost:8080/"
        },
        "id": "Nt-TbIlv7i3Z",
        "outputId": "3d898066-f72e-4ff2-f3e8-35e5a6591b98"
      },
      "source": [
        "result.variance"
      ],
      "execution_count": 32,
      "outputs": [
        {
          "output_type": "execute_result",
          "data": {
            "text/plain": [
              "228.75194444444446"
            ]
          },
          "metadata": {
            "tags": []
          },
          "execution_count": 32
        }
      ]
    },
    {
      "cell_type": "code",
      "metadata": {
        "colab": {
          "base_uri": "https://localhost:8080/"
        },
        "id": "tj0c9-gt7kXo",
        "outputId": "d6f993fb-8e9f-4863-d61a-3e41052a30d6"
      },
      "source": [
        "result.skewness"
      ],
      "execution_count": 33,
      "outputs": [
        {
          "output_type": "execute_result",
          "data": {
            "text/plain": [
              "0.9249043136685094"
            ]
          },
          "metadata": {
            "tags": []
          },
          "execution_count": 33
        }
      ]
    },
    {
      "cell_type": "code",
      "metadata": {
        "colab": {
          "base_uri": "https://localhost:8080/"
        },
        "id": "nO3YU_jo7l3k",
        "outputId": "9f615a26-b682-43e7-fde6-0a4fe53ab0d6"
      },
      "source": [
        "result.kurtosis"
      ],
      "execution_count": 34,
      "outputs": [
        {
          "output_type": "execute_result",
          "data": {
            "text/plain": [
              "0.14770623629658886"
            ]
          },
          "metadata": {
            "tags": []
          },
          "execution_count": 34
        }
      ]
    },
    {
      "cell_type": "markdown",
      "metadata": {
        "id": "clACkZcG8SZV"
      },
      "source": [
        "With SciPy, you’re just one function call away from a descriptive statistics summary for your dataset.\n",
        "\n",
        "Pandas has similar, if not better, functionality. Series objects have the method .describe():"
      ]
    },
    {
      "cell_type": "code",
      "metadata": {
        "colab": {
          "base_uri": "https://localhost:8080/"
        },
        "id": "p930xkdV7pi1",
        "outputId": "08aa325a-1fa0-4836-ff81-566f33f4b3dd"
      },
      "source": [
        "result = z.describe()\n",
        "result"
      ],
      "execution_count": 35,
      "outputs": [
        {
          "output_type": "execute_result",
          "data": {
            "text/plain": [
              "count     9.000000\n",
              "mean     11.622222\n",
              "std      15.124548\n",
              "min      -5.000000\n",
              "25%       0.100000\n",
              "50%       8.000000\n",
              "75%      21.000000\n",
              "max      41.000000\n",
              "dtype: float64"
            ]
          },
          "metadata": {
            "tags": []
          },
          "execution_count": 35
        }
      ]
    },
    {
      "cell_type": "markdown",
      "metadata": {
        "id": "id3_O5wl8xmU"
      },
      "source": [
        "It returns a new Series that holds the following:\n",
        "\n",
        "* count: the number of elements in your dataset\n",
        "* mean: the mean of your dataset\n",
        "* std: the standard deviation of your dataset\n",
        "* min and max: the minimum and maximum values of your dataset\n",
        "* 25%, 50%, and 75%: the quartiles of your dataset\n",
        "\n",
        "If you want the resulting Series object to contain other percentiles, then you should specify the value of the optional parameter percentiles. You can access each item of result with its label:"
      ]
    },
    {
      "cell_type": "code",
      "metadata": {
        "colab": {
          "base_uri": "https://localhost:8080/"
        },
        "id": "SB_fhCWv8tAB",
        "outputId": "3f259bb1-f30a-4c4f-9dd5-76338d4a914e"
      },
      "source": [
        "result['mean']"
      ],
      "execution_count": 36,
      "outputs": [
        {
          "output_type": "execute_result",
          "data": {
            "text/plain": [
              "11.622222222222222"
            ]
          },
          "metadata": {
            "tags": []
          },
          "execution_count": 36
        }
      ]
    },
    {
      "cell_type": "code",
      "metadata": {
        "colab": {
          "base_uri": "https://localhost:8080/"
        },
        "id": "PPgqkje29Evv",
        "outputId": "4d6d35de-d393-4aa0-86cf-98c8a3b573a7"
      },
      "source": [
        "result['std']"
      ],
      "execution_count": 37,
      "outputs": [
        {
          "output_type": "execute_result",
          "data": {
            "text/plain": [
              "15.12454774346805"
            ]
          },
          "metadata": {
            "tags": []
          },
          "execution_count": 37
        }
      ]
    },
    {
      "cell_type": "code",
      "metadata": {
        "colab": {
          "base_uri": "https://localhost:8080/"
        },
        "id": "FfBv_-I39IoD",
        "outputId": "8d36b5f5-1ed9-4973-ad1f-cf3c8f20cffe"
      },
      "source": [
        "result['min']"
      ],
      "execution_count": 38,
      "outputs": [
        {
          "output_type": "execute_result",
          "data": {
            "text/plain": [
              "-5.0"
            ]
          },
          "metadata": {
            "tags": []
          },
          "execution_count": 38
        }
      ]
    },
    {
      "cell_type": "code",
      "metadata": {
        "colab": {
          "base_uri": "https://localhost:8080/"
        },
        "id": "M8RkItPW9KPj",
        "outputId": "4e78315e-696d-48a5-e591-c9786ee9fe57"
      },
      "source": [
        "result['max']"
      ],
      "execution_count": 39,
      "outputs": [
        {
          "output_type": "execute_result",
          "data": {
            "text/plain": [
              "41.0"
            ]
          },
          "metadata": {
            "tags": []
          },
          "execution_count": 39
        }
      ]
    },
    {
      "cell_type": "code",
      "metadata": {
        "colab": {
          "base_uri": "https://localhost:8080/"
        },
        "id": "Zv_Isu6U9MDN",
        "outputId": "624dee35-f321-43d3-b8f5-3a96aaa2b1f4"
      },
      "source": [
        "result['25%']"
      ],
      "execution_count": 40,
      "outputs": [
        {
          "output_type": "execute_result",
          "data": {
            "text/plain": [
              "0.1"
            ]
          },
          "metadata": {
            "tags": []
          },
          "execution_count": 40
        }
      ]
    },
    {
      "cell_type": "code",
      "metadata": {
        "colab": {
          "base_uri": "https://localhost:8080/"
        },
        "id": "9QcIJgv99NQn",
        "outputId": "70f036d0-c1dd-4f41-f26a-6ca49a3cb2bc"
      },
      "source": [
        "result['50%']"
      ],
      "execution_count": 41,
      "outputs": [
        {
          "output_type": "execute_result",
          "data": {
            "text/plain": [
              "8.0"
            ]
          },
          "metadata": {
            "tags": []
          },
          "execution_count": 41
        }
      ]
    },
    {
      "cell_type": "code",
      "metadata": {
        "colab": {
          "base_uri": "https://localhost:8080/"
        },
        "id": "9I4iNpBi9O6u",
        "outputId": "e08e1e80-831c-40b6-d6da-1f3c565e3e6a"
      },
      "source": [
        "result['75%']"
      ],
      "execution_count": 42,
      "outputs": [
        {
          "output_type": "execute_result",
          "data": {
            "text/plain": [
              "21.0"
            ]
          },
          "metadata": {
            "tags": []
          },
          "execution_count": 42
        }
      ]
    },
    {
      "cell_type": "markdown",
      "metadata": {
        "id": "a8L24DZg9hQ9"
      },
      "source": [
        "#Measures of Correlation Between Pairs of Data"
      ]
    },
    {
      "cell_type": "markdown",
      "metadata": {
        "id": "M2LZh75v9lFe"
      },
      "source": [
        "You’ll often need to examine the relationship between the corresponding elements of two variables in a dataset. Say there are two variables, 𝑥 and 𝑦, with an equal number of elements, 𝑛. Let 𝑥₁ from 𝑥 correspond to 𝑦₁ from 𝑦, 𝑥₂ from 𝑥 to 𝑦₂ from 𝑦, and so on. You can then say that there are 𝑛 pairs of corresponding elements: (𝑥₁, 𝑦₁), (𝑥₂, 𝑦₂), and so on.\n",
        "\n",
        "You’ll see the following **measures of correlation** between pairs of data:\n",
        "\n",
        "* **Positive correlation** exists when larger values of 𝑥 correspond to larger values of 𝑦 and vice versa.\n",
        "* **Negative correlation** exists when larger values of 𝑥 correspond to smaller values of 𝑦 and vice versa.\n",
        "* **Weak or no correlation** exists if there is no such apparent relationship.\n",
        "\n",
        "The following figure shows examples of negative, weak, and positive correlation:\n",
        "\n",
        "![py-stats-08.5a1e9f3e3aa4.png](data:image/png;base64,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)\n",
        "\n",
        "Python Statistics\n",
        "The plot on the left with the red dots shows negative correlation. The plot in the middle with the green dots shows weak correlation. Finally, the plot on the right with the blue dots shows positive correlation.\n",
        "\n",
        "*Note: There’s one important thing you should always have in mind when working with correlation among a pair of variables, and that’s that correlation is not a measure or indicator of causation, but only of association!*\n",
        "\n",
        "The two statistics that measure the correlation between datasets are covariance and the correlation coefficient. Let’s define some data to work with these measures. You’ll create two Python lists and use them to get corresponding NumPy arrays and Pandas Series:"
      ]
    },
    {
      "cell_type": "code",
      "metadata": {
        "id": "E0qv8h3S9kA7"
      },
      "source": [
        "##Create sample data\n",
        "x = list(range(-10, 11))\n",
        "y = [0, 2, 2, 2, 2, 3, 3, 6, 7, 4, 7, 6, 6, 9, 4, 5, 5, 10, 11, 12, 14]\n",
        "x_, y_ = np.array(x), np.array(y)\n",
        "x__, y__ = pd.Series(x_), pd.Series(y_)"
      ],
      "execution_count": 43,
      "outputs": []
    },
    {
      "cell_type": "markdown",
      "metadata": {
        "id": "OhhUyeUL-kxF"
      },
      "source": [
        "Covariance\n",
        "The sample covariance is a measure that quantifies the strength and direction of a relationship between a pair of variables:\n",
        "\n",
        "If the correlation is positive, then the covariance is positive, as well. A stronger relationship corresponds to a higher value of the covariance.\n",
        "If the correlation is negative, then the covariance is negative, as well. A stronger relationship corresponds to a lower (or higher absolute) value of the covariance.\n",
        "If the correlation is weak, then the covariance is close to zero.\n",
        "The covariance of the variables 𝑥 and 𝑦 is mathematically defined as 𝑠ˣʸ = Σᵢ (𝑥ᵢ − mean(𝑥)) (𝑦ᵢ − mean(𝑦)) / (𝑛 − 1), where 𝑖 = 1, 2, …, 𝑛, mean(𝑥) is the sample mean of 𝑥, and mean(𝑦) is the sample mean of 𝑦. It follows that the covariance of two identical variables is actually the variance: 𝑠ˣˣ = Σᵢ(𝑥ᵢ − mean(𝑥))² / (𝑛 − 1) = (𝑠ˣ)² and 𝑠ʸʸ = Σᵢ(𝑦ᵢ − mean(𝑦))² / (𝑛 − 1) = (𝑠ʸ)².\n",
        "\n",
        "This is how you can calculate the covariance in pure Python:\n",
        "\n",
        "(First, you have to find the mean of x and y. Then, you apply the mathematical formula for the covariance.)"
      ]
    },
    {
      "cell_type": "code",
      "metadata": {
        "colab": {
          "base_uri": "https://localhost:8080/"
        },
        "id": "z6JlvIQA-kTt",
        "outputId": "604113d3-33f7-4978-bbbc-73dd7ddfef48"
      },
      "source": [
        "n = len(x)\n",
        "mean_x, mean_y = sum(x) / n, sum(y) / n\n",
        "cov_xy = (sum((x[k] - mean_x) * (y[k] - mean_y) for k in range(n)) / (n - 1))\n",
        "cov_xy"
      ],
      "execution_count": 44,
      "outputs": [
        {
          "output_type": "execute_result",
          "data": {
            "text/plain": [
              "19.95"
            ]
          },
          "metadata": {
            "tags": []
          },
          "execution_count": 44
        }
      ]
    },
    {
      "cell_type": "markdown",
      "metadata": {
        "id": "Qw_pKkIQ_Akk"
      },
      "source": [
        "NumPy has the function cov() that returns the covariance matrix:"
      ]
    },
    {
      "cell_type": "code",
      "metadata": {
        "colab": {
          "base_uri": "https://localhost:8080/"
        },
        "id": "E36KQpY8_AKi",
        "outputId": "cbf0164d-172e-49cd-fedb-845ccd458669"
      },
      "source": [
        "cov_matrix = np.cov(x_, y_)\n",
        "cov_matrix"
      ],
      "execution_count": 45,
      "outputs": [
        {
          "output_type": "execute_result",
          "data": {
            "text/plain": [
              "array([[38.5       , 19.95      ],\n",
              "       [19.95      , 13.91428571]])"
            ]
          },
          "metadata": {
            "tags": []
          },
          "execution_count": 45
        }
      ]
    },
    {
      "cell_type": "markdown",
      "metadata": {
        "id": "Reqzl1SGCi33"
      },
      "source": [
        "Note that cov() has the optional parameters bias, which defaults to False, and ddof, which defaults to None. Their default values are suitable for getting the sample covariance matrix. The upper-left element of the covariance matrix is the covariance of x and x, or the variance of x. Similarly, the lower-right element is the covariance of y and y, or the variance of y. You can check to see that this is true:"
      ]
    },
    {
      "cell_type": "code",
      "metadata": {
        "colab": {
          "base_uri": "https://localhost:8080/"
        },
        "id": "KPd84FMF9S3c",
        "outputId": "3d47ab46-2841-43b4-f44d-6a836b329e5b"
      },
      "source": [
        "x_.var(ddof=1)"
      ],
      "execution_count": 46,
      "outputs": [
        {
          "output_type": "execute_result",
          "data": {
            "text/plain": [
              "38.5"
            ]
          },
          "metadata": {
            "tags": []
          },
          "execution_count": 46
        }
      ]
    },
    {
      "cell_type": "code",
      "metadata": {
        "colab": {
          "base_uri": "https://localhost:8080/"
        },
        "id": "DLVzx0adCg8L",
        "outputId": "b55cf695-9b8f-4343-8106-7c95f4d4c156"
      },
      "source": [
        "y_.var(ddof=1)"
      ],
      "execution_count": 47,
      "outputs": [
        {
          "output_type": "execute_result",
          "data": {
            "text/plain": [
              "13.914285714285711"
            ]
          },
          "metadata": {
            "tags": []
          },
          "execution_count": 47
        }
      ]
    },
    {
      "cell_type": "markdown",
      "metadata": {
        "id": "wmXSVfGNCpeF"
      },
      "source": [
        "As you can see, the variances of x and y are equal to cov_matrix[0, 0] and cov_matrix[1, 1], respectively.\n",
        "\n",
        "The other two elements of the covariance matrix are equal and represent the actual covariance between x and y:\n"
      ]
    },
    {
      "cell_type": "markdown",
      "metadata": {
        "id": "rCYRp1AVC7x9"
      },
      "source": [
        "#Correlation Coefficient"
      ]
    },
    {
      "cell_type": "markdown",
      "metadata": {
        "id": "g79IS5sVC7kL"
      },
      "source": [
        "The correlation coefficient, or Pearson product-moment correlation coefficient, is denoted by the symbol 𝑟. The coefficient is another measure of the correlation between data. You can think of it as a standardized covariance. Here are some important facts about it:\n",
        "\n",
        "* **The value 𝑟 > 0** indicates positive correlation.\n",
        "* **The value 𝑟 < 0** indicates negative correlation.\n",
        "* **The value r = 1** is the maximum possible value of 𝑟. It corresponds to a perfect positive linear relationship between variables.\n",
        "* **The value r = −1** is the minimum possible value of 𝑟. It corresponds to a perfect negative linear relationship between variables.\n",
        "* **The value r ≈ 0**, or when 𝑟 is around zero, means that the correlation between variables is weak.\n",
        "\n",
        "The mathematical formula for the correlation coefficient is 𝑟 = 𝑠ˣʸ / (𝑠ˣ𝑠ʸ) where 𝑠ˣ and 𝑠ʸ are the standard deviations of 𝑥 and 𝑦 respectively. If you have the means (mean_x and mean_y) and standard deviations (std_x, std_y) for the datasets x and y, as well as their covariance cov_xy, then you can calculate the correlation coefficient with pure Python:"
      ]
    },
    {
      "cell_type": "code",
      "metadata": {
        "colab": {
          "base_uri": "https://localhost:8080/"
        },
        "id": "7XGBoOPgConV",
        "outputId": "41983acb-8e2b-400a-9707-3ad584a55233"
      },
      "source": [
        "var_x = sum((item - mean_x)**2 for item in x) / (n - 1)\n",
        "var_y = sum((item - mean_y)**2 for item in y) / (n - 1)\n",
        "std_x, std_y = var_x ** 0.5, var_y ** 0.5\n",
        "r = cov_xy / (std_x * std_y)\n",
        "r"
      ],
      "execution_count": 48,
      "outputs": [
        {
          "output_type": "execute_result",
          "data": {
            "text/plain": [
              "0.861950005631606"
            ]
          },
          "metadata": {
            "tags": []
          },
          "execution_count": 48
        }
      ]
    },
    {
      "cell_type": "markdown",
      "metadata": {
        "id": "Pi1kmBtDDtp8"
      },
      "source": [
        "You’ve got the variable r that represents the correlation coefficient.\n",
        "\n",
        "scipy.stats has the routine pearsonr() that calculates the correlation coefficient and the 𝑝-value:"
      ]
    },
    {
      "cell_type": "code",
      "metadata": {
        "id": "-ttHcCvXDtEc"
      },
      "source": [
        "You’ve got the variable r that represents the correlation coefficient.\n",
        "\n",
        "scipy.stats has the routine pearsonr() that calculates the correlation coefficient and the 𝑝-value:"
      ],
      "execution_count": null,
      "outputs": []
    },
    {
      "cell_type": "code",
      "metadata": {
        "colab": {
          "base_uri": "https://localhost:8080/"
        },
        "id": "ra-t9iV1CiGY",
        "outputId": "a8b0bdc0-e909-4adb-feab-4568259cd3b6"
      },
      "source": [
        "r, p = scipy.stats.pearsonr(x_, y_)\n",
        "print(r,p)"
      ],
      "execution_count": 49,
      "outputs": [
        {
          "output_type": "stream",
          "text": [
            "0.8619500056316061 5.122760847201135e-07\n"
          ],
          "name": "stdout"
        }
      ]
    },
    {
      "cell_type": "markdown",
      "metadata": {
        "id": "HiN1bvfqD5vW"
      },
      "source": [
        "\n",
        "pearsonr() returns a tuple with two numbers. The first one is 𝑟 and the second is the 𝑝-value.\n",
        "\n",
        "Similar to the case of the covariance matrix, you can apply np.corrcoef() with x_ and y_ as the arguments and get the correlation coefficient matrix:"
      ]
    },
    {
      "cell_type": "code",
      "metadata": {
        "colab": {
          "base_uri": "https://localhost:8080/"
        },
        "id": "2__sj_YXD5Nw",
        "outputId": "2d654588-bf7c-4df0-9eeb-8b53e8c12643"
      },
      "source": [
        "corr_matrix = np.corrcoef(x_, y_)\n",
        "corr_matrix"
      ],
      "execution_count": 50,
      "outputs": [
        {
          "output_type": "execute_result",
          "data": {
            "text/plain": [
              "array([[1.        , 0.86195001],\n",
              "       [0.86195001, 1.        ]])"
            ]
          },
          "metadata": {
            "tags": []
          },
          "execution_count": 50
        }
      ]
    },
    {
      "cell_type": "markdown",
      "metadata": {
        "id": "IvsWTq3MFqcj"
      },
      "source": [
        "The upper-left element is the correlation coefficient between x_ and x_. The lower-right element is the correlation coefficient between y_ and y_. Their values are equal to 1.0. The other two elements are equal and represent the actual correlation coefficient between x_ and y_:\n",
        "\n",
        "Of course, the result is the same as with pure Python and pearsonr().\n",
        "\n",
        "You can get the correlation coefficient with scipy.stats.linregress():"
      ]
    },
    {
      "cell_type": "code",
      "metadata": {
        "colab": {
          "base_uri": "https://localhost:8080/"
        },
        "id": "GpsbIBjJFptH",
        "outputId": "d73266b0-ee09-4325-c2e8-5b41cdacc44b"
      },
      "source": [
        "scipy.stats.linregress(x_, y_)"
      ],
      "execution_count": 51,
      "outputs": [
        {
          "output_type": "execute_result",
          "data": {
            "text/plain": [
              "LinregressResult(slope=0.5181818181818181, intercept=5.714285714285714, rvalue=0.861950005631606, pvalue=5.122760847201164e-07, stderr=0.06992387660074979)"
            ]
          },
          "metadata": {
            "tags": []
          },
          "execution_count": 51
        }
      ]
    },
    {
      "cell_type": "code",
      "metadata": {
        "id": "Jv98C8vbD1YW"
      },
      "source": [
        ""
      ],
      "execution_count": null,
      "outputs": []
    }
  ]
}