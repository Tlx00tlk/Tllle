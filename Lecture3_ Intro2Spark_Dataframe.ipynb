{
 "cells": [
  {
   "cell_type": "markdown",
   "metadata": {
    "application/vnd.databricks.v1+cell": {
     "cellMetadata": {},
     "inputWidgets": {},
     "nuid": "2c9744b5-3f46-4eae-aa96-c9a761630e7b",
     "showTitle": false,
     "title": ""
    }
   },
   "source": [
    "# Install Spark + import lib + start spark session"
   ]
  },
  {
   "cell_type": "code",
   "execution_count": 0,
   "metadata": {
    "application/vnd.databricks.v1+cell": {
     "cellMetadata": {
      "byteLimit": 2048000,
      "rowLimit": 10000
     },
     "inputWidgets": {},
     "nuid": "61af8be2-82ca-4a5a-b355-87a70ad0d121",
     "showTitle": false,
     "title": ""
    },
    "id": "bKiT8ZFQ9Sqs"
   },
   "outputs": [],
   "source": [
    "from pyspark.sql.functions import *"
   ]
  },
  {
   "cell_type": "markdown",
   "metadata": {
    "application/vnd.databricks.v1+cell": {
     "cellMetadata": {},
     "inputWidgets": {},
     "nuid": "ef354bb6-ff60-47ed-9725-a7feb6064b89",
     "showTitle": false,
     "title": ""
    },
    "id": "iCw_wOW_1843"
   },
   "source": [
    "# Getting data from Kaggle"
   ]
  },
  {
   "cell_type": "markdown",
   "metadata": {
    "application/vnd.databricks.v1+cell": {
     "cellMetadata": {},
     "inputWidgets": {},
     "nuid": "56c277b5-d090-4cb3-879c-5f2ae8396a6d",
     "showTitle": false,
     "title": ""
    },
    "id": "MrIZV6G52HWp"
   },
   "source": [
    "You may download data from Kaggle mannually or using auto pipeline like this one."
   ]
  },
  {
   "cell_type": "code",
   "execution_count": 0,
   "metadata": {
    "application/vnd.databricks.v1+cell": {
     "cellMetadata": {
      "byteLimit": 2048000,
      "rowLimit": 10000
     },
     "inputWidgets": {},
     "nuid": "1f6d0860-edfb-454e-943d-b90f13704c12",
     "showTitle": false,
     "title": ""
    }
   },
   "outputs": [
    {
     "output_type": "stream",
     "name": "stdout",
     "output_type": "stream",
     "text": [
      "\u001B[43mNote: you may need to restart the kernel using dbutils.library.restartPython() to use updated packages.\u001B[0m\nCollecting opendatasets\n  Downloading opendatasets-0.1.22-py3-none-any.whl (15 kB)\nCollecting kaggle\n  Downloading kaggle-1.5.16.tar.gz (83 kB)\n     ━━━━━━━━━━━━━━━━━━━━━━━━━━━━━━━━━━━━━━━━ 83.6/83.6 kB 2.4 MB/s eta 0:00:00\n  Preparing metadata (setup.py): started\n  Preparing metadata (setup.py): finished with status 'done'\nCollecting tqdm\n  Downloading tqdm-4.66.1-py3-none-any.whl (78 kB)\n     ━━━━━━━━━━━━━━━━━━━━━━━━━━━━━━━━━━━━━━━━ 78.3/78.3 kB 4.2 MB/s eta 0:00:00\nRequirement already satisfied: click in /databricks/python3/lib/python3.10/site-packages (from opendatasets) (8.0.4)\nRequirement already satisfied: six>=1.10 in /usr/lib/python3/dist-packages (from kaggle->opendatasets) (1.16.0)\nRequirement already satisfied: certifi in /databricks/python3/lib/python3.10/site-packages (from kaggle->opendatasets) (2022.9.14)\nRequirement already satisfied: python-dateutil in /databricks/python3/lib/python3.10/site-packages (from kaggle->opendatasets) (2.8.2)\nRequirement already satisfied: requests in /databricks/python3/lib/python3.10/site-packages (from kaggle->opendatasets) (2.28.1)\nCollecting python-slugify\n  Downloading python_slugify-8.0.1-py2.py3-none-any.whl (9.7 kB)\nRequirement already satisfied: urllib3 in /databricks/python3/lib/python3.10/site-packages (from kaggle->opendatasets) (1.26.11)\nRequirement already satisfied: bleach in /databricks/python3/lib/python3.10/site-packages (from kaggle->opendatasets) (4.1.0)\nRequirement already satisfied: webencodings in /databricks/python3/lib/python3.10/site-packages (from bleach->kaggle->opendatasets) (0.5.1)\nRequirement already satisfied: packaging in /databricks/python3/lib/python3.10/site-packages (from bleach->kaggle->opendatasets) (21.3)\nCollecting text-unidecode>=1.3\n  Downloading text_unidecode-1.3-py2.py3-none-any.whl (78 kB)\n     ━━━━━━━━━━━━━━━━━━━━━━━━━━━━━━━━━━━━━━━━ 78.2/78.2 kB 6.5 MB/s eta 0:00:00\nRequirement already satisfied: idna<4,>=2.5 in /databricks/python3/lib/python3.10/site-packages (from requests->kaggle->opendatasets) (3.3)\nRequirement already satisfied: charset-normalizer<3,>=2 in /databricks/python3/lib/python3.10/site-packages (from requests->kaggle->opendatasets) (2.0.4)\nRequirement already satisfied: pyparsing!=3.0.5,>=2.0.2 in /databricks/python3/lib/python3.10/site-packages (from packaging->bleach->kaggle->opendatasets) (3.0.9)\nBuilding wheels for collected packages: kaggle\n  Building wheel for kaggle (setup.py): started\n  Building wheel for kaggle (setup.py): finished with status 'done'\n  Created wheel for kaggle: filename=kaggle-1.5.16-py3-none-any.whl size=110686 sha256=259902e0d0f69ed3b77a87467c54e0b9c58c420cf5ab631f57e722d70534fbde\n  Stored in directory: /root/.cache/pip/wheels/43/4b/fb/736478af5e8004810081a06259f9aa2f7c3329fc5d03c2c412\nSuccessfully built kaggle\nInstalling collected packages: text-unidecode, tqdm, python-slugify, kaggle, opendatasets\nSuccessfully installed kaggle-1.5.16 opendatasets-0.1.22 python-slugify-8.0.1 text-unidecode-1.3 tqdm-4.66.1\n\u001B[43mNote: you may need to restart the kernel using dbutils.library.restartPython() to use updated packages.\u001B[0m\n"
     ]
    }
   ],
   "source": [
    "%pip install opendatasets --upgrade"
   ]
  },
  {
   "cell_type": "code",
   "execution_count": 0,
   "metadata": {
    "application/vnd.databricks.v1+cell": {
     "cellMetadata": {
      "byteLimit": 2048000,
      "rowLimit": 10000
     },
     "inputWidgets": {},
     "nuid": "e8507155-22fb-4b52-9f85-4e10247f98fc",
     "showTitle": false,
     "title": ""
    }
   },
   "outputs": [
    {
     "output_type": "stream",
     "name": "stdout",
     "output_type": "stream",
     "text": [
      "Please provide your Kaggle credentials to download this dataset. Learn more: http://bit.ly/kaggle-creds\nYour Kaggle username:"
     ]
    },
    {
     "output_type": "display_data",
     "data": {
      "text/plain": [
       "  pasdputthapipat"
      ]
     },
     "metadata": {},
     "output_type": "display_data"
    },
    {
     "output_type": "stream",
     "name": "stdout",
     "output_type": "stream",
     "text": [
      "Your Kaggle Key:"
     ]
    },
    {
     "output_type": "display_data",
     "data": {
      "text/plain": [
       "  [REDACTED]"
      ]
     },
     "metadata": {},
     "output_type": "display_data"
    },
    {
     "output_type": "stream",
     "name": "stdout",
     "output_type": "stream",
     "text": [
      "Downloading superhero-set.zip to /dbfs/FileStore/mypath/superhero-set\n"
     ]
    },
    {
     "output_type": "stream",
     "name": "stderr",
     "output_type": "stream",
     "text": [
      "\r  0%|          | 0.00/31.7k [00:00<?, ?B/s]\r100%|██████████| 31.7k/31.7k [00:00<00:00, 22.9MB/s]"
     ]
    },
    {
     "output_type": "stream",
     "name": "stdout",
     "output_type": "stream",
     "text": [
      "\n"
     ]
    },
    {
     "output_type": "stream",
     "name": "stderr",
     "output_type": "stream",
     "text": [
      "\n"
     ]
    }
   ],
   "source": [
    "import opendatasets as od\n",
    "\n",
    "od.download(\"https://www.kaggle.com/datasets/claudiodavi/superhero-set/data\",\"/dbfs/FileStore/mypath/\")"
   ]
  },
  {
   "cell_type": "code",
   "execution_count": 0,
   "metadata": {
    "application/vnd.databricks.v1+cell": {
     "cellMetadata": {
      "byteLimit": 2048000,
      "rowLimit": 10000
     },
     "inputWidgets": {},
     "nuid": "5b7b8691-3890-4fa6-8f45-92eddeab0a62",
     "showTitle": false,
     "title": ""
    }
   },
   "outputs": [
    {
     "output_type": "stream",
     "name": "stdout",
     "output_type": "stream",
     "text": [
      "heroes_information.csv\nsuper_hero_powers.csv\n"
     ]
    }
   ],
   "source": [
    "%sh ls /dbfs/FileStore/mypath/superhero-set"
   ]
  },
  {
   "cell_type": "code",
   "execution_count": 0,
   "metadata": {
    "application/vnd.databricks.v1+cell": {
     "cellMetadata": {
      "byteLimit": 2048000,
      "rowLimit": 10000
     },
     "inputWidgets": {},
     "nuid": "95c5efe0-f9fc-4acd-bef0-a40615aa381d",
     "showTitle": false,
     "title": ""
    },
    "colab": {
     "base_uri": "https://localhost:8080/",
     "height": 156
    },
    "id": "KClq7t6OhgDL",
    "outputId": "43516475-92b7-4dd4-c8c0-1e144ce0171f"
   },
   "outputs": [
    {
     "output_type": "stream",
     "name": "stderr",
     "output_type": "stream",
     "text": [
      "unzip:  cannot find or open /dbfs/FileStore/mypath/superhero-set.zip, /dbfs/FileStore/mypath/superhero-set.zip.zip or /dbfs/FileStore/mypath/superhero-set.zip.ZIP.\n"
     ]
    }
   ],
   "source": [
    "%sh unzip /dbfs/FileStore/mypath/superhero-set.zip"
   ]
  },
  {
   "cell_type": "code",
   "execution_count": 0,
   "metadata": {
    "application/vnd.databricks.v1+cell": {
     "cellMetadata": {
      "byteLimit": 2048000,
      "rowLimit": 10000
     },
     "inputWidgets": {},
     "nuid": "2bed9378-154b-44ae-8940-abd351c9a277",
     "showTitle": false,
     "title": ""
    },
    "colab": {
     "base_uri": "https://localhost:8080/"
    },
    "id": "RxKcQZcoh9i2",
    "outputId": "4e505c93-7b19-42c6-f0ed-ba31fa760651"
   },
   "outputs": [
    {
     "output_type": "stream",
     "name": "stdout",
     "output_type": "stream",
     "text": [
      "+---+-----------------+------+---------+-----------------+----------+------+-----------------+----------+---------+------+\n|_c0|             name|Gender|Eye color|             Race|Hair color|Height|        Publisher|Skin color|Alignment|Weight|\n+---+-----------------+------+---------+-----------------+----------+------+-----------------+----------+---------+------+\n|  0|           A-Bomb|  Male|   yellow|            Human|   No Hair| 203.0|    Marvel Comics|         -|     good| 441.0|\n|  1|       Abe Sapien|  Male|     blue|    Icthyo Sapien|   No Hair| 191.0|Dark Horse Comics|      blue|     good|  65.0|\n|  2|         Abin Sur|  Male|     blue|          Ungaran|   No Hair| 185.0|        DC Comics|       red|     good|  90.0|\n|  3|      Abomination|  Male|    green|Human / Radiation|   No Hair| 203.0|    Marvel Comics|         -|      bad| 441.0|\n|  4|          Abraxas|  Male|     blue|    Cosmic Entity|     Black| -99.0|    Marvel Comics|         -|      bad| -99.0|\n|  5|    Absorbing Man|  Male|     blue|            Human|   No Hair| 193.0|    Marvel Comics|         -|      bad| 122.0|\n|  6|      Adam Monroe|  Male|     blue|                -|     Blond| -99.0|     NBC - Heroes|         -|     good| -99.0|\n|  7|     Adam Strange|  Male|     blue|            Human|     Blond| 185.0|        DC Comics|         -|     good|  88.0|\n|  8|         Agent 13|Female|     blue|                -|     Blond| 173.0|    Marvel Comics|         -|     good|  61.0|\n|  9|        Agent Bob|  Male|    brown|            Human|     Brown| 178.0|    Marvel Comics|         -|     good|  81.0|\n| 10|       Agent Zero|  Male|        -|                -|         -| 191.0|    Marvel Comics|         -|     good| 104.0|\n| 11|       Air-Walker|  Male|     blue|                -|     White| 188.0|    Marvel Comics|         -|      bad| 108.0|\n| 12|             Ajax|  Male|    brown|           Cyborg|     Black| 193.0|    Marvel Comics|         -|      bad|  90.0|\n| 13|       Alan Scott|  Male|     blue|                -|     Blond| 180.0|        DC Comics|         -|     good|  90.0|\n| 14|      Alex Mercer|  Male|        -|            Human|         -| -99.0|        Wildstorm|         -|      bad| -99.0|\n| 15|     Alex Woolsly|  Male|        -|                -|         -| -99.0|     NBC - Heroes|         -|     good| -99.0|\n| 16|Alfred Pennyworth|  Male|     blue|            Human|     Black| 178.0|        DC Comics|         -|     good|  72.0|\n| 17|            Alien|  Male|        -|  Xenomorph XX121|   No Hair| 244.0|Dark Horse Comics|     black|      bad| 169.0|\n| 18| Allan Quatermain|  Male|        -|                -|         -| -99.0|        Wildstorm|         -|     good| -99.0|\n| 19|            Amazo|  Male|      red|          Android|         -| 257.0|        DC Comics|         -|      bad| 173.0|\n+---+-----------------+------+---------+-----------------+----------+------+-----------------+----------+---------+------+\nonly showing top 20 rows\n\n"
     ]
    }
   ],
   "source": [
    "#important \"file:/\"\n",
    "\n",
    "file_path = \"file:/dbfs/FileStore/mypath/superhero-set/heroes_information.csv\"\n",
    "\n",
    "df_hero_indi = spark.read.options(header=\"true\",inferschema = \"true\").csv(file_path)\n",
    "\n",
    "df_hero_indi.show()"
   ]
  },
  {
   "cell_type": "code",
   "execution_count": 0,
   "metadata": {
    "application/vnd.databricks.v1+cell": {
     "cellMetadata": {
      "byteLimit": 2048000,
      "rowLimit": 10000
     },
     "inputWidgets": {},
     "nuid": "01c6e381-bd5b-436c-b78f-043c07ddb0a7",
     "showTitle": false,
     "title": ""
    },
    "colab": {
     "base_uri": "https://localhost:8080/"
    },
    "id": "cplaIPgVi5Bo",
    "outputId": "9a8f5ba0-8808-46c1-ef52-c6da9820d918"
   },
   "outputs": [
    {
     "output_type": "stream",
     "name": "stdout",
     "output_type": "stream",
     "text": [
      "+----------------+-------+-------------------+------------------+---------------------+---------------+----------+-------+-----------------+------+------------+--------------------+------------+--------------+------------------+-----------------+---------+------------+--------------+-----------+---------+------------+-------------+-----------+-------------+---------------+-------+-------------+-------------+---------+--------+-----------+----------+----------------------+-------------------+--------------+----------------------+-----------+-------------+---------------+-----------+------------+-----+------------+-----+------------+------------------+-----------+-------------+--------------------+-----------+----------+---------------+-------+-----------------+--------------------+------------+----------+---------+---------------+--------+---------------+-----------------+------------+---------------+------------+-------+---------------+-----------------+--------------+----------+-------------------+----------------------------+--------------------+---------------------+-------------+---------+------------+------------+---------------+----------------+----------------+----------+--------+------------+--------------+-------------+-------------+--------------+----------------------+---------------+----------+-------+----------+----------+------------------------+---------------+------------+-------------+------------+----------+-------------------------+------+-------------------+---------------+---------------+-----------+--------------+---------+--------------+-----------------+------------+----------+--------+--------------+------------+----------+-------------+------------------+-------------------+----------------------------+-----------------+-----------------+--------------------+--------------------+--------------+---------------+---------+-----------------------+-------------+-----+------------+-----------------+--------------+----------------+------------+-----------+--------------------+------------------+--------------------+-------+------------+------------+------------+--------------+-----------------+------------+-----------------+---------+------------+------------+-------------+-----------+-----------+-------------------+---------------+--------------+----------------+------------+---------------+----------+----------------+-----------+-------------+---------------------+-------------+-----------+----------+\n|      hero_names|Agility|Accelerated Healing|Lantern Power Ring|Dimensional Awareness|Cold Resistance|Durability|Stealth|Energy Absorption|Flight|Danger Sense|Underwater breathing|Marksmanship|Weapons Master|Power Augmentation|Animal Attributes|Longevity|Intelligence|Super Strength|Cryokinesis|Telepathy|Energy Armor|Energy Blasts|Duplication|Size Changing|Density Control|Stamina|Astral Travel|Audio Control|Dexterity|Omnitrix|Super Speed|Possession|Animal Oriented Powers|Weapon-based Powers|Electrokinesis|Darkforce Manipulation|Death Touch|Teleportation|Enhanced Senses|Telekinesis|Energy Beams|Magic|Hyperkinesis| Jump|Clairvoyance|Dimensional Travel|Power Sense|Shapeshifting|Peak Human Condition|Immortality|Camouflage|Element Control|Phasing|Astral Projection|Electrical Transport|Fire Control|Projection|Summoning|Enhanced Memory|Reflexes|Invulnerability|Energy Constructs|Force Fields|Self-Sustenance|Anti-Gravity|Empathy|Power Nullifier|Radiation Control|Psionic Powers|Elasticity|Substance Secretion|Elemental Transmogrification|Technopath/Cyberpath|Photographic Reflexes|Seismic Power|Animation|Precognition|Mind Control|Fire Resistance|Power Absorption|Enhanced Hearing|Nova Force|Insanity|Hypnokinesis|Animal Control|Natural Armor|Intangibility|Enhanced Sight|Molecular Manipulation|Heat Generation|Adaptation|Gliding|Power Suit|Mind Blast|Probability Manipulation|Gravity Control|Regeneration|Light Control|Echolocation|Levitation|Toxin and Disease Control|Banish|Energy Manipulation|Heat Resistance|Natural Weapons|Time Travel|Enhanced Smell|Illusions|Thirstokinesis|Hair Manipulation|Illumination|Omnipotent|Cloaking|Changing Armor|Power Cosmic|Biokinesis|Water Control|Radiation Immunity|Vision - Telescopic|Toxin and Disease Resistance|Spatial Awareness|Energy Resistance|Telepathy Resistance|Molecular Combustion|Omnilingualism|Portal Creation|Magnetism|Mind Control Resistance|Plant Control|Sonar|Sonic Scream|Time Manipulation|Enhanced Touch|Magic Resistance|Invisibility|Sub-Mariner|Radiation Absorption|Intuitive aptitude|Vision - Microscopic|Melting|Wind Control|Super Breath|Wallcrawling|Vision - Night|Vision - Infrared|Grim Reaping|Matter Absorption|The Force|Resurrection|Terrakinesis|Vision - Heat|Vitakinesis|Radar Sense|Qwardian Power Ring|Weather Control|Vision - X-Ray|Vision - Thermal|Web Creation|Reality Warping|Odin Force|Symbiote Costume|Speed Force|Phoenix Force|Molecular Dissipation|Vision - Cryo|Omnipresent|Omniscient|\n+----------------+-------+-------------------+------------------+---------------------+---------------+----------+-------+-----------------+------+------------+--------------------+------------+--------------+------------------+-----------------+---------+------------+--------------+-----------+---------+------------+-------------+-----------+-------------+---------------+-------+-------------+-------------+---------+--------+-----------+----------+----------------------+-------------------+--------------+----------------------+-----------+-------------+---------------+-----------+------------+-----+------------+-----+------------+------------------+-----------+-------------+--------------------+-----------+----------+---------------+-------+-----------------+--------------------+------------+----------+---------+---------------+--------+---------------+-----------------+------------+---------------+------------+-------+---------------+-----------------+--------------+----------+-------------------+----------------------------+--------------------+---------------------+-------------+---------+------------+------------+---------------+----------------+----------------+----------+--------+------------+--------------+-------------+-------------+--------------+----------------------+---------------+----------+-------+----------+----------+------------------------+---------------+------------+-------------+------------+----------+-------------------------+------+-------------------+---------------+---------------+-----------+--------------+---------+--------------+-----------------+------------+----------+--------+--------------+------------+----------+-------------+------------------+-------------------+----------------------------+-----------------+-----------------+--------------------+--------------------+--------------+---------------+---------+-----------------------+-------------+-----+------------+-----------------+--------------+----------------+------------+-----------+--------------------+------------------+--------------------+-------+------------+------------+------------+--------------+-----------------+------------+-----------------+---------+------------+------------+-------------+-----------+-----------+-------------------+---------------+--------------+----------------+------------+---------------+----------+----------------+-----------+-------------+---------------------+-------------+-----------+----------+\n|         3-D Man|   true|              false|             false|                false|          false|     false|  false|            false| false|       false|               false|       false|         false|             false|            false|    false|       false|          true|      false|    false|       false|        false|      false|        false|          false|   true|        false|        false|    false|   false|       true|     false|                 false|              false|         false|                 false|      false|        false|          false|      false|       false|false|       false|false|       false|             false|      false|        false|               false|      false|     false|          false|  false|            false|               false|       false|     false|    false|          false|   false|          false|            false|       false|          false|       false|  false|          false|            false|         false|     false|              false|                       false|               false|                false|        false|    false|       false|       false|          false|           false|           false|     false|   false|       false|         false|        false|        false|         false|                 false|          false|     false|  false|     false|     false|                   false|          false|       false|        false|       false|     false|                    false| false|              false|          false|          false|      false|         false|    false|         false|            false|       false|     false|   false|         false|       false|     false|        false|             false|              false|                       false|            false|            false|               false|               false|         false|          false|    false|                  false|        false|false|       false|            false|         false|           false|       false|      false|               false|             false|               false|  false|       false|       false|       false|         false|            false|       false|            false|    false|       false|       false|        false|      false|      false|              false|          false|         false|           false|       false|          false|     false|           false|      false|        false|                false|        false|      false|     false|\n|          A-Bomb|  false|               true|             false|                false|          false|      true|  false|            false| false|       false|               false|       false|         false|             false|            false|     true|       false|          true|      false|    false|       false|        false|      false|        false|          false|   true|        false|        false|    false|   false|      false|     false|                 false|              false|         false|                 false|      false|        false|          false|      false|       false|false|       false|false|       false|             false|      false|        false|               false|      false|      true|          false|  false|            false|               false|       false|     false|    false|          false|   false|          false|            false|       false|           true|       false|  false|          false|            false|         false|     false|              false|                       false|               false|                false|        false|    false|       false|       false|          false|           false|           false|     false|   false|       false|         false|        false|        false|         false|                 false|          false|     false|  false|     false|     false|                   false|          false|       false|        false|       false|     false|                    false| false|              false|          false|          false|      false|         false|    false|         false|            false|       false|     false|   false|         false|       false|     false|        false|             false|              false|                       false|            false|            false|               false|               false|         false|          false|    false|                  false|        false|false|       false|            false|         false|           false|       false|      false|               false|             false|               false|  false|       false|       false|       false|         false|            false|       false|            false|    false|       false|       false|        false|      false|      false|              false|          false|         false|           false|       false|          false|     false|           false|      false|        false|                false|        false|      false|     false|\n|      Abe Sapien|   true|               true|             false|                false|           true|      true|  false|            false| false|       false|                true|        true|          true|             false|            false|     true|        true|          true|      false|     true|       false|        false|      false|        false|          false|   true|        false|        false|    false|   false|      false|     false|                 false|              false|         false|                 false|      false|        false|          false|      false|       false|false|       false|false|       false|             false|      false|        false|               false|       true|     false|          false|  false|            false|               false|       false|     false|    false|          false|    true|          false|            false|       false|          false|       false|  false|          false|            false|         false|     false|              false|                       false|               false|                false|        false|    false|       false|       false|          false|           false|           false|     false|   false|       false|         false|        false|        false|          true|                 false|          false|     false|  false|     false|     false|                   false|          false|       false|        false|       false|     false|                    false| false|              false|          false|          false|      false|         false|    false|         false|            false|       false|     false|   false|         false|       false|     false|        false|             false|              false|                       false|            false|            false|               false|               false|         false|          false|    false|                  false|        false|false|       false|            false|         false|           false|       false|       true|               false|             false|               false|  false|       false|       false|       false|         false|            false|       false|            false|    false|       false|       false|        false|      false|      false|              false|          false|         false|           false|       false|          false|     false|           false|      false|        false|                false|        false|      false|     false|\n|        Abin Sur|  false|              false|              true|                false|          false|     false|  false|            false| false|       false|               false|       false|         false|             false|            false|    false|       false|         false|      false|    false|       false|        false|      false|        false|          false|  false|        false|        false|    false|   false|      false|     false|                 false|              false|         false|                 false|      false|        false|          false|      false|       false|false|       false|false|       false|             false|      false|        false|               false|      false|     false|          false|  false|            false|               false|       false|     false|    false|          false|   false|          false|            false|       false|          false|       false|  false|          false|            false|         false|     false|              false|                       false|               false|                false|        false|    false|       false|       false|          false|           false|           false|     false|   false|       false|         false|        false|        false|         false|                 false|          false|     false|  false|     false|     false|                   false|          false|       false|        false|       false|     false|                    false| false|              false|          false|          false|      false|         false|    false|         false|            false|       false|     false|   false|         false|       false|     false|        false|             false|              false|                       false|            false|            false|               false|               false|         false|          false|    false|                  false|        false|false|       false|            false|         false|           false|       false|      false|               false|             false|               false|  false|       false|       false|       false|         false|            false|       false|            false|    false|       false|       false|        false|      false|      false|              false|          false|         false|           false|       false|          false|     false|           false|      false|        false|                false|        false|      false|     false|\n|     Abomination|  false|               true|             false|                false|          false|     false|  false|            false| false|       false|               false|       false|         false|             false|            false|    false|        true|          true|      false|    false|       false|        false|      false|        false|          false|   true|        false|        false|    false|   false|       true|     false|                 false|              false|         false|                 false|      false|        false|          false|      false|       false|false|       false|false|       false|             false|      false|        false|               false|      false|     false|          false|  false|            false|               false|       false|     false|    false|          false|   false|           true|            false|       false|          false|       false|  false|          false|            false|         false|     false|              false|                       false|               false|                false|        false|     true|       false|       false|          false|           false|           false|     false|   false|       false|         false|        false|        false|         false|                 false|          false|     false|  false|     false|     false|                   false|          false|       false|        false|       false|     false|                    false| false|              false|          false|          false|      false|         false|    false|         false|            false|       false|     false|   false|         false|       false|     false|        false|             false|              false|                       false|            false|            false|               false|               false|         false|          false|    false|                  false|        false|false|       false|            false|         false|           false|       false|      false|               false|             false|               false|  false|       false|        true|       false|         false|            false|       false|            false|    false|       false|       false|        false|      false|      false|              false|          false|         false|           false|       false|          false|     false|           false|      false|        false|                false|        false|      false|     false|\n|         Abraxas|  false|              false|             false|                 true|          false|     false|  false|            false|  true|       false|               false|       false|         false|             false|            false|    false|        true|          true|      false|    false|       false|        false|      false|         true|          false|  false|        false|        false|    false|   false|       true|     false|                 false|              false|         false|                 false|      false|         true|          false|      false|       false| true|       false|false|       false|              true|      false|        false|               false|       true|     false|          false|  false|            false|               false|       false|     false|    false|          false|   false|           true|            false|       false|          false|       false|  false|          false|            false|         false|     false|              false|                       false|               false|                false|        false|    false|       false|       false|          false|           false|           false|     false|   false|       false|         false|        false|        false|         false|                  true|          false|     false|  false|     false|     false|                   false|          false|       false|        false|       false|     false|                    false| false|               true|          false|          false|      false|         false|    false|         false|            false|       false|     false|   false|         false|        true|     false|        false|             false|              false|                       false|            false|            false|               false|               false|         false|          false|    false|                  false|        false|false|       false|            false|         false|           false|       false|      false|               false|             false|               false|  false|       false|       false|       false|         false|            false|       false|            false|    false|       false|       false|        false|      false|      false|              false|          false|         false|           false|       false|          false|     false|           false|      false|        false|                false|        false|      false|     false|\n|   Absorbing Man|  false|              false|             false|                false|           true|      true|  false|             true| false|       false|               false|       false|         false|             false|            false|    false|       false|          true|      false|    false|       false|        false|      false|        false|          false|  false|        false|        false|    false|   false|      false|     false|                 false|              false|         false|                 false|      false|        false|          false|      false|       false|false|       false|false|       false|             false|      false|        false|               false|      false|     false|          false|  false|            false|               false|       false|     false|    false|          false|   false|           true|            false|       false|          false|       false|  false|          false|            false|         false|     false|              false|                        true|               false|                false|        false|    false|       false|       false|           true|           false|           false|     false|   false|       false|         false|         true|        false|         false|                  true|          false|     false|  false|     false|     false|                   false|          false|       false|        false|       false|     false|                    false| false|              false|           true|          false|      false|         false|    false|         false|            false|       false|     false|   false|         false|       false|     false|        false|             false|              false|                       false|            false|            false|               false|               false|         false|          false|    false|                  false|        false|false|       false|            false|         false|           false|       false|      false|               false|             false|               false|  false|       false|       false|       false|         false|            false|       false|             true|    false|       false|       false|        false|      false|      false|              false|          false|         false|           false|       false|          false|     false|           false|      false|        false|                false|        false|      false|     false|\n|     Adam Monroe|  false|               true|             false|                false|          false|     false|  false|            false| false|       false|               false|       false|         false|             false|            false|    false|       false|         false|      false|    false|       false|        false|      f\n\n*** WARNING: max output size exceeded, skipping output. ***\n\n     false|            false|    false|       false|       false|        false|      false|      false|              false|          false|         false|           false|       false|          false|     false|           false|      false|        false|                false|        false|      false|     false|\n|      Air-Walker|  false|              false|             false|                false|          false|     false|  false|            false|  true|       false|               false|       false|         false|             false|            false|    false|       false|          true|      false|    false|       false|        false|      false|        false|          false|  false|        false|        false|    false|   false|       true|     false|                 false|              false|         false|                 false|      false|        false|          false|      false|       false|false|       false|false|       false|             false|      false|        false|               false|      false|     false|          false|  false|            false|               false|       false|     false|    false|          false|   false|          false|            false|       false|           true|       false|  false|          false|            false|         false|     false|              false|                       false|               false|                false|        false|    false|       false|       false|          false|           false|           false|     false|   false|       false|         false|        false|        false|         false|                  true|          false|     false|  false|     false|     false|                   false|          false|       false|        false|       false|     false|                    false| false|              false|          false|          false|      false|         false|    false|         false|            false|       false|     false|   false|         false|        true|     false|        false|             false|              false|                       false|            false|            false|               false|               false|         false|          false|    false|                  false|        false|false|       false|            false|         false|           false|       false|      false|               false|             false|               false|  false|       false|       false|       false|         false|            false|       false|            false|    false|       false|       false|        false|      false|      false|              false|          false|         false|           false|       false|          false|     false|           false|      false|        false|                false|        false|      false|     false|\n|            Ajax|   true|              false|             false|                false|          false|     false|  false|            false| false|       false|               false|       false|         false|             false|            false|    false|       false|          true|      false|    false|       false|        false|      false|        false|          false|  false|        false|        false|    false|   false|       true|     false|                 false|              false|         false|                 false|      false|        false|          false|      false|       false|false|       false|false|       false|             false|      false|        false|               false|      false|     false|          false|  false|            false|               false|       false|     false|    false|          false|   false|          false|            false|       false|          false|       false|  false|          false|            false|         false|     false|              false|                       false|               false|                false|        false|    false|       false|       false|          false|           false|           false|     false|   false|       false|         false|        false|        false|         false|                 false|           true|     false|  false|      true|     false|                   false|          false|       false|        false|       false|     false|                    false| false|              false|          false|          false|      false|         false|    false|         false|            false|       false|     false|   false|         false|       false|     false|        false|             false|              false|                       false|            false|            false|               false|               false|         false|          false|    false|                  false|        false|false|       false|            false|         false|           false|       false|      false|               false|             false|               false|  false|       false|       false|       false|         false|            false|       false|            false|    false|       false|       false|        false|      false|      false|              false|          false|         false|           false|       false|          false|     false|           false|      false|        false|                false|        false|      false|     false|\n|      Alan Scott|  false|              false|             false|                false|          false|     false|  false|            false|  true|        true|               false|       false|         false|             false|            false|    false|        true|         false|      false|     true|       false|         true|      false|        false|          false|  false|        false|        false|    false|   false|       true|     false|                 false|              false|         false|                 false|      false|         true|          false|      false|        true|false|       false|false|       false|             false|      false|        false|               false|      false|     false|          false|   true|            false|               false|       false|     false|    false|          false|   false|          false|            false|        true|          false|       false|  false|          false|            false|         false|     false|              false|                       false|               false|                false|        false|    false|       false|       false|          false|           false|           false|     false|   false|        true|         false|        false|        false|         false|                 false|          false|     false|  false|     false|     false|                   false|          false|       false|        false|       false|     false|                    false| false|               true|          false|          false|      false|         false|    false|         false|            false|       false|     false|   false|         false|       false|     false|        false|             false|              false|                       false|            false|            false|               false|               false|         false|          false|    false|                  false|        false|false|       false|            false|         false|           false|        true|      false|               false|             false|               false|  false|       false|       false|       false|         false|            false|       false|            false|    false|       false|       false|        false|      false|      false|              false|          false|         false|           false|       false|          false|     false|           false|      false|        false|                false|        false|      false|     false|\n|     Alex Mercer|   true|               true|             false|                false|          false|     false|   true|             true| false|        true|               false|        true|          true|             false|            false|     true|       false|          true|      false|    false|       false|         true|      false|        false|          false|   true|        false|        false|    false|   false|       true|     false|                 false|              false|         false|                 false|      false|        false|           true|      false|       false|false|       false| true|       false|             false|      false|         true|               false|       true|     false|          false|  false|            false|               false|       false|     false|    false|          false|   false|           true|            false|       false|          false|       false|  false|          false|            false|         false|      true|               true|                       false|               false|                false|        false|    false|       false|       false|          false|           false|            true|     false|   false|       false|         false|         true|        false|         false|                 false|          false|      true|   true|     false|     false|                   false|          false|       false|        false|       false|     false|                    false| false|              false|          false|           true|      false|         false|    false|         false|            false|       false|     false|   false|         false|       false|     false|        false|             false|              false|                       false|            false|            false|               false|               false|         false|          false|    false|                  false|        false|false|       false|            false|         false|           false|       false|      false|               false|             false|               false|  false|       false|       false|        true|         false|            false|       false|             true|    false|       false|       false|        false|      false|      false|              false|          false|         false|            true|       false|          false|     false|           false|      false|        false|                false|        false|      false|     false|\n|    Alex Woolsly|  false|              false|             false|                false|          false|     false|  false|            false| false|       false|                true|       false|         false|             false|            false|    false|       false|         false|      false|    false|       false|        false|      false|        false|          false|  false|        false|        false|    false|   false|      false|     false|                 false|              false|         false|                 false|      false|        false|          false|      false|       false|false|       false|false|       false|             false|      false|        false|               false|      false|     false|          false|  false|            false|               false|       false|     false|    false|          false|   false|          false|            false|       false|          false|       false|  false|          false|            false|         false|     false|              false|                       false|               false|                false|        false|    false|       false|       false|          false|           false|           false|     false|   false|       false|         false|        false|        false|         false|                 false|          false|     false|  false|     false|     false|                   false|          false|       false|        false|       false|     false|                    false| false|              false|          false|          false|      false|         false|    false|         false|            false|       false|     false|   false|         false|       false|     false|        false|             false|              false|                       false|            false|            false|               false|               false|         false|          false|    false|                  false|        false|false|       false|            false|         false|           false|       false|      false|               false|             false|               false|  false|       false|       false|       false|         false|            false|       false|            false|    false|       false|       false|        false|      false|      false|              false|          false|         false|           false|       false|          false|     false|           false|      false|        false|                false|        false|      false|     false|\n|           Alien|   true|              false|             false|                false|           true|      true|   true|            false| false|       false|               false|       false|         false|             false|            false|    false|       false|          true|      false|    false|       false|        false|      false|        false|          false|  false|        false|        false|    false|   false|       true|     false|                 false|              false|         false|                 false|      false|        false|           true|      false|       false|false|       false| true|       false|             false|      false|        false|               false|      false|     false|          false|  false|            false|               false|       false|     false|    false|          false|   false|          false|            false|       false|          false|       false|  false|          false|            false|         false|     false|               true|                       false|               false|                false|        false|    false|       false|       false|          false|           false|           false|     false|   false|       false|         false|         true|        false|         false|                 false|          false|     false|  false|     false|     false|                   false|          false|       false|        false|       false|     false|                    false| false|              false|           true|           true|      false|         false|    false|         false|            false|       false|     false|   false|         false|       false|     false|        false|             false|              false|                       false|            false|            false|               false|               false|         false|          false|    false|                  false|        false|false|       false|            false|         false|           false|       false|      false|               false|             false|               false|  false|       false|       false|        true|         false|            false|       false|            false|    false|       false|       false|        false|      false|      false|              false|          false|         false|            true|       false|          false|     false|           false|      false|        false|                false|        false|      false|     false|\n|Allan Quatermain|  false|              false|             false|                false|          false|     false|  false|            false| false|       false|               false|        true|         false|             false|            false|    false|       false|         false|      false|    false|       false|        false|      false|        false|          false|  false|        false|        false|    false|   false|      false|     false|                 false|              false|         false|                 false|      false|        false|          false|      false|       false|false|       false|false|       false|             false|      false|        false|               false|      false|     false|          false|  false|            false|               false|       false|     false|    false|          false|   false|          false|            false|       false|          false|       false|  false|          false|            false|         false|     false|              false|                       false|               false|                false|        false|    false|       false|       false|          false|           false|           false|     false|   false|       false|         false|        false|        false|         false|                 false|          false|     false|  false|     false|     false|                   false|          false|       false|        false|       false|     false|                    false| false|              false|          false|          false|      false|         false|    false|         false|            false|       false|     false|   false|         false|       false|     false|        false|             false|              false|                       false|            false|            false|               false|               false|         false|          false|    false|                  false|        false|false|       false|            false|         false|           false|       false|      false|               false|             false|               false|  false|       false|       false|       false|         false|            false|       false|            false|    false|       false|       false|        false|      false|      false|              false|          false|         false|           false|       false|          false|     false|           false|      false|        false|                false|        false|      false|     false|\n|           Amazo|   true|              false|              true|                false|          false|      true|  false|            false|  true|       false|                true|        true|         false|              true|            false|     true|        true|          true|       true|     true|       false|         true|       true|         true|          false|   true|        false|        false|    false|   false|       true|     false|                 false|               true|         false|                 false|      false|         true|           true|      false|       false|false|       false| true|       false|             false|      false|         true|               false|      false|      true|          false|   true|            false|               false|        true|     false|    false|           true|    true|           true|             true|        true|          false|       false|  false|          false|            false|         false|     false|              false|                       false|               false|                false|        false|    false|       false|       false|          false|            true|            true|     false|   false|       false|         false|        false|        false|         false|                 false|          false|     false|  false|     false|     false|                   false|          false|       false|        false|       false|     false|                    false| false|              false|          false|          false|       true|          true|    false|         false|            false|       false|     false|   false|         false|       false|     false|         true|             false|               true|                       false|            false|            false|               false|               false|         false|          false|     true|                  false|        false|false|       false|            false|         false|           false|        true|      false|               false|             false|                true|  false|       false|        true|       false|          true|            false|       false|            false|    false|       false|       false|         true|      false|      false|              false|          false|          true|            true|       false|          false|     false|           false|      false|        false|                false|        false|      false|     false|\n|            Ammo|  false|              false|             false|                false|          false|     false|  false|            false| false|       false|               false|       false|          true|             false|            false|    false|       false|         false|      false|    false|       false|        false|      false|        false|          false|  false|        false|        false|    false|   false|      false|     false|                 false|              false|         false|                 false|      false|        false|          false|      false|       false|false|       false|false|       false|             false|      false|        false|               false|      false|     false|          false|  false|            false|               false|       false|     false|    false|          false|   false|          false|            false|       false|          false|       false|  false|          false|            false|         false|     false|              false|                       false|               false|                false|        false|    false|       false|       false|          false|           false|           false|     false|   false|       false|         false|        false|        false|         false|                 false|          false|     false|  false|     false|     false|                   false|          false|       false|        false|       false|     false|                    false| false|              false|          false|          false|      false|         false|    false|         false|            false|       false|     false|   false|         false|       false|     false|        false|             false|              false|                       false|            false|            false|               false|               false|         false|          false|    false|                  false|        false|false|       false|            false|         false|           false|       false|      false|               false|             false|               false|  false|       false|       false|       false|         false|            false|       false|            false|    false|       false|       false|        false|      false|      false|              false|          false|         false|           false|       false|          false|     false|           false|      false|        false|                false|        false|      false|     false|\n+----------------+-------+-------------------+------------------+---------------------+---------------+----------+-------+-----------------+------+------------+--------------------+------------+--------------+------------------+-----------------+---------+------------+--------------+-----------+---------+------------+-------------+-----------+-------------+---------------+-------+-------------+-------------+---------+--------+-----------+----------+----------------------+-------------------+--------------+----------------------+-----------+-------------+---------------+-----------+------------+-----+------------+-----+------------+------------------+-----------+-------------+--------------------+-----------+----------+---------------+-------+-----------------+--------------------+------------+----------+---------+---------------+--------+---------------+-----------------+------------+---------------+------------+-------+---------------+-----------------+--------------+----------+-------------------+----------------------------+--------------------+---------------------+-------------+---------+------------+------------+---------------+----------------+----------------+----------+--------+------------+--------------+-------------+-------------+--------------+----------------------+---------------+----------+-------+----------+----------+------------------------+---------------+------------+-------------+------------+----------+-------------------------+------+-------------------+---------------+---------------+-----------+--------------+---------+--------------+-----------------+------------+----------+--------+--------------+------------+----------+-------------+------------------+-------------------+----------------------------+-----------------+-----------------+--------------------+--------------------+--------------+---------------+---------+-----------------------+-------------+-----+------------+-----------------+--------------+----------------+------------+-----------+--------------------+------------------+--------------------+-------+------------+------------+------------+--------------+-----------------+------------+-----------------+---------+------------+------------+-------------+-----------+-----------+-------------------+---------------+--------------+----------------+------------+---------------+----------+----------------+-----------+-------------+---------------------+-------------+-----------+----------+\nonly showing top 20 rows\n\n"
     ]
    }
   ],
   "source": [
    "file_path2 = \"file:/dbfs/FileStore/mypath/superhero-set/super_hero_powers.csv\"\n",
    "\n",
    "df_hero_power = spark.read.options(header=\"true\",inferschema = \"true\").csv(file_path2)\n",
    "\n",
    "df_hero_power.show()"
   ]
  },
  {
   "cell_type": "markdown",
   "metadata": {
    "application/vnd.databricks.v1+cell": {
     "cellMetadata": {},
     "inputWidgets": {},
     "nuid": "7744ae1f-5d4a-4062-bc1a-1f72e785be4e",
     "showTitle": false,
     "title": ""
    },
    "id": "DckC1xuX8x5R"
   },
   "source": [
    "# Querying + Stat test"
   ]
  },
  {
   "cell_type": "code",
   "execution_count": 0,
   "metadata": {
    "application/vnd.databricks.v1+cell": {
     "cellMetadata": {
      "byteLimit": 2048000,
      "rowLimit": 10000
     },
     "inputWidgets": {},
     "nuid": "528e8255-fda5-4321-82bd-4681a9e3e1f8",
     "showTitle": false,
     "title": ""
    },
    "colab": {
     "base_uri": "https://localhost:8080/"
    },
    "id": "XKJK3X2LjNZ9",
    "outputId": "a83bae14-843a-460f-ffa0-42cf5bbb127a"
   },
   "outputs": [
    {
     "output_type": "execute_result",
     "data": {
      "text/plain": [
       "734"
      ]
     },
     "execution_count": 19,
     "metadata": {},
     "output_type": "execute_result"
    }
   ],
   "source": [
    "df_hero_indi.count()"
   ]
  },
  {
   "cell_type": "code",
   "execution_count": 0,
   "metadata": {
    "application/vnd.databricks.v1+cell": {
     "cellMetadata": {
      "byteLimit": 2048000,
      "rowLimit": 10000
     },
     "inputWidgets": {},
     "nuid": "12ff0b3b-71c5-42a6-9b8e-314f05c2e36c",
     "showTitle": false,
     "title": ""
    },
    "colab": {
     "base_uri": "https://localhost:8080/"
    },
    "id": "UYI6IXHmKLEF",
    "outputId": "4015b04f-8052-4929-f8ef-4f7f72b55ae2"
   },
   "outputs": [
    {
     "output_type": "stream",
     "name": "stdout",
     "output_type": "stream",
     "text": [
      "+-----------------+\n|             Race|\n+-----------------+\n|            Human|\n|    Icthyo Sapien|\n|          Ungaran|\n|Human / Radiation|\n|    Cosmic Entity|\n|            Human|\n|                -|\n|            Human|\n|                -|\n|            Human|\n|                -|\n|                -|\n|           Cyborg|\n|                -|\n|            Human|\n|                -|\n|            Human|\n|  Xenomorph XX121|\n|                -|\n|          Android|\n+-----------------+\nonly showing top 20 rows\n\n"
     ]
    }
   ],
   "source": [
    "df_hero_indi.select(\"Race\").show()"
   ]
  },
  {
   "cell_type": "code",
   "execution_count": 0,
   "metadata": {
    "application/vnd.databricks.v1+cell": {
     "cellMetadata": {},
     "inputWidgets": {},
     "nuid": "ffd6c23e-abc6-4a9d-8d6c-5640c4c0c8d7",
     "showTitle": false,
     "title": ""
    },
    "colab": {
     "base_uri": "https://localhost:8080/"
    },
    "id": "spURyBYTKTnv",
    "outputId": "e25f5dca-217c-4c86-a41d-ba35e505d2e2"
   },
   "outputs": [
    {
     "output_type": "stream",
     "name": "stdout",
     "output_type": "stream",
     "text": [
      "+------------------+\n|              Race|\n+------------------+\n|          Neyaphem|\n|          Symbiote|\n|        Kryptonian|\n|           Ungaran|\n|           Martian|\n|         Strontian|\n| Human / Radiation|\n|   Kakarantharaian|\n|         Metahuman|\n|Dathomirian Zabrak|\n|    Human / Cosmic|\n|   Xenomorph XX121|\n|            Animal|\n|       Frost Giant|\n|            Cyborg|\n|           Inhuman|\n|     God / Eternal|\n|    Yoda's species|\n|     Icthyo Sapien|\n|            Rodian|\n+------------------+\nonly showing top 20 rows\n\n"
     ]
    }
   ],
   "source": [
    "df_hero_indi.select(\"Race\").distinct().show()"
   ]
  },
  {
   "cell_type": "code",
   "execution_count": 0,
   "metadata": {
    "application/vnd.databricks.v1+cell": {
     "cellMetadata": {},
     "inputWidgets": {},
     "nuid": "1d4622a4-5cc3-4020-a8b2-d0acfcb7a45e",
     "showTitle": false,
     "title": ""
    },
    "colab": {
     "base_uri": "https://localhost:8080/"
    },
    "id": "5l8lQFiwKyHN",
    "outputId": "b6c3260a-ddff-43f5-be8b-015617c41f0a"
   },
   "outputs": [
    {
     "output_type": "stream",
     "name": "stdout",
     "output_type": "stream",
     "text": [
      "+---+----------------+------+---------+------+----------+------+-----------------+----------+---------+------+\n|_c0|            name|Gender|Eye color|  Race|Hair color|Height|        Publisher|Skin color|Alignment|Weight|\n+---+----------------+------+---------+------+----------+------+-----------------+----------+---------+------+\n| 12|            Ajax|  Male|    brown|Cyborg|     Black| 193.0|    Marvel Comics|         -|      bad|  90.0|\n| 86|    Bionic Woman|Female|     blue|Cyborg|     Black| -99.0|             null|         -|     good| -99.0|\n|193|          Cyborg|  Male|    brown|Cyborg|     Black| 198.0|        DC Comics|         -|     good| 173.0|\n|194| Cyborg Superman|  Male|     blue|Cyborg|     Black| -99.0|        DC Comics|         -|      bad| -99.0|\n|207|     Darth Vader|  Male|   yellow|Cyborg|   No Hair| 198.0|     George Lucas|         -|      bad| 135.0|\n|214|        Deathlok|  Male|    brown|Cyborg|      Grey| 193.0|    Marvel Comics|         -|     good| 178.0|\n|400|Lady Deathstrike|Female|    brown|Cyborg|     Black| 175.0|    Marvel Comics|         -|      bad|  58.0|\n|463|           MODOK|  Male|    white|Cyborg|    Brownn| 366.0|    Marvel Comics|         -|      bad| 338.0|\n|652|           T-800|  Male|      red|Cyborg|         -| -99.0|Dark Horse Comics|         -|      bad| 176.0|\n|653|           T-850|  Male|      red|Cyborg|         -| -99.0|Dark Horse Comics|         -|      bad| 198.0|\n|654|             T-X|Female|        -|Cyborg|         -| -99.0|Dark Horse Comics|    silver|      bad| 149.0|\n+---+----------------+------+---------+------+----------+------+-----------------+----------+---------+------+\n\n"
     ]
    }
   ],
   "source": [
    "df_hero_indi.filter(col(\"Race\")==\"Cyborg\").show()"
   ]
  },
  {
   "cell_type": "code",
   "execution_count": 0,
   "metadata": {
    "application/vnd.databricks.v1+cell": {
     "cellMetadata": {},
     "inputWidgets": {},
     "nuid": "f3064221-7133-440d-aacf-f1bc51c7208d",
     "showTitle": false,
     "title": ""
    },
    "colab": {
     "base_uri": "https://localhost:8080/"
    },
    "id": "8cFaL8AUj8w3",
    "outputId": "646aee1e-acbe-4860-a13d-ca4e2fd5a1c1"
   },
   "outputs": [
    {
     "output_type": "stream",
     "name": "stdout",
     "output_type": "stream",
     "text": [
      "+-----------+\n|count(Race)|\n+-----------+\n|         62|\n+-----------+\n\n"
     ]
    }
   ],
   "source": [
    "from pyspark.sql.functions import col, countDistinct\n",
    "\n",
    "df_hero_indi.agg(countDistinct(col(\"Race\"))).show()"
   ]
  },
  {
   "cell_type": "code",
   "execution_count": 0,
   "metadata": {
    "application/vnd.databricks.v1+cell": {
     "cellMetadata": {},
     "inputWidgets": {},
     "nuid": "0b951bdf-505f-4f25-a825-dd8bb78070c8",
     "showTitle": false,
     "title": ""
    },
    "colab": {
     "base_uri": "https://localhost:8080/"
    },
    "id": "cwywxoCAjWZo",
    "outputId": "4f70516c-fdb2-4a14-fcf1-162bb7f09791"
   },
   "outputs": [
    {
     "output_type": "stream",
     "name": "stdout",
     "output_type": "stream",
     "text": [
      "+---+----+------+---------+----+----------+------+---------+----------+---------+------+\n|_c0|name|Gender|Eye color|Race|Hair color|Height|Publisher|Skin color|Alignment|Weight|\n+---+----+------+---------+----+----------+------+---------+----------+---------+------+\n|734| 715|     3|       23|  62|        30|    54|       24|        17|        4|   135|\n+---+----+------+---------+----+----------+------+---------+----------+---------+------+\n\n"
     ]
    }
   ],
   "source": [
    "from pyspark.sql.functions import col, countDistinct\n",
    "\n",
    "df_hero_indi.agg(*(countDistinct(col(c)).alias(c) for c in df_hero_indi.columns)).show()"
   ]
  },
  {
   "cell_type": "code",
   "execution_count": 0,
   "metadata": {
    "application/vnd.databricks.v1+cell": {
     "cellMetadata": {},
     "inputWidgets": {},
     "nuid": "75bb5527-2913-4967-9eda-2b472f413832",
     "showTitle": false,
     "title": ""
    },
    "colab": {
     "base_uri": "https://localhost:8080/"
    },
    "id": "12qsEZZXne3-",
    "outputId": "d4d8e430-0945-41b6-8934-901e2a2d482a"
   },
   "outputs": [
    {
     "output_type": "stream",
     "name": "stdout",
     "output_type": "stream",
     "text": [
      "+-----------+-----------+----------------+-----------+-------------------+\n|min(Weight)|max(Weight)|     avg(Weight)|sum(Weight)|stddev_samp(Weight)|\n+-----------+-----------+----------------+-----------+-------------------+\n|      -99.0|      900.0|43.8551912568306|    32102.0| 130.82373271995195|\n+-----------+-----------+----------------+-----------+-------------------+\n\n"
     ]
    }
   ],
   "source": [
    "from pyspark.sql import functions as F\n",
    "\n",
    "df_hero_indi.agg(F.min(col(\"Weight\"))\\\n",
    "              ,F.max(col(\"Weight\"))\\\n",
    "              ,F.avg(col(\"Weight\"))\\\n",
    "              ,F.sum(col(\"Weight\"))\\\n",
    "              ,F.stddev(col(\"Weight\")))\\\n",
    "              .show()"
   ]
  },
  {
   "cell_type": "code",
   "execution_count": 0,
   "metadata": {
    "application/vnd.databricks.v1+cell": {
     "cellMetadata": {},
     "inputWidgets": {},
     "nuid": "a579f2e5-5086-4b14-a367-f273ea45e59c",
     "showTitle": false,
     "title": ""
    },
    "colab": {
     "base_uri": "https://localhost:8080/"
    },
    "id": "6Iqcv9oW-HiV",
    "outputId": "cc818a1c-dc0d-42d2-d7c9-96c5dd6ba448"
   },
   "outputs": [
    {
     "output_type": "stream",
     "name": "stdout",
     "output_type": "stream",
     "text": [
      "+------------------+-----------+-----------+-------------------+-----------+-------------------+\n|              Race|min(Weight)|max(Weight)|        avg(Weight)|sum(Weight)|stddev_samp(Weight)|\n+------------------+-----------+-----------+-------------------+-----------+-------------------+\n|          Neyaphem|       67.0|       67.0|               67.0|       67.0|               null|\n|          Symbiote|      -99.0|      358.0| 109.77777777777777|      988.0|  158.4982474491262|\n|        Kryptonian|      -99.0|      101.0|               19.0|      133.0|  84.66207336621675|\n|           Ungaran|       90.0|       90.0|               90.0|       90.0|               null|\n|           Martian|      135.0|      135.0|              135.0|      135.0|               null|\n|         Strontian|      268.0|      268.0|              268.0|      268.0|               null|\n| Human / Radiation|       54.0|      630.0| 261.09090909090907|     2872.0| 216.24266671748873|\n|   Kakarantharaian|       18.0|       18.0|               18.0|       18.0|               null|\n|         Metahuman|       59.0|      356.0|              207.5|      415.0|  210.0107140124046|\n|Dathomirian Zabrak|      -99.0|      -99.0|              -99.0|      -99.0|               null|\n|    Human / Cosmic|      -99.0|       59.0|              -20.0|      -40.0| 111.72287142747452|\n|   Xenomorph XX121|      169.0|      169.0|              169.0|      169.0|               null|\n|            Animal|      -99.0|       25.0|-57.666666666666664|     -173.0|  71.59143337951359|\n|       Frost Giant|      -99.0|       58.0|              -20.5|      -41.0| 111.01576464628796|\n|            Cyborg|      -99.0|      338.0|  117.9090909090909|     1297.0|  128.2968858121307|\n|           Inhuman|       50.0|       95.0|               72.5|      290.0|  21.42428528562855|\n|     God / Eternal|      -99.0|      293.0| -54.92857142857143|     -769.0| 116.71692533364927|\n|    Yoda's species|       17.0|       17.0|               17.0|       17.0|               null|\n|     Icthyo Sapien|       65.0|       65.0|               65.0|       65.0|               null|\n|            Rodian|      -99.0|      -99.0|              -99.0|      -99.0|               null|\n+------------------+-----------+-----------+-------------------+-----------+-------------------+\nonly showing top 20 rows\n\n"
     ]
    }
   ],
   "source": [
    "df_hero_indi.groupBy(col(\"Race\")).agg(F.min(col(\"Weight\"))\\\n",
    "              ,F.max(col(\"Weight\"))\\\n",
    "              ,F.avg(col(\"Weight\"))\\\n",
    "              ,F.sum(col(\"Weight\"))\\\n",
    "              ,F.stddev(col(\"Weight\")))\\\n",
    "              .show()\n",
    "              "
   ]
  },
  {
   "cell_type": "markdown",
   "metadata": {
    "application/vnd.databricks.v1+cell": {
     "cellMetadata": {},
     "inputWidgets": {},
     "nuid": "df775ae4-41d1-47f4-a7d4-79e369134a44",
     "showTitle": false,
     "title": ""
    },
    "id": "1d4ezAuyfxHM"
   },
   "source": [
    "## Finding Median\n",
    "http://infolab.stanford.edu/~datar/courses/cs361a/papers/quantiles.pdf"
   ]
  },
  {
   "cell_type": "code",
   "execution_count": 0,
   "metadata": {
    "application/vnd.databricks.v1+cell": {
     "cellMetadata": {},
     "inputWidgets": {},
     "nuid": "ce3f88cf-bef5-4b51-a67e-7b036bc06cd6",
     "showTitle": false,
     "title": ""
    },
    "colab": {
     "base_uri": "https://localhost:8080/"
    },
    "id": "B02ZhiwSfcuF",
    "outputId": "61717f36-66ba-479a-f401-e9ce14846d5f"
   },
   "outputs": [
    {
     "output_type": "execute_result",
     "data": {
      "text/plain": [
       "[62.0]"
      ]
     },
     "execution_count": 21,
     "metadata": {},
     "output_type": "execute_result"
    }
   ],
   "source": [
    "df_hero_indi.approxQuantile(\"weight\", [0.5], 0.0)"
   ]
  },
  {
   "cell_type": "markdown",
   "metadata": {
    "application/vnd.databricks.v1+cell": {
     "cellMetadata": {},
     "inputWidgets": {},
     "nuid": "4824391a-32ea-4598-889d-9e3b370934db",
     "showTitle": false,
     "title": ""
    },
    "id": "kOc52NplFKmm"
   },
   "source": [
    "## \"Null\" **checking**"
   ]
  },
  {
   "cell_type": "code",
   "execution_count": 0,
   "metadata": {
    "application/vnd.databricks.v1+cell": {
     "cellMetadata": {},
     "inputWidgets": {},
     "nuid": "4fb98ed7-148e-4115-8afc-e2d87664cae4",
     "showTitle": false,
     "title": ""
    },
    "colab": {
     "base_uri": "https://localhost:8080/"
    },
    "id": "ZKI0Dj7eFQwG",
    "outputId": "d820b20f-3702-4a46-a0c5-68b605ecff15"
   },
   "outputs": [
    {
     "output_type": "stream",
     "name": "stdout",
     "output_type": "stream",
     "text": [
      "+---+---------+------+---------+------+----------+------+---------+----------+---------+------+\n|_c0|     name|Gender|Eye color|  Race|Hair color|Height|Publisher|Skin color|Alignment|Weight|\n+---+---------+------+---------+------+----------+------+---------+----------+---------+------+\n|286| Godzilla|     -|        -| Kaiju|         -| 108.0|     null|      grey|      bad|  null|\n|389|King Kong|  Male|   yellow|Animal|     Black|  30.5|     null|         -|     good|  null|\n+---+---------+------+---------+------+----------+------+---------+----------+---------+------+\n\n"
     ]
    }
   ],
   "source": [
    "df_hero_indi.filter(col(\"Weight\").isNull()).show()"
   ]
  },
  {
   "cell_type": "markdown",
   "metadata": {
    "application/vnd.databricks.v1+cell": {
     "cellMetadata": {},
     "inputWidgets": {},
     "nuid": "8805b43a-4e39-4dc1-911f-9a33bd6b5792",
     "showTitle": false,
     "title": ""
    },
    "id": "7wXp5oecQaO2"
   },
   "source": []
  },
  {
   "cell_type": "markdown",
   "metadata": {
    "application/vnd.databricks.v1+cell": {
     "cellMetadata": {},
     "inputWidgets": {},
     "nuid": "53b37e61-b1a6-41d0-9093-8dcc51ce06be",
     "showTitle": false,
     "title": ""
    },
    "id": "19H0zTUl9mmS"
   },
   "source": [
    "## Group by"
   ]
  },
  {
   "cell_type": "code",
   "execution_count": 0,
   "metadata": {
    "application/vnd.databricks.v1+cell": {
     "cellMetadata": {},
     "inputWidgets": {},
     "nuid": "2fbdc494-47a3-4c59-8da7-e3522092dec1",
     "showTitle": false,
     "title": ""
    },
    "colab": {
     "base_uri": "https://localhost:8080/"
    },
    "id": "i0hzZzQKGHBa",
    "outputId": "e98f5de8-98a2-4698-c6f0-b30488881a84"
   },
   "outputs": [
    {
     "output_type": "stream",
     "name": "stdout",
     "output_type": "stream",
     "text": [
      "+------------------+-----+\n|              Race|count|\n+------------------+-----+\n|          Neyaphem|    1|\n|          Symbiote|    9|\n|        Kryptonian|    7|\n|           Ungaran|    1|\n|           Martian|    1|\n|         Strontian|    1|\n| Human / Radiation|   11|\n|   Kakarantharaian|    1|\n|         Metahuman|    2|\n|Dathomirian Zabrak|    1|\n|    Human / Cosmic|    2|\n|   Xenomorph XX121|    1|\n|            Animal|    4|\n|       Frost Giant|    2|\n|            Cyborg|   11|\n|           Inhuman|    4|\n|     God / Eternal|   14|\n|    Yoda's species|    1|\n|     Icthyo Sapien|    1|\n|            Rodian|    1|\n+------------------+-----+\nonly showing top 20 rows\n\n"
     ]
    }
   ],
   "source": [
    "df_hero_indi.groupBy(\"Race\").count().show()"
   ]
  },
  {
   "cell_type": "code",
   "execution_count": 0,
   "metadata": {
    "application/vnd.databricks.v1+cell": {
     "cellMetadata": {},
     "inputWidgets": {},
     "nuid": "d71dd7d4-37da-48b9-a518-f73fd36e6da8",
     "showTitle": false,
     "title": ""
    },
    "colab": {
     "base_uri": "https://localhost:8080/",
     "height": 132
    },
    "id": "T_dJ41uAGoGR",
    "outputId": "6985ce20-8a59-48f8-f591-567684553d0a"
   },
   "outputs": [
    {
     "output_type": "display_data",
     "data": {
      "text/plain": [
       "\u001B[0;36m  File \u001B[0;32m\"<ipython-input-25-f6fcaaff91f0>\"\u001B[0;36m, line \u001B[0;32m1\u001B[0m\n",
       "\u001B[0;31m    df_hero_indi.groupBy(\"\"\u001B[0m\n",
       "\u001B[0m                           ^\u001B[0m\n",
       "\u001B[0;31mSyntaxError\u001B[0m\u001B[0;31m:\u001B[0m unexpected EOF while parsing\n"
      ]
     },
     "metadata": {
      "application/vnd.databricks.v1+output": {
       "arguments": {},
       "data": "\u001B[0;36m  File \u001B[0;32m\"<ipython-input-25-f6fcaaff91f0>\"\u001B[0;36m, line \u001B[0;32m1\u001B[0m\n\u001B[0;31m    df_hero_indi.groupBy(\"\"\u001B[0m\n\u001B[0m                           ^\u001B[0m\n\u001B[0;31mSyntaxError\u001B[0m\u001B[0;31m:\u001B[0m unexpected EOF while parsing\n",
       "errorSummary": "<span class='ansi-red-fg'>SyntaxError</span>: ignored",
       "errorTraceType": "ansi",
       "metadata": {},
       "type": "ipynbError"
      }
     },
     "output_type": "display_data"
    }
   ],
   "source": [
    "df_hero_indi.groupBy(\"\""
   ]
  },
  {
   "cell_type": "code",
   "execution_count": 0,
   "metadata": {
    "application/vnd.databricks.v1+cell": {
     "cellMetadata": {},
     "inputWidgets": {},
     "nuid": "85257d53-df2a-423e-8330-90ab1ce9e5fd",
     "showTitle": false,
     "title": ""
    },
    "colab": {
     "base_uri": "https://localhost:8080/"
    },
    "id": "jwipUu3z9l1C",
    "outputId": "4c958c73-d0c4-4e6a-fa13-3473214a038e"
   },
   "outputs": [
    {
     "output_type": "stream",
     "name": "stdout",
     "output_type": "stream",
     "text": [
      "+------+-----------+-----------+------------------+-----------+-------------------+\n|Gender|min(Weight)|max(Weight)|       avg(Weight)|sum(Weight)|stddev_samp(Weight)|\n+------+-----------+-----------+------------------+-----------+-------------------+\n|Female|      -99.0|      630.0|            27.265|     5453.0| 103.64800683856899|\n|     -|      -99.0|      383.0|14.821428571428571|      415.0|  137.7515351991964|\n|  Male|      -99.0|      900.0|52.051587301587304|    26234.0| 139.21298711960654|\n+------+-----------+-----------+------------------+-----------+-------------------+\n\n"
     ]
    }
   ],
   "source": [
    "from pyspark.sql import functions as F\n",
    "\n",
    "df_hero_indi.groupby(col(\"Gender\")).agg(F.min(col(\"Weight\"))\\\n",
    "              ,F.max(col(\"Weight\"))\\\n",
    "              ,F.avg(col(\"Weight\"))\\\n",
    "              ,F.sum(col(\"Weight\"))\\\n",
    "              ,F.stddev(col(\"Weight\")))\\\n",
    "              .show()"
   ]
  },
  {
   "cell_type": "code",
   "execution_count": 0,
   "metadata": {
    "application/vnd.databricks.v1+cell": {
     "cellMetadata": {},
     "inputWidgets": {},
     "nuid": "29d7b33e-4db8-4d5e-b071-edcb90b116e2",
     "showTitle": false,
     "title": ""
    },
    "colab": {
     "base_uri": "https://localhost:8080/"
    },
    "id": "H2lxGRWDqIWH",
    "outputId": "277a0fcd-b563-4b7c-f8c7-070a0843c7de"
   },
   "outputs": [
    {
     "output_type": "stream",
     "name": "stdout",
     "output_type": "stream",
     "text": [
      "+------+\n|weight|\n+------+\n| 441.0|\n|  65.0|\n|  90.0|\n| 441.0|\n| 122.0|\n|  88.0|\n|  61.0|\n|  81.0|\n| 104.0|\n| 108.0|\n|  90.0|\n|  90.0|\n|  72.0|\n| 169.0|\n| 173.0|\n| 101.0|\n|  68.0|\n|  57.0|\n|  54.0|\n|  83.0|\n+------+\nonly showing top 20 rows\n\n"
     ]
    }
   ],
   "source": [
    "df_hero_weight = df_hero_indi.filter(col(\"Weight\")!=-99).select(\"weight\")\n",
    "df_hero_weight.show()"
   ]
  },
  {
   "cell_type": "code",
   "execution_count": 0,
   "metadata": {
    "application/vnd.databricks.v1+cell": {
     "cellMetadata": {},
     "inputWidgets": {},
     "nuid": "03b75b9f-2100-4755-8f94-a5b7b0bd9312",
     "showTitle": false,
     "title": ""
    },
    "colab": {
     "base_uri": "https://localhost:8080/"
    },
    "id": "OW8IvINYqgoG",
    "outputId": "686f145e-246b-4210-e14f-2b27422fcc55"
   },
   "outputs": [
    {
     "output_type": "stream",
     "name": "stdout",
     "output_type": "stream",
     "text": [
      "+-----------+-----------+------------------+-----------+-------------------+\n|min(Weight)|max(Weight)|       avg(Weight)|sum(Weight)|stddev_samp(Weight)|\n+-----------+-----------+------------------+-----------+-------------------+\n|        2.0|      900.0|112.25252525252525|    55565.0| 104.15114206482691|\n+-----------+-----------+------------------+-----------+-------------------+\n\n"
     ]
    }
   ],
   "source": [
    "df_hero_weight.agg(F.min(col(\"Weight\"))\\\n",
    "              ,F.max(col(\"Weight\"))\\\n",
    "              ,F.avg(col(\"Weight\"))\\\n",
    "              ,F.sum(col(\"Weight\"))\\\n",
    "              ,F.stddev(col(\"Weight\")))\\\n",
    "              .show()"
   ]
  },
  {
   "cell_type": "code",
   "execution_count": 0,
   "metadata": {
    "application/vnd.databricks.v1+cell": {
     "cellMetadata": {},
     "inputWidgets": {},
     "nuid": "dd85a552-ce1b-4b63-9bd8-87a049712433",
     "showTitle": false,
     "title": ""
    },
    "colab": {
     "base_uri": "https://localhost:8080/"
    },
    "id": "HAU2xxMarvHj",
    "outputId": "dd623c62-26e6-4a38-c7d6-27f00d60d075"
   },
   "outputs": [
    {
     "output_type": "stream",
     "name": "stdout",
     "output_type": "stream",
     "text": [
      "([2.0, 83.63636363636364, 165.27272727272728, 246.90909090909093, 328.54545454545456, 410.1818181818182, 491.81818181818187, 573.4545454545455, 655.0909090909091, 736.7272727272727, 818.3636363636364, 900.0], [262, 163, 34, 13, 10, 6, 1, 3, 0, 1, 2])\n"
     ]
    }
   ],
   "source": [
    "weight_histogram = df_hero_weight.rdd.flatMap(lambda x: x).histogram(11)\n",
    "\n",
    "print(weight_histogram)\n"
   ]
  },
  {
   "cell_type": "markdown",
   "metadata": {
    "application/vnd.databricks.v1+cell": {
     "cellMetadata": {},
     "inputWidgets": {},
     "nuid": "ed722630-8488-4484-8692-a89cf894dc33",
     "showTitle": false,
     "title": ""
    },
    "id": "n0NdtX8W-nuv"
   },
   "source": [
    "(Using Pandas and plot for showing graph)"
   ]
  },
  {
   "cell_type": "code",
   "execution_count": 0,
   "metadata": {
    "application/vnd.databricks.v1+cell": {
     "cellMetadata": {},
     "inputWidgets": {},
     "nuid": "ebad41de-55ee-4c2a-acd8-9ed70b5c6ccd",
     "showTitle": false,
     "title": ""
    },
    "colab": {
     "base_uri": "https://localhost:8080/",
     "height": 381
    },
    "id": "AsWds5zQscip",
    "outputId": "fc3fca01-6bc3-4777-baa0-ed80949908ed"
   },
   "outputs": [
    {
     "output_type": "display_data",
     "data": {
      "image/png": "[encoded data removed]",
      "text/plain": [
       "<Figure size 432x288 with 1 Axes>"
      ]
     },
     "metadata": {},
     "output_type": "display_data"
    }
   ],
   "source": [
    "pd.DataFrame(\n",
    "    list(zip(*weight_histogram)), \n",
    "    columns=['bin', 'frequency']\n",
    ").set_index(\n",
    "    'bin'\n",
    ").plot(kind='bar');"
   ]
  },
  {
   "cell_type": "markdown",
   "metadata": {
    "application/vnd.databricks.v1+cell": {
     "cellMetadata": {},
     "inputWidgets": {},
     "nuid": "2c64bb66-2961-4a84-933c-0873e2e1a129",
     "showTitle": false,
     "title": ""
    },
    "id": "IELW9L-H-Rug"
   },
   "source": [
    "## Joinning (yes, same as join in SQL)"
   ]
  },
  {
   "cell_type": "code",
   "execution_count": 0,
   "metadata": {
    "application/vnd.databricks.v1+cell": {
     "cellMetadata": {},
     "inputWidgets": {},
     "nuid": "786cd473-af3e-4acd-aa2b-87427e4b3e07",
     "showTitle": false,
     "title": ""
    },
    "colab": {
     "base_uri": "https://localhost:8080/"
    },
    "id": "oAoP3Xjuk2b8",
    "outputId": "04e3c502-5a91-4798-e911-0bb03176b630"
   },
   "outputs": [
    {
     "output_type": "stream",
     "name": "stdout",
     "output_type": "stream",
     "text": [
      "+----------------+-------+-------------------+------------------+---------------------+---------------+----------+-------+-----------------+------+------------+--------------------+------------+--------------+------------------+-----------------+---------+------------+--------------+-----------+---------+------------+-------------+-----------+-------------+---------------+-------+-------------+-------------+---------+--------+-----------+----------+----------------------+-------------------+--------------+----------------------+-----------+-------------+---------------+-----------+------------+-----+------------+-----+------------+------------------+-----------+-------------+--------------------+-----------+----------+---------------+-------+-----------------+--------------------+------------+----------+---------+---------------+--------+---------------+-----------------+------------+---------------+------------+-------+---------------+-----------------+--------------+----------+-------------------+----------------------------+--------------------+---------------------+-------------+---------+------------+------------+---------------+----------------+----------------+----------+--------+------------+--------------+-------------+-------------+--------------+----------------------+---------------+----------+-------+----------+----------+------------------------+---------------+------------+-------------+------------+----------+-------------------------+------+-------------------+---------------+---------------+-----------+--------------+---------+--------------+-----------------+------------+----------+--------+--------------+------------+----------+-------------+------------------+-------------------+----------------------------+-----------------+-----------------+--------------------+--------------------+--------------+---------------+---------+-----------------------+-------------+-----+------------+-----------------+--------------+----------------+------------+-----------+--------------------+------------------+--------------------+-------+------------+------------+------------+--------------+-----------------+------------+-----------------+---------+------------+------------+-------------+-----------+-----------+-------------------+---------------+--------------+----------------+------------+---------------+----------+----------------+-----------+-------------+---------------------+-------------+-----------+----------+\n|            name|Agility|Accelerated Healing|Lantern Power Ring|Dimensional Awareness|Cold Resistance|Durability|Stealth|Energy Absorption|Flight|Danger Sense|Underwater breathing|Marksmanship|Weapons Master|Power Augmentation|Animal Attributes|Longevity|Intelligence|Super Strength|Cryokinesis|Telepathy|Energy Armor|Energy Blasts|Duplication|Size Changing|Density Control|Stamina|Astral Travel|Audio Control|Dexterity|Omnitrix|Super Speed|Possession|Animal Oriented Powers|Weapon-based Powers|Electrokinesis|Darkforce Manipulation|Death Touch|Teleportation|Enhanced Senses|Telekinesis|Energy Beams|Magic|Hyperkinesis| Jump|Clairvoyance|Dimensional Travel|Power Sense|Shapeshifting|Peak Human Condition|Immortality|Camouflage|Element Control|Phasing|Astral Projection|Electrical Transport|Fire Control|Projection|Summoning|Enhanced Memory|Reflexes|Invulnerability|Energy Constructs|Force Fields|Self-Sustenance|Anti-Gravity|Empathy|Power Nullifier|Radiation Control|Psionic Powers|Elasticity|Substance Secretion|Elemental Transmogrification|Technopath/Cyberpath|Photographic Reflexes|Seismic Power|Animation|Precognition|Mind Control|Fire Resistance|Power Absorption|Enhanced Hearing|Nova Force|Insanity|Hypnokinesis|Animal Control|Natural Armor|Intangibility|Enhanced Sight|Molecular Manipulation|Heat Generation|Adaptation|Gliding|Power Suit|Mind Blast|Probability Manipulation|Gravity Control|Regeneration|Light Control|Echolocation|Levitation|Toxin and Disease Control|Banish|Energy Manipulation|Heat Resistance|Natural Weapons|Time Travel|Enhanced Smell|Illusions|Thirstokinesis|Hair Manipulation|Illumination|Omnipotent|Cloaking|Changing Armor|Power Cosmic|Biokinesis|Water Control|Radiation Immunity|Vision - Telescopic|Toxin and Disease Resistance|Spatial Awareness|Energy Resistance|Telepathy Resistance|Molecular Combustion|Omnilingualism|Portal Creation|Magnetism|Mind Control Resistance|Plant Control|Sonar|Sonic Scream|Time Manipulation|Enhanced Touch|Magic Resistance|Invisibility|Sub-Mariner|Radiation Absorption|Intuitive aptitude|Vision - Microscopic|Melting|Wind Control|Super Breath|Wallcrawling|Vision - Night|Vision - Infrared|Grim Reaping|Matter Absorption|The Force|Resurrection|Terrakinesis|Vision - Heat|Vitakinesis|Radar Sense|Qwardian Power Ring|Weather Control|Vision - X-Ray|Vision - Thermal|Web Creation|Reality Warping|Odin Force|Symbiote Costume|Speed Force|Phoenix Force|Molecular Dissipation|Vision - Cryo|Omnipresent|Omniscient|\n+----------------+-------+-------------------+------------------+---------------------+---------------+----------+-------+-----------------+------+------------+--------------------+------------+--------------+------------------+-----------------+---------+------------+--------------+-----------+---------+------------+-------------+-----------+-------------+---------------+-------+-------------+-------------+---------+--------+-----------+----------+----------------------+-------------------+--------------+----------------------+-----------+-------------+---------------+-----------+------------+-----+------------+-----+------------+------------------+-----------+-------------+--------------------+-----------+----------+---------------+-------+-----------------+--------------------+------------+----------+---------+---------------+--------+---------------+-----------------+------------+---------------+------------+-------+---------------+-----------------+--------------+----------+-------------------+----------------------------+--------------------+---------------------+-------------+---------+------------+------------+---------------+----------------+----------------+----------+--------+------------+--------------+-------------+-------------+--------------+----------------------+---------------+----------+-------+----------+----------+------------------------+---------------+------------+-------------+------------+----------+-------------------------+------+-------------------+---------------+---------------+-----------+--------------+---------+--------------+-----------------+------------+----------+--------+--------------+------------+----------+-------------+------------------+-------------------+----------------------------+-----------------+-----------------+--------------------+--------------------+--------------+---------------+---------+-----------------------+-------------+-----+------------+-----------------+--------------+----------------+------------+-----------+--------------------+------------------+--------------------+-------+------------+------------+------------+--------------+-----------------+------------+-----------------+---------+------------+------------+-------------+-----------+-----------+-------------------+---------------+--------------+----------------+------------+---------------+----------+----------------+-----------+-------------+---------------------+-------------+-----------+----------+\n|         3-D Man|   true|              false|             false|                false|          false|     false|  false|            false| false|       false|               false|       false|         false|             false|            false|    false|       false|          true|      false|    false|       false|        false|      false|        false|          false|   true|        false|        false|    false|   false|       true|     false|                 false|              false|         false|                 false|      false|        false|          false|      false|       false|false|       false|false|       false|             false|      false|        false|               false|      false|     false|          false|  false|            false|               false|       false|     false|    false|          false|   false|          false|            false|       false|          false|       false|  false|          false|            false|         false|     false|              false|                       false|               false|                false|        false|    false|       false|       false|          false|           false|           false|     false|   false|       false|         false|        false|        false|         false|                 false|          false|     false|  false|     false|     false|                   false|          false|       false|        false|       false|     false|                    false| false|              false|          false|          false|      false|         false|    false|         false|            false|       false|     false|   false|         false|       false|     false|        false|             false|              false|                       false|            false|            false|               false|               false|         false|          false|    false|                  false|        false|false|       false|            false|         false|           false|       false|      false|               false|             false|               false|  false|       false|       false|       false|         false|            false|       false|            false|    false|       false|       false|        false|      false|      false|              false|          false|         false|           false|       false|          false|     false|           false|      false|        false|                false|        false|      false|     false|\n|          A-Bomb|  false|               true|             false|                false|          false|      true|  false|            false| false|       false|               false|       false|         false|             false|            false|     true|       false|          true|      false|    false|       false|        false|      false|        false|          false|   true|        false|        false|    false|   false|      false|     false|                 false|              false|         false|                 false|      false|        false|          false|      false|       false|false|       false|false|       false|             false|      false|        false|               false|      false|      true|          false|  false|            false|               false|       false|     false|    false|          false|   false|          false|            false|       false|           true|       false|  false|          false|            false|         false|     false|              false|                       false|               false|                false|        false|    false|       false|       false|          false|           false|           false|     false|   false|       false|         false|        false|        false|         false|                 false|          false|     false|  false|     false|     false|                   false|          false|       false|        false|       false|     false|                    false| false|              false|          false|          false|      false|         false|    false|         false|            false|       false|     false|   false|         false|       false|     false|        false|             false|              false|                       false|            false|            false|               false|               false|         false|          false|    false|                  false|        false|false|       false|            false|         false|           false|       false|      false|               false|             false|               false|  false|       false|       false|       false|         false|            false|       false|            false|    false|       false|       false|        false|      false|      false|              false|          false|         false|           false|       false|          false|     false|           false|      false|        false|                false|        false|      false|     false|\n|      Abe Sapien|   true|               true|             false|                false|           true|      true|  false|            false| false|       false|                true|        true|          true|             false|            false|     true|        true|          true|      false|     true|       false|        false|      false|        false|          false|   true|        false|        false|    false|   false|      false|     false|                 false|              false|         false|                 false|      false|        false|          false|      false|       false|false|       false|false|       false|             false|      false|        false|               false|       true|     false|          false|  false|            false|               false|       false|     false|    false|          false|    true|          false|            false|       false|          false|       false|  false|          false|            false|         false|     false|              false|                       false|               false|                false|        false|    false|       false|       false|          false|           false|           false|     false|   false|       false|         false|        false|        false|          true|                 false|          false|     false|  false|     false|     false|                   false|          false|       false|        false|       false|     false|                    false| false|              false|          false|          false|      false|         false|    false|         false|            false|       false|     false|   false|         false|       false|     false|        false|             false|              false|                       false|            false|            false|               false|               false|         false|          false|    false|                  false|        false|false|       false|            false|         false|           false|       false|       true|               false|             false|               false|  false|       false|       false|       false|         false|            false|       false|            false|    false|       false|       false|        false|      false|      false|              false|          false|         false|           false|       false|          false|     false|           false|      false|        false|                false|        false|      false|     false|\n|        Abin Sur|  false|              false|              true|                false|          false|     false|  false|            false| false|       false|               false|       false|         false|             false|            false|    false|       false|         false|      false|    false|       false|        false|      false|        false|          false|  false|        false|        false|    false|   false|      false|     false|                 false|              false|         false|                 false|      false|        false|          false|      false|       false|false|       false|false|       false|             false|      false|        false|               false|      false|     false|          false|  false|            false|               false|       false|     false|    false|          false|   false|          false|            false|       false|          false|       false|  false|          false|            false|         false|     false|              false|                       false|               false|                false|        false|    false|       false|       false|          false|           false|           false|     false|   false|       false|         false|        false|        false|         false|                 false|          false|     false|  false|     false|     false|                   false|          false|       false|        false|       false|     false|                    false| false|              false|          false|          false|      false|         false|    false|         false|            false|       false|     false|   false|         false|       false|     false|        false|             false|              false|                       false|            false|            false|               false|               false|         false|          false|    false|                  false|        false|false|       false|            false|         false|           false|       false|      false|               false|             false|               false|  false|       false|       false|       false|         false|            false|       false|            false|    false|       false|       false|        false|      false|      false|              false|          false|         false|           false|       false|          false|     false|           false|      false|        false|                false|        false|      false|     false|\n|     Abomination|  false|               true|             false|                false|          false|     false|  false|            false| false|       false|               false|       false|         false|             false|            false|    false|        true|          true|      false|    false|       false|        false|      false|        false|          false|   true|        false|        false|    false|   false|       true|     false|                 false|              false|         false|                 false|      false|        false|          false|      false|       false|false|       false|false|       false|             false|      false|        false|               false|      false|     false|          false|  false|            false|               false|       false|     false|    false|          false|   false|           true|            false|       false|          false|       false|  false|          false|            false|         false|     false|              false|                       false|               false|                false|        false|     true|       false|       false|          false|           false|           false|     false|   false|       false|         false|        false|        false|         false|                 false|          false|     false|  false|     false|     false|                   false|          false|       false|        false|       false|     false|                    false| false|              false|          false|          false|      false|         false|    false|         false|            false|       false|     false|   false|         false|       false|     false|        false|             false|              false|                       false|            false|            false|               false|               false|         false|          false|    false|                  false|        false|false|       false|            false|         false|           false|       false|      false|               false|             false|               false|  false|       false|        true|       false|         false|            false|       false|            false|    false|       false|       false|        false|      false|      false|              false|          false|         false|           false|       false|          false|     false|           false|      false|        false|                false|        false|      false|     false|\n|         Abraxas|  false|              false|             false|                 true|          false|     false|  false|            false|  true|       false|               false|       false|         false|             false|            false|    false|        true|          true|      false|    false|       false|        false|      false|         true|          false|  false|        false|        false|    false|   false|       true|     false|                 false|              false|         false|                 false|      false|         true|          false|      false|       false| true|       false|false|       false|              true|      false|        false|               false|       true|     false|          false|  false|            false|               false|       false|     false|    false|          false|   false|           true|            false|       false|          false|       false|  false|          false|            false|         false|     false|              false|                       false|               false|                false|        false|    false|       false|       false|          false|           false|           false|     false|   false|       false|         false|        false|        false|         false|                  true|          false|     false|  false|     false|     false|                   false|          false|       false|        false|       false|     false|                    false| false|               true|          false|          false|      false|         false|    false|         false|            false|       false|     false|   false|         false|        true|     false|        false|             false|              false|                       false|            false|            false|               false|               false|         false|          false|    false|                  false|        false|false|       false|            false|         false|           false|       false|      false|               false|             false|               false|  false|       false|       false|       false|         false|            false|       false|            false|    false|       false|       false|        false|      false|      false|              false|          false|         false|           false|       false|          false|     false|           false|      false|        false|                false|        false|      false|     false|\n|   Absorbing Man|  false|              false|             false|                false|           true|      true|  false|             true| false|       false|               false|       false|         false|             false|            false|    false|       false|          true|      false|    false|       false|        false|      false|        false|          false|  false|        false|        false|    false|   false|      false|     false|                 false|              false|         false|                 false|      false|        false|          false|      false|       false|false|       false|false|       false|             false|      false|        false|               false|      false|     false|          false|  false|            false|               false|       false|     false|    false|          false|   false|           true|            false|       false|          false|       false|  false|          false|            false|         false|     false|              false|                        true|               false|                false|        false|    false|       false|       false|           true|           false|           false|     false|   false|       false|         false|         true|        false|         false|                  true|          false|     false|  false|     false|     false|                   false|          false|       false|        false|       false|     false|                    false| false|              false|           true|          false|      false|         false|    false|         false|            false|       false|     false|   false|         false|       false|     false|        false|             false|              false|                       false|            false|            false|               false|               false|         false|          false|    false|                  false|        false|false|       false|            false|         false|           false|       false|      false|               false|             false|               false|  false|       false|       false|       false|         false|            false|       false|             true|    false|       false|       false|        false|      false|      false|              false|          false|         false|           false|       false|          false|     false|           false|      false|        false|                false|        false|      false|     false|\n|     Adam Monroe|  false|               true|             false|                false|          false|     false|  false|            false| false|       false|               false|       false|         false|             false|            false|    false|       false|         false|      false|    false|       false|        false|      false|        false|          false|  false|        false|        false|    false|   false|      false|     false|                 false|              false|         false|                 false|      false|        false|          false|      false|       false|false|       false|false|       false|             false|      false|        false|               false|       true|     false|          false|  false|            false|               false|       false|     false|    false|          false|   false|          false|            false|       false|          false|       false|  false|          false|            false|         false|     false|              false|                       false|               false|                false|        false|    false|       false|       false|          false|           false|           false|     false|   false|       false|         false|        false|        false|         false|                 false|          false|     false|  false|     false|     false|                   false|          false|        true|        false|       false|     false|                    false| false|              false|          false|          false|      false|         false|    false|         false|            false|       false|     false|   false|         false|       false|     false|        false|             false|              false|                       false|            false|            false|               false|               false|         false|          false|    false|                  false|        false|false|       false|            false|         false|           false|       false|      false|               false|             false|               false|  false|       false|       false|       false|         false|            false|       false|            false|    false|       false|       false|        false|      false|      false|              false|          false|         false|           false|       false|          false|     false|           false|      false|        false|                false|        false|      false|     false|\n|    Adam Strange|  false|              false|             false|                false|          false|      true|   true|            false|  true|       false|               false|        true|          true|             false|            false|    false|        true|         false|      false|    false|       false|        false|      false|        false|          false|  false|        false|        false|    false|   false|       true|     false|                 false|              false|         false|                 false|      false|        false|          false|      false|       false|false|       false|false|       false|             false|      false|        false|               false|      false|     false|          false|  false|            false|               false|       false|     false|    false|          false|   false|          false|            false|       false|          false|       false|  false|          false|            false|         false|     false|              false|                       false|               false|                false|        false|    false|       false|       false|           true|           false|           false|     false|   false|       false|         false|        false|        false|          true|                 false|          false|     false|  false|      true|     false|                   false|          false|       false|        false|       false|     false|                    false| false|              false|          false|          false|      false|         false|    false|         false|            false|       false|     false|   false|         false|       false|     false|        false|             false|              false|                       false|            false|            false|               false|               false|         false|          false|    false|                  false|        false|false|       false|            false|         false|           false|       false|      false|               false|             false|               false|  false|       false|       false|       false|         false|            false|       false|            false|    false|       false|       false|        false|      false|      false|              false|          false|         false|           false|       false|          false|     false|           false|      false|        false|                false|        false|      false|     false|\n|       Agent Bob|  false|              false|             false|                false|          false|     false|   true|            false| false|       false|               false|       false|         false|             false|            false|    false|       false|         false|      false|    false|       false|        false|      false|        false|          false|  false|        false|        false|    false|   false|      false|     false|                 false|              false|         false|                 false|      false|        false|          false|      false|       false|false|       false|false|       false|             false|      false|        false|               false|      false|     false|          false|  false|            false|               false|       false|     false|    false|          false|   false|          false|            false|       false|          false|       false|  false|          false|            false|         false|     false|              false|                       false|               false|                false|        false|    false|       false|       false|          false|           false|           false|     false|   false|       false|         false|        false|        false|         false|                 false|          false|     false|  false|     false|     false|                   false|          false|       false|        false|       false|     false|                    false| false|              false|          false|          false|      false|         false|    false|         false|            false|       false|     false|   false|         false|       false|     false|        false|             false|              false|                       false|            false|            false|               false|               false|         false|          false|    false|                  false|        false|false|       false|            false|         false|           false|       false|      false|               false|             false|               false|  false|       false|       false|       false|         false|            false|       false|            false|    false|       false|       false|        false|      false|      false|              false|          false|         false|           false|       false|          false|     false|           false|      false|        false|                false|        false|      false|     false|\n|      Agent Zero|  false|              false|             false|                false|          false|     false|  false|             true| false|       false|               false|       false|         false|             false|            false|     true|       false|          true|      false|    false|       false|         true|      false|        false|          false|  false|        false|        false|    false|   false|      false|     false|                 false|              false|         false|                 false|      false|        false|          false|      false|        true|false|       false|false|       false|             false|      false|        false|               false|      false|     false|          false|  false|            false|               false|       false|     false|    false|          false|   false|          false|            false|       false|          false|       false|  false|          false|            false|         false|     false|              false|                       false|               false|                false|        false|    false|       false|       false|          false|           false|           false|     false|   false|       false|         false|        false|        false|         false|                 false|          false|     false|  false|      true|     false|                   false|          false|       false|        false|       false|     false|                    false| false|              false|          false|          false|      false|         false|    false|         false|            false|       false|     false|   false|         false|       false|     false|        false|             false|              false|                       false|            false|            false|               false|               false|         false|          false|    false|                  false|        false|false|       false|            false|         false|           false|       false|      false|               false|             false|               false|  false|       false|       false|       false|         false|            false|       false|            false|    false|       false|       false|        false|      false|      false|              false|          false|         false|           false|       false|          false|     false|           false|      false|        false|                false|        false|      false|     false|\n|      Air-Walker|  false|              false|             false|                false|          false|     false|  false|            false|  true|       false|               false|       false|         false|             false|            false|    false|       false|          true|      false|    false|       false|        false|      false|        false|          false|  false|        false|        false|    false|   false|       true|     false|                 false|              false|         false|                 false|      false|        false|          false|      false|       false|false|       false|false|       false|             false|      false|        false|               false|      false|     false|          false|  false|            false|               false|       false|     false|    false|          false|   false|          false|            false|       false|           true|       false|  false|          false|            false|         false|     false|              false|                       false|               false|                false|        false|    false|       false|       false|          false|           false|           false|     false|   false|       false|         false|        false|        false|         false|                  true|          false|     false|  false|     false|     false|                   false|          false|       false|        false|       false|     false|                    false| false|              false|          false|          false|      false|         false|    false|         false|            false|       false|     false|   false|         false|        true|     false|        false|             false|              false|                       false|            false|            false|               false|               false|         false|          false|    false|                  false|        false|false|       false|            false|         false|           false|       false|      false|               false|             false|               false|  false|       false|       false|       false|         false|            false|       false|            false|    false|       false|       false|        false|      false|      false|              false|          false|         false|           false|       false|          false|     false|           false|      false|        false|                false|        false|      false|     false|\n|            Ajax|   true|              false|             false|                false|          false|     false|  false|            false| false|       false|               false|       false|         false|             false|            false|    false|       false|          true|      false|    false|       false|        false|      false|        false|          false|  false|        false|        false|    false|   false|       true|     false|                 false|              false|         false|                 false|      false|        false|          false|      false|       false|false|       false|false|       false|             false|      false|        false|               false|      false|     false|          false|  false|            false|               false|       false|     false|    false|          false|   false|          false|            false|       false|          false|       false|  false|          false|            false|         false|     false|              false|                       false|               false|                false|        false|    false|       false|       false|          false|           false|           false|     false|   false|       false|         false|        false|        false|         false|                 false|           true|     false|  false|      true|     false|                   false|          false|       false|        false|       false|     false|                    false| false|              false|          false|          false|      false|         false|    false|         false|            false|       false|     false|   false|         false|       false|     false|        false|             false|              false|                       false|            false|            false|               false|               false|         false|          false|    false|                  false|        false|false|       false|            false|         false|           false|       false|      false|               false|             false|               false|  false|       false|       false|       false|         false|            false|       false|            false|    false|       false|       false|        false|      false|      false|              false|          false|         false|           false|       false|          false|     false|           false|      false|        false|                false|        false|      false|     false|\n|      Alan Scott|  false|              false|             false|                false|          false|     false|  false|            false|  true|        true|               false|       false|         false|             false|            false|    false|        true|         false|      false|     true|       false|         true|      false|        false|          false|  false|        false|        false|    false|   false|       true|     false|                 false|              false|         false|                 false|      false|         true|          false|      false|        true|false|       false|false|       false|             false|      false|        false|               false|      false|     false|          false|   true|            false|               false|       false|     false|    false|          false|   false|          false|            false|        true|          false|       false|  false|          false|            false|         false|     false|              false|                       false|               false|                false|        false|    false|       false|       false|          false|           false|           false|     false|   false|        true|         false|        false|        false|         false|                 false|          false|     false|  false|     false|     false|                   false|          false|       false|        false|       false|     false|                    false| false|               true|          false|          false|      false|         false|    false|         false|            false|       false|     false|   false|         false|       false|     false|        false|             false|              false|                       false|            false|            false|               false|               false|         false|          false|    false|                  false|        false|false|       false|            false|         false|           false|        true|      false|               false|             false|               false|  false|       false|       false|       false|         false|            false|       false|            false|    false|       false|       false|        false|      false|      false|              false|          false|         false|           false|       false|          false|     false|           false|      false|        false|                false|        false|      false|     false|\n|     Alex Mercer|   true|               true|             false|                false|          false|     false|   true|             true| false|        true|               false|        true|          true|             false|            false|     true|       false|          true|      false|    false|       false|         true|      false|        false|          false|   true|        false|        false|    false|   false|       true|     false|                 false|              false|         false|                 false|      false|        false|           true|      false|       false|false|       false| true|       false|             false|      false|         true|               false|       true|     false|          false|  false|            false|               false|       false|     false|    false|          false|   false|           true|            false|       false|          false|       false|  false|          false|            false|         false|      true|               true|                       false|               false|                false|        false|    false|       false|       false|          false|           false|            true|     false|   false|       false|         false|         true|        false|         false|                 false|          false|      true|   true|     false|     false|                   false|          false|       false|        false|       false|     false|                    false| false|              false|          false|           true|      false|         false|    false|         false|            false|       false|     false|   false|         false|       false|     false|        false|             false|              false|                       false|            false|            false|               false|               false|         false|          false|    false|                  false|        false|false|       false|            false|         false|           false|       false|      false|               false|             false|               false|  false|       false|       false|        true|         false|            false|       false|             true|    false|       false|       false|        false|      false|      false|              false|          false|         false|            true|       false|          false|     false|           false|      false|        false|                false|        false|      false|     false|\n|    Alex Woolsly|  false|              false|             false|                false|          false|     false|  false|            false| false|       false|                true|       false|         false|             false|            false|    false|       false|         false|      false|    false|       false|        false|      false|        false|          false|  false|        false|        false|    false|   false|      false|     false|                 false|              false|         false|                 false|      false|        false|          false|      false|       false|false|       false|false|       false|             false|      false|        false|               false|      false|     false|          false|  false|            false|               false|       false|     false|    false|          false|   false|          false|            false|       false|          false|       false|  false|          false|            false|         false|     false|              false|                       false|               false|                false|        false|    false|       false|       false|          false|           false|           false|     false|   false|       false|         false|        false|        false|         false|                 false|          false|     false|  false|     false|     false|                   false|          false|       false|        false|       false|     false|                    false| false|              false|          false|          false|      false|         false|    false|         false|            false|       false|     false|   false|         false|       false|     false|        false|             false|              false|                       false|            false|            false|               false|               false|         false|          false|    false|                  false|        false|false|       false|            false|         false|           false|       false|      false|               false|             false|               false|  false|       false|       false|       false|         false|            false|       false|            false|    false|       false|       false|        false|      false|      false|              false|          false|         false|           false|       false|          false|     false|           false|      false|        false|                false|        false|      false|     false|\n|           Alien|   true|              false|             false|                false|           true|      true|   true|            false| false|       false|               false|       false|         false|             false|            false|    false|       false|          true|      false|    false|       false|        false|      false|        false|          false|  false|        false|        false|    false|   false|       true|     false|                 false|              false|         false|                 false|      false|        false|           true|      false|       false|false|       false| true|       false|             false|      false|        false|               false|      false|     false|          false|  false|            false|               false|       false|     false|    false|          false|   false|          false|            false|       false|          false|       false|  false|          false|            false|         false|     false|               true|                       false|               false|                false|        false|    false|       false|       false|          false|           false|           false|     false|   false|       false|         false|         true|        false|         false|                 false|          false|     false|  false|     false|     false|                   false|          false|       false|        false|       false|     false|                    false| false|              false|           true|           true|      false|         false|    false|         false|            false|       false|     false|   false|         false|       false|     false|        false|             false|              false|                       false|            false|            false|               false|               false|         false|          false|    false|                  false|        false|false|       false|            false|         false|           false|       false|      false|               false|             false|               false|  false|       false|       false|        true|         false|            false|       false|            false|    false|       false|       false|        false|      false|      false|              false|          false|         false|            true|       false|          false|     false|           false|      false|        false|                false|        false|      false|     false|\n|Allan Quatermain|  false|              false|             false|                false|          false|     false|  false|            false| false|       false|               false|        true|         false|             false|            false|    false|       false|         false|      false|    false|       false|        false|      false|        false|          false|  false|        false|        false|    false|   false|      false|     false|                 false|              false|         false|                 false|      false|        false|          false|      false|       false|false|       false|false|       false|             false|      false|        false|               false|      false|     false|          false|  false|            false|               false|       false|     false|    false|          false|   false|          false|            false|       false|          false|       false|  false|          false|            false|         false|     false|              false|                       false|               false|                false|        false|    false|       false|       false|          false|           false|           false|     false|   false|       false|         false|        false|        false|         false|                 false|          false|     false|  false|     false|     false|                   false|          false|       false|        false|       false|     false|                    false| false|              false|          false|          false|      false|         false|    false|         false|            false|       false|     false|   false|         false|       false|     false|        false|             false|              false|                       false|            false|            false|               false|               false|         false|          false|    false|                  false|        false|false|       false|            false|         false|           false|       false|      false|               false|             false|               false|  false|       false|       false|       false|         false|            false|       false|            false|    false|       false|       false|        false|      false|      false|              false|          false|         false|           false|       false|          false|     false|           false|      false|        false|                false|        false|      false|     false|\n|           Amazo|   true|              false|              true|                false|          false|      true|  false|            false|  true|       false|                true|        true|         false|              true|            false|     true|        true|          true|       true|     true|       false|         true|       true|         true|          false|   true|        false|        false|    false|   false|       true|     false|                 false|               true|         false|                 false|      false|         true|           true|      false|       false|false|       false| true|       false|             false|      false|         true|               false|      false|      true|          false|   true|            false|               false|        true|     false|    false|           true|    true|           true|             true|        true|          false|       false|  false|          false|            false|         false|     false|              false|                       false|               false|                false|        false|    false|       false|       false|          false|            true|            true|     false|   false|       false|         false|        false|        false|         false|                 false|          false|     false|  false|     false|     false|                   false|          false|       false|        false|       false|     false|                    false| false|              false|          false|          false|       true|          true|    false|         false|            false|       false|     false|   false|         false|       false|     false|         true|             false|               true|                       false|            false|            false|               false|               false|         false|          false|     true|                  false|        false|false|       false|            false|         false|           false|        true|      false|               false|             false|                true|  false|       false|        true|       false|          true|            false|       false|            false|    false|       false|       false|         true|      false|      false|              false|          false|          true|            true|       false|          false|     false|           false|      false|        false|                false|        false|      false|     false|\n|            Ammo|  false|              false|             false|                false|          false|     false|  false|            false| false|       false|               false|       false|          true|             false|            false|    false|       false|         false|      false|    false|       false|        false|      false|        false|          false|  false|        false|        false|    false|   false|      false|     false|                 false|              false|         false|                 false|      false|        false|          false|      false|       false|false|       false|false|       false|             false|      false|        false|               false|      false|     false|          false|  false|            false|               false|       false|     false|    false|          false|   false|          false|            false|       false|          false|       false|  false|          false|            false|         false|     false|              false|                       false|               false|                false|        false|    false|       false|       false|          false|           false|           false|     false|   false|       false|         false|        false|        false|         false|                 false|          false|     false|  false|     false|     false|                   false|          false|       false|        false|       false|     false|                    false| false|              false|          false|          false|      false|         false|    false|         false|            false|       false|     false|   false|         false|       false|     false|        false|             false|              false|                       false|            false|            false|               false|               false|         false|          false|    false|                  false|        false|false|       false|            false|         false|           false|       false|      false|               false|             false|               false|  false|       false|       false|       false|         false|            false|       false|            false|    false|       false|       false|        false|      false|      false|              false|          false|         false|           false|       false|          false|     false|           false|      false|        false|                false|        false|      false|     false|\n+----------------+-------+-------------------+------------------+---------------------+---------------+----------+-------+-----------------+------+------------+--------------------+------------+--------------+------------------+-----------------+---------+------------+--------------+-----------+---------+------------+-------------+-----------+-------------+---------------+-------+-------------+-------------+---------+--------+-----------+----------+----------------------+-------------------+--------------+----------------------+-----------+-------------+---------------+-----------+------------+-----+------------+-----+------------+------------------+-----------+-------------+--------------------+-----------+----------+---------------+-------+-----------------+--------------------+------------+----------+---------+---------------+--------+---------------+-----------------+------------+---------------+------------+-------+---------------+-----------------+--------------+----------+-------------------+----------------------------+--------------------+---------------------+-------------+---------+------------+------------+---------------+----------------+----------------+----------+--------+------------+--------------+-------------+-------------+--------------+----------------------+---------------+----------+-------+----------+----------+------------------------+---------------+------------+-------------+------------+----------+-------------------------+------+-------------------+---------------+---------------+-----------+--------------+---------+--------------+-----------------+------------+----------+--------+--------------+------------+----------+-------------+------------------+-------------------+----------------------------+-----------------+-----------------+--------------------+--------------------+--------------+---------------+---------+-----------------------+-------------+-----+------------+-----------------+--------------+----------------+------------+-----------+--------------------+------------------+--------------------+-------+------------+------------+------------+--------------+-----------------+------------+-----------------+---------+------------+------------+-------------+-----------+-----------+-------------------+---------------+--------------+----------------+------------+---------------+----------+----------------+-----------+-------------+---------------------+-------------+-----------+----------+\nonly showing top 20 rows\n\n"
     ]
    }
   ],
   "source": [
    "#Rename to match\n",
    "df_power = df_hero_power.withColumnRenamed(\"hero_names\",\"name\")\n",
    "\n",
    "df_power.show()"
   ]
  },
  {
   "cell_type": "code",
   "execution_count": 0,
   "metadata": {
    "application/vnd.databricks.v1+cell": {
     "cellMetadata": {},
     "inputWidgets": {},
     "nuid": "93c92968-dc5d-4ff8-9aca-0565834b6480",
     "showTitle": false,
     "title": ""
    },
    "colab": {
     "base_uri": "https://localhost:8080/"
    },
    "id": "7CjD7e8K-kM_",
    "outputId": "c01cfd16-69de-40d2-eddd-f81f3ecb621a"
   },
   "outputs": [
    {
     "output_type": "stream",
     "name": "stdout",
     "output_type": "stream",
     "text": [
      "+-----------------+---+------+---------+-----------------+----------+------+-----------------+----------+---------+------+-------+-------------------+------------------+---------------------+---------------+----------+-------+-----------------+------+------------+--------------------+------------+--------------+------------------+-----------------+---------+------------+--------------+-----------+---------+------------+-------------+-----------+-------------+---------------+-------+-------------+-------------+---------+--------+-----------+----------+----------------------+-------------------+--------------+----------------------+-----------+-------------+---------------+-----------+------------+-----+------------+-----+------------+------------------+-----------+-------------+--------------------+-----------+----------+---------------+-------+-----------------+--------------------+------------+----------+---------+---------------+--------+---------------+-----------------+------------+---------------+------------+-------+---------------+-----------------+--------------+----------+-------------------+----------------------------+--------------------+---------------------+-------------+---------+------------+------------+---------------+----------------+----------------+----------+--------+------------+--------------+-------------+-------------+--------------+----------------------+---------------+----------+-------+----------+----------+------------------------+---------------+------------+-------------+------------+----------+-------------------------+------+-------------------+---------------+---------------+-----------+--------------+---------+--------------+-----------------+------------+----------+--------+--------------+------------+----------+-------------+------------------+-------------------+----------------------------+-----------------+-----------------+--------------------+--------------------+--------------+---------------+---------+-----------------------+-------------+-----+------------+-----------------+--------------+----------------+------------+-----------+--------------------+------------------+--------------------+-------+------------+------------+------------+--------------+-----------------+------------+-----------------+---------+------------+------------+-------------+-----------+-----------+-------------------+---------------+--------------+----------------+------------+---------------+----------+----------------+-----------+-------------+---------------------+-------------+-----------+----------+\n|             name|_c0|Gender|Eye color|             Race|Hair color|Height|        Publisher|Skin color|Alignment|Weight|Agility|Accelerated Healing|Lantern Power Ring|Dimensional Awareness|Cold Resistance|Durability|Stealth|Energy Absorption|Flight|Danger Sense|Underwater breathing|Marksmanship|Weapons Master|Power Augmentation|Animal Attributes|Longevity|Intelligence|Super Strength|Cryokinesis|Telepathy|Energy Armor|Energy Blasts|Duplication|Size Changing|Density Control|Stamina|Astral Travel|Audio Control|Dexterity|Omnitrix|Super Speed|Possession|Animal Oriented Powers|Weapon-based Powers|Electrokinesis|Darkforce Manipulation|Death Touch|Teleportation|Enhanced Senses|Telekinesis|Energy Beams|Magic|Hyperkinesis| Jump|Clairvoyance|Dimensional Travel|Power Sense|Shapeshifting|Peak Human Condition|Immortality|Camouflage|Element Control|Phasing|Astral Projection|Electrical Transport|Fire Control|Projection|Summoning|Enhanced Memory|Reflexes|Invulnerability|Energy Constructs|Force Fields|Self-Sustenance|Anti-Gravity|Empathy|Power Nullifier|Radiation Control|Psionic Powers|Elasticity|Substance Secretion|Elemental Transmogrification|Technopath/Cyberpath|Photographic Reflexes|Seismic Power|Animation|Precognition|Mind Control|Fire Resistance|Power Absorption|Enhanced Hearing|Nova Force|Insanity|Hypnokinesis|Animal Control|Natural Armor|Intangibility|Enhanced Sight|Molecular Manipulation|Heat Generation|Adaptation|Gliding|Power Suit|Mind Blast|Probability Manipulation|Gravity Control|Regeneration|Light Control|Echolocation|Levitation|Toxin and Disease Control|Banish|Energy Manipulation|Heat Resistance|Natural Weapons|Time Travel|Enhanced Smell|Illusions|Thirstokinesis|Hair Manipulation|Illumination|Omnipotent|Cloaking|Changing Armor|Power Cosmic|Biokinesis|Water Control|Radiation Immunity|Vision - Telescopic|Toxin and Disease Resistance|Spatial Awareness|Energy Resistance|Telepathy Resistance|Molecular Combustion|Omnilingualism|Portal Creation|Magnetism|Mind Control Resistance|Plant Control|Sonar|Sonic Scream|Time Manipulation|Enhanced Touch|Magic Resistance|Invisibility|Sub-Mariner|Radiation Absorption|Intuitive aptitude|Vision - Microscopic|Melting|Wind Control|Super Breath|Wallcrawling|Vision - Night|Vision - Infrared|Grim Reaping|Matter Absorption|The Force|Resurrection|Terrakinesis|Vision - Heat|Vitakinesis|Radar Sense|Qwardian Power Ring|Weather Control|Vision - X-Ray|Vision - Thermal|Web Creation|Reality Warping|Odin Force|Symbiote Costume|Speed Force|Phoenix Force|Molecular Dissipation|Vision - Cryo|Omnipresent|Omniscient|\n+-----------------+---+------+---------+-----------------+----------+------+-----------------+----------+---------+------+-------+-------------------+------------------+---------------------+---------------+----------+-------+-----------------+------+------------+--------------------+------------+--------------+------------------+-----------------+---------+------------+--------------+-----------+---------+------------+-------------+-----------+-------------+---------------+-------+-------------+-------------+---------+--------+-----------+----------+----------------------+-------------------+--------------+----------------------+-----------+-------------+---------------+-----------+------------+-----+------------+-----+------------+------------------+-----------+-------------+--------------------+-----------+----------+---------------+-------+-----------------+--------------------+------------+----------+---------+---------------+--------+---------------+-----------------+------------+---------------+------------+-------+---------------+-----------------+--------------+----------+-------------------+----------------------------+--------------------+---------------------+-------------+---------+------------+------------+---------------+----------------+----------------+----------+--------+------------+--------------+-------------+-------------+--------------+----------------------+---------------+----------+-------+----------+----------+------------------------+---------------+------------+-------------+------------+----------+-------------------------+------+-------------------+---------------+---------------+-----------+--------------+---------+--------------+-----------------+------------+----------+--------+--------------+------------+----------+-------------+------------------+-------------------+----------------------------+-----------------+-----------------+--------------------+--------------------+--------------+---------------+---------+-----------------------+-------------+-----+------------+-----------------+--------------+----------------+------------+-----------+--------------------+------------------+--------------------+-------+------------+------------+------------+--------------+-----------------+------------+-----------------+---------+------------+------------+-------------+-----------+-----------+-------------------+---------------+--------------+----------------+------------+---------------+----------+----------------+-----------+-------------+---------------------+-------------+-----------+----------+\n|           A-Bomb|  0|  Male|   yellow|            Human|   No Hair| 203.0|    Marvel Comics|         -|     good| 441.0|  false|               true|             false|                false|          false|      true|  false|            false| false|       false|               false|       false|         false|             false|            false|     true|       false|          true|      false|    false|       false|        false|      false|        false|          false|   true|        false|        false|    false|   false|      false|     false|                 false|              false|         false|                 false|      false|        false|          false|      false|       false|false|       false|false|       false|             false|      false|        false|               false|      false|      true|          false|  false|            false|               false|       false|     false|    false|          false|   false|          false|            false|       false|           true|       false|  false|          false|            false|         false|     false|              false|                       false|               false|                false|        false|    false|       false|       false|          false|           false|           false|     false|   false|       false|         false|        false|        false|         false|                 false|          false|     false|  false|     false|     false|                   false|          false|       false|        false|       false|     false|                    false| false|              false|          false|          false|      false|         false|    false|         false|            false|       false|     false|   false|         false|       false|     false|        false|             false|              false|                       false|            false|            false|               false|               false|         false|          false|    false|                  false|        false|false|       false|            false|         false|           false|       false|      false|               false|             false|               false|  false|       false|       false|       false|         false|            false|       false|            false|    false|       false|       false|        false|      false|      false|              false|          false|         false|           false|       false|          false|     false|           false|      false|        false|                false|        false|      false|     false|\n|       Abe Sapien|  1|  Male|     blue|    Icthyo Sapien|   No Hair| 191.0|Dark Horse Comics|      blue|     good|  65.0|   true|               true|             false|                false|           true|      true|  false|            false| false|       false|                true|        true|          true|             false|            false|     true|        true|          true|      false|     true|       false|        false|      false|        false|          false|   true|        false|        false|    false|   false|      false|     false|                 false|              false|         false|                 false|      false|        false|          false|      false|       false|false|       false|false|       false|             false|      false|        false|               false|       true|     false|          false|  false|            false|               false|       false|     false|    false|          false|    true|          false|            false|       false|          false|       false|  false|          false|            false|         false|     false|              false|                       false|               false|                false|        false|    false|       false|       false|          false|           false|           false|     false|   false|       false|         false|        false|        false|          true|                 false|          false|     false|  false|     false|     false|                   false|          false|       false|        false|       false|     false|                    false| false|              false|          false|          false|      false|         false|    false|         false|            false|       false|     false|   false|         false|       false|     false|        false|             false|              false|                       false|            false|            false|               false|               false|         false|          false|    false|                  false|        false|false|       false|            false|         false|           false|       false|       true|               false|             false|               false|  false|       false|       false|       false|         false|            false|       false|            false|    false|       false|       false|        false|      false|      false|              false|          false|         false|           false|       false|          false|     false|           false|      false|        false|                false|        false|      false|     false|\n|         Abin Sur|  2|  Male|     blue|          Ungaran|   No Hair| 185.0|        DC Comics|       red|     good|  90.0|  false|              false|              true|                false|          false|     false|  false|            false| false|       false|               false|       false|         false|             false|            false|    false|       false|         false|      false|    false|       false|        false|      false|        false|          false|  false|        false|        false|    false|   false|      false|     false|                 false|              false|         false|                 false|      false|        false|          false|      false|       false|false|       false|false|       false|             false|      false|        false|               false|      false|     false|          false|  false|            false|               false|       false|     false|    false|          false|   false|          false|            false|       false|          false|       false|  false|          false|            false|         false|     false|              false|                       false|               false|                false|        false|    false|       false|       false|          false|           false|           false|     false|   false|       false|         false|        false|        false|         false|                 false|          false|     false|  false|     false|     false|                   false|          false|       false|        false|       false|     false|                    false| false|              false|          false|          false|      false|         false|    false|         false|            false|       false|     false|   false|         false|       false|     false|        false|             false|              false|                       false|            false|            false|               false|               false|         false|          false|    false|                  false|        false|false|       false|            false|         false|           false|       false|      false|               false|             false|               false|  false|       false|       false|       false|         false|            false|       false|            false|    false|       false|       false|        false|      false|      false|              false|          false|         false|           false|       false|          false|     false|           false|      false|        false|                false|        false|      false|     false|\n|      Abomination|  3|  Male|    green|Human / Radiation|   No Hair| 203.0|    Marvel Comics|         -|      bad| 441.0|  false|               true|             false|                false|          false|     false|  false|            false| false|       false|               false|       false|         false|             false|            false|    false|        true|          true|      false|    false|       false|        false|      false|        false|          false|   true|        false|        false|    false|   false|       true|     false|                 false|              false|         false|                 false|      false|        false|          false|      false|       false|false|       false|false|       false|             false|      false|        false|               false|      false|     false|          false|  false|            false|               false|       false|     false|    false|          false|   false|           true|            false|       false|          false|       false|  false|          false|            false|         false|     false|              false|                       false|               false|                false|        false|     true|       false|       false|          false|           false|           false|     false|   false|       false|         false|        false|        false|         false|                 false|          false|     false|  false|     false|     false|                   false|          false|       false|        false|       false|     false|                    false| false|              false|          false|          false|      false|         false|    false|         false|            false|       false|     false|   false|         false|       false|     false|        false|             false|              false|                       false|            false|            false|               false|               false|         false|          false|    false|                  false|        false|false|       false|            false|         false|           false|       false|      false|               false|             false|               false|  false|       false|        true|       false|         false|            false|       false|            false|    false|       false|       false|        false|      false|      false|              false|          false|         false|           false|       false|          false|     false|           false|      false|        false|                false|        false|      false|     false|\n|          Abraxas|  4|  Male|     blue|    Cosmic Entity|     Black| -99.0|    Marvel Comics|         -|      bad| -99.0|  false|              false|             false|                 true|          false|     false|  false|            false|  true|       false|               false|       false|         false|             false|            false|    false|        true|          true|      false|    false|       false|        false|      false|         true|          false|  false|        false|        false|    false|   false|       true|     false|                 false|              false|         false|                 false|      false|         true|          false|      false|       false| true|       false|false|       false|              true|      false|        false|               false|       true|     false|          false|  false|            false|               false|       false|     false|    false|          false|   false|           true|            false|       false|          false|       false|  false|          false|            false|         false|     false|              false|                       false|               false|                false|        false|    false|       false|       false|          false|           false|           false|     false|   false|       false|         false|        false|        false|         false|                  true|          false|     false|  false|     false|     false|                   false|          false|       false|        false|       false|     false|                    false| false|               true|          false|          false|      false|         false|    false|         false|            false|       false|     false|   false|         false|        true|     false|        false|             false|              false|                       false|            false|            false|               false|               false|         false|          false|    false|                  false|        false|false|       false|            false|         false|           false|       false|      false|               false|             false|               false|  false|       false|       false|       false|         false|            false|       false|            false|    false|       false|       false|        false|      false|      false|              false|          false|         false|           false|       false|          false|     false|           false|      false|        false|                false|        false|      false|     false|\n|    Absorbing Man|  5|  Male|     blue|            Human|   No Hair| 193.0|    Marvel Comics|         -|      bad| 122.0|  false|              false|             false|                false|           true|      true|  false|             true| false|       false|               false|       false|         false|             false|            false|    false|       false|          true|      false|    false|       false|        false|      false|        false|          false|  false|        false|        false|    false|   false|      false|     false|                 false|              false|         false|                 false|      false|        false|          false|      false|       false|false|       false|false|       false|             false|      false|        false|               false|      false|     false|          false|  false|            false|               false|       false|     false|    false|          false|   false|           true|            false|       false|          false|       false|  false|          false|            false|         false|     false|              false|                        true|               false|                false|        false|    false|       false|       false|           true|           false|           false|     false|   false|       false|         false|         true|        false|         false|                  true|          false|     false|  false|     false|     false|                   false|          false|       false|        false|       false|     false|                    false| false|              false|           true|          false|      false|         false|    false|         false|            false|       false|     false|   false|         false|       false|     false|        false|             false|              false|                       false|            false|            false|               false|               false|         false|          false|    false|                  false|        false|false|       false|            false|         false|           false|       false|      false|               false|             false|               false|  false|       false|       false|       false|         false|            false|       false|             true|    false|       false|       false|        false|      false|      false|              false|          false|         false|           false|       false|          false|     false|           false|      false|        false|                false|        false|      false|     false|\n|      Adam Monroe|  6|  Male|     blue|                -|     Blond| -99.0|     NBC - Heroes|         -|     good| -99.0|  false|               true|             false|                false|          false|     false|  false|            false| false|       false|               false|       false|         false|             false|            false|    false|       false|         false|      false|    false|       false|        false|      false|        false|          false|  false|        false|        false|    false|   false|      false|     false|                 false|              false|         false|                 false|      false|        false|          false|      false|       false|false|       false|false|       false|             false|      false|        false|               false|       true|     false|          false|  false|            false|               false|       false|     false|    false|          false|   false|          false|            false|       false|          false|       false|  false|          false|            false|         false|     false|              false|                       false|               false|                false|        false|    false|       false|       false|          false|           false|           false|     false|   false|       false|         false|        false|        false|         false|                 false|          false|     false|  false|     false|     false|                   false|          false|        true|        false|       false|     false|                    false| false|              false|          false|          false|      false|         false|    false|         false|            false|       false|     false|   false|         false|       false|     false|        false|             false|              false|                       false|            false|            false|               false|               false|         false|          false|    false|                  false|        false|false|       false|            false|         false|           false|       false|      false|               false|             false|               false|  false|       false|       false|       false|         false|            false|       false|            false|    false|       false|       false|        false|      false|      false|              false|          false|         false|           false|       false|          false|     false|           false|      false|        false|                false|        false|      false|     false|\n|     Adam Strange|  7|  Male|     blue|            Human|     Blond| 185.0|        DC Comics|         -|     good|  88.0|  false|              false|             false|                false|          false|      true|   true|            false|  true|       false|               false|        true|          true|             false|            false|    false|        true|         false|      false|    false|       false|        false|      false|        false|          false|  false|        false|        false|    false|   false|       true|     false|                 false|              false|         false|                 false|      false|        false|          false|      false|       false|false|       false|false|       false|             false|      false|        false|               false|      false|     false|          false|  false|            false|               false|       false|     false|    false|          false|   false|          false|            false|       false|          false|       false|  false|          false|            false|         false|     false|              false|                       false|               false|                false|        false|    false|       false|       false|           true|           false|           false|     false|   false|       false|         false|        false|        false|          true|                 false|          false|     false|  false|      true|     false|                   false|          false|       false|        false|       false|     false|                    false| false|              false|          false|          false|      false|         false|    false|         false|            false|       false|     false|   false|         false|       false|     false|        false|             false|              false|                       false|            false|            false|               false|               false|         false|          false|    false|                  false|        false|false|       false|            false|         false|           false|       false|      false|               false|             false|               false|  false|       false|       false|       false|         false|            false|       false|            false|    false|       false|       false|        false|      false|      false|              false|          false|         false|           false|       false|          false|     false|           false|      false|        false|                false|        false|      false|     false|\n|         Agent 13|  8|Female|     blue|                -|     Blond| 173.0|    Marvel Comics|         -|     good|  61.0|   null|               null|              null|                 null|           null|      null|   null|             null|  null|        null|                null|        null|          null|              null|             null|     null|        null|          null|       null|     null|        null|         null|       null|         null|           null|   null|         null|         null|     null|    null|       null|      null|                  null|               null|          null|                  null|       null|         null|           null|       null|        null| null|        null| null|        null|              null|       null|         null|                null|       null|      null|           null|   null|             null|                null|        null|      null|     null|           null|    null|           null|             null|        null|           null|        null|   null|           null|             null|          null|      null|               null|                        null|                null|                 null|         null|     null|        null|        null|           null|            null|            null|      null|    null|        null|          null|         null|         null|          null|                  null|           null|      null|   null|      null|      null|                    null|           null|        null|         null|        null|      null|                     null|  null|               null|           null|           null|       null|          null|     null|          null|             null|        null|      null|    null|          null|        null|      null|         null|              null|               null|                        null|             null|             null|                null|                null|          null|           null|     null|                   null|         null| null|        null|             null|          null|            null|        null|       null|                null|              null|                null|   null|        null|        null|        null|          null|             null|        null|             null|     null|        null|        null|         null|       null|       null|               null|           null|          null|            null|        null|           null|      null|            null|       null|         null|                 null|         null|       null|      null|\n|        Agent Bob|  9|  Male|    brown|            Human|     Brown| 178.0|    Marvel Comics|         -|     good|  81.0|  false|              false|             false|                false|          false|     false|   true|            false| false|       false|               false|       false|         false|             false|            false|    false|       false|         false|      false|    false|       false|        false|      false|        false|          false|  false|        false|        false|    false|   false|      false|     false|                 false|              false|         false|                 false|      false|        false|          false|      false|       false|false|       false|false|       false|             false|      false|        false|               false|      false|     false|          false|  false|            false|               false|       false|     false|    false|          false|   false|          false|            false|       false|          false|       false|  false|          false|            false|         false|     false|              false|                       false|               false|                false|        false|    false|       false|       false|          false|           false|           false|     false|   false|       false|         false|        false|        false|         false|                 false|          false|     false|  false|     false|     false|                   false|          false|       false|        false|       false|     false|                    false| false|              false|          false|          false|      false|         false|    false|         false|            false|       false|     false|   false|         false|       false|     false|        false|             false|              false|                       false|            false|            false|               false|               false|         false|          false|    false|                  false|        false|false|       false|            false|         false|           false|       false|      false|               false|             false|               false|  false|       false|       false|       false|         false|            false|       false|            false|    false|       false|       false|        false|      false|      false|              false|          false|         false|           false|       false|          false|     false|           false|      false|        false|                false|        false|      false|     false|\n|       Agent Zero| 10|  Male|        -|                -|         -| 191.0|    Marvel Comics|         -|     good| 104.0|  false|              false|             false|                false|          false|     false|  false|             true| false|       false|               false|       false|         false|             false|            false|     true|       false|          true|      false|    false|       false|         true|      false|        false|          false|  false|        false|        false|    false|   false|      false|     false|                 false|              false|         false|                 false|      false|        false|          false|      false|        true|false|       false|false|       false|             false|      false|        false|               false|      false|     false|          false|  false|            false|               false|       false|     false|    false|          false|   false|          false|            false|       false|          false|       false|  false|          false|            false|         false|     false|              false|                       false|               false|                false|        false|    false|       false|       false|          false|           false|           false|     false|   false|       false|         false|        false|        false|         false|                 false|          false|     false|  false|      true|     false|                   false|          false|       false|        false|       false|     false|                    false| false|              false|          false|          false|      false|         false|    false|         false|            false|       false|     false|   false|         false|       false|     false|        false|             false|              false|                       false|            false|            false|               false|               false|         false|          false|    false|                  false|        false|false|       false|            false|         false|           false|       false|      false|               false|             false|               false|  false|       false|       false|       false|         false|            false|       false|            false|    false|       false|       false|        false|      false|      false|              false|          false|         false|           false|       false|          false|     false|           false|      false|        false|                false|        false|      false|     false|\n|       Air-Walker| 11|  Male|     blue|                -|     White| 188.0|    Marvel Comics|         -|      bad| 108.0|  false|              false|             false|                false|          false|     false|  false|            false|  true|       false|               false|       false|         false|             false|            false|    false|       false|          true|      false|    false|       false|        false|      false|        false|          false|  false|        false|        false|    false|   false|       true|     false|                 false|              false|         false|                 false|      false|        false|          false|      false|       false|false|       false|false|       false|             false|      false|        false|               false|      false|     false|          false|  false|            false|               false|       false|     false|    false|          false|   false|          false|            false|       false|           true|       false|  false|          false|            false|         false|     false|              false|                       false|               false|                false|        false|    false|       false|       false|          false|           false|           false|     false|   false|       false|         false|        false|        false|         false|                  true|          false|     false|  false|     false|     false|                   false|          false|       false|        false|       false|     false|                    false| false|              false|          false|          false|      false|         false|    false|         false|            false|       false|     false|   false|         false|        true|     false|        false|             false|              false|                       false|            false|            false|               false|               false|         false|          false|    false|                  false|        false|false|       false|            false|         false|           false|       false|      false|               false|             false|               false|  false|       false|       false|       false|         false|            false|       false|            false|    false|       false|       false|        false|      false|      false|              false|          false|         false|           false|       false|          false|     false|           false|      false|        false|                false|        false|      false|     false|\n|             Ajax| 12|  Male|    brown|           Cyborg|     Black| 193.0|    Marvel Comics|         -|      bad|  90.0|   true|              false|             false|                false|          false|     false|  false|            false| false|       false|               false|       false|         false|             false|            false|    false|       false|          true|      false|    false|       false|        false|      false|        false|          false|  false|        false|        false|    false|   false|       true|     false|                 false|              false|         false|                 false|      false|        false|          false|      false|       false|false|       false|false|       false|             false|      false|        false|               false|      false|     false|          false|  false|            false|               false|       false|     false|    false|          false|   false|          false|            false|       false|          false|       false|  false|          false|            false|         false|     false|              false|                       false|               false|                false|        false|    false|       false|       false|          false|           false|           false|     false|   false|       false|         false|        false|        false|         false|                 false|           true|     false|  false|      true|     false|                   false|          false|       false|        false|       false|     false|                    false| false|              false|          false|          false|      false|         false|    false|         false|            false|       false|     false|   false|         false|       false|     false|        false|             false|              false|                       false|            false|            false|               false|               false|         false|          false|    false|                  false|        false|false|       false|            false|         false|           false|       false|      false|               false|             false|               false|  false|       false|       false|       false|         false|            false|       false|            false|    false|       false|       false|        false|      false|      false|              false|          false|         false|           false|       false|          false|     false|           false|      false|        false|                false|        false|      false|     false|\n|       Alan Scott| 13|  Male|     blue|                -|     Blond| 180.0|        DC Comics|         -|     good|  90.0|  false|              false|             false|                false|          false|     false|  false|            false|  true|        true|               false|       false|         false|             false|            false|    false|        true|         false|      false|     true|       false|         true|      false|        false|          false|  false|        false|        false|    false|   false|       true|     false|                 false|              false|         false|                 false|      false|         true|          false|      false|        true|false|       false|false|       false|             false|      false|        false|               false|      false|     false|          false|   true|            false|               false|       false|     false|    false|          false|   false|          false|            false|        true|          false|       false|  false|          false|            false|         false|     false|              false|                       false|               false|                false|        false|    false|       false|       false|          false|           false|           false|     false|   false|        true|         false|        false|        false|         false|                 false|          false|     false|  false|     false|     false|                   false|          false|       false|        false|       false|     false|                    false| false|               true|          false|          false|      false|         false|    false|         false|            false|       false|     false|   false|         false|       false|     false|        false|             false|              false|                       false|            false|            false|               false|               false|         false|          false|    false|                  false|        false|false|       false|            false|         false|           false|        true|      false|               false|             false|               false|  false|       false|       false|       false|         false|            false|       false|            false|    false|       false|       false|        false|      false|      false|              false|          false|         false|           false|       false|          false|     false|           false|      false|        false|                false|        false|      false|     false|\n|      Alex Mercer| 14|  Male|        -|            Human|         -| -99.0|        Wildstorm|         -|      bad| -99.0|   true|               true|             false|                false|          false|     false|   true|             true| false|        true|               false|        true|          true|             false|            false|     true|       false|          true|      false|    false|       false|         true|      false|        false|          false|   true|        false|        false|    false|   false|       true|     false|                 false|              false|         false|                 false|      false|        false|           true|      false|       false|false|       false| true|       false|             false|      false|         true|               false|       true|     false|          false|  false|            false|               false|       false|     false|    false|          false|   false|           true|            false|       false|          false|       false|  false|          false|            false|         false|      true|               true|                       false|               false|                false|        false|    false|       false|       false|          false|           false|            true|     false|   false|       false|         false|         true|        false|         false|                 false|          false|      true|   true|     false|     false|                   false|          false|       false|        false|       false|     false|                    false| false|              false|          false|           true|      false|         false|    false|         false|            false|       false|     false|   false|         false|       false|     false|        false|             false|              false|                       false|            false|            false|               false|               false|         false|          false|    false|                  false|        false|false|       false|            false|         false|           false|       false|      false|               false|             false|               false|  false|       false|       false|        true|         false|            false|       false|             true|    false|       false|       false|        false|      false|      false|              false|          false|         false|            true|       false|          false|     false|           false|      false|        false|                false|        false|      false|     false|\n|     Alex Woolsly| 15|  Male|        -|                -|         -| -99.0|     NBC - Heroes|         -|     good| -99.0|  false|              false|             false|                false|          false|     false|  false|            false| false|       false|                true|       false|         false|             false|            false|    false|       false|         false|      false|    false|       false|        false|      false|        false|          false|  false|        false|        false|    false|   false|      false|     false|                 false|              false|         false|                 false|      false|        false|          false|      false|       false|false|       false|false|       false|             false|      false|        false|               false|      false|     false|          false|  false|            false|               false|       false|     false|    false|          false|   false|          false|            false|       false|          false|       false|  false|          false|            false|         false|     false|              false|                       false|               false|                false|        false|    false|       false|       false|          false|           false|           false|     false|   false|       false|         false|        false|        false|         false|                 false|          false|     false|  false|     false|     false|                   false|          false|       false|        false|       false|     false|                    false| false|              false|          false|          false|      false|         false|    false|         false|            false|       false|     false|   false|         false|       false|     false|        false|             false|              false|                       false|            false|            false|               false|               false|         false|          false|    false|                  false|        false|false|       false|            false|         false|           false|       false|      false|               false|             false|               false|  false|       false|       false|       false|         false|            false|       false|            false|    false|       false|       false|        false|      false|      false|              false|          false|         false|           false|       false|          false|     false|           false|      false|        false|                false|        false|      false|     false|\n|Alfred Pennyworth| 16|  Male|     blue|            Human|     Black| 178.0|        DC Comics|         -|     good|  72.0|   null|               null|              null|                 null|           null|      null|   null|             null|  null|        null|                null|        null|          null|              null|             null|     null|        null|          null|       null|     null|        null|         null|       null|         null|           null|   null|         null|         null|     null|    null|       null|      null|                  null|               null|          null|                  null|       null|         null|           null|       null|        null| null|        null| null|        null|              null|       null|         null|                null|       null|      null|           null|   null|             null|                null|        null|      null|     null|           null|    null|           null|             null|        null|           null|        null|   null|           null|             null|          null|      null|               null|                        null|                null|                 null|         null|     null|        null|        null|           null|            null|            null|      null|    null|        null|          null|         null|         null|          null|                  null|           null|      null|   null|      null|      null|                    null|           null|        null|         null|        null|      null|                     null|  null|               null|           null|           null|       null|          null|     null|          null|             null|        null|      null|    null|          null|        null|      null|         null|              null|               null|                        null|             null|             null|                null|                null|          null|           null|     null|                   null|         null| null|        null|             null|          null|            null|        null|       null|                null|              null|                null|   null|        null|        null|        null|          null|             null|        null|             null|     null|        null|        null|         null|       null|       null|               null|           null|          null|            null|        null|           null|      null|            null|       null|         null|                 null|         null|       null|      null|\n|            Alien| 17|  Male|        -|  Xenomorph XX121|   No Hair| 244.0|Dark Horse Comics|     black|      bad| 169.0|   true|              false|             false|                false|           true|      true|   true|            false| false|       false|               false|       false|         false|             false|            false|    false|       false|          true|      false|    false|       false|        false|      false|        false|          false|  false|        false|        false|    false|   false|       true|     false|                 false|              false|         false|                 false|      false|        false|           true|      false|       false|false|       false| true|       false|             false|      false|        false|               false|      false|     false|          false|  false|            false|               false|       false|     false|    false|          false|   false|          false|            false|       false|          false|       false|  false|          false|            false|         false|     false|               true|                       false|               false|                false|        false|    false|       false|       false|          false|           false|           false|     false|   false|       false|         false|         true|        false|         false|                 false|          false|     false|  false|     false|     false|                   false|          false|       false|        false|       false|     false|                    false| false|              false|           true|           true|      false|         false|    false|         false|            false|       false|     false|   false|         false|       false|     false|        false|             false|              false|                       false|            false|            false|               false|               false|         false|          false|    false|                  false|        false|false|       false|            false|         false|           false|       false|      false|               false|             false|               false|  false|       false|       false|        true|         false|            false|       false|            false|    false|       false|       false|        false|      false|      false|              false|          false|         false|            true|       false|          false|     false|           false|      false|        false|                false|        false|      false|     false|\n| Allan Quatermain| 18|  Male|        -|                -|         -| -99.0|        Wildstorm|         -|     good| -99.0|  false|              false|             false|                false|          false|     false|  false|            false| false|       false|               false|        true|         false|             false|            false|    false|       false|         false|      false|    false|       false|        false|      false|        false|          false|  false|        false|        false|    false|   false|      false|     false|                 false|              false|         false|                 false|      false|        false|          false|      false|       false|false|       false|false|       false|             false|      false|        false|               false|      false|     false|          false|  false|            false|               false|       false|     false|    false|          false|   false|          false|            false|       false|          false|       false|  false|          false|            false|         false|     false|              false|                       false|               false|                false|        false|    false|       false|       false|          false|           false|           false|     false|   false|       false|         false|        false|        false|         false|                 false|          false|     false|  false|     false|     false|                   false|          false|       false|        false|       false|     false|                    false| false|              false|          false|          false|      false|         false|    false|         false|            false|       false|     false|   false|         false|       false|     false|        false|             false|              false|                       false|            false|            false|               false|               false|         false|          false|    false|                  false|        false|false|       false|            false|         false|           false|       false|      false|               false|             false|               false|  false|       false|       false|       false|         false|            false|       false|            false|    false|       false|       false|        false|      false|      false|              false|          false|         false|           false|       false|          false|     false|           false|      false|        false|                false|        false|      false|     false|\n|            Amazo| 19|  Male|      red|          Android|         -| 257.0|        DC Comics|         -|      bad| 173.0|   true|              false|              true|                false|          false|      true|  false|            false|  true|       false|                true|        true|         false|              true|            false|     true|        true|          true|       true|     true|       false|         true|       true|         true|          false|   true|        false|        false|    false|   false|       true|     false|                 false|               true|         false|                 false|      false|         true|           true|      false|       false|false|       false| true|       false|             false|      false|         true|               false|      false|      true|          false|   true|            false|               false|        true|     false|    false|           true|    true|           true|             true|        true|          false|       false|  false|          false|            false|         false|     false|              false|                       false|               false|                false|        false|    false|       false|       false|          false|            true|            true|     false|   false|       false|         false|        false|        false|         false|                 false|          false|     false|  false|     false|     false|                   false|          false|       false|        false|       false|     false|                    false| false|              false|          false|          false|       true|          true|    false|         false|            false|       false|     false|   false|         false|       false|     false|         true|             false|               true|                       false|            false|            false|               false|               false|         false|          false|     true|                  false|        false|false|       false|            false|         false|           false|        true|      false|               false|             false|                true|  false|       false|        true|       false|          true|            false|       false|            false|    false|       false|       false|         true|      false|      false|              false|          false|          true|            true|       false|          false|     false|           false|      false|        false|                false|        false|      false|     false|\n+-----------------+---+------+---------+-----------------+----------+------+-----------------+----------+---------+------+-------+-------------------+------------------+---------------------+---------------+----------+-------+-----------------+------+------------+--------------------+------------+--------------+------------------+-----------------+---------+------------+--------------+-----------+---------+------------+-------------+-----------+-------------+---------------+-------+-------------+-------------+---------+--------+-----------+----------+----------------------+-------------------+--------------+----------------------+-----------+-------------+---------------+-----------+------------+-----+------------+-----+------------+------------------+-----------+-------------+--------------------+-----------+----------+---------------+-------+-----------------+--------------------+------------+----------+---------+---------------+--------+---------------+-----------------+------------+---------------+------------+-------+---------------+-----------------+--------------+----------+-------------------+----------------------------+--------------------+---------------------+-------------+---------+------------+------------+---------------+----------------+----------------+----------+--------+------------+--------------+-------------+-------------+--------------+----------------------+---------------+----------+-------+----------+----------+------------------------+---------------+------------+-------------+------------+----------+-------------------------+------+-------------------+---------------+---------------+-----------+--------------+---------+--------------+-----------------+------------+----------+--------+--------------+------------+----------+-------------+------------------+-------------------+----------------------------+-----------------+-----------------+--------------------+--------------------+--------------+---------------+---------+-----------------------+-------------+-----+------------+-----------------+--------------+----------------+------------+-----------+--------------------+------------------+--------------------+-------+------------+------------+------------+--------------+-----------------+------------+-----------------+---------+------------+------------+-------------+-----------+-----------+-------------------+---------------+--------------+----------------+------------+---------------+----------+----------------+-----------+-------------+---------------------+-------------+-----------+----------+\nonly showing top 20 rows\n\n"
     ]
    }
   ],
   "source": [
    "df_joined = df_hero_indi.join(df_power, on=\"name\",how=\"left\")\n",
    "df_joined.show()"
   ]
  },
  {
   "cell_type": "markdown",
   "metadata": {
    "application/vnd.databricks.v1+cell": {
     "cellMetadata": {},
     "inputWidgets": {},
     "nuid": "ad443ebe-3217-4b06-85d6-d2a527ff6fcf",
     "showTitle": false,
     "title": ""
    },
    "id": "EXaHFl9_gXfx"
   },
   "source": [
    "# Basic Transformation"
   ]
  },
  {
   "cell_type": "markdown",
   "metadata": {
    "application/vnd.databricks.v1+cell": {
     "cellMetadata": {},
     "inputWidgets": {},
     "nuid": "d0829f04-7b95-47f6-a0da-563ae429e9e2",
     "showTitle": false,
     "title": ""
    },
    "id": "8eND1Kk-H7R-"
   },
   "source": [
    "## New conditional column"
   ]
  },
  {
   "cell_type": "markdown",
   "metadata": {
    "application/vnd.databricks.v1+cell": {
     "cellMetadata": {},
     "inputWidgets": {},
     "nuid": "93f68648-e04a-4582-bcc1-ca46008ab83b",
     "showTitle": false,
     "title": ""
    },
    "id": "Bs0LUgeYIJjN"
   },
   "source": [
    "Due to WORM (write once read many) so normally we will not alter df, we would add with new column"
   ]
  },
  {
   "cell_type": "code",
   "execution_count": 0,
   "metadata": {
    "application/vnd.databricks.v1+cell": {
     "cellMetadata": {},
     "inputWidgets": {},
     "nuid": "8a6c3a44-a0c2-4bd1-85c4-8534b49096ed",
     "showTitle": false,
     "title": ""
    },
    "colab": {
     "base_uri": "https://localhost:8080/"
    },
    "id": "HR28Jg5TH6mP",
    "outputId": "fd813266-ac20-4d9f-bac2-3273bb07220b"
   },
   "outputs": [
    {
     "output_type": "stream",
     "name": "stdout",
     "output_type": "stream",
     "text": [
      "+---+-----------------+------+---------+-----------------+----------+------+-----------------+----------+---------+------+-----------------+\n|_c0|             name|Gender|Eye color|             Race|Hair color|Height|        Publisher|Skin color|Alignment|Weight|       clean_Race|\n+---+-----------------+------+---------+-----------------+----------+------+-----------------+----------+---------+------+-----------------+\n|  0|           A-Bomb|  Male|   yellow|            Human|   No Hair| 203.0|    Marvel Comics|         -|     good| 441.0|            Human|\n|  1|       Abe Sapien|  Male|     blue|    Icthyo Sapien|   No Hair| 191.0|Dark Horse Comics|      blue|     good|  65.0|    Icthyo Sapien|\n|  2|         Abin Sur|  Male|     blue|          Ungaran|   No Hair| 185.0|        DC Comics|       red|     good|  90.0|          Ungaran|\n|  3|      Abomination|  Male|    green|Human / Radiation|   No Hair| 203.0|    Marvel Comics|         -|      bad| 441.0|Human / Radiation|\n|  4|          Abraxas|  Male|     blue|    Cosmic Entity|     Black| -99.0|    Marvel Comics|         -|      bad| -99.0|    Cosmic Entity|\n|  5|    Absorbing Man|  Male|     blue|            Human|   No Hair| 193.0|    Marvel Comics|         -|      bad| 122.0|            Human|\n|  6|      Adam Monroe|  Male|     blue|                -|     Blond| -99.0|     NBC - Heroes|         -|     good| -99.0|             null|\n|  7|     Adam Strange|  Male|     blue|            Human|     Blond| 185.0|        DC Comics|         -|     good|  88.0|            Human|\n|  8|         Agent 13|Female|     blue|                -|     Blond| 173.0|    Marvel Comics|         -|     good|  61.0|             null|\n|  9|        Agent Bob|  Male|    brown|            Human|     Brown| 178.0|    Marvel Comics|         -|     good|  81.0|            Human|\n| 10|       Agent Zero|  Male|        -|                -|         -| 191.0|    Marvel Comics|         -|     good| 104.0|             null|\n| 11|       Air-Walker|  Male|     blue|                -|     White| 188.0|    Marvel Comics|         -|      bad| 108.0|             null|\n| 12|             Ajax|  Male|    brown|           Cyborg|     Black| 193.0|    Marvel Comics|         -|      bad|  90.0|           Cyborg|\n| 13|       Alan Scott|  Male|     blue|                -|     Blond| 180.0|        DC Comics|         -|     good|  90.0|             null|\n| 14|      Alex Mercer|  Male|        -|            Human|         -| -99.0|        Wildstorm|         -|      bad| -99.0|            Human|\n| 15|     Alex Woolsly|  Male|        -|                -|         -| -99.0|     NBC - Heroes|         -|     good| -99.0|             null|\n| 16|Alfred Pennyworth|  Male|     blue|            Human|     Black| 178.0|        DC Comics|         -|     good|  72.0|            Human|\n| 17|            Alien|  Male|        -|  Xenomorph XX121|   No Hair| 244.0|Dark Horse Comics|     black|      bad| 169.0|  Xenomorph XX121|\n| 18| Allan Quatermain|  Male|        -|                -|         -| -99.0|        Wildstorm|         -|     good| -99.0|             null|\n| 19|            Amazo|  Male|      red|          Android|         -| 257.0|        DC Comics|         -|      bad| 173.0|          Android|\n+---+-----------------+------+---------+-----------------+----------+------+-----------------+----------+---------+------+-----------------+\nonly showing top 20 rows\n\n"
     ]
    }
   ],
   "source": [
    "from pyspark.sql.functions import col, expr, when\n",
    "\n",
    "new_column = F.when(col(\"Race\")==\"-\",\"null\").otherwise(col(\"Race\"))\n",
    "\n",
    "df_test_nc = df_hero_indi.withColumn(\"clean_Race\",new_column)\n",
    "df_test_nc.show()"
   ]
  },
  {
   "cell_type": "markdown",
   "metadata": {
    "application/vnd.databricks.v1+cell": {
     "cellMetadata": {},
     "inputWidgets": {},
     "nuid": "b7dd9cca-8d06-468c-b43f-ea78886daaf9",
     "showTitle": false,
     "title": ""
    },
    "id": "uiNUq462QN-H"
   },
   "source": [
    "Apply same concept to clean null"
   ]
  },
  {
   "cell_type": "code",
   "execution_count": 0,
   "metadata": {
    "application/vnd.databricks.v1+cell": {
     "cellMetadata": {},
     "inputWidgets": {},
     "nuid": "5cc64f96-9bbb-433d-84d5-68d6ef3d980b",
     "showTitle": false,
     "title": ""
    },
    "colab": {
     "base_uri": "https://localhost:8080/"
    },
    "id": "JHMJlH-5QSEn",
    "outputId": "817c2019-8aba-4f6d-8353-b0ecc09e162f"
   },
   "outputs": [
    {
     "output_type": "stream",
     "name": "stdout",
     "output_type": "stream",
     "text": [
      "+---+-----------------+------+---------+-----------------+----------+------+-----------------+----------+---------+------+-------------+\n|_c0|             name|Gender|Eye color|             Race|Hair color|Height|        Publisher|Skin color|Alignment|Weight|clean_weight1|\n+---+-----------------+------+---------+-----------------+----------+------+-----------------+----------+---------+------+-------------+\n|  0|           A-Bomb|  Male|   yellow|            Human|   No Hair| 203.0|    Marvel Comics|         -|     good| 441.0|        441.0|\n|  1|       Abe Sapien|  Male|     blue|    Icthyo Sapien|   No Hair| 191.0|Dark Horse Comics|      blue|     good|  65.0|         65.0|\n|  2|         Abin Sur|  Male|     blue|          Ungaran|   No Hair| 185.0|        DC Comics|       red|     good|  90.0|         90.0|\n|  3|      Abomination|  Male|    green|Human / Radiation|   No Hair| 203.0|    Marvel Comics|         -|      bad| 441.0|        441.0|\n|  4|          Abraxas|  Male|     blue|    Cosmic Entity|     Black| -99.0|    Marvel Comics|         -|      bad| -99.0|        -99.0|\n|  5|    Absorbing Man|  Male|     blue|            Human|   No Hair| 193.0|    Marvel Comics|         -|      bad| 122.0|        122.0|\n|  6|      Adam Monroe|  Male|     blue|                -|     Blond| -99.0|     NBC - Heroes|         -|     good| -99.0|        -99.0|\n|  7|     Adam Strange|  Male|     blue|            Human|     Blond| 185.0|        DC Comics|         -|     good|  88.0|         88.0|\n|  8|         Agent 13|Female|     blue|                -|     Blond| 173.0|    Marvel Comics|         -|     good|  61.0|         61.0|\n|  9|        Agent Bob|  Male|    brown|            Human|     Brown| 178.0|    Marvel Comics|         -|     good|  81.0|         81.0|\n| 10|       Agent Zero|  Male|        -|                -|         -| 191.0|    Marvel Comics|         -|     good| 104.0|        104.0|\n| 11|       Air-Walker|  Male|     blue|                -|     White| 188.0|    Marvel Comics|         -|      bad| 108.0|        108.0|\n| 12|             Ajax|  Male|    brown|           Cyborg|     Black| 193.0|    Marvel Comics|         -|      bad|  90.0|         90.0|\n| 13|       Alan Scott|  Male|     blue|                -|     Blond| 180.0|        DC Comics|         -|     good|  90.0|         90.0|\n| 14|      Alex Mercer|  Male|        -|            Human|         -| -99.0|        Wildstorm|         -|      bad| -99.0|        -99.0|\n| 15|     Alex Woolsly|  Male|        -|                -|         -| -99.0|     NBC - Heroes|         -|     good| -99.0|        -99.0|\n| 16|Alfred Pennyworth|  Male|     blue|            Human|     Black| 178.0|        DC Comics|         -|     good|  72.0|         72.0|\n| 17|            Alien|  Male|        -|  Xenomorph XX121|   No Hair| 244.0|Dark Horse Comics|     black|      bad| 169.0|        169.0|\n| 18| Allan Quatermain|  Male|        -|                -|         -| -99.0|        Wildstorm|         -|     good| -99.0|        -99.0|\n| 19|            Amazo|  Male|      red|          Android|         -| 257.0|        DC Comics|         -|      bad| 173.0|        173.0|\n+---+-----------------+------+---------+-----------------+----------+------+-----------------+----------+---------+------+-------------+\nonly showing top 20 rows\n\n"
     ]
    }
   ],
   "source": [
    "from pyspark.sql.functions import col, expr, when\n",
    "\n",
    "new_column = F.when(col(\"weight\").isNull(),-99).otherwise(col(\"weight\"))\n",
    "\n",
    "df_test_nc = df_hero_indi.withColumn(\"clean_weight1\",new_column)\n",
    "df_test_nc.show()"
   ]
  },
  {
   "cell_type": "markdown",
   "metadata": {
    "application/vnd.databricks.v1+cell": {
     "cellMetadata": {},
     "inputWidgets": {},
     "nuid": "1bef565a-4be3-4689-bfcb-fc1e89146b33",
     "showTitle": false,
     "title": ""
    },
    "id": "3Spu6hfogBFk"
   },
   "source": [
    "## UDF: User defined function(s)\n",
    "Spark does not support direct calculation to each cell values so there is some reway to do calculation, in distribution mode."
   ]
  },
  {
   "cell_type": "code",
   "execution_count": 0,
   "metadata": {
    "application/vnd.databricks.v1+cell": {
     "cellMetadata": {},
     "inputWidgets": {},
     "nuid": "9a2f98af-f3db-4150-a56b-9c5241e0ba61",
     "showTitle": false,
     "title": ""
    },
    "colab": {
     "base_uri": "https://localhost:8080/",
     "height": 479
    },
    "id": "6uvdQiE1g-t0",
    "outputId": "34baac96-4d68-41af-9f12-f5ba31365d32"
   },
   "outputs": [
    {
     "output_type": "stream",
     "name": "stdout",
     "output_type": "stream",
     "text": [
      "+---+-----------------+------+---------+-----------------+----------+------+-----------------+----------+---------+------+------------+\n|_c0|             name|Gender|Eye color|             Race|Hair color|Height|        Publisher|Skin color|Alignment|Weight|weight_in_kg|\n+---+-----------------+------+---------+-----------------+----------+------+-----------------+----------+---------+------+------------+\n|  0|           A-Bomb|  Male|   yellow|            Human|   No Hair| 203.0|    Marvel Comics|         -|     good| 441.0|    200.0376|\n|  1|       Abe Sapien|  Male|     blue|    Icthyo Sapien|   No Hair| 191.0|Dark Horse Comics|      blue|     good|  65.0|      29.484|\n|  2|         Abin Sur|  Male|     blue|          Ungaran|   No Hair| 185.0|        DC Comics|       red|     good|  90.0|      40.824|\n|  3|      Abomination|  Male|    green|Human / Radiation|   No Hair| 203.0|    Marvel Comics|         -|      bad| 441.0|    200.0376|\n|  4|          Abraxas|  Male|     blue|    Cosmic Entity|     Black| -99.0|    Marvel Comics|         -|      bad| -99.0|    -44.9064|\n|  5|    Absorbing Man|  Male|     blue|            Human|   No Hair| 193.0|    Marvel Comics|         -|      bad| 122.0|     55.3392|\n|  6|      Adam Monroe|  Male|     blue|                -|     Blond| -99.0|     NBC - Heroes|         -|     good| -99.0|    -44.9064|\n|  7|     Adam Strange|  Male|     blue|            Human|     Blond| 185.0|        DC Comics|         -|     good|  88.0|     39.9168|\n|  8|         Agent 13|Female|     blue|                -|     Blond| 173.0|    Marvel Comics|         -|     good|  61.0|     27.6696|\n|  9|        Agent Bob|  Male|    brown|            Human|     Brown| 178.0|    Marvel Comics|         -|     good|  81.0|     36.7416|\n| 10|       Agent Zero|  Male|        -|                -|         -| 191.0|    Marvel Comics|         -|     good| 104.0|     47.1744|\n| 11|       Air-Walker|  Male|     blue|                -|     White| 188.0|    Marvel Comics|         -|      bad| 108.0|     48.9888|\n| 12|             Ajax|  Male|    brown|           Cyborg|     Black| 193.0|    Marvel Comics|         -|      bad|  90.0|      40.824|\n| 13|       Alan Scott|  Male|     blue|                -|     Blond| 180.0|        DC Comics|         -|     good|  90.0|      40.824|\n| 14|      Alex Mercer|  Male|        -|            Human|         -| -99.0|        Wildstorm|         -|      bad| -99.0|    -44.9064|\n| 15|     Alex Woolsly|  Male|        -|                -|         -| -99.0|     NBC - Heroes|         -|     good| -99.0|    -44.9064|\n| 16|Alfred Pennyworth|  Male|     blue|            Human|     Black| 178.0|        DC Comics|         -|     good|  72.0|     32.6592|\n| 17|            Alien|  Male|        -|  Xenomorph XX121|   No Hair| 244.0|Dark Horse Comics|     black|      bad| 169.0|     76.6584|\n| 18| Allan Quatermain|  Male|        -|                -|         -| -99.0|        Wildstorm|         -|     good| -99.0|    -44.9064|\n| 19|            Amazo|  Male|      red|          Android|         -| 257.0|        DC Comics|         -|      bad| 173.0|     78.4728|\n+---+-----------------+------+---------+-----------------+----------+------+-----------------+----------+---------+------+------------+\nonly showing top 20 rows\n\n"
     ]
    }
   ],
   "source": [
    "from pyspark.sql.types import *\n",
    "from pyspark.sql.functions import udf\n",
    "\n",
    "def lbs2kg(lbs):\n",
    "    return lbs*0.4536\n",
    "\n",
    "lbs2kg_udf = udf(lbs2kg, FloatType())\n",
    "df_test = df_hero_indi.withColumn('weight_in_kg',lbs2kg_udf(df_hero_indi[\"weight\"]))\n",
    "df_test.show()"
   ]
  },
  {
   "cell_type": "markdown",
   "metadata": {
    "application/vnd.databricks.v1+cell": {
     "cellMetadata": {},
     "inputWidgets": {},
     "nuid": "af535562-0e4e-484a-a022-037bbb38982e",
     "showTitle": false,
     "title": ""
    },
    "id": "CCZJ0tqL8jp1"
   },
   "source": [
    "## Binarizer"
   ]
  },
  {
   "cell_type": "code",
   "execution_count": 0,
   "metadata": {
    "application/vnd.databricks.v1+cell": {
     "cellMetadata": {},
     "inputWidgets": {},
     "nuid": "fecdae35-1def-485e-9549-f67923c37a3a",
     "showTitle": false,
     "title": ""
    },
    "colab": {
     "base_uri": "https://localhost:8080/"
    },
    "id": "I4AsqBsw7acZ",
    "outputId": "98c4c9c9-cbc1-47e8-9d62-b9758a60d98c"
   },
   "outputs": [
    {
     "output_type": "stream",
     "name": "stdout",
     "output_type": "stream",
     "text": [
      "+---+-----------------+------+---------+-----------------+----------+------+-----------------+----------+---------+------+----------------+\n|_c0|             name|Gender|Eye color|             Race|Hair color|Height|        Publisher|Skin color|Alignment|Weight|binarized_weight|\n+---+-----------------+------+---------+-----------------+----------+------+-----------------+----------+---------+------+----------------+\n|  0|           A-Bomb|  Male|   yellow|            Human|   No Hair| 203.0|    Marvel Comics|         -|     good| 441.0|             1.0|\n|  1|       Abe Sapien|  Male|     blue|    Icthyo Sapien|   No Hair| 191.0|Dark Horse Comics|      blue|     good|  65.0|             0.0|\n|  2|         Abin Sur|  Male|     blue|          Ungaran|   No Hair| 185.0|        DC Comics|       red|     good|  90.0|             0.0|\n|  3|      Abomination|  Male|    green|Human / Radiation|   No Hair| 203.0|    Marvel Comics|         -|      bad| 441.0|             1.0|\n|  4|          Abraxas|  Male|     blue|    Cosmic Entity|     Black| -99.0|    Marvel Comics|         -|      bad| -99.0|             0.0|\n|  5|    Absorbing Man|  Male|     blue|            Human|   No Hair| 193.0|    Marvel Comics|         -|      bad| 122.0|             1.0|\n|  6|      Adam Monroe|  Male|     blue|                -|     Blond| -99.0|     NBC - Heroes|         -|     good| -99.0|             0.0|\n|  7|     Adam Strange|  Male|     blue|            Human|     Blond| 185.0|        DC Comics|         -|     good|  88.0|             0.0|\n|  8|         Agent 13|Female|     blue|                -|     Blond| 173.0|    Marvel Comics|         -|     good|  61.0|             0.0|\n|  9|        Agent Bob|  Male|    brown|            Human|     Brown| 178.0|    Marvel Comics|         -|     good|  81.0|             0.0|\n| 10|       Agent Zero|  Male|        -|                -|         -| 191.0|    Marvel Comics|         -|     good| 104.0|             0.0|\n| 11|       Air-Walker|  Male|     blue|                -|     White| 188.0|    Marvel Comics|         -|      bad| 108.0|             0.0|\n| 12|             Ajax|  Male|    brown|           Cyborg|     Black| 193.0|    Marvel Comics|         -|      bad|  90.0|             0.0|\n| 13|       Alan Scott|  Male|     blue|                -|     Blond| 180.0|        DC Comics|         -|     good|  90.0|             0.0|\n| 14|      Alex Mercer|  Male|        -|            Human|         -| -99.0|        Wildstorm|         -|      bad| -99.0|             0.0|\n| 15|     Alex Woolsly|  Male|        -|                -|         -| -99.0|     NBC - Heroes|         -|     good| -99.0|             0.0|\n| 16|Alfred Pennyworth|  Male|     blue|            Human|     Black| 178.0|        DC Comics|         -|     good|  72.0|             0.0|\n| 17|            Alien|  Male|        -|  Xenomorph XX121|   No Hair| 244.0|Dark Horse Comics|     black|      bad| 169.0|             1.0|\n| 18| Allan Quatermain|  Male|        -|                -|         -| -99.0|        Wildstorm|         -|     good| -99.0|             0.0|\n| 19|            Amazo|  Male|      red|          Android|         -| 257.0|        DC Comics|         -|      bad| 173.0|             1.0|\n+---+-----------------+------+---------+-----------------+----------+------+-----------------+----------+---------+------+----------------+\nonly showing top 20 rows\n\n"
     ]
    }
   ],
   "source": [
    "from pyspark.ml.feature import Binarizer\n",
    "\n",
    "binarizer = Binarizer(threshold=112.25, inputCol=\"Weight\", outputCol=\"binarized_weight\")\n",
    "binarizedDataFrame = binarizer.transform(df_hero_indi)\n",
    "binarizedDataFrame.show()"
   ]
  },
  {
   "cell_type": "markdown",
   "metadata": {
    "application/vnd.databricks.v1+cell": {
     "cellMetadata": {},
     "inputWidgets": {},
     "nuid": "038671d7-56be-4634-aded-4d8dd9ad87d2",
     "showTitle": false,
     "title": ""
    },
    "id": "fg-gTociizgU"
   },
   "source": [
    "## Quatile / Percentile"
   ]
  },
  {
   "cell_type": "code",
   "execution_count": 0,
   "metadata": {
    "application/vnd.databricks.v1+cell": {
     "cellMetadata": {},
     "inputWidgets": {},
     "nuid": "f240e1a1-8c03-45d4-b433-85079c1cab3d",
     "showTitle": false,
     "title": ""
    },
    "colab": {
     "base_uri": "https://localhost:8080/"
    },
    "id": "4MA3-T4dkQu9",
    "outputId": "3aad2449-0f0e-4b2c-bee5-b35b8b1178c9"
   },
   "outputs": [
    {
     "output_type": "stream",
     "name": "stdout",
     "output_type": "stream",
     "text": [
      "{'weight': {'q1': 61.0, 'q3': 108.0}}\n"
     ]
    }
   ],
   "source": [
    "bounds = {\n",
    "    c: dict(\n",
    "        zip([\"q1\", \"q3\"], df_hero_weight.approxQuantile(c, [0.25, 0.75], 0))\n",
    "    )\n",
    "    for c in df_hero_weight.columns\n",
    "}\n",
    "\n",
    "print(bounds)"
   ]
  },
  {
   "cell_type": "markdown",
   "metadata": {
    "application/vnd.databricks.v1+cell": {
     "cellMetadata": {},
     "inputWidgets": {},
     "nuid": "8f48e865-17c7-4467-96ff-a35e88f376d8",
     "showTitle": false,
     "title": ""
    },
    "id": "SYrDRiqeyE7e"
   },
   "source": [
    "Using quatile to check outlier"
   ]
  },
  {
   "cell_type": "code",
   "execution_count": 0,
   "metadata": {
    "application/vnd.databricks.v1+cell": {
     "cellMetadata": {},
     "inputWidgets": {},
     "nuid": "57872f04-c5f9-4851-aa8e-6440d3313f33",
     "showTitle": false,
     "title": ""
    },
    "colab": {
     "base_uri": "https://localhost:8080/"
    },
    "id": "xH-EbI5Xxrkm",
    "outputId": "7077034f-689c-42e7-defa-1406b51e77b6"
   },
   "outputs": [
    {
     "output_type": "stream",
     "name": "stdout",
     "output_type": "stream",
     "text": [
      "{'weight': {'q1': 61.0, 'q3': 108.0, 'lower': -9.5, 'upper': 178.5}}\n"
     ]
    }
   ],
   "source": [
    "for c in bounds:\n",
    "    iqr = bounds[c]['q3'] - bounds[c]['q1']\n",
    "    bounds[c]['lower'] = bounds[c]['q1'] - (iqr * 1.5)\n",
    "    bounds[c]['upper'] = bounds[c]['q3'] + (iqr * 1.5)\n",
    "print(bounds)"
   ]
  },
  {
   "cell_type": "code",
   "execution_count": 0,
   "metadata": {
    "application/vnd.databricks.v1+cell": {
     "cellMetadata": {},
     "inputWidgets": {},
     "nuid": "48da91e9-79f5-4fef-b8de-386da90a913b",
     "showTitle": false,
     "title": ""
    },
    "colab": {
     "base_uri": "https://localhost:8080/"
    },
    "id": "HwR6pRjExxXn",
    "outputId": "ccb906f2-04fb-475a-942b-e286290de958"
   },
   "outputs": [
    {
     "output_type": "stream",
     "name": "stdout",
     "output_type": "stream",
     "text": [
      "+------+----------+\n|weight|weight_out|\n+------+----------+\n| 441.0|         1|\n|  65.0|         0|\n|  90.0|         0|\n| 441.0|         1|\n| 122.0|         0|\n|  88.0|         0|\n|  61.0|         0|\n|  81.0|         0|\n| 104.0|         0|\n| 108.0|         0|\n|  90.0|         0|\n|  90.0|         0|\n|  72.0|         0|\n| 169.0|         0|\n| 173.0|         0|\n| 101.0|         0|\n|  68.0|         0|\n|  57.0|         0|\n|  54.0|         0|\n|  83.0|         0|\n+------+----------+\nonly showing top 20 rows\n\n"
     ]
    }
   ],
   "source": [
    "import pyspark.sql.functions as f\n",
    "df_hero_weight.select(\n",
    "    \"*\",\n",
    "    *[\n",
    "        f.when(\n",
    "            f.col(c).between(bounds[c]['lower'], bounds[c]['upper']),\n",
    "            0\n",
    "        ).otherwise(1).alias(c+\"_out\") \n",
    "        for c in df_hero_weight.columns\n",
    "    ]\n",
    ").show()"
   ]
  },
  {
   "cell_type": "markdown",
   "metadata": {
    "application/vnd.databricks.v1+cell": {
     "cellMetadata": {},
     "inputWidgets": {},
     "nuid": "8197520d-d654-4ed5-a981-adc8f014bad0",
     "showTitle": false,
     "title": ""
    },
    "id": "r75YSs3A4oHP"
   },
   "source": [
    "Advanced solution for percentile / quatile"
   ]
  },
  {
   "cell_type": "code",
   "execution_count": 0,
   "metadata": {
    "application/vnd.databricks.v1+cell": {
     "cellMetadata": {},
     "inputWidgets": {},
     "nuid": "5878a2e8-f737-48a0-bd2f-4465b312765f",
     "showTitle": false,
     "title": ""
    },
    "id": "36t2cq094tXv"
   },
   "outputs": [],
   "source": [
    "from pyspark.sql import functions as F\n",
    "from pyspark.sql.types import DoubleType\n",
    "from pyspark.sql import DataFrameStatFunctions as statFunc\n",
    "import numpy as np\n",
    "\n",
    "from pyspark.sql import Column\n",
    "from pyspark.sql.window import Window\n",
    "from pyspark.sql.functions import *\n",
    "from pyspark.sql.types import *\n",
    "import ast\n",
    "\n",
    "\n",
    "class Discretize:\n",
    "    @staticmethod\n",
    "    def threshold_index(col_val, threshold: Column, threshold_str: bool = False):\n",
    "        if threshold_str:\n",
    "            # convert list that represent as string to normal list\n",
    "            threshold = ast.literal_eval(threshold)\n",
    "        for i, val_i in enumerate(threshold):\n",
    "            current = threshold[i]\n",
    "            if i > 0:\n",
    "                previous = threshold[i - 1]\n",
    "                if col_val > previous and col_val <= current:\n",
    "                    result = int(i)\n",
    "                elif col_val > previous and col_val > current:\n",
    "                    # for threshold cutoff (extend positive limit bound)\n",
    "                    result = int(i) + 1\n",
    "            if i == 0 and col_val <= current:\n",
    "                result = int(i)\n",
    "        return result\n",
    "\n",
    "    @staticmethod\n",
    "    def human_score(x, y):\n",
    "        return (int(y) - int(x))\n",
    "\n",
    "    @staticmethod\n",
    "    def indexer(df_in, columnname, x, output_name, invert: bool = True):\n",
    "\n",
    "        threshold_index_udf = udf(Discretize.threshold_index, IntegerType())\n",
    "        human_score_udf = udf(Discretize.human_score, IntegerType())\n",
    "\n",
    "        index = list(np.linspace(1. / x, 1, x))\n",
    "        pthvalue = statFunc(df_in).approxQuantile(columnname, index, 0.0)  # get list of cutoff nth //\n",
    "        df_out = df_in.withColumn(\"pth\", array([lit(df_in) for df_in in pthvalue]))\n",
    "        df_out = df_out.withColumn('ranking', threshold_index_udf(columnname, \"pth\"))\n",
    "        if invert:\n",
    "            df_out = df_out.withColumn(\"maxpth\", lit(x))\n",
    "            df_out = df_out.withColumn(output_name, col(\"maxpth\") - col(\"ranking\")).drop(\"maxpth\")\n",
    "        else:\n",
    "            df_out = df_out.withColumn(output_name, lit(\"ranking\"))\n",
    "        df_out = df_out.drop(\"pth\")\n",
    "        return df_out"
   ]
  },
  {
   "cell_type": "code",
   "execution_count": 0,
   "metadata": {
    "application/vnd.databricks.v1+cell": {
     "cellMetadata": {},
     "inputWidgets": {},
     "nuid": "ba6c8cb2-e9ec-4b76-a985-4c756a4e36b9",
     "showTitle": false,
     "title": ""
    },
    "colab": {
     "base_uri": "https://localhost:8080/",
     "height": 459
    },
    "id": "3ALhQDbI5GgP",
    "outputId": "f94eeab4-7977-4fee-a49f-c2115f37a932"
   },
   "outputs": [
    {
     "output_type": "stream",
     "name": "stdout",
     "output_type": "stream",
     "text": [
      "+------+-------+-----------------+\n|weight|ranking|Percnetile_weight|\n+------+-------+-----------------+\n| 441.0|     97|                3|\n|  65.0|     28|               72|\n|  90.0|     59|               41|\n| 441.0|     97|                3|\n| 122.0|     79|               21|\n|  88.0|     56|               44|\n|  61.0|     23|               77|\n|  81.0|     46|               54|\n| 104.0|     72|               28|\n| 108.0|     74|               26|\n|  90.0|     59|               41|\n|  90.0|     59|               41|\n|  72.0|     34|               66|\n| 169.0|     86|               14|\n| 173.0|     87|               13|\n| 101.0|     69|               31|\n|  68.0|     30|               70|\n|  57.0|     17|               83|\n|  54.0|      9|               91|\n|  83.0|     50|               50|\n+------+-------+-----------------+\nonly showing top 20 rows\n\n"
     ]
    }
   ],
   "source": [
    "output_data=Discretize.indexer(df_hero_weight,\"Weight\",100,\"Percnetile_weight\")\n",
    "output_data.show()"
   ]
  },
  {
   "cell_type": "markdown",
   "metadata": {
    "application/vnd.databricks.v1+cell": {
     "cellMetadata": {},
     "inputWidgets": {},
     "nuid": "c91c59ed-dd7c-4540-9123-89adc1c1c50f",
     "showTitle": false,
     "title": ""
    },
    "id": "yUQ9JABUC0DL"
   },
   "source": [
    "## Numerical to categorical"
   ]
  },
  {
   "cell_type": "code",
   "execution_count": 0,
   "metadata": {
    "application/vnd.databricks.v1+cell": {
     "cellMetadata": {},
     "inputWidgets": {},
     "nuid": "fb5b339d-20f5-42e3-a2f8-0d3321ea69b0",
     "showTitle": false,
     "title": ""
    },
    "colab": {
     "base_uri": "https://localhost:8080/",
     "height": 255
    },
    "id": "lJoS8CMq74j-",
    "outputId": "7798f2b6-e96b-4ee5-83fd-6e6cd0494cb9"
   },
   "outputs": [
    {
     "output_type": "stream",
     "name": "stdout",
     "output_type": "stream",
     "text": [
      "+-----------+-----+\n| weight_grp|count|\n+-----------+-----+\n|       null|    2|\n|   0-50 Lbs|   19|\n|101-200 Lbs|   98|\n|201-300 Lbs|   23|\n|301-400 Lbs|   13|\n|401-500 Lbs|    9|\n| 51-100 Lbs|  327|\n|   600+ Lbs|    6|\n|         NA|  237|\n+-----------+-----+\n\n"
     ]
    }
   ],
   "source": [
    "from pyspark.sql import functions as F\n",
    "from pyspark.sql.window import Window\n",
    "\n",
    "lookup = spark.createDataFrame(\n",
    "    [(-100.0,0.000,\"NA\"),\n",
    "     (0.001,50.00,\"0-50 Lbs\"),\n",
    "     (50.00,100.00,\"51-100 Lbs\"),\n",
    "     (100.00,200.00,\"101-200 Lbs\"),\n",
    "     (200.00,300.00,\"201-300 Lbs\"),\n",
    "     (300.00,400.00,\"301-400 Lbs\"),\n",
    "     (400.00,500.00,\"401-500 Lbs\"),\n",
    "     (500.00,600.00,\"501-600 Lbs\"),\n",
    "     (600.00,1000.00,\"600+ Lbs\")],\n",
    "    (\"b\",\"t\",\"weight_grp\"))\n",
    "    \n",
    "df_test_grp = df_hero_indi\\\n",
    "    .join(lookup,[F.col(\"weight\")>=F.col(\"b\"),F.col(\"weight\") < F.col(\"t\")],\"leftouter\")\n",
    "  \n",
    "df_test_grp.groupby(\"weight_grp\").count().orderBy(\"weight_grp\").show()"
   ]
  },
  {
   "cell_type": "code",
   "execution_count": 0,
   "metadata": {
    "application/vnd.databricks.v1+cell": {
     "cellMetadata": {},
     "inputWidgets": {},
     "nuid": "201a7ee4-15ad-4d9b-b4a0-a1a3e269cca8",
     "showTitle": false,
     "title": ""
    },
    "colab": {
     "base_uri": "https://localhost:8080/",
     "height": 238
    },
    "id": "6xjlDLmtSt8O",
    "outputId": "543a2455-6636-4bf4-d9e6-653c5e6e2970"
   },
   "outputs": [
    {
     "output_type": "stream",
     "name": "stdout",
     "output_type": "stream",
     "text": [
      "+-----------+-----+\n| weight_grp|count|\n+-----------+-----+\n|   0-50 Lbs|   19|\n|101-200 Lbs|   98|\n|201-300 Lbs|   23|\n|301-400 Lbs|   13|\n|401-500 Lbs|    9|\n| 51-100 Lbs|  327|\n|   600+ Lbs|    6|\n|         NA|  239|\n+-----------+-----+\n\n"
     ]
    }
   ],
   "source": [
    "df_test_grp2 = df_test_nc\\\n",
    "    .join(lookup,[F.col(\"clean_weight1\")>=F.col(\"b\"),F.col(\"clean_weight1\") < F.col(\"t\")],\"leftouter\")\n",
    "  \n",
    "df_test_grp2.groupby(\"weight_grp\").count().orderBy(\"weight_grp\").show()"
   ]
  },
  {
   "cell_type": "markdown",
   "metadata": {
    "application/vnd.databricks.v1+cell": {
     "cellMetadata": {},
     "inputWidgets": {},
     "nuid": "29a49b3e-e5a3-4089-9805-3cfb07986aa3",
     "showTitle": false,
     "title": ""
    },
    "id": "3K1IuPZd2qhI"
   },
   "source": [
    "## Standardization"
   ]
  },
  {
   "cell_type": "code",
   "execution_count": 0,
   "metadata": {
    "application/vnd.databricks.v1+cell": {
     "cellMetadata": {},
     "inputWidgets": {},
     "nuid": "84badc3f-1c55-46c4-b141-4831f71427fa",
     "showTitle": false,
     "title": ""
    },
    "id": "w4mpJIR320_J"
   },
   "outputs": [],
   "source": [
    "from pyspark.mllib.util import MLUtils\n",
    "from pyspark.ml.feature import StandardScaler\n",
    "\n",
    "scaler = StandardScaler(inputCol=\"Weight\", outputCol=\"scaled_weight\",\n",
    "                        withStd=True, withMean=False)\n",
    "\n",
    "# Compute summary statistics by fitting the StandardScaler\n",
    "scalerModel = scaler.fit(df_hero_indi)\n",
    "\n",
    "# Normalize each feature to have unit standard deviation.\n",
    "scaledData = scalerModel.transform(df_hero_indi)\n",
    "scaledData.show()"
   ]
  },
  {
   "cell_type": "markdown",
   "metadata": {
    "application/vnd.databricks.v1+cell": {
     "cellMetadata": {},
     "inputWidgets": {},
     "nuid": "b4233889-8fe4-4a38-a009-1725130fed8b",
     "showTitle": false,
     "title": ""
    },
    "id": "eSXErnlI37uO"
   },
   "source": [
    "More reading: https://spark.apache.org/docs/1.4.1/ml-features.html"
   ]
  },
  {
   "cell_type": "markdown",
   "metadata": {
    "application/vnd.databricks.v1+cell": {
     "cellMetadata": {},
     "inputWidgets": {},
     "nuid": "af6feafb-0cc7-4448-9548-d6d2c5d3cd34",
     "showTitle": false,
     "title": ""
    },
    "id": "kfH1jH8jh-P4"
   },
   "source": [
    "#Lab"
   ]
  },
  {
   "cell_type": "markdown",
   "metadata": {
    "application/vnd.databricks.v1+cell": {
     "cellMetadata": {},
     "inputWidgets": {},
     "nuid": "76d8e630-1f30-45fc-a9e0-fe8fe29d62f9",
     "showTitle": false,
     "title": ""
    },
    "id": "1QJAWj9NfL4F"
   },
   "source": [
    "Try to utilize spark as much as possible"
   ]
  },
  {
   "cell_type": "markdown",
   "metadata": {
    "application/vnd.databricks.v1+cell": {
     "cellMetadata": {},
     "inputWidgets": {},
     "nuid": "5293e125-6eca-4dea-b0c2-806e11612040",
     "showTitle": false,
     "title": ""
    },
    "id": "9sPpi8-LbYR7"
   },
   "source": [
    "## Ingest data"
   ]
  },
  {
   "cell_type": "markdown",
   "metadata": {
    "application/vnd.databricks.v1+cell": {
     "cellMetadata": {},
     "inputWidgets": {},
     "nuid": "0e2d3f18-1ec8-4579-9333-13ed85c147e1",
     "showTitle": false,
     "title": ""
    },
    "id": "g4Wg3WpmUXpu"
   },
   "source": [
    "Data set: [here](https://www.kaggle.com/mashlyn/online-retail-ii-uci)"
   ]
  },
  {
   "cell_type": "code",
   "execution_count": 0,
   "metadata": {
    "application/vnd.databricks.v1+cell": {
     "cellMetadata": {},
     "inputWidgets": {},
     "nuid": "5b2d2d22-8b9a-4d88-a257-053b0e7997be",
     "showTitle": false,
     "title": ""
    },
    "colab": {
     "base_uri": "https://localhost:8080/",
     "height": 139
    },
    "id": "6M4nrPN5_Z1W",
    "outputId": "53acb818-6ffa-4e8d-8888-eb11c09a9052"
   },
   "outputs": [
    {
     "output_type": "stream",
     "name": "stdout",
     "output_type": "stream",
     "text": [
      "Drive already mounted at /content/gdrive; to attempt to forcibly remount, call drive.mount(\"/content/gdrive\", force_remount=True).\nDownloading online-retail-ii-uci.zip to /content\n100% 14.5M/14.5M [00:00<00:00, 72.4MB/s]\n\nArchive:  /content/online-retail-ii-uci.zip\n  inflating: online_retail_II.csv    \n"
     ]
    }
   ],
   "source": [
    "from google.colab import drive\n",
    "drive.mount('/content/gdrive')\n",
    "\n",
    "import os\n",
    "os.environ['KAGGLE_CONFIG_DIR'] = \"/content/gdrive/My Drive/Kaggle\"\n",
    "\n",
    "#Adding API code here\n",
    "\n",
    "#Unzip and delete zip file\n",
    "!unzip ##  && rm ##"
   ]
  },
  {
   "cell_type": "markdown",
   "metadata": {
    "application/vnd.databricks.v1+cell": {
     "cellMetadata": {},
     "inputWidgets": {},
     "nuid": "0a293b05-5c51-4242-9bba-eee6ed7aee85",
     "showTitle": false,
     "title": ""
    },
    "id": "nvrbcfIXbSt7"
   },
   "source": [
    "## Data Description\n",
    "\n",
    "This Online Retail II data set contains all the transactions occurring for a UK-based and registered, \n",
    "non-store online retail between 01/12/2009 and 09/12/2011. The company mainly sells unique all-occasion gift-ware. \n",
    "Many customers of the company are wholesalers.\n",
    "\n",
    "Attribute Information:\n",
    "\n",
    "- InvoiceNo: Invoice number. Nominal. A 6-digit integral number uniquely assigned to each transaction. If this code starts with the letter 'c', it indicates a cancellation.\n",
    "- StockCode: Product (item) code. Nominal. A 5-digit integral number uniquely assigned to each distinct product.\n",
    "- Description: Product (item) name. Nominal.\n",
    "- Quantity: The quantities of each product (item) per transaction. Numeric.\n",
    "- InvoiceDate: Invice date and time. Numeric. The day and time when a transaction was generated.\n",
    "- UnitPrice: Unit price. Numeric. Product price per unit in sterling (Â£).\n",
    "- CustomerID: Customer number. Nominal. A 5-digit integral number uniquely assigned to each customer.\n",
    "- Country: Country name. Nominal. The name of the country where a customer resides."
   ]
  },
  {
   "cell_type": "markdown",
   "metadata": {
    "application/vnd.databricks.v1+cell": {
     "cellMetadata": {},
     "inputWidgets": {},
     "nuid": "bc42ed57-220d-4dfe-bb09-2846138eafc9",
     "showTitle": false,
     "title": ""
    },
    "id": "z1YoN645USbk"
   },
   "source": [
    "### 1. Explore the Data: Check NULL values, Check for outliers, and highlight"
   ]
  },
  {
   "cell_type": "code",
   "execution_count": 0,
   "metadata": {
    "application/vnd.databricks.v1+cell": {
     "cellMetadata": {},
     "inputWidgets": {},
     "nuid": "fd67b28b-10f8-4ae1-b1dd-0aef8949b179",
     "showTitle": false,
     "title": ""
    },
    "id": "T9aI9lEFUKen"
   },
   "outputs": [],
   "source": [
    "#code here\n",
    "[]"
   ]
  },
  {
   "cell_type": "markdown",
   "metadata": {
    "application/vnd.databricks.v1+cell": {
     "cellMetadata": {},
     "inputWidgets": {},
     "nuid": "2a38160c-1c85-49e5-a774-03c81b5c5b7e",
     "showTitle": false,
     "title": ""
    },
    "id": "PgXtwt7JdkVu"
   },
   "source": [
    "## For all questions, assume the current date is 10/12/2011"
   ]
  },
  {
   "cell_type": "markdown",
   "metadata": {
    "application/vnd.databricks.v1+cell": {
     "cellMetadata": {},
     "inputWidgets": {},
     "nuid": "c501574c-dd2d-4ddd-bdaa-0b23b926d77f",
     "showTitle": false,
     "title": ""
    },
    "id": "R9g7xbaTdX4Y"
   },
   "source": [
    "### 2. Find an average basket size of customer in each country in the year 2010\n",
    "\n",
    "#### Basket size = Total Sales Amount / Total Number of Invoices\n",
    "\n",
    "Hint: df.select(to_date(df.STRING_COLUMN).alias('new_date')).show()"
   ]
  },
  {
   "cell_type": "code",
   "execution_count": 0,
   "metadata": {
    "application/vnd.databricks.v1+cell": {
     "cellMetadata": {},
     "inputWidgets": {},
     "nuid": "a4161ed7-05bd-4e53-9028-864d94e0affc",
     "showTitle": false,
     "title": ""
    },
    "id": "ZuFzPpNjeQnc"
   },
   "outputs": [],
   "source": []
  },
  {
   "cell_type": "markdown",
   "metadata": {
    "application/vnd.databricks.v1+cell": {
     "cellMetadata": {},
     "inputWidgets": {},
     "nuid": "3fcbaff8-c33f-479b-8b69-4c9e05db683d",
     "showTitle": false,
     "title": ""
    },
    "id": "gX8T0Y6aeaW5"
   },
   "source": [
    "###  3. Does the basket size in each country change over time? Which country has the highest growth in terms of both sales amount and basket size in the past 6 months?"
   ]
  },
  {
   "cell_type": "code",
   "execution_count": 0,
   "metadata": {
    "application/vnd.databricks.v1+cell": {
     "cellMetadata": {},
     "inputWidgets": {},
     "nuid": "e511ebe9-0ddf-42e6-8c14-537cd1944670",
     "showTitle": false,
     "title": ""
    },
    "id": "d1Raj77XegSl"
   },
   "outputs": [],
   "source": []
  },
  {
   "cell_type": "markdown",
   "metadata": {
    "application/vnd.databricks.v1+cell": {
     "cellMetadata": {},
     "inputWidgets": {},
     "nuid": "c0589380-23ec-4863-9642-14b53f87ff5a",
     "showTitle": false,
     "title": ""
    },
    "id": "kTvMhqd9ehoy"
   },
   "source": [
    "### 4. Monitor weekly sales and visit by country, Past 1 week, Past 2 weeks, Past 4 weeks, Year-to-date\n",
    "#### Create a report that includes the following columns:\n",
    "- Country\n",
    "- Number of Customers in past 1 week\n",
    "- Number of Customers in past 2 weeks\n",
    "- Number of Customers in past 4 weeks\n",
    "- Number of Customers accumulated since 01/01/2011\n",
    "- Sales amount in past 1 week\n",
    "- Sales amount in past 2 weeks\n",
    "- Sales amount in past 4 weeks\n",
    "- Sales amount since 01/01/2011\n",
    "- Number of Invoices in past 1 week\n",
    "- Number of Invoices in past 2 weeks\n",
    "- Number of Invoices in past 4 weeks\n",
    "- Number of Invoices since 01/01/2011"
   ]
  },
  {
   "cell_type": "code",
   "execution_count": 0,
   "metadata": {
    "application/vnd.databricks.v1+cell": {
     "cellMetadata": {},
     "inputWidgets": {},
     "nuid": "8c8e6eb6-40e2-429c-92f1-8fd770f9f88c",
     "showTitle": false,
     "title": ""
    },
    "id": "m7auHJ3Deoo9"
   },
   "outputs": [],
   "source": []
  },
  {
   "cell_type": "markdown",
   "metadata": {
    "application/vnd.databricks.v1+cell": {
     "cellMetadata": {},
     "inputWidgets": {},
     "nuid": "95062baf-3f8d-4615-9390-52300a88dccd",
     "showTitle": false,
     "title": ""
    },
    "id": "L_SzPYRadtP3"
   },
   "source": [
    "### 5. Find the average number of days since last visit of the customer in each country"
   ]
  },
  {
   "cell_type": "code",
   "execution_count": 0,
   "metadata": {
    "application/vnd.databricks.v1+cell": {
     "cellMetadata": {},
     "inputWidgets": {},
     "nuid": "4d543d56-c1ca-491f-bdd9-ae0f40904222",
     "showTitle": false,
     "title": ""
    },
    "id": "w63raV3sfFLo"
   },
   "outputs": [],
   "source": []
  }
 ],
 "metadata": {
  "application/vnd.databricks.v1+notebook": {
   "dashboards": [],
   "language": "python",
   "notebookMetadata": {
    "mostRecentlyExecutedCommandWithImplicitDF": {
     "commandId": 2382226047069919,
     "dataframes": [
      "_sqldf"
     ]
    },
    "pythonIndentUnit": 4
   },
   "notebookName": "Lecture3: Intro2Spark_Dataframe",
   "widgets": {}
  },
  "colab": {
   "authorship_tag": "ABX9TyPxc/lXh+/fwRHvVHqm5b7d",
   "include_colab_link": true,
   "name": "Intro2Spark-Dataframe.ipynb",
   "provenance": []
  },
  "kernelspec": {
   "display_name": "Python 3",
   "name": "python3"
  }
 },
 "nbformat": 4,
 "nbformat_minor": 0
}
