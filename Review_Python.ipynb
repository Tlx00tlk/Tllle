{
  "nbformat": 4,
  "nbformat_minor": 0,
  "metadata": {
    "colab": {
      "name": "Review: Python.ipynb",
      "provenance": [],
      "collapsed_sections": [],
      "toc_visible": true,
      "authorship_tag": "ABX9TyPUV96rdxBEWv6Whs2c9PVU",
      "include_colab_link": true
    },
    "kernelspec": {
      "name": "python3",
      "display_name": "Python 3"
    }
  },
  "cells": [
    {
      "cell_type": "markdown",
      "metadata": {
        "id": "view-in-github",
        "colab_type": "text"
      },
      "source": [
        "<a href=\"https://colab.research.google.com/github/pasdptt/PasdPublicNB/blob/master/Review_Python.ipynb\" target=\"_parent\"><img src=\"https://colab.research.google.com/assets/colab-badge.svg\" alt=\"Open In Colab\"/></a>"
      ]
    },
    {
      "cell_type": "markdown",
      "metadata": {
        "id": "qAqbsCyvlkyu"
      },
      "source": [
        "#Review Python (for Statistician, class 1 and 2)"
      ]
    },
    {
      "cell_type": "code",
      "metadata": {
        "id": "JPy87JCA0M88"
      },
      "source": [
        "#To clear all output\n",
        "from IPython.display import clear_output\n",
        "clear_output(wait=True)"
      ],
      "execution_count": null,
      "outputs": []
    },
    {
      "cell_type": "markdown",
      "metadata": {
        "id": "rV-XrwG9mBv7"
      },
      "source": [
        "Let Guest what is this one?"
      ]
    },
    {
      "cell_type": "code",
      "metadata": {
        "id": "ooaGFeO9CQB3"
      },
      "source": [
        "def someGreatFunction(arr):\n",
        "  if len(arr) <= 1:\n",
        "    return arr\n",
        "  pivot = arr[len(arr) // 2]\n",
        "  left = [x for x in arr if x < pivot]\n",
        "  middle = [x for x in arr if x == pivot]\n",
        "  right = [x for x in arr if x > pivot]\n",
        "  return someGreatFunction(left) + middle + someGreatFunction(right)\n",
        "\n",
        "print(someGreatFunction([3,6,8,10,1,2,1]))"
      ],
      "execution_count": null,
      "outputs": []
    },
    {
      "cell_type": "markdown",
      "metadata": {
        "id": "Holh-78AseSA"
      },
      "source": [
        "# Example Variables"
      ]
    },
    {
      "cell_type": "markdown",
      "metadata": {
        "id": "le5QM3l2sU4-"
      },
      "source": [
        ""
      ]
    },
    {
      "cell_type": "code",
      "metadata": {
        "id": "W15rgUNiVNKG"
      },
      "source": [
        "x = 10\n",
        "y = 3"
      ],
      "execution_count": null,
      "outputs": []
    },
    {
      "cell_type": "code",
      "metadata": {
        "id": "TJUn1ZWqmYN5",
        "colab": {
          "base_uri": "https://localhost:8080/",
          "height": 34
        },
        "outputId": "70f584ad-fb30-4d20-87b9-cc9889b5b036"
      },
      "source": [
        "x + y"
      ],
      "execution_count": null,
      "outputs": [
        {
          "output_type": "execute_result",
          "data": {
            "text/plain": [
              "13"
            ]
          },
          "metadata": {
            "tags": []
          },
          "execution_count": 2
        }
      ]
    },
    {
      "cell_type": "code",
      "metadata": {
        "id": "3UspTcUDmquH",
        "colab": {
          "base_uri": "https://localhost:8080/",
          "height": 34
        },
        "outputId": "420d8bea-ad8d-455f-bd95-6ccb5d83c657"
      },
      "source": [
        "x - y"
      ],
      "execution_count": null,
      "outputs": [
        {
          "output_type": "execute_result",
          "data": {
            "text/plain": [
              "7"
            ]
          },
          "metadata": {
            "tags": []
          },
          "execution_count": 3
        }
      ]
    },
    {
      "cell_type": "code",
      "metadata": {
        "id": "bkyP0HP8mwOP",
        "colab": {
          "base_uri": "https://localhost:8080/",
          "height": 34
        },
        "outputId": "ff2fbd5a-8092-422c-b774-c0827d8c73ff"
      },
      "source": [
        "x ** y"
      ],
      "execution_count": null,
      "outputs": [
        {
          "output_type": "execute_result",
          "data": {
            "text/plain": [
              "1000"
            ]
          },
          "metadata": {
            "tags": []
          },
          "execution_count": 4
        }
      ]
    },
    {
      "cell_type": "code",
      "metadata": {
        "id": "rBvrjsSFmx0X",
        "colab": {
          "base_uri": "https://localhost:8080/",
          "height": 34
        },
        "outputId": "9eb343d3-44b3-4793-e91f-0670b3094d68"
      },
      "source": [
        "x / y"
      ],
      "execution_count": null,
      "outputs": [
        {
          "output_type": "execute_result",
          "data": {
            "text/plain": [
              "3.3333333333333335"
            ]
          },
          "metadata": {
            "tags": []
          },
          "execution_count": 5
        }
      ]
    },
    {
      "cell_type": "code",
      "metadata": {
        "id": "iRjEilGKm0fD",
        "colab": {
          "base_uri": "https://localhost:8080/",
          "height": 34
        },
        "outputId": "7f70d556-82c6-4e8e-c0d0-651197d67023"
      },
      "source": [
        "x / float(y)"
      ],
      "execution_count": null,
      "outputs": [
        {
          "output_type": "execute_result",
          "data": {
            "text/plain": [
              "3.3333333333333335"
            ]
          },
          "metadata": {
            "tags": []
          },
          "execution_count": 6
        }
      ]
    },
    {
      "cell_type": "code",
      "metadata": {
        "id": "CzDK5jXkrD3B",
        "colab": {
          "base_uri": "https://localhost:8080/",
          "height": 35
        },
        "outputId": "a821fa7e-199a-4883-9f12-9c3ad1b7e0e0"
      },
      "source": [
        "str(x)+\"+\"+str(y)"
      ],
      "execution_count": null,
      "outputs": [
        {
          "output_type": "execute_result",
          "data": {
            "application/vnd.google.colaboratory.intrinsic+json": {
              "type": "string"
            },
            "text/plain": [
              "'10+3'"
            ]
          },
          "metadata": {
            "tags": []
          },
          "execution_count": 7
        }
      ]
    },
    {
      "cell_type": "markdown",
      "metadata": {
        "id": "W21-ayTDnCv1"
      },
      "source": [
        "**Built-in Values** # Usual true/false values\n",
        "\n",
        "*  True\n",
        "*  False\n",
        "*  None # Represents the absence of something\n",
        "> * x = None # Variables can be None\n",
        "> * array = [1,2,None] # Lists can contain None\n"
      ]
    },
    {
      "cell_type": "markdown",
      "metadata": {
        "id": "_9wpVRWPobyf"
      },
      "source": [
        "**Functions can return None**"
      ]
    },
    {
      "cell_type": "code",
      "metadata": {
        "id": "xVfoAd8nnGHv"
      },
      "source": [
        "def func():\n",
        "  return None "
      ],
      "execution_count": null,
      "outputs": []
    },
    {
      "cell_type": "markdown",
      "metadata": {
        "id": "dSgaZEPdotYW"
      },
      "source": [
        "\n",
        "\n",
        "**Can check for equality**"
      ]
    },
    {
      "cell_type": "code",
      "metadata": {
        "id": "K1UgVNdnoV3q",
        "colab": {
          "base_uri": "https://localhost:8080/",
          "height": 34
        },
        "outputId": "d1e1916a-1c18-467f-e788-809e8bb07459"
      },
      "source": [
        "if [1,2] != [3,4]:\n",
        "  print (\"Error!\")"
      ],
      "execution_count": null,
      "outputs": [
        {
          "output_type": "stream",
          "text": [
            "Error!\n"
          ],
          "name": "stdout"
        }
      ]
    },
    {
      "cell_type": "markdown",
      "metadata": {
        "id": "cxm8i6lusxsx"
      },
      "source": [
        "# No Brackets, use Indents"
      ]
    },
    {
      "cell_type": "markdown",
      "metadata": {
        "id": "fkJgSmB5pHMq"
      },
      "source": [
        "<n>Code blocks are created using indents.\n",
        "\n",
        "*   Indents can be 2 or 4 spaces, but should be consistent throughout the file.\n",
        "*   If using Vim, set this value to be consistent in your .vimrc\n"
      ]
    },
    {
      "cell_type": "code",
      "metadata": {
        "id": "vvAJRtJSokb8",
        "colab": {
          "base_uri": "https://localhost:8080/",
          "height": 34
        },
        "outputId": "23bde8bb-5bdd-4323-f106-9daf1812a681"
      },
      "source": [
        "def fib(n):\n",
        "  # Indent level 1: function body\n",
        "  if n <= 1:\n",
        "    # Indent level 2: if statement body\n",
        "    return 1\n",
        "  else:\n",
        "    # Indent level 2: else statement body\n",
        "    return fib(n-1)+fib(n-2)\n",
        "\n",
        "fib(10)"
      ],
      "execution_count": null,
      "outputs": [
        {
          "output_type": "execute_result",
          "data": {
            "text/plain": [
              "89"
            ]
          },
          "metadata": {
            "tags": []
          },
          "execution_count": 10
        }
      ]
    },
    {
      "cell_type": "markdown",
      "metadata": {
        "id": "M_0A0GGhs_v3"
      },
      "source": [
        "# Python is a strongly-typed and dynamically-typed language."
      ]
    },
    {
      "cell_type": "markdown",
      "metadata": {
        "id": "IARl62_Sp6zm"
      },
      "source": [
        "**Strongly-typed**: Types will not be coerced silently like in JavaScript.\n",
        "\n",
        "**Dynamically-typed**: Variables are names for values or object references.\n",
        "\n",
        "Variables can be reassigned to values of a different type.\n",
        "\n",
        "Execution: Python is “slower”, but it can run highly optimized C/C++ subroutines which make scientific computing (e.g. matrix multiplication) really fast."
      ]
    },
    {
      "cell_type": "code",
      "metadata": {
        "id": "3tIuBhbhpON8",
        "colab": {
          "base_uri": "https://localhost:8080/",
          "height": 130
        },
        "outputId": "60000788-02b7-4d4b-e313-1a83cc405f06"
      },
      "source": [
        "#Strongly-typed\n",
        "1 + ‘1’"
      ],
      "execution_count": null,
      "outputs": [
        {
          "output_type": "error",
          "ename": "SyntaxError",
          "evalue": "ignored",
          "traceback": [
            "\u001b[0;36m  File \u001b[0;32m\"<ipython-input-11-ee8f8ec78fb4>\"\u001b[0;36m, line \u001b[0;32m2\u001b[0m\n\u001b[0;31m    1 + ‘1’\u001b[0m\n\u001b[0m          ^\u001b[0m\n\u001b[0;31mSyntaxError\u001b[0m\u001b[0;31m:\u001b[0m invalid character in identifier\n"
          ]
        }
      ]
    },
    {
      "cell_type": "code",
      "metadata": {
        "id": "RWIYiePXqlBa",
        "colab": {
          "base_uri": "https://localhost:8080/",
          "height": 34
        },
        "outputId": "18cae4ec-7ae3-4b33-e330-0aae152c5332"
      },
      "source": [
        "#Dynamically-typed\n",
        "foo = [1,2,3]\n",
        "print(foo)"
      ],
      "execution_count": null,
      "outputs": [
        {
          "output_type": "stream",
          "text": [
            "[1, 2, 3]\n"
          ],
          "name": "stdout"
        }
      ]
    },
    {
      "cell_type": "code",
      "metadata": {
        "id": "-TkAJyCdqusV",
        "colab": {
          "base_uri": "https://localhost:8080/",
          "height": 34
        },
        "outputId": "48ac2709-e482-4721-d616-b453c84a1332"
      },
      "source": [
        "foo =  \"hello!\"\n",
        "print(foo)"
      ],
      "execution_count": null,
      "outputs": [
        {
          "output_type": "stream",
          "text": [
            "hello!\n"
          ],
          "name": "stdout"
        }
      ]
    },
    {
      "cell_type": "markdown",
      "metadata": {
        "id": "4fAPpfDktP1D"
      },
      "source": [
        "# Collections: List"
      ]
    },
    {
      "cell_type": "markdown",
      "metadata": {
        "id": "sQ5Q4Faitd0_"
      },
      "source": [
        "## Lists are mutable arrays"
      ]
    },
    {
      "cell_type": "code",
      "metadata": {
        "id": "-7FUw7-5udCu",
        "colab": {
          "base_uri": "https://localhost:8080/",
          "height": 34
        },
        "outputId": "2e2b7412-daad-4c0b-ab6c-329eb34e1c1a"
      },
      "source": [
        "names=[]\n",
        "print(names)"
      ],
      "execution_count": null,
      "outputs": [
        {
          "output_type": "stream",
          "text": [
            "[]\n"
          ],
          "name": "stdout"
        }
      ]
    },
    {
      "cell_type": "code",
      "metadata": {
        "id": "yJcIki9sujMp",
        "colab": {
          "base_uri": "https://localhost:8080/",
          "height": 34
        },
        "outputId": "04513c1e-8dd9-4bdd-9cd7-2da0db818e28"
      },
      "source": [
        "names=list()\n",
        "print(names)"
      ],
      "execution_count": null,
      "outputs": [
        {
          "output_type": "stream",
          "text": [
            "[]\n"
          ],
          "name": "stdout"
        }
      ]
    },
    {
      "cell_type": "code",
      "metadata": {
        "id": "OYiaLt3PsBoc"
      },
      "source": [
        "names = ['Zach', 'Jay']"
      ],
      "execution_count": null,
      "outputs": []
    },
    {
      "cell_type": "code",
      "metadata": {
        "id": "qCrEMfcgq07n",
        "colab": {
          "base_uri": "https://localhost:8080/",
          "height": 34
        },
        "outputId": "80b045a5-e0a5-43da-ec51-7ff72312e245"
      },
      "source": [
        "names[0] == 'Zach'"
      ],
      "execution_count": null,
      "outputs": [
        {
          "output_type": "execute_result",
          "data": {
            "text/plain": [
              "True"
            ]
          },
          "metadata": {
            "tags": []
          },
          "execution_count": 17
        }
      ]
    },
    {
      "cell_type": "code",
      "metadata": {
        "id": "IH09Tc99tr4A"
      },
      "source": [
        "names.append('Richard')"
      ],
      "execution_count": null,
      "outputs": []
    },
    {
      "cell_type": "code",
      "metadata": {
        "id": "L3isuF6NtvXl",
        "colab": {
          "base_uri": "https://localhost:8080/",
          "height": 34
        },
        "outputId": "f10c0bc3-63bc-4724-ccef-4cdbe87aa710"
      },
      "source": [
        "len(names) == 3"
      ],
      "execution_count": null,
      "outputs": [
        {
          "output_type": "execute_result",
          "data": {
            "text/plain": [
              "True"
            ]
          },
          "metadata": {
            "tags": []
          },
          "execution_count": 19
        }
      ]
    },
    {
      "cell_type": "code",
      "metadata": {
        "id": "qJbYBm0Zt1EN",
        "colab": {
          "base_uri": "https://localhost:8080/",
          "height": 34
        },
        "outputId": "ed21b65d-e4a1-4ba5-860d-53291ac66f77"
      },
      "source": [
        "print(names)"
      ],
      "execution_count": null,
      "outputs": [
        {
          "output_type": "stream",
          "text": [
            "['Zach', 'Jay', 'Richard']\n"
          ],
          "name": "stdout"
        }
      ]
    },
    {
      "cell_type": "code",
      "metadata": {
        "id": "wsNfPiLLtyUW"
      },
      "source": [
        "names.extend(['Abi', 'Kevin'])"
      ],
      "execution_count": null,
      "outputs": []
    },
    {
      "cell_type": "code",
      "metadata": {
        "id": "NssNrCPLuBmR",
        "colab": {
          "base_uri": "https://localhost:8080/",
          "height": 34
        },
        "outputId": "ad07f896-695f-4e32-c812-6b2f358b0fcf"
      },
      "source": [
        "print(names)"
      ],
      "execution_count": null,
      "outputs": [
        {
          "output_type": "stream",
          "text": [
            "['Zach', 'Jay', 'Richard', 'Abi', 'Kevin']\n"
          ],
          "name": "stdout"
        }
      ]
    },
    {
      "cell_type": "code",
      "metadata": {
        "id": "nzgyCdhDuPCW",
        "colab": {
          "base_uri": "https://localhost:8080/",
          "height": 34
        },
        "outputId": "3b8efc8e-0aa7-4283-ce91-43e7e98a77a2"
      },
      "source": [
        "stuff = [1, ['hi','bye'], -0.12, None]\n",
        "print(stuff)"
      ],
      "execution_count": null,
      "outputs": [
        {
          "output_type": "stream",
          "text": [
            "[1, ['hi', 'bye'], -0.12, None]\n"
          ],
          "name": "stdout"
        }
      ]
    },
    {
      "cell_type": "markdown",
      "metadata": {
        "id": "66QH6vv8vAlL"
      },
      "source": [
        "## List Slicing\n",
        "\n",
        "List elements can be accessed in convenient ways.\n",
        "\n",
        "Basic format: some_list[start_index:end_index]"
      ]
    },
    {
      "cell_type": "code",
      "metadata": {
        "id": "NRlfnUFGuqoV"
      },
      "source": [
        "numbers = [0, 1, 2, 3, 4, 5, 6]"
      ],
      "execution_count": null,
      "outputs": []
    },
    {
      "cell_type": "code",
      "metadata": {
        "id": "smR-LBtVv-Ak",
        "colab": {
          "base_uri": "https://localhost:8080/",
          "height": 34
        },
        "outputId": "62d3f0b6-c5e6-4f40-9330-b8e0aa8f2d9e"
      },
      "source": [
        "numbers[0:3] == numbers[:3] == [0, 1, 2]"
      ],
      "execution_count": null,
      "outputs": [
        {
          "output_type": "execute_result",
          "data": {
            "text/plain": [
              "True"
            ]
          },
          "metadata": {
            "tags": []
          },
          "execution_count": 25
        }
      ]
    },
    {
      "cell_type": "code",
      "metadata": {
        "id": "l67hQg__v-m1",
        "colab": {
          "base_uri": "https://localhost:8080/",
          "height": 34
        },
        "outputId": "28d4d6c5-cd72-4846-ed81-3de1c1c36a49"
      },
      "source": [
        "numbers[5:] == numbers[5:7] == [5, 6]"
      ],
      "execution_count": null,
      "outputs": [
        {
          "output_type": "execute_result",
          "data": {
            "text/plain": [
              "True"
            ]
          },
          "metadata": {
            "tags": []
          },
          "execution_count": 26
        }
      ]
    },
    {
      "cell_type": "code",
      "metadata": {
        "id": "-ciXjLmswBIP",
        "colab": {
          "base_uri": "https://localhost:8080/",
          "height": 34
        },
        "outputId": "ef234e2c-d021-4b91-8570-496307be9f3e"
      },
      "source": [
        "numbers[:] == numbers == [0, 1, 2, 3, 4, 5, 6]"
      ],
      "execution_count": null,
      "outputs": [
        {
          "output_type": "execute_result",
          "data": {
            "text/plain": [
              "True"
            ]
          },
          "metadata": {
            "tags": []
          },
          "execution_count": 27
        }
      ]
    },
    {
      "cell_type": "code",
      "metadata": {
        "id": "gh8edQpZwD3W",
        "colab": {
          "base_uri": "https://localhost:8080/",
          "height": 34
        },
        "outputId": "eaf88f06-daac-42fe-d5f0-bc70ee85a454"
      },
      "source": [
        "numbers[-1] == 6"
      ],
      "execution_count": null,
      "outputs": [
        {
          "output_type": "execute_result",
          "data": {
            "text/plain": [
              "True"
            ]
          },
          "metadata": {
            "tags": []
          },
          "execution_count": 28
        }
      ]
    },
    {
      "cell_type": "code",
      "metadata": {
        "id": "ks8VNSuDwKIb",
        "colab": {
          "base_uri": "https://localhost:8080/",
          "height": 34
        },
        "outputId": "cc2c21b3-cecf-4a0c-8927-4ff90a984eea"
      },
      "source": [
        "numbers[-3:] == [4, 5, 6]"
      ],
      "execution_count": null,
      "outputs": [
        {
          "output_type": "execute_result",
          "data": {
            "text/plain": [
              "True"
            ]
          },
          "metadata": {
            "tags": []
          },
          "execution_count": 29
        }
      ]
    },
    {
      "cell_type": "code",
      "metadata": {
        "id": "a8wpfwh-wM8c",
        "colab": {
          "base_uri": "https://localhost:8080/",
          "height": 34
        },
        "outputId": "00125225-fab2-476b-9ae0-2ca4299df35d"
      },
      "source": [
        "numbers[3:-2] == [3, 4]"
      ],
      "execution_count": null,
      "outputs": [
        {
          "output_type": "execute_result",
          "data": {
            "text/plain": [
              "True"
            ]
          },
          "metadata": {
            "tags": []
          },
          "execution_count": 30
        }
      ]
    },
    {
      "cell_type": "markdown",
      "metadata": {
        "id": "CWjuRoOawUto"
      },
      "source": [
        "# Collections: Tuple\n",
        "\n",
        "Tuples are immutable arrays"
      ]
    },
    {
      "cell_type": "code",
      "metadata": {
        "id": "lUC-x4NKwQXI"
      },
      "source": [
        "names = ('Zach', 'Jay') # Note the parentheses"
      ],
      "execution_count": null,
      "outputs": []
    },
    {
      "cell_type": "code",
      "metadata": {
        "id": "cwFNln2NwgiV",
        "colab": {
          "base_uri": "https://localhost:8080/",
          "height": 34
        },
        "outputId": "7b267029-e58d-4025-adb9-574226088056"
      },
      "source": [
        "names[0] == 'Zach'"
      ],
      "execution_count": null,
      "outputs": [
        {
          "output_type": "execute_result",
          "data": {
            "text/plain": [
              "True"
            ]
          },
          "metadata": {
            "tags": []
          },
          "execution_count": 33
        }
      ]
    },
    {
      "cell_type": "code",
      "metadata": {
        "id": "e2Gn64jFwzmQ",
        "colab": {
          "base_uri": "https://localhost:8080/",
          "height": 34
        },
        "outputId": "04dd41fd-5f8a-4a5c-9fba-3a08b5987562"
      },
      "source": [
        "len(names) == 2"
      ],
      "execution_count": null,
      "outputs": [
        {
          "output_type": "execute_result",
          "data": {
            "text/plain": [
              "True"
            ]
          },
          "metadata": {
            "tags": []
          },
          "execution_count": 34
        }
      ]
    },
    {
      "cell_type": "code",
      "metadata": {
        "id": "neMsYQsuwwu8",
        "colab": {
          "base_uri": "https://localhost:8080/",
          "height": 34
        },
        "outputId": "d7d3e60a-f24b-442b-aace-293872d1029a"
      },
      "source": [
        "print(names)"
      ],
      "execution_count": null,
      "outputs": [
        {
          "output_type": "stream",
          "text": [
            "('Zach', 'Jay')\n"
          ],
          "name": "stdout"
        }
      ]
    },
    {
      "cell_type": "code",
      "metadata": {
        "id": "vfdMeqUewpcB",
        "colab": {
          "base_uri": "https://localhost:8080/",
          "height": 130
        },
        "outputId": "c42b5acc-37f6-476b-c547-baa8fde910f2"
      },
      "source": [
        "names[0] = ‘Richard’"
      ],
      "execution_count": null,
      "outputs": [
        {
          "output_type": "error",
          "ename": "SyntaxError",
          "evalue": "ignored",
          "traceback": [
            "\u001b[0;36m  File \u001b[0;32m\"<ipython-input-36-f7ff45d082bd>\"\u001b[0;36m, line \u001b[0;32m1\u001b[0m\n\u001b[0;31m    names[0] = ‘Richard’\u001b[0m\n\u001b[0m                       ^\u001b[0m\n\u001b[0;31mSyntaxError\u001b[0m\u001b[0;31m:\u001b[0m invalid character in identifier\n"
          ]
        }
      ]
    },
    {
      "cell_type": "code",
      "metadata": {
        "id": "9G8vCb7dw2wc",
        "colab": {
          "base_uri": "https://localhost:8080/",
          "height": 34
        },
        "outputId": "f3533543-3dd7-4fe1-d812-923a998c56c8"
      },
      "source": [
        "empty = tuple()\n",
        "print(empty)"
      ],
      "execution_count": null,
      "outputs": [
        {
          "output_type": "stream",
          "text": [
            "()\n"
          ],
          "name": "stdout"
        }
      ]
    },
    {
      "cell_type": "code",
      "metadata": {
        "id": "xuz-ycrvw-qT",
        "colab": {
          "base_uri": "https://localhost:8080/",
          "height": 34
        },
        "outputId": "ab7f3d05-c0fd-4dc4-8ee5-ce0ec1f35666"
      },
      "source": [
        "single = (10,)\n",
        "print(single)"
      ],
      "execution_count": null,
      "outputs": [
        {
          "output_type": "stream",
          "text": [
            "(10,)\n"
          ],
          "name": "stdout"
        }
      ]
    },
    {
      "cell_type": "markdown",
      "metadata": {
        "id": "zCPJJhWTxLS8"
      },
      "source": [
        "# Collections: Dictionary\n",
        "\n",
        "Dictionaries are hash maps"
      ]
    },
    {
      "cell_type": "code",
      "metadata": {
        "id": "DQ0KQ1r3xGMS",
        "colab": {
          "base_uri": "https://localhost:8080/",
          "height": 34
        },
        "outputId": "2fd5bdad-80b4-4c28-f796-da2ccf376dda"
      },
      "source": [
        "phonebook = dict() # Empty dictionary\n",
        "print(phonebook)"
      ],
      "execution_count": null,
      "outputs": [
        {
          "output_type": "stream",
          "text": [
            "{}\n"
          ],
          "name": "stdout"
        }
      ]
    },
    {
      "cell_type": "code",
      "metadata": {
        "id": "tuqoE7ygxVN5",
        "colab": {
          "base_uri": "https://localhost:8080/",
          "height": 34
        },
        "outputId": "67605b23-3e91-4310-cbe4-8440afc4df4f"
      },
      "source": [
        "phonebook = {'Zach': '12-37'}\n",
        "print(phonebook)"
      ],
      "execution_count": null,
      "outputs": [
        {
          "output_type": "stream",
          "text": [
            "{'Zach': '12-37'}\n"
          ],
          "name": "stdout"
        }
      ]
    },
    {
      "cell_type": "code",
      "metadata": {
        "id": "7doGBELcxhlH",
        "colab": {
          "base_uri": "https://localhost:8080/",
          "height": 34
        },
        "outputId": "a6ebe2c8-a953-419b-86b9-092609dc5db2"
      },
      "source": [
        "phonebook['Jay'] = '34-23'\n",
        "print(phonebook)"
      ],
      "execution_count": null,
      "outputs": [
        {
          "output_type": "stream",
          "text": [
            "{'Zach': '12-37', 'Jay': '34-23'}\n"
          ],
          "name": "stdout"
        }
      ]
    },
    {
      "cell_type": "code",
      "metadata": {
        "id": "CMgTSYUnxyJE",
        "colab": {
          "base_uri": "https://localhost:8080/",
          "height": 34
        },
        "outputId": "c84419ac-c67d-40c2-e8ca-ea4e4a5fe02e"
      },
      "source": [
        "print('Zach' in phonebook)"
      ],
      "execution_count": null,
      "outputs": [
        {
          "output_type": "stream",
          "text": [
            "True\n"
          ],
          "name": "stdout"
        }
      ]
    },
    {
      "cell_type": "code",
      "metadata": {
        "id": "KjCplAcTx_rE",
        "colab": {
          "base_uri": "https://localhost:8080/",
          "height": 34
        },
        "outputId": "a000b223-5b8a-4664-f717-482d0d396e09"
      },
      "source": [
        "print('Kavin' in phonebook)"
      ],
      "execution_count": null,
      "outputs": [
        {
          "output_type": "stream",
          "text": [
            "False\n"
          ],
          "name": "stdout"
        }
      ]
    },
    {
      "cell_type": "code",
      "metadata": {
        "id": "GovtUuQoyDVY",
        "colab": {
          "base_uri": "https://localhost:8080/",
          "height": 34
        },
        "outputId": "13c1825a-e2c1-49f9-ea77-a3a7cddfafd5"
      },
      "source": [
        "print(phonebook['Jay'])"
      ],
      "execution_count": null,
      "outputs": [
        {
          "output_type": "stream",
          "text": [
            "34-23\n"
          ],
          "name": "stdout"
        }
      ]
    },
    {
      "cell_type": "code",
      "metadata": {
        "id": "Hp2yDaZ3yKIP"
      },
      "source": [
        "del phonebook['Zach']"
      ],
      "execution_count": null,
      "outputs": []
    },
    {
      "cell_type": "code",
      "metadata": {
        "id": "A2gx-9evyOVW",
        "colab": {
          "base_uri": "https://localhost:8080/",
          "height": 34
        },
        "outputId": "e2d13a10-fdf7-4cc8-cfda-f3ac403839ed"
      },
      "source": [
        "print(phonebook)"
      ],
      "execution_count": null,
      "outputs": [
        {
          "output_type": "stream",
          "text": [
            "{'Jay': '34-23'}\n"
          ],
          "name": "stdout"
        }
      ]
    },
    {
      "cell_type": "code",
      "metadata": {
        "id": "16iUCsAoySTi",
        "colab": {
          "base_uri": "https://localhost:8080/",
          "height": 34
        },
        "outputId": "c0ce67bf-8128-412d-f8b8-43bb4c2ebbcb"
      },
      "source": [
        "for name, number in phonebook.items():\n",
        "  print (name, number)"
      ],
      "execution_count": null,
      "outputs": [
        {
          "output_type": "stream",
          "text": [
            "Jay 34-23\n"
          ],
          "name": "stdout"
        }
      ]
    },
    {
      "cell_type": "markdown",
      "metadata": {
        "id": "PfSWoLJ1ze2N"
      },
      "source": [
        "# Play with Loop"
      ]
    },
    {
      "cell_type": "code",
      "metadata": {
        "id": "geH9snn4yX58",
        "colab": {
          "base_uri": "https://localhost:8080/",
          "height": 68
        },
        "outputId": "82383974-b164-4317-c19d-fbd652a524eb"
      },
      "source": [
        "for name in ['Zack', 'Jay', 'Richard']:\n",
        " print ('Hi ' + name + '!')"
      ],
      "execution_count": null,
      "outputs": [
        {
          "output_type": "stream",
          "text": [
            "Hi Zack!\n",
            "Hi Jay!\n",
            "Hi Richard!\n"
          ],
          "name": "stdout"
        }
      ]
    },
    {
      "cell_type": "code",
      "metadata": {
        "id": "cZ7M484_zqAQ"
      },
      "source": [
        "while True:\n",
        "  print('We’re stuck in a loop...')\n",
        "  break"
      ],
      "execution_count": null,
      "outputs": []
    },
    {
      "cell_type": "code",
      "metadata": {
        "id": "GMJRmJCw0bbf",
        "colab": {
          "base_uri": "https://localhost:8080/",
          "height": 187
        },
        "outputId": "e7571ca4-cb9a-4f74-8f21-8628184b7fa4"
      },
      "source": [
        "for i in range(10): # Want an index also?\n",
        "  print ('Line ' + str(i)) # Look at enumerate()!"
      ],
      "execution_count": null,
      "outputs": [
        {
          "output_type": "stream",
          "text": [
            "Line 0\n",
            "Line 1\n",
            "Line 2\n",
            "Line 3\n",
            "Line 4\n",
            "Line 5\n",
            "Line 6\n",
            "Line 7\n",
            "Line 8\n",
            "Line 9\n"
          ],
          "name": "stdout"
        }
      ]
    },
    {
      "cell_type": "code",
      "metadata": {
        "id": "G9xgUb3x0oP1",
        "colab": {
          "base_uri": "https://localhost:8080/",
          "height": 68
        },
        "outputId": "a8edc585-4216-42fb-a0f7-46260ef4fb0e"
      },
      "source": [
        "for x, y in [(1,10), (2,20), (3,30)]:\n",
        "  print (x, y)"
      ],
      "execution_count": null,
      "outputs": [
        {
          "output_type": "stream",
          "text": [
            "1 10\n",
            "2 20\n",
            "3 30\n"
          ],
          "name": "stdout"
        }
      ]
    },
    {
      "cell_type": "markdown",
      "metadata": {
        "id": "RaLyK1010535"
      },
      "source": [
        "# Python as OOP"
      ]
    },
    {
      "cell_type": "code",
      "metadata": {
        "id": "x9Ya67Dv0xQO"
      },
      "source": [
        "class Animal(object):\n",
        "  def __init__(self, species, age): # Constructor `a = Animal(‘bird’, 10)`\n",
        "    self.species = species # Refer to instance with `self`\n",
        "    self.age = age # All instance variables are public\n",
        "\n",
        "  def isPerson(self): # Invoked with `a.isPerson()`\n",
        "    return self.species == 'Homo Sapiens'\n",
        "\n",
        "  def ageOneYear(self):\n",
        "    self.age += 1\n",
        "\n",
        "class Dog(Animal): # Inherits Animal’s methods\n",
        "  def ageOneYear(self): # Override for dog years\n",
        "    self.age += 7"
      ],
      "execution_count": null,
      "outputs": []
    },
    {
      "cell_type": "code",
      "metadata": {
        "id": "FXHkkKqLiT_P"
      },
      "source": [
        ""
      ],
      "execution_count": null,
      "outputs": []
    },
    {
      "cell_type": "code",
      "metadata": {
        "id": "pb7J5X0W1MFO",
        "colab": {
          "base_uri": "https://localhost:8080/",
          "height": 34
        },
        "outputId": "e7e35edd-f59a-4dab-bbeb-d9daf4af6efe"
      },
      "source": [
        "a = Animal('bird', 10)\n",
        "print(a.species, a.age)"
      ],
      "execution_count": null,
      "outputs": [
        {
          "output_type": "stream",
          "text": [
            "bird 10\n"
          ],
          "name": "stdout"
        }
      ]
    },
    {
      "cell_type": "code",
      "metadata": {
        "id": "u7OUUYuQ1YsN",
        "colab": {
          "base_uri": "https://localhost:8080/",
          "height": 34
        },
        "outputId": "eb55458c-7613-4157-fa65-eab0876b3c4c"
      },
      "source": [
        "print(a.isPerson())"
      ],
      "execution_count": null,
      "outputs": [
        {
          "output_type": "stream",
          "text": [
            "False\n"
          ],
          "name": "stdout"
        }
      ]
    },
    {
      "cell_type": "markdown",
      "metadata": {
        "id": "7M2o1Rop122e"
      },
      "source": [
        "# Importing Modules"
      ]
    },
    {
      "cell_type": "code",
      "metadata": {
        "id": "Id6N-xiq1rp-"
      },
      "source": [
        "# Import ‘os’ and ‘time’ modules\n",
        "import os, time\n",
        "# Import under an alias\n",
        "import numpy as np\n",
        "np.dot(x, y) # Access components with pkg.fn\n",
        "# Import specific submodules/functions\n",
        "from numpy import linalg as la, dot as matrix_multiply"
      ],
      "execution_count": null,
      "outputs": []
    },
    {
      "cell_type": "code",
      "metadata": {
        "id": "812Fx8Vd2A6e"
      },
      "source": [
        ""
      ],
      "execution_count": null,
      "outputs": []
    },
    {
      "cell_type": "markdown",
      "metadata": {
        "id": "3fHH71_hTnRy"
      },
      "source": [
        "#Calculating Descriptive Statistics"
      ]
    },
    {
      "cell_type": "markdown",
      "metadata": {
        "id": "Jo-XBGC6U_i6"
      },
      "source": [
        "Ref: https://realpython.com/python-statistics/"
      ]
    },
    {
      "cell_type": "code",
      "metadata": {
        "id": "NCgrJWuGTwDr"
      },
      "source": [
        "import math\n",
        "import statistics\n",
        "import numpy as np\n",
        "import scipy.stats\n",
        "import pandas as pd\n",
        "\n",
        "newline = \"\\r\\n\""
      ],
      "execution_count": 3,
      "outputs": []
    },
    {
      "cell_type": "markdown",
      "metadata": {
        "id": "w7yajh2iUa7v"
      },
      "source": [
        "Note: How do you get a nan value?\n",
        "\n",
        "In Python, you can use any of the following:\n",
        "*   float('nan')\n",
        "*   math.nan\n",
        "*   np.nan\n",
        "\n",
        "You can use all of these functions interchangeably:\n",
        "\n",
        "> math.isnan(np.nan), np.isnan(math.nan)\n",
        "\n",
        ">>(True, True)\n",
        "\n",
        ">math.isnan(y_with_nan[3]), np.isnan(y_with_nan[3])\n",
        "\n",
        ">>(True, True)\n",
        "\n",
        "You can see that the functions are all equivalent. However, please keep in mind that comparing two nan values for equality returns False. In other words, math.nan == math.nan is False!"
      ]
    },
    {
      "cell_type": "code",
      "metadata": {
        "colab": {
          "base_uri": "https://localhost:8080/"
        },
        "id": "WrpiCrpKUKpv",
        "outputId": "6150f2fb-3202-45e7-d0a9-63ad17907a09"
      },
      "source": [
        "x = [8.0, 1, 2.5, 4, 28.0]\n",
        "x_with_nan = [8.0, 1, 2.5, math.nan, 4, 28.0]\n",
        "x"
      ],
      "execution_count": 14,
      "outputs": [
        {
          "output_type": "execute_result",
          "data": {
            "text/plain": [
              "[8.0, 1, 2.5, 4, 28.0]"
            ]
          },
          "metadata": {
            "tags": []
          },
          "execution_count": 14
        }
      ]
    },
    {
      "cell_type": "code",
      "metadata": {
        "colab": {
          "base_uri": "https://localhost:8080/"
        },
        "id": "ObhZ0wipUQQF",
        "outputId": "f03d3070-e15f-4051-fa85-18767792e982"
      },
      "source": [
        "x_with_nan"
      ],
      "execution_count": 15,
      "outputs": [
        {
          "output_type": "execute_result",
          "data": {
            "text/plain": [
              "[8.0, 1, 2.5, nan, 4, 28.0]"
            ]
          },
          "metadata": {
            "tags": []
          },
          "execution_count": 15
        }
      ]
    },
    {
      "cell_type": "code",
      "metadata": {
        "colab": {
          "base_uri": "https://localhost:8080/"
        },
        "id": "J_oF54DDUVPT",
        "outputId": "e0e00ad4-785b-42c8-a2cc-6287361007ba"
      },
      "source": [
        "y, y_with_nan = np.array(x), np.array(x_with_nan)\n",
        "z, z_with_nan = pd.Series(x), pd.Series(x_with_nan)\n",
        "print(newline,y,newline,y_with_nan)"
      ],
      "execution_count": 16,
      "outputs": [
        {
          "output_type": "stream",
          "text": [
            "\r\n",
            " [ 8.   1.   2.5  4.  28. ] \r\n",
            " [ 8.   1.   2.5  nan  4.  28. ]\n"
          ],
          "name": "stdout"
        }
      ]
    },
    {
      "cell_type": "code",
      "metadata": {
        "colab": {
          "base_uri": "https://localhost:8080/"
        },
        "id": "Po_31I6XVWt1",
        "outputId": "5df4a0a5-b120-4d3e-f4ae-b90814f49981"
      },
      "source": [
        "print(z,newline,z_with_nan)"
      ],
      "execution_count": null,
      "outputs": [
        {
          "output_type": "stream",
          "text": [
            "0     8.0\n",
            "1     1.0\n",
            "2     2.5\n",
            "3     4.0\n",
            "4    28.0\n",
            "dtype: float64 \r\n",
            " 0     8.0\n",
            "1     1.0\n",
            "2     2.5\n",
            "3     NaN\n",
            "4     4.0\n",
            "5    28.0\n",
            "dtype: float64\n"
          ],
          "name": "stdout"
        }
      ]
    },
    {
      "cell_type": "markdown",
      "metadata": {
        "id": "D4YtB0CaxVaZ"
      },
      "source": [
        "###Measures of Central Tendency"
      ]
    },
    {
      "cell_type": "markdown",
      "metadata": {
        "id": "IykTdOsExbui"
      },
      "source": [
        "* Mean\n",
        "* Weighted mean\n",
        "* Geometric mean\n",
        "* Harmonic mean\n",
        "* Median\n",
        "* Mode"
      ]
    },
    {
      "cell_type": "markdown",
      "metadata": {
        "id": "KyNh-qPXxvMQ"
      },
      "source": [
        "####Mean\n",
        "\n",
        "The sample mean, also called the sample arithmetic mean or simply the average, is the arithmetic average of all the items in a dataset. The mean of a dataset 𝑥 is mathematically expressed as Σᵢ𝑥ᵢ/𝑛, where 𝑖 = 1, 2, …, 𝑛. In other words, it’s the sum of all the elements 𝑥ᵢ divided by the number of items in the dataset 𝑥."
      ]
    },
    {
      "cell_type": "markdown",
      "metadata": {
        "id": "Fw85vhN6x962"
      },
      "source": [
        "Possible solution"
      ]
    },
    {
      "cell_type": "code",
      "metadata": {
        "colab": {
          "base_uri": "https://localhost:8080/"
        },
        "id": "VsskBygbxoVI",
        "outputId": "d64727c4-df96-4373-ca57-c59941a5f4ad"
      },
      "source": [
        "#Manual\n",
        "\n",
        "mean_ = sum(x)/len(x)\n",
        "mean_"
      ],
      "execution_count": null,
      "outputs": [
        {
          "output_type": "execute_result",
          "data": {
            "text/plain": [
              "8.7"
            ]
          },
          "metadata": {
            "tags": []
          },
          "execution_count": 19
        }
      ]
    },
    {
      "cell_type": "code",
      "metadata": {
        "colab": {
          "base_uri": "https://localhost:8080/"
        },
        "id": "QfDaA1h1xsR6",
        "outputId": "58c2e3eb-bacc-4339-f752-651b0679ecf7"
      },
      "source": [
        "mean_ = statistics.mean(x)\n",
        "mean_"
      ],
      "execution_count": null,
      "outputs": [
        {
          "output_type": "execute_result",
          "data": {
            "text/plain": [
              "8.7"
            ]
          },
          "metadata": {
            "tags": []
          },
          "execution_count": 20
        }
      ]
    },
    {
      "cell_type": "code",
      "metadata": {
        "id": "bzMRfhReVaD0"
      },
      "source": [
        "#ver3.8++\n",
        "mean_ = statistics.fmean(x)\n",
        "mean_"
      ],
      "execution_count": null,
      "outputs": []
    },
    {
      "cell_type": "markdown",
      "metadata": {
        "id": "MxP648GQzGHH"
      },
      "source": [
        "However, if there are nan values among your data, then statistics.mean() will return nan as the output:"
      ]
    },
    {
      "cell_type": "code",
      "metadata": {
        "colab": {
          "base_uri": "https://localhost:8080/"
        },
        "id": "7B7Of4sQyt3E",
        "outputId": "134b6d72-2187-468d-c00d-79656dc2d5b2"
      },
      "source": [
        "mean_ = statistics.mean(x_with_nan)\n",
        "mean_"
      ],
      "execution_count": null,
      "outputs": [
        {
          "output_type": "execute_result",
          "data": {
            "text/plain": [
              "nan"
            ]
          },
          "metadata": {
            "tags": []
          },
          "execution_count": 22
        }
      ]
    },
    {
      "cell_type": "markdown",
      "metadata": {
        "id": "JCsTIx_wzXnc"
      },
      "source": [
        "Which can be fixed by:"
      ]
    },
    {
      "cell_type": "code",
      "metadata": {
        "colab": {
          "base_uri": "https://localhost:8080/"
        },
        "id": "XgROnacDzOjd",
        "outputId": "475c0b16-85d2-4225-cdc5-44f00822b353"
      },
      "source": [
        "np.nanmean(y_with_nan)"
      ],
      "execution_count": null,
      "outputs": [
        {
          "output_type": "execute_result",
          "data": {
            "text/plain": [
              "8.7"
            ]
          },
          "metadata": {
            "tags": []
          },
          "execution_count": 23
        }
      ]
    },
    {
      "cell_type": "markdown",
      "metadata": {
        "id": "M1kZ-CYt0n9m"
      },
      "source": [
        "####Weighted Mean\n",
        "\n",
        "The weighted mean, also called the weighted arithmetic mean or weighted average, is a generalization of the arithmetic mean that enables you to define the relative contribution of each data point to the result.\n",
        "\n",
        "You define one weight 𝑤ᵢ for each data point 𝑥ᵢ of the dataset 𝑥, where 𝑖 = 1, 2, …, 𝑛 and 𝑛 is the number of items in 𝑥. Then, you multiply each data point with the corresponding weight, sum all the products, and divide the obtained sum with the sum of weights: Σᵢ(𝑤ᵢ𝑥ᵢ) / Σᵢ𝑤ᵢ."
      ]
    },
    {
      "cell_type": "code",
      "metadata": {
        "colab": {
          "base_uri": "https://localhost:8080/"
        },
        "id": "kLHEOa-YzWOD",
        "outputId": "f4beff8e-36bb-4510-80bd-a252cfd91475"
      },
      "source": [
        "x = [8.0, 1, 2.5, 4, 28.0]\n",
        "w = [0.1, 0.2, 0.3, 0.25, 0.15]\n",
        "wmean = sum(w[i] * x[i] for i in range(len(x))) / sum(w)\n",
        "wmean"
      ],
      "execution_count": 4,
      "outputs": [
        {
          "output_type": "execute_result",
          "data": {
            "text/plain": [
              "6.95"
            ]
          },
          "metadata": {
            "tags": []
          },
          "execution_count": 4
        }
      ]
    },
    {
      "cell_type": "code",
      "metadata": {
        "colab": {
          "base_uri": "https://localhost:8080/"
        },
        "id": "TsSjzhvA1KIo",
        "outputId": "84ddc3c2-5c45-460b-f887-5c54f47a698e"
      },
      "source": [
        "wmean = sum(x_ * w_ for (x_, w_) in zip(x, w)) / sum(w)\n",
        "wmean"
      ],
      "execution_count": 5,
      "outputs": [
        {
          "output_type": "execute_result",
          "data": {
            "text/plain": [
              "6.95"
            ]
          },
          "metadata": {
            "tags": []
          },
          "execution_count": 5
        }
      ]
    },
    {
      "cell_type": "code",
      "metadata": {
        "colab": {
          "base_uri": "https://localhost:8080/"
        },
        "id": "RrPVIfFzL-LD",
        "outputId": "89b4d109-4656-402a-9909-f0db8794fbe5"
      },
      "source": [
        "y, z, w = np.array(x), pd.Series(x), np.array(w)\n",
        "wmean = np.average(y, weights=w)\n",
        "wmean"
      ],
      "execution_count": 6,
      "outputs": [
        {
          "output_type": "execute_result",
          "data": {
            "text/plain": [
              "6.95"
            ]
          },
          "metadata": {
            "tags": []
          },
          "execution_count": 6
        }
      ]
    },
    {
      "cell_type": "code",
      "metadata": {
        "colab": {
          "base_uri": "https://localhost:8080/"
        },
        "id": "Gwrj3I84M-K9",
        "outputId": "c6cddfa7-273b-497d-b405-81870a9e8c8d"
      },
      "source": [
        "wmean = np.average(z, weights=w)\n",
        "wmean"
      ],
      "execution_count": 7,
      "outputs": [
        {
          "output_type": "execute_result",
          "data": {
            "text/plain": [
              "6.95"
            ]
          },
          "metadata": {
            "tags": []
          },
          "execution_count": 7
        }
      ]
    },
    {
      "cell_type": "code",
      "metadata": {
        "colab": {
          "base_uri": "https://localhost:8080/"
        },
        "id": "95bLPIQ01OK7",
        "outputId": "f941051b-9faf-4e79-a7be-2d138f3aaa3f"
      },
      "source": [
        "(w * y).sum() / w.sum()"
      ],
      "execution_count": 8,
      "outputs": [
        {
          "output_type": "execute_result",
          "data": {
            "text/plain": [
              "6.95"
            ]
          },
          "metadata": {
            "tags": []
          },
          "execution_count": 8
        }
      ]
    },
    {
      "cell_type": "markdown",
      "metadata": {
        "id": "m0LrKwXqNNg4"
      },
      "source": [
        "####Harmonic Mean\n",
        "The harmonic mean is the reciprocal of the mean of the reciprocals of all items in the dataset: 𝑛 / Σᵢ(1/𝑥ᵢ), where 𝑖 = 1, 2, …, 𝑛 and 𝑛 is the number of items in the dataset 𝑥. One variant of the pure Python implementation of the harmonic mean is this:"
      ]
    },
    {
      "cell_type": "code",
      "metadata": {
        "id": "-rMn7-pk1W65",
        "colab": {
          "base_uri": "https://localhost:8080/"
        },
        "outputId": "2f154620-b32f-4795-dd4d-9842426a90e3"
      },
      "source": [
        "hmean = len(x) / sum(1 / item for item in x)\n",
        "hmean"
      ],
      "execution_count": 12,
      "outputs": [
        {
          "output_type": "execute_result",
          "data": {
            "text/plain": [
              "2.7613412228796843"
            ]
          },
          "metadata": {
            "tags": []
          },
          "execution_count": 12
        }
      ]
    },
    {
      "cell_type": "code",
      "metadata": {
        "colab": {
          "base_uri": "https://localhost:8080/"
        },
        "id": "HWN4keOxOp-B",
        "outputId": "25d677c1-428e-4a3e-e6d3-3b6b2e9d78f8"
      },
      "source": [
        "hmean = statistics.harmonic_mean(x)\n",
        "hmean"
      ],
      "execution_count": 13,
      "outputs": [
        {
          "output_type": "execute_result",
          "data": {
            "text/plain": [
              "2.7613412228796843"
            ]
          },
          "metadata": {
            "tags": []
          },
          "execution_count": 13
        }
      ]
    },
    {
      "cell_type": "code",
      "metadata": {
        "colab": {
          "base_uri": "https://localhost:8080/"
        },
        "id": "VbEcQtxcO4e8",
        "outputId": "d1c7549e-0afa-4d93-d09b-b405e2d9919d"
      },
      "source": [
        "#issue example\n",
        "print(statistics.harmonic_mean(x_with_nan),statistics.harmonic_mean([1, 0, 2]))"
      ],
      "execution_count": 19,
      "outputs": [
        {
          "output_type": "stream",
          "text": [
            "nan 0\n"
          ],
          "name": "stdout"
        }
      ]
    },
    {
      "cell_type": "code",
      "metadata": {
        "colab": {
          "base_uri": "https://localhost:8080/",
          "height": 307
        },
        "id": "DqaGcHoNPNEH",
        "outputId": "24413d8a-48ff-4a7a-d5d0-aebc0a539f56"
      },
      "source": [
        "statistics.harmonic_mean([1, 2, -2])"
      ],
      "execution_count": 20,
      "outputs": [
        {
          "output_type": "error",
          "ename": "StatisticsError",
          "evalue": "ignored",
          "traceback": [
            "\u001b[0;31m---------------------------------------------------------------------------\u001b[0m",
            "\u001b[0;31mStatisticsError\u001b[0m                           Traceback (most recent call last)",
            "\u001b[0;32m<ipython-input-20-750812e8b6f1>\u001b[0m in \u001b[0;36m<module>\u001b[0;34m()\u001b[0m\n\u001b[0;32m----> 1\u001b[0;31m \u001b[0mstatistics\u001b[0m\u001b[0;34m.\u001b[0m\u001b[0mharmonic_mean\u001b[0m\u001b[0;34m(\u001b[0m\u001b[0;34m[\u001b[0m\u001b[0;36m1\u001b[0m\u001b[0;34m,\u001b[0m \u001b[0;36m2\u001b[0m\u001b[0;34m,\u001b[0m \u001b[0;34m-\u001b[0m\u001b[0;36m2\u001b[0m\u001b[0;34m]\u001b[0m\u001b[0;34m)\u001b[0m\u001b[0;34m\u001b[0m\u001b[0;34m\u001b[0m\u001b[0m\n\u001b[0m",
            "\u001b[0;32m/usr/lib/python3.6/statistics.py\u001b[0m in \u001b[0;36mharmonic_mean\u001b[0;34m(data)\u001b[0m\n\u001b[1;32m    354\u001b[0m             \u001b[0;32mraise\u001b[0m \u001b[0mTypeError\u001b[0m\u001b[0;34m(\u001b[0m\u001b[0;34m'unsupported type'\u001b[0m\u001b[0;34m)\u001b[0m\u001b[0;34m\u001b[0m\u001b[0;34m\u001b[0m\u001b[0m\n\u001b[1;32m    355\u001b[0m     \u001b[0;32mtry\u001b[0m\u001b[0;34m:\u001b[0m\u001b[0;34m\u001b[0m\u001b[0;34m\u001b[0m\u001b[0m\n\u001b[0;32m--> 356\u001b[0;31m         \u001b[0mT\u001b[0m\u001b[0;34m,\u001b[0m \u001b[0mtotal\u001b[0m\u001b[0;34m,\u001b[0m \u001b[0mcount\u001b[0m \u001b[0;34m=\u001b[0m \u001b[0m_sum\u001b[0m\u001b[0;34m(\u001b[0m\u001b[0;36m1\u001b[0m\u001b[0;34m/\u001b[0m\u001b[0mx\u001b[0m \u001b[0;32mfor\u001b[0m \u001b[0mx\u001b[0m \u001b[0;32min\u001b[0m \u001b[0m_fail_neg\u001b[0m\u001b[0;34m(\u001b[0m\u001b[0mdata\u001b[0m\u001b[0;34m,\u001b[0m \u001b[0merrmsg\u001b[0m\u001b[0;34m)\u001b[0m\u001b[0;34m)\u001b[0m\u001b[0;34m\u001b[0m\u001b[0;34m\u001b[0m\u001b[0m\n\u001b[0m\u001b[1;32m    357\u001b[0m     \u001b[0;32mexcept\u001b[0m \u001b[0mZeroDivisionError\u001b[0m\u001b[0;34m:\u001b[0m\u001b[0;34m\u001b[0m\u001b[0;34m\u001b[0m\u001b[0m\n\u001b[1;32m    358\u001b[0m         \u001b[0;32mreturn\u001b[0m \u001b[0;36m0\u001b[0m\u001b[0;34m\u001b[0m\u001b[0;34m\u001b[0m\u001b[0m\n",
            "\u001b[0;32m/usr/lib/python3.6/statistics.py\u001b[0m in \u001b[0;36m_sum\u001b[0;34m(data, start)\u001b[0m\n\u001b[1;32m    146\u001b[0m     \u001b[0;32mfor\u001b[0m \u001b[0mtyp\u001b[0m\u001b[0;34m,\u001b[0m \u001b[0mvalues\u001b[0m \u001b[0;32min\u001b[0m \u001b[0mgroupby\u001b[0m\u001b[0;34m(\u001b[0m\u001b[0mdata\u001b[0m\u001b[0;34m,\u001b[0m \u001b[0mtype\u001b[0m\u001b[0;34m)\u001b[0m\u001b[0;34m:\u001b[0m\u001b[0;34m\u001b[0m\u001b[0;34m\u001b[0m\u001b[0m\n\u001b[1;32m    147\u001b[0m         \u001b[0mT\u001b[0m \u001b[0;34m=\u001b[0m \u001b[0m_coerce\u001b[0m\u001b[0;34m(\u001b[0m\u001b[0mT\u001b[0m\u001b[0;34m,\u001b[0m \u001b[0mtyp\u001b[0m\u001b[0;34m)\u001b[0m  \u001b[0;31m# or raise TypeError\u001b[0m\u001b[0;34m\u001b[0m\u001b[0;34m\u001b[0m\u001b[0m\n\u001b[0;32m--> 148\u001b[0;31m         \u001b[0;32mfor\u001b[0m \u001b[0mn\u001b[0m\u001b[0;34m,\u001b[0m\u001b[0md\u001b[0m \u001b[0;32min\u001b[0m \u001b[0mmap\u001b[0m\u001b[0;34m(\u001b[0m\u001b[0m_exact_ratio\u001b[0m\u001b[0;34m,\u001b[0m \u001b[0mvalues\u001b[0m\u001b[0;34m)\u001b[0m\u001b[0;34m:\u001b[0m\u001b[0;34m\u001b[0m\u001b[0;34m\u001b[0m\u001b[0m\n\u001b[0m\u001b[1;32m    149\u001b[0m             \u001b[0mcount\u001b[0m \u001b[0;34m+=\u001b[0m \u001b[0;36m1\u001b[0m\u001b[0;34m\u001b[0m\u001b[0;34m\u001b[0m\u001b[0m\n\u001b[1;32m    150\u001b[0m             \u001b[0mpartials\u001b[0m\u001b[0;34m[\u001b[0m\u001b[0md\u001b[0m\u001b[0;34m]\u001b[0m \u001b[0;34m=\u001b[0m \u001b[0mpartials_get\u001b[0m\u001b[0;34m(\u001b[0m\u001b[0md\u001b[0m\u001b[0;34m,\u001b[0m \u001b[0;36m0\u001b[0m\u001b[0;34m)\u001b[0m \u001b[0;34m+\u001b[0m \u001b[0mn\u001b[0m\u001b[0;34m\u001b[0m\u001b[0;34m\u001b[0m\u001b[0m\n",
            "\u001b[0;32m/usr/lib/python3.6/statistics.py\u001b[0m in \u001b[0;36m<genexpr>\u001b[0;34m(.0)\u001b[0m\n\u001b[1;32m    354\u001b[0m             \u001b[0;32mraise\u001b[0m \u001b[0mTypeError\u001b[0m\u001b[0;34m(\u001b[0m\u001b[0;34m'unsupported type'\u001b[0m\u001b[0;34m)\u001b[0m\u001b[0;34m\u001b[0m\u001b[0;34m\u001b[0m\u001b[0m\n\u001b[1;32m    355\u001b[0m     \u001b[0;32mtry\u001b[0m\u001b[0;34m:\u001b[0m\u001b[0;34m\u001b[0m\u001b[0;34m\u001b[0m\u001b[0m\n\u001b[0;32m--> 356\u001b[0;31m         \u001b[0mT\u001b[0m\u001b[0;34m,\u001b[0m \u001b[0mtotal\u001b[0m\u001b[0;34m,\u001b[0m \u001b[0mcount\u001b[0m \u001b[0;34m=\u001b[0m \u001b[0m_sum\u001b[0m\u001b[0;34m(\u001b[0m\u001b[0;36m1\u001b[0m\u001b[0;34m/\u001b[0m\u001b[0mx\u001b[0m \u001b[0;32mfor\u001b[0m \u001b[0mx\u001b[0m \u001b[0;32min\u001b[0m \u001b[0m_fail_neg\u001b[0m\u001b[0;34m(\u001b[0m\u001b[0mdata\u001b[0m\u001b[0;34m,\u001b[0m \u001b[0merrmsg\u001b[0m\u001b[0;34m)\u001b[0m\u001b[0;34m)\u001b[0m\u001b[0;34m\u001b[0m\u001b[0;34m\u001b[0m\u001b[0m\n\u001b[0m\u001b[1;32m    357\u001b[0m     \u001b[0;32mexcept\u001b[0m \u001b[0mZeroDivisionError\u001b[0m\u001b[0;34m:\u001b[0m\u001b[0;34m\u001b[0m\u001b[0;34m\u001b[0m\u001b[0m\n\u001b[1;32m    358\u001b[0m         \u001b[0;32mreturn\u001b[0m \u001b[0;36m0\u001b[0m\u001b[0;34m\u001b[0m\u001b[0;34m\u001b[0m\u001b[0m\n",
            "\u001b[0;32m/usr/lib/python3.6/statistics.py\u001b[0m in \u001b[0;36m_fail_neg\u001b[0;34m(values, errmsg)\u001b[0m\n\u001b[1;32m    283\u001b[0m     \u001b[0;32mfor\u001b[0m \u001b[0mx\u001b[0m \u001b[0;32min\u001b[0m \u001b[0mvalues\u001b[0m\u001b[0;34m:\u001b[0m\u001b[0;34m\u001b[0m\u001b[0;34m\u001b[0m\u001b[0m\n\u001b[1;32m    284\u001b[0m         \u001b[0;32mif\u001b[0m \u001b[0mx\u001b[0m \u001b[0;34m<\u001b[0m \u001b[0;36m0\u001b[0m\u001b[0;34m:\u001b[0m\u001b[0;34m\u001b[0m\u001b[0;34m\u001b[0m\u001b[0m\n\u001b[0;32m--> 285\u001b[0;31m             \u001b[0;32mraise\u001b[0m \u001b[0mStatisticsError\u001b[0m\u001b[0;34m(\u001b[0m\u001b[0merrmsg\u001b[0m\u001b[0;34m)\u001b[0m\u001b[0;34m\u001b[0m\u001b[0;34m\u001b[0m\u001b[0m\n\u001b[0m\u001b[1;32m    286\u001b[0m         \u001b[0;32myield\u001b[0m \u001b[0mx\u001b[0m\u001b[0;34m\u001b[0m\u001b[0;34m\u001b[0m\u001b[0m\n\u001b[1;32m    287\u001b[0m \u001b[0;34m\u001b[0m\u001b[0m\n",
            "\u001b[0;31mStatisticsError\u001b[0m: harmonic mean does not support negative values"
          ]
        }
      ]
    },
    {
      "cell_type": "markdown",
      "metadata": {
        "id": "v5brJbT9Pbo7"
      },
      "source": [
        "####Geometric Mean\n",
        "The geometric mean is the 𝑛-th root of the product of all 𝑛 elements 𝑥ᵢ in a dataset 𝑥: ⁿ√(Πᵢ𝑥ᵢ), where 𝑖 = 1, 2, …, 𝑛. The following figure illustrates the arithmetic, harmonic, and geometric means of a dataset:\n",
        "\n",
        "![py-stats-02.webp](data:image/webp;base64,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)\n",
        "\n",
        "Again, the green dots represent the data points 1, 2.5, 4, 8, and 28. The red dashed line is the mean. The blue dashed line is the harmonic mean, and the yellow dashed line is the geometric mean.\n",
        "\n",
        "You can implement the geometric mean in pure Python like this:"
      ]
    },
    {
      "cell_type": "code",
      "metadata": {
        "colab": {
          "base_uri": "https://localhost:8080/"
        },
        "id": "ObwybdcPPWvx",
        "outputId": "0af83ba1-0959-4835-8d60-bbd4abdf688c"
      },
      "source": [
        "gmean = 1\n",
        "for item in x:\n",
        "  gmean *= item\n",
        "gmean **= 1 / len(x)\n",
        "gmean"
      ],
      "execution_count": 21,
      "outputs": [
        {
          "output_type": "execute_result",
          "data": {
            "text/plain": [
              "4.677885674856041"
            ]
          },
          "metadata": {
            "tags": []
          },
          "execution_count": 21
        }
      ]
    },
    {
      "cell_type": "code",
      "metadata": {
        "id": "yX4HtR7ZQEaz"
      },
      "source": [
        "#ver3.8\n",
        "gmean = statistics.geometric_mean(x)\n",
        "gmean"
      ],
      "execution_count": null,
      "outputs": []
    },
    {
      "cell_type": "markdown",
      "metadata": {
        "id": "bc_7U6QCPtmb"
      },
      "source": [
        "####Median\n",
        "The sample median is the middle element of a sorted dataset. The dataset can be sorted in increasing or decreasing order. If the number of elements 𝑛 of the dataset is odd, then the median is the value at the middle position: 0.5(𝑛 + 1). If 𝑛 is even, then the median is the arithmetic mean of the two values in the middle, that is, the items at the positions 0.5𝑛 and 0.5𝑛 + 1.\n",
        "\n",
        "For example, if you have the data points 2, 4, 1, 8, and 9, then the median value is 4, which is in the middle of the sorted dataset (1, 2, 4, 8, 9). If the data points are 2, 4, 1, and 8, then the median is 3, which is the average of the two middle elements of the sorted sequence (2 and 4). The following figure illustrates this:\n",
        "\n",
        "![py-stats-04.f7b39a21dd2d.png](data:image/png;base64,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)\n",
        "\n",
        "The data points are the green dots, and the purple lines show the median for each dataset. The median value for the upper dataset (1, 2.5, 4, 8, and 28) is 4. If you remove the outlier 28 from the lower dataset, then the median becomes the arithmetic average between 2.5 and 4, which is 3.25.\n",
        "\n",
        "The figure below shows both the mean and median of the data points 1, 2.5, 4, 8, and 28:\n",
        "\n",
        "![py-stats-03.webp](data:image/webp;base64,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)\n",
        "\n",
        "Again, the mean is the red dashed line, while the median is the purple line.\n",
        "\n",
        "The main difference between the behavior of the mean and median is related to dataset outliers or extremes. The mean is heavily affected by outliers, but the median only depends on outliers either slightly or not at all. Consider the following figure:\n",
        "\n",
        "![py-stats-05.b5c3dba0cd5f.png](data:image/png;base64,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)\n",
        "\n",
        "The upper dataset again has the items 1, 2.5, 4, 8, and 28. Its mean is 8.7, and the median is 5, as you saw earlier. The lower dataset shows what’s going on when you move the rightmost point with the value 28:\n",
        "\n",
        "If you increase its value (move it to the right), then the mean will rise, but the median value won’t ever change.\n",
        "If you decrease its value (move it to the left), then the mean will drop, but the median will remain the same until the value of the moving point is greater than or equal to 4.\n",
        "You can compare the mean and median as one way to detect outliers and asymmetry in your data. Whether the mean value or the median value is more useful to you depends on the context of your particular problem.\n",
        "\n",
        "Here is one of many possible pure Python implementations of the median:\n"
      ]
    },
    {
      "cell_type": "code",
      "metadata": {
        "colab": {
          "base_uri": "https://localhost:8080/"
        },
        "id": "aFML6ALUQl3X",
        "outputId": "c8ce0bc4-0398-4bdb-c01c-0ce209871916"
      },
      "source": [
        "n = len(x)\n",
        "if n % 2:\n",
        "  median_ = sorted(x)[round(0.5*(n-1))]\n",
        "else:\n",
        "  x_ord, index = sorted(x), round(0.5 * n)\n",
        "  median_ = 0.5 * (x_ord[index-1] + x_ord[index])\n",
        "median_"
      ],
      "execution_count": 23,
      "outputs": [
        {
          "output_type": "execute_result",
          "data": {
            "text/plain": [
              "4"
            ]
          },
          "metadata": {
            "tags": []
          },
          "execution_count": 23
        }
      ]
    },
    {
      "cell_type": "markdown",
      "metadata": {
        "id": "Yg01wt1EdlHi"
      },
      "source": [
        "Two most important steps of this implementation are as follows:\n",
        "\n",
        "Sorting the elements of the dataset\n",
        "Finding the middle element(s) in the sorted dataset\n",
        "You can get the median with statistics.median():"
      ]
    },
    {
      "cell_type": "code",
      "metadata": {
        "colab": {
          "base_uri": "https://localhost:8080/"
        },
        "id": "slutGjRddoRC",
        "outputId": "bcbd8056-a56b-4e67-a1ca-e71fe05ae1d0"
      },
      "source": [
        "median_ = statistics.median(x)\n",
        "median_"
      ],
      "execution_count": 24,
      "outputs": [
        {
          "output_type": "execute_result",
          "data": {
            "text/plain": [
              "4"
            ]
          },
          "metadata": {
            "tags": []
          },
          "execution_count": 24
        }
      ]
    },
    {
      "cell_type": "code",
      "metadata": {
        "colab": {
          "base_uri": "https://localhost:8080/"
        },
        "id": "4C-LvOaIdrOQ",
        "outputId": "66630ba8-12ce-4680-e2b7-b814251f1acc"
      },
      "source": [
        "median_ = statistics.median(x[:-1])\n",
        "median_"
      ],
      "execution_count": 25,
      "outputs": [
        {
          "output_type": "execute_result",
          "data": {
            "text/plain": [
              "3.25"
            ]
          },
          "metadata": {
            "tags": []
          },
          "execution_count": 25
        }
      ]
    },
    {
      "cell_type": "markdown",
      "metadata": {
        "id": "FeDTETDzd1QS"
      },
      "source": [
        "The sorted version of x is [1, 2.5, 4, 8.0, 28.0], so the element in the middle is 4. The sorted version of x[:-1], which is x without the last item 28.0, is [1, 2.5, 4, 8.0]. Now, there are two middle elements, 2.5 and 4. Their average is 3.25.\n",
        "\n",
        "median_low() and median_high() are two more functions related to the median in the Python statistics library. They always return an element from the dataset:\n",
        "\n",
        "If the number of elements is odd, then there’s a single middle value, so these functions behave just like median().\n",
        "If the number of elements is even, then there are two middle values. In this case, median_low() returns the lower and median_high() the higher middle value.\n",
        "You can use these functions just as you’d use median():"
      ]
    },
    {
      "cell_type": "code",
      "metadata": {
        "colab": {
          "base_uri": "https://localhost:8080/"
        },
        "id": "7buskUXIdt3x",
        "outputId": "0306743b-1556-42ea-8195-086b4cb5c919"
      },
      "source": [
        "statistics.median_low(x[:-1])"
      ],
      "execution_count": 26,
      "outputs": [
        {
          "output_type": "execute_result",
          "data": {
            "text/plain": [
              "2.5"
            ]
          },
          "metadata": {
            "tags": []
          },
          "execution_count": 26
        }
      ]
    },
    {
      "cell_type": "code",
      "metadata": {
        "colab": {
          "base_uri": "https://localhost:8080/"
        },
        "id": "6_-r5xWvd-Ms",
        "outputId": "8ab3649b-1d80-4768-d62f-3aa9612c405b"
      },
      "source": [
        "statistics.median_high(x[:-1])"
      ],
      "execution_count": 27,
      "outputs": [
        {
          "output_type": "execute_result",
          "data": {
            "text/plain": [
              "4"
            ]
          },
          "metadata": {
            "tags": []
          },
          "execution_count": 27
        }
      ]
    },
    {
      "cell_type": "markdown",
      "metadata": {
        "id": "Cph58QOSeIZJ"
      },
      "source": [
        "Again, the sorted version of x[:-1] is [1, 2.5, 4, 8.0]. The two elements in the middle are 2.5 (low) and 4 (high).\n",
        "\n",
        "Unlike most other functions from the Python statistics library, median(), median_low(), and median_high() don’t return nan when there are nan values among the data points"
      ]
    },
    {
      "cell_type": "code",
      "metadata": {
        "colab": {
          "base_uri": "https://localhost:8080/"
        },
        "id": "G8m5mfB1d-33",
        "outputId": "2103d0a4-87de-4f67-a23e-1b172383d470"
      },
      "source": [
        "statistics.median(x_with_nan)"
      ],
      "execution_count": 31,
      "outputs": [
        {
          "output_type": "execute_result",
          "data": {
            "text/plain": [
              "6.0"
            ]
          },
          "metadata": {
            "tags": []
          },
          "execution_count": 31
        }
      ]
    },
    {
      "cell_type": "code",
      "metadata": {
        "colab": {
          "base_uri": "https://localhost:8080/"
        },
        "id": "o2w0Ee5Aibbf",
        "outputId": "2c12d418-ed31-426a-98bf-b058f5b701b6"
      },
      "source": [
        "np.median(y)"
      ],
      "execution_count": 29,
      "outputs": [
        {
          "output_type": "execute_result",
          "data": {
            "text/plain": [
              "4.0"
            ]
          },
          "metadata": {
            "tags": []
          },
          "execution_count": 29
        }
      ]
    },
    {
      "cell_type": "code",
      "metadata": {
        "colab": {
          "base_uri": "https://localhost:8080/"
        },
        "id": "FhoyZ69oixQc",
        "outputId": "9d7188f0-2861-4f82-8bd6-eabdd00689d3"
      },
      "source": [
        "statistics.median_high(x_with_nan)"
      ],
      "execution_count": 33,
      "outputs": [
        {
          "output_type": "execute_result",
          "data": {
            "text/plain": [
              "8.0"
            ]
          },
          "metadata": {
            "tags": []
          },
          "execution_count": 33
        }
      ]
    },
    {
      "cell_type": "markdown",
      "metadata": {
        "id": "fI_CJi4Ni_j-"
      },
      "source": [
        "You can also get the median with np.median():"
      ]
    },
    {
      "cell_type": "code",
      "metadata": {
        "colab": {
          "base_uri": "https://localhost:8080/"
        },
        "id": "1P0X84uGeGgs",
        "outputId": "2725cb01-1ed5-436e-c932-970c3ed7ca0d"
      },
      "source": [
        "statistics.median_low(x_with_nan)"
      ],
      "execution_count": 32,
      "outputs": [
        {
          "output_type": "execute_result",
          "data": {
            "text/plain": [
              "4"
            ]
          },
          "metadata": {
            "tags": []
          },
          "execution_count": 32
        }
      ]
    },
    {
      "cell_type": "code",
      "metadata": {
        "colab": {
          "base_uri": "https://localhost:8080/"
        },
        "id": "KOVVlAnSihc1",
        "outputId": "df9093c2-c7fc-46ad-8cd1-710b167f31f7"
      },
      "source": [
        "np.median(y[:-1])"
      ],
      "execution_count": 30,
      "outputs": [
        {
          "output_type": "execute_result",
          "data": {
            "text/plain": [
              "3.25"
            ]
          },
          "metadata": {
            "tags": []
          },
          "execution_count": 30
        }
      ]
    },
    {
      "cell_type": "markdown",
      "metadata": {
        "id": "qmYC5FUMjBwt"
      },
      "source": [
        "However, if there’s a nan value in your dataset, then np.median() issues the RuntimeWarning and returns nan. If this behavior is not what you want, then you can use nanmedian() to ignore all nan values:"
      ]
    },
    {
      "cell_type": "code",
      "metadata": {
        "colab": {
          "base_uri": "https://localhost:8080/"
        },
        "id": "nTd4Nyw9iy20",
        "outputId": "0a9f9f21-a4dd-404a-fbd1-54075626fd78"
      },
      "source": [
        "np.nanmedian(y_with_nan)"
      ],
      "execution_count": 34,
      "outputs": [
        {
          "output_type": "execute_result",
          "data": {
            "text/plain": [
              "4.0"
            ]
          },
          "metadata": {
            "tags": []
          },
          "execution_count": 34
        }
      ]
    },
    {
      "cell_type": "code",
      "metadata": {
        "colab": {
          "base_uri": "https://localhost:8080/"
        },
        "id": "b1rJ0gAbjKiv",
        "outputId": "1895e0fd-7124-4e4b-ddc3-0aa6db96d8c7"
      },
      "source": [
        "np.nanmedian(y_with_nan[:-1])"
      ],
      "execution_count": 35,
      "outputs": [
        {
          "output_type": "execute_result",
          "data": {
            "text/plain": [
              "3.25"
            ]
          },
          "metadata": {
            "tags": []
          },
          "execution_count": 35
        }
      ]
    },
    {
      "cell_type": "markdown",
      "metadata": {
        "id": "1FN1mOFGjTHh"
      },
      "source": [
        "The obtained results are the same as with statistics.median() and np.median() applied to the datasets x and y.\n",
        "\n",
        "Pandas Series objects have the method .median() that ignores nan values by default:"
      ]
    },
    {
      "cell_type": "code",
      "metadata": {
        "colab": {
          "base_uri": "https://localhost:8080/"
        },
        "id": "lwu9x1dujL9v",
        "outputId": "8b36c743-6d89-49b5-bdd5-54bc1c9a46a9"
      },
      "source": [
        "z.median()"
      ],
      "execution_count": 36,
      "outputs": [
        {
          "output_type": "execute_result",
          "data": {
            "text/plain": [
              "4.0"
            ]
          },
          "metadata": {
            "tags": []
          },
          "execution_count": 36
        }
      ]
    },
    {
      "cell_type": "code",
      "metadata": {
        "colab": {
          "base_uri": "https://localhost:8080/"
        },
        "id": "aqcl_x4ajY2q",
        "outputId": "aa54bca8-a3f1-47b0-8745-9ca423ab25cf"
      },
      "source": [
        "z_with_nan.median()"
      ],
      "execution_count": 37,
      "outputs": [
        {
          "output_type": "execute_result",
          "data": {
            "text/plain": [
              "4.0"
            ]
          },
          "metadata": {
            "tags": []
          },
          "execution_count": 37
        }
      ]
    },
    {
      "cell_type": "markdown",
      "metadata": {
        "id": "_kkrzGeNjeEx"
      },
      "source": [
        "####Mode\n",
        "The sample mode is the value in the dataset that occurs most frequently. If there isn’t a single such value, then the set is multimodal since it has multiple modal values. For example, in the set that contains the points 2, 3, 2, 8, and 12, the number 2 is the mode because it occurs twice, unlike the other items that occur only once.\n",
        "\n",
        "This is how you can get the mode with pure Python:\n",
        "\n"
      ]
    },
    {
      "cell_type": "code",
      "metadata": {
        "colab": {
          "base_uri": "https://localhost:8080/"
        },
        "id": "7nuNovkUjalL",
        "outputId": "fb63f1b7-4c14-49b1-d678-4f41f985edc6"
      },
      "source": [
        "u = [2, 3, 2, 8, 12]\n",
        "mode_ = max((u.count(item), item) for item in set(u))[1]\n",
        "mode_"
      ],
      "execution_count": 38,
      "outputs": [
        {
          "output_type": "execute_result",
          "data": {
            "text/plain": [
              "2"
            ]
          },
          "metadata": {
            "tags": []
          },
          "execution_count": 38
        }
      ]
    },
    {
      "cell_type": "code",
      "metadata": {
        "colab": {
          "base_uri": "https://localhost:8080/"
        },
        "id": "YRe_hxShj69u",
        "outputId": "d8781cf5-23f5-47a9-9001-130e5c308129"
      },
      "source": [
        "mode_ = statistics.mode(u)\n",
        "mode_"
      ],
      "execution_count": 39,
      "outputs": [
        {
          "output_type": "execute_result",
          "data": {
            "text/plain": [
              "2"
            ]
          },
          "metadata": {
            "tags": []
          },
          "execution_count": 39
        }
      ]
    },
    {
      "cell_type": "markdown",
      "metadata": {
        "id": "QjmDvkLBlKxZ"
      },
      "source": [
        "###Measures of Variability\n",
        "The measures of central tendency aren’t sufficient to describe data. You’ll also need the measures of variability that quantify the spread of data points. In this section, you’ll learn how to identify and calculate the following variability measures:\n",
        "\n",
        "* Variance\n",
        "* Standard deviation\n",
        "* Skewness\n",
        "* Percentiles\n",
        "* RangesNew Section\n",
        "\n",
        "---See u next time---"
      ]
    }
  ]
}