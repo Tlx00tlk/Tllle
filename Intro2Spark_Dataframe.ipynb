{
  "nbformat": 4,
  "nbformat_minor": 0,
  "metadata": {
    "colab": {
      "name": "Intro2Spark-Dataframe.ipynb",
      "provenance": [],
      "authorship_tag": "ABX9TyPxc/lXh+/fwRHvVHqm5b7d",
      "include_colab_link": true
    },
    "kernelspec": {
      "name": "python3",
      "display_name": "Python 3"
    }
  },
  "cells": [
    {
      "cell_type": "markdown",
      "metadata": {
        "id": "view-in-github",
        "colab_type": "text"
      },
      "source": [
        "<a href=\"https://colab.research.google.com/github/pasdptt/PasdPublicNB/blob/master/Intro2Spark_Dataframe.ipynb\" target=\"_parent\"><img src=\"https://colab.research.google.com/assets/colab-badge.svg\" alt=\"Open In Colab\"/></a>"
      ]
    },
    {
      "cell_type": "markdown",
      "metadata": {
        "id": "lmplNXDCxV8i"
      },
      "source": [
        "# Install Spark + import lib + start spark session"
      ]
    },
    {
      "cell_type": "code",
      "metadata": {
        "id": "metqMd728bdG",
        "colab": {
          "base_uri": "https://localhost:8080/"
        },
        "outputId": "101578b7-d510-456a-fb25-825eedaf5219"
      },
      "source": [
        "!apt-get update"
      ],
      "execution_count": 1,
      "outputs": [
        {
          "output_type": "stream",
          "name": "stdout",
          "text": [
            "\r0% [Working]\r            \rGet:1 https://cloud.r-project.org/bin/linux/ubuntu bionic-cran40/ InRelease [3,626 B]\n",
            "\r0% [Waiting for headers] [Waiting for headers] [1 InRelease 0 B/3,626 B 0%] [Wa\r0% [Waiting for headers] [Waiting for headers] [Waiting for headers] [Waiting f\r0% [1 InRelease gpgv 3,626 B] [Waiting for headers] [Waiting for headers] [Wait\r                                                                               \rHit:2 http://archive.ubuntu.com/ubuntu bionic InRelease\n",
            "\r                                                                               \rGet:3 http://security.ubuntu.com/ubuntu bionic-security InRelease [88.7 kB]\n",
            "Hit:4 http://ppa.launchpad.net/c2d4u.team/c2d4u4.0+/ubuntu bionic InRelease\n",
            "Ign:5 https://developer.download.nvidia.com/compute/machine-learning/repos/ubuntu1804/x86_64  InRelease\n",
            "Hit:6 https://developer.download.nvidia.com/compute/cuda/repos/ubuntu1804/x86_64  InRelease\n",
            "Get:7 http://archive.ubuntu.com/ubuntu bionic-updates InRelease [88.7 kB]\n",
            "Hit:8 https://developer.download.nvidia.com/compute/machine-learning/repos/ubuntu1804/x86_64  Release\n",
            "Hit:9 http://ppa.launchpad.net/cran/libgit2/ubuntu bionic InRelease\n",
            "Hit:10 http://ppa.launchpad.net/deadsnakes/ppa/ubuntu bionic InRelease\n",
            "Get:11 http://archive.ubuntu.com/ubuntu bionic-backports InRelease [74.6 kB]\n",
            "Hit:12 http://ppa.launchpad.net/graphics-drivers/ppa/ubuntu bionic InRelease\n",
            "Get:14 http://security.ubuntu.com/ubuntu bionic-security/restricted amd64 Packages [1,114 kB]\n",
            "Get:15 http://archive.ubuntu.com/ubuntu bionic-updates/restricted amd64 Packages [1,162 kB]\n",
            "Get:16 http://security.ubuntu.com/ubuntu bionic-security/main amd64 Packages [2,953 kB]\n",
            "Get:17 http://security.ubuntu.com/ubuntu bionic-security/universe amd64 Packages [1,540 kB]\n",
            "Get:18 http://archive.ubuntu.com/ubuntu bionic-updates/main amd64 Packages [3,390 kB]\n",
            "Fetched 10.4 MB in 3s (3,373 kB/s)\n",
            "Reading package lists... Done\n"
          ]
        }
      ]
    },
    {
      "cell_type": "code",
      "metadata": {
        "id": "hbbvp7Z4_A1z",
        "colab": {
          "base_uri": "https://localhost:8080/"
        },
        "outputId": "2066fdd0-a66a-41d2-e0ce-22ec2e8f9962"
      },
      "source": [
        "#Get Install the Java Development Kit\n",
        "!apt-get install openjdk-8-jdk-headless -qq > /dev/null\n",
        "#Get Spark lib -- address need to be change according to the current version of Spark: https://downloads.apache.org/spark/\n",
        "!wget -q http://apache.osuosl.org/spark/spark-3.3.0/spark-3.3.0-bin-hadoop3.tgz\n",
        "#Unzip th Spark\n",
        "!tar xf spark-3.3.0-bin-hadoop3.tgz\n",
        "#install findspark for Python\n",
        "!pip install -q findspark\n",
        "#Install extra lib(s)\n",
        "!pip install -q xlrd\n",
        "!pip install -q kaggle\n",
        "!pip install -q kora\n",
        "\n",
        "#import and set environment for spark\n",
        "import os\n",
        "os.environ[\"JAVA_HOME\"] = \"/usr/lib/jvm/java-8-openjdk-amd64\"\n",
        "os.environ[\"SPARK_HOME\"] = \"/content/spark-3.3.0-bin-hadoop3\"\n",
        "\n",
        "import kora\n",
        "import pandas as pd\n",
        "\n",
        "import findspark\n",
        "findspark.init()\n",
        "from pyspark import SparkContext\n",
        "from pyspark.sql import SparkSession\n",
        "from pyspark.sql import *\n",
        "\n",
        "SPARK_URL = \"local[*]\"\n",
        "\n",
        "spark = SparkSession.builder.master(SPARK_URL).getOrCreate()\n",
        "\n",
        "# Check the pyspark version\n",
        "import pyspark\n",
        "print(pyspark.__version__)"
      ],
      "execution_count": 3,
      "outputs": [
        {
          "output_type": "stream",
          "name": "stdout",
          "text": [
            "3.3.0\n"
          ]
        }
      ]
    },
    {
      "cell_type": "code",
      "source": [
        "from pyspark.sql.functions import *"
      ],
      "metadata": {
        "id": "bKiT8ZFQ9Sqs"
      },
      "execution_count": 10,
      "outputs": []
    },
    {
      "cell_type": "markdown",
      "metadata": {
        "id": "iCw_wOW_1843"
      },
      "source": [
        "# Getting data from Kaggle"
      ]
    },
    {
      "cell_type": "markdown",
      "metadata": {
        "id": "MrIZV6G52HWp"
      },
      "source": [
        "You may download data from Kaggle mannually or using auto pipeline like this one."
      ]
    },
    {
      "cell_type": "code",
      "metadata": {
        "id": "KClq7t6OhgDL",
        "colab": {
          "base_uri": "https://localhost:8080/",
          "height": 156
        },
        "outputId": "43516475-92b7-4dd4-c8c0-1e144ce0171f"
      },
      "source": [
        "from google.colab import drive\n",
        "drive.mount('/content/gdrive')\n",
        "\n",
        "import os\n",
        "os.environ['KAGGLE_CONFIG_DIR'] = \"/content/gdrive/My Drive/Kaggle\"\n",
        "\n",
        "#Adding API code here\n",
        "!kaggle datasets download -d claudiodavi/superhero-set\n",
        "\n",
        "!unzip /content/superhero-set.zip  && rm /content/superhero-set.zip"
      ],
      "execution_count": null,
      "outputs": [
        {
          "output_type": "stream",
          "text": [
            "Drive already mounted at /content/gdrive; to attempt to forcibly remount, call drive.mount(\"/content/gdrive\", force_remount=True).\n",
            "Downloading superhero-set.zip to /content\n",
            "  0% 0.00/31.7k [00:00<?, ?B/s]\n",
            "100% 31.7k/31.7k [00:00<00:00, 12.3MB/s]\n",
            "Archive:  /content/superhero-set.zip\n",
            "  inflating: heroes_information.csv  \n",
            "  inflating: super_hero_powers.csv   \n"
          ],
          "name": "stdout"
        }
      ]
    },
    {
      "cell_type": "code",
      "metadata": {
        "id": "RxKcQZcoh9i2",
        "colab": {
          "base_uri": "https://localhost:8080/"
        },
        "outputId": "4e505c93-7b19-42c6-f0ed-ba31fa760651"
      },
      "source": [
        "file_path = \"./heroes_information.csv\"\n",
        "\n",
        "df_hero_indi = spark.read.options(header=\"true\",inferschema = \"true\").csv(file_path)\n",
        "\n",
        "df_hero_indi.show()"
      ],
      "execution_count": 4,
      "outputs": [
        {
          "output_type": "stream",
          "name": "stdout",
          "text": [
            "+---+-----------------+------+---------+-----------------+----------+------+-----------------+----------+---------+------+\n",
            "|_c0|             name|Gender|Eye color|             Race|Hair color|Height|        Publisher|Skin color|Alignment|Weight|\n",
            "+---+-----------------+------+---------+-----------------+----------+------+-----------------+----------+---------+------+\n",
            "|  0|           A-Bomb|  Male|   yellow|            Human|   No Hair| 203.0|    Marvel Comics|         -|     good| 441.0|\n",
            "|  1|       Abe Sapien|  Male|     blue|    Icthyo Sapien|   No Hair| 191.0|Dark Horse Comics|      blue|     good|  65.0|\n",
            "|  2|         Abin Sur|  Male|     blue|          Ungaran|   No Hair| 185.0|        DC Comics|       red|     good|  90.0|\n",
            "|  3|      Abomination|  Male|    green|Human / Radiation|   No Hair| 203.0|    Marvel Comics|         -|      bad| 441.0|\n",
            "|  4|          Abraxas|  Male|     blue|    Cosmic Entity|     Black| -99.0|    Marvel Comics|         -|      bad| -99.0|\n",
            "|  5|    Absorbing Man|  Male|     blue|            Human|   No Hair| 193.0|    Marvel Comics|         -|      bad| 122.0|\n",
            "|  6|      Adam Monroe|  Male|     blue|                -|     Blond| -99.0|     NBC - Heroes|         -|     good| -99.0|\n",
            "|  7|     Adam Strange|  Male|     blue|            Human|     Blond| 185.0|        DC Comics|         -|     good|  88.0|\n",
            "|  8|         Agent 13|Female|     blue|                -|     Blond| 173.0|    Marvel Comics|         -|     good|  61.0|\n",
            "|  9|        Agent Bob|  Male|    brown|            Human|     Brown| 178.0|    Marvel Comics|         -|     good|  81.0|\n",
            "| 10|       Agent Zero|  Male|        -|                -|         -| 191.0|    Marvel Comics|         -|     good| 104.0|\n",
            "| 11|       Air-Walker|  Male|     blue|                -|     White| 188.0|    Marvel Comics|         -|      bad| 108.0|\n",
            "| 12|             Ajax|  Male|    brown|           Cyborg|     Black| 193.0|    Marvel Comics|         -|      bad|  90.0|\n",
            "| 13|       Alan Scott|  Male|     blue|                -|     Blond| 180.0|        DC Comics|         -|     good|  90.0|\n",
            "| 14|      Alex Mercer|  Male|        -|            Human|         -| -99.0|        Wildstorm|         -|      bad| -99.0|\n",
            "| 15|     Alex Woolsly|  Male|        -|                -|         -| -99.0|     NBC - Heroes|         -|     good| -99.0|\n",
            "| 16|Alfred Pennyworth|  Male|     blue|            Human|     Black| 178.0|        DC Comics|         -|     good|  72.0|\n",
            "| 17|            Alien|  Male|        -|  Xenomorph XX121|   No Hair| 244.0|Dark Horse Comics|     black|      bad| 169.0|\n",
            "| 18| Allan Quatermain|  Male|        -|                -|         -| -99.0|        Wildstorm|         -|     good| -99.0|\n",
            "| 19|            Amazo|  Male|      red|          Android|         -| 257.0|        DC Comics|         -|      bad| 173.0|\n",
            "+---+-----------------+------+---------+-----------------+----------+------+-----------------+----------+---------+------+\n",
            "only showing top 20 rows\n",
            "\n"
          ]
        }
      ]
    },
    {
      "cell_type": "code",
      "metadata": {
        "id": "cplaIPgVi5Bo",
        "colab": {
          "base_uri": "https://localhost:8080/"
        },
        "outputId": "9a8f5ba0-8808-46c1-ef52-c6da9820d918"
      },
      "source": [
        "file_path = \"./super_hero_powers.csv\"\n",
        "\n",
        "df_hero_power = spark.read.options(header=\"true\",inferschema = \"true\").csv(file_path)\n",
        "\n",
        "df_hero_power.show()"
      ],
      "execution_count": 5,
      "outputs": [
        {
          "output_type": "stream",
          "name": "stdout",
          "text": [
            "+----------------+-------+-------------------+------------------+---------------------+---------------+----------+-------+-----------------+------+------------+--------------------+------------+--------------+------------------+-----------------+---------+------------+--------------+-----------+---------+------------+-------------+-----------+-------------+---------------+-------+-------------+-------------+---------+--------+-----------+----------+----------------------+-------------------+--------------+----------------------+-----------+-------------+---------------+-----------+------------+-----+------------+-----+------------+------------------+-----------+-------------+--------------------+-----------+----------+---------------+-------+-----------------+--------------------+------------+----------+---------+---------------+--------+---------------+-----------------+------------+---------------+------------+-------+---------------+-----------------+--------------+----------+-------------------+----------------------------+--------------------+---------------------+-------------+---------+------------+------------+---------------+----------------+----------------+----------+--------+------------+--------------+-------------+-------------+--------------+----------------------+---------------+----------+-------+----------+----------+------------------------+---------------+------------+-------------+------------+----------+-------------------------+------+-------------------+---------------+---------------+-----------+--------------+---------+--------------+-----------------+------------+----------+--------+--------------+------------+----------+-------------+------------------+-------------------+----------------------------+-----------------+-----------------+--------------------+--------------------+--------------+---------------+---------+-----------------------+-------------+-----+------------+-----------------+--------------+----------------+------------+-----------+--------------------+------------------+--------------------+-------+------------+------------+------------+--------------+-----------------+------------+-----------------+---------+------------+------------+-------------+-----------+-----------+-------------------+---------------+--------------+----------------+------------+---------------+----------+----------------+-----------+-------------+---------------------+-------------+-----------+----------+\n",
            "|      hero_names|Agility|Accelerated Healing|Lantern Power Ring|Dimensional Awareness|Cold Resistance|Durability|Stealth|Energy Absorption|Flight|Danger Sense|Underwater breathing|Marksmanship|Weapons Master|Power Augmentation|Animal Attributes|Longevity|Intelligence|Super Strength|Cryokinesis|Telepathy|Energy Armor|Energy Blasts|Duplication|Size Changing|Density Control|Stamina|Astral Travel|Audio Control|Dexterity|Omnitrix|Super Speed|Possession|Animal Oriented Powers|Weapon-based Powers|Electrokinesis|Darkforce Manipulation|Death Touch|Teleportation|Enhanced Senses|Telekinesis|Energy Beams|Magic|Hyperkinesis| Jump|Clairvoyance|Dimensional Travel|Power Sense|Shapeshifting|Peak Human Condition|Immortality|Camouflage|Element Control|Phasing|Astral Projection|Electrical Transport|Fire Control|Projection|Summoning|Enhanced Memory|Reflexes|Invulnerability|Energy Constructs|Force Fields|Self-Sustenance|Anti-Gravity|Empathy|Power Nullifier|Radiation Control|Psionic Powers|Elasticity|Substance Secretion|Elemental Transmogrification|Technopath/Cyberpath|Photographic Reflexes|Seismic Power|Animation|Precognition|Mind Control|Fire Resistance|Power Absorption|Enhanced Hearing|Nova Force|Insanity|Hypnokinesis|Animal Control|Natural Armor|Intangibility|Enhanced Sight|Molecular Manipulation|Heat Generation|Adaptation|Gliding|Power Suit|Mind Blast|Probability Manipulation|Gravity Control|Regeneration|Light Control|Echolocation|Levitation|Toxin and Disease Control|Banish|Energy Manipulation|Heat Resistance|Natural Weapons|Time Travel|Enhanced Smell|Illusions|Thirstokinesis|Hair Manipulation|Illumination|Omnipotent|Cloaking|Changing Armor|Power Cosmic|Biokinesis|Water Control|Radiation Immunity|Vision - Telescopic|Toxin and Disease Resistance|Spatial Awareness|Energy Resistance|Telepathy Resistance|Molecular Combustion|Omnilingualism|Portal Creation|Magnetism|Mind Control Resistance|Plant Control|Sonar|Sonic Scream|Time Manipulation|Enhanced Touch|Magic Resistance|Invisibility|Sub-Mariner|Radiation Absorption|Intuitive aptitude|Vision - Microscopic|Melting|Wind Control|Super Breath|Wallcrawling|Vision - Night|Vision - Infrared|Grim Reaping|Matter Absorption|The Force|Resurrection|Terrakinesis|Vision - Heat|Vitakinesis|Radar Sense|Qwardian Power Ring|Weather Control|Vision - X-Ray|Vision - Thermal|Web Creation|Reality Warping|Odin Force|Symbiote Costume|Speed Force|Phoenix Force|Molecular Dissipation|Vision - Cryo|Omnipresent|Omniscient|\n",
            "+----------------+-------+-------------------+------------------+---------------------+---------------+----------+-------+-----------------+------+------------+--------------------+------------+--------------+------------------+-----------------+---------+------------+--------------+-----------+---------+------------+-------------+-----------+-------------+---------------+-------+-------------+-------------+---------+--------+-----------+----------+----------------------+-------------------+--------------+----------------------+-----------+-------------+---------------+-----------+------------+-----+------------+-----+------------+------------------+-----------+-------------+--------------------+-----------+----------+---------------+-------+-----------------+--------------------+------------+----------+---------+---------------+--------+---------------+-----------------+------------+---------------+------------+-------+---------------+-----------------+--------------+----------+-------------------+----------------------------+--------------------+---------------------+-------------+---------+------------+------------+---------------+----------------+----------------+----------+--------+------------+--------------+-------------+-------------+--------------+----------------------+---------------+----------+-------+----------+----------+------------------------+---------------+------------+-------------+------------+----------+-------------------------+------+-------------------+---------------+---------------+-----------+--------------+---------+--------------+-----------------+------------+----------+--------+--------------+------------+----------+-------------+------------------+-------------------+----------------------------+-----------------+-----------------+--------------------+--------------------+--------------+---------------+---------+-----------------------+-------------+-----+------------+-----------------+--------------+----------------+------------+-----------+--------------------+------------------+--------------------+-------+------------+------------+------------+--------------+-----------------+------------+-----------------+---------+------------+------------+-------------+-----------+-----------+-------------------+---------------+--------------+----------------+------------+---------------+----------+----------------+-----------+-------------+---------------------+-------------+-----------+----------+\n",
            "|         3-D Man|   true|              false|             false|                false|          false|     false|  false|            false| false|       false|               false|       false|         false|             false|            false|    false|       false|          true|      false|    false|       false|        false|      false|        false|          false|   true|        false|        false|    false|   false|       true|     false|                 false|              false|         false|                 false|      false|        false|          false|      false|       false|false|       false|false|       false|             false|      false|        false|               false|      false|     false|          false|  false|            false|               false|       false|     false|    false|          false|   false|          false|            false|       false|          false|       false|  false|          false|            false|         false|     false|              false|                       false|               false|                false|        false|    false|       false|       false|          false|           false|           false|     false|   false|       false|         false|        false|        false|         false|                 false|          false|     false|  false|     false|     false|                   false|          false|       false|        false|       false|     false|                    false| false|              false|          false|          false|      false|         false|    false|         false|            false|       false|     false|   false|         false|       false|     false|        false|             false|              false|                       false|            false|            false|               false|               false|         false|          false|    false|                  false|        false|false|       false|            false|         false|           false|       false|      false|               false|             false|               false|  false|       false|       false|       false|         false|            false|       false|            false|    false|       false|       false|        false|      false|      false|              false|          false|         false|           false|       false|          false|     false|           false|      false|        false|                false|        false|      false|     false|\n",
            "|          A-Bomb|  false|               true|             false|                false|          false|      true|  false|            false| false|       false|               false|       false|         false|             false|            false|     true|       false|          true|      false|    false|       false|        false|      false|        false|          false|   true|        false|        false|    false|   false|      false|     false|                 false|              false|         false|                 false|      false|        false|          false|      false|       false|false|       false|false|       false|             false|      false|        false|               false|      false|      true|          false|  false|            false|               false|       false|     false|    false|          false|   false|          false|            false|       false|           true|       false|  false|          false|            false|         false|     false|              false|                       false|               false|                false|        false|    false|       false|       false|          false|           false|           false|     false|   false|       false|         false|        false|        false|         false|                 false|          false|     false|  false|     false|     false|                   false|          false|       false|        false|       false|     false|                    false| false|              false|          false|          false|      false|         false|    false|         false|            false|       false|     false|   false|         false|       false|     false|        false|             false|              false|                       false|            false|            false|               false|               false|         false|          false|    false|                  false|        false|false|       false|            false|         false|           false|       false|      false|               false|             false|               false|  false|       false|       false|       false|         false|            false|       false|            false|    false|       false|       false|        false|      false|      false|              false|          false|         false|           false|       false|          false|     false|           false|      false|        false|                false|        false|      false|     false|\n",
            "|      Abe Sapien|   true|               true|             false|                false|           true|      true|  false|            false| false|       false|                true|        true|          true|             false|            false|     true|        true|          true|      false|     true|       false|        false|      false|        false|          false|   true|        false|        false|    false|   false|      false|     false|                 false|              false|         false|                 false|      false|        false|          false|      false|       false|false|       false|false|       false|             false|      false|        false|               false|       true|     false|          false|  false|            false|               false|       false|     false|    false|          false|    true|          false|            false|       false|          false|       false|  false|          false|            false|         false|     false|              false|                       false|               false|                false|        false|    false|       false|       false|          false|           false|           false|     false|   false|       false|         false|        false|        false|          true|                 false|          false|     false|  false|     false|     false|                   false|          false|       false|        false|       false|     false|                    false| false|              false|          false|          false|      false|         false|    false|         false|            false|       false|     false|   false|         false|       false|     false|        false|             false|              false|                       false|            false|            false|               false|               false|         false|          false|    false|                  false|        false|false|       false|            false|         false|           false|       false|       true|               false|             false|               false|  false|       false|       false|       false|         false|            false|       false|            false|    false|       false|       false|        false|      false|      false|              false|          false|         false|           false|       false|          false|     false|           false|      false|        false|                false|        false|      false|     false|\n",
            "|        Abin Sur|  false|              false|              true|                false|          false|     false|  false|            false| false|       false|               false|       false|         false|             false|            false|    false|       false|         false|      false|    false|       false|        false|      false|        false|          false|  false|        false|        false|    false|   false|      false|     false|                 false|              false|         false|                 false|      false|        false|          false|      false|       false|false|       false|false|       false|             false|      false|        false|               false|      false|     false|          false|  false|            false|               false|       false|     false|    false|          false|   false|          false|            false|       false|          false|       false|  false|          false|            false|         false|     false|              false|                       false|               false|                false|        false|    false|       false|       false|          false|           false|           false|     false|   false|       false|         false|        false|        false|         false|                 false|          false|     false|  false|     false|     false|                   false|          false|       false|        false|       false|     false|                    false| false|              false|          false|          false|      false|         false|    false|         false|            false|       false|     false|   false|         false|       false|     false|        false|             false|              false|                       false|            false|            false|               false|               false|         false|          false|    false|                  false|        false|false|       false|            false|         false|           false|       false|      false|               false|             false|               false|  false|       false|       false|       false|         false|            false|       false|            false|    false|       false|       false|        false|      false|      false|              false|          false|         false|           false|       false|          false|     false|           false|      false|        false|                false|        false|      false|     false|\n",
            "|     Abomination|  false|               true|             false|                false|          false|     false|  false|            false| false|       false|               false|       false|         false|             false|            false|    false|        true|          true|      false|    false|       false|        false|      false|        false|          false|   true|        false|        false|    false|   false|       true|     false|                 false|              false|         false|                 false|      false|        false|          false|      false|       false|false|       false|false|       false|             false|      false|        false|               false|      false|     false|          false|  false|            false|               false|       false|     false|    false|          false|   false|           true|            false|       false|          false|       false|  false|          false|            false|         false|     false|              false|                       false|               false|                false|        false|     true|       false|       false|          false|           false|           false|     false|   false|       false|         false|        false|        false|         false|                 false|          false|     false|  false|     false|     false|                   false|          false|       false|        false|       false|     false|                    false| false|              false|          false|          false|      false|         false|    false|         false|            false|       false|     false|   false|         false|       false|     false|        false|             false|              false|                       false|            false|            false|               false|               false|         false|          false|    false|                  false|        false|false|       false|            false|         false|           false|       false|      false|               false|             false|               false|  false|       false|        true|       false|         false|            false|       false|            false|    false|       false|       false|        false|      false|      false|              false|          false|         false|           false|       false|          false|     false|           false|      false|        false|                false|        false|      false|     false|\n",
            "|         Abraxas|  false|              false|             false|                 true|          false|     false|  false|            false|  true|       false|               false|       false|         false|             false|            false|    false|        true|          true|      false|    false|       false|        false|      false|         true|          false|  false|        false|        false|    false|   false|       true|     false|                 false|              false|         false|                 false|      false|         true|          false|      false|       false| true|       false|false|       false|              true|      false|        false|               false|       true|     false|          false|  false|            false|               false|       false|     false|    false|          false|   false|           true|            false|       false|          false|       false|  false|          false|            false|         false|     false|              false|                       false|               false|                false|        false|    false|       false|       false|          false|           false|           false|     false|   false|       false|         false|        false|        false|         false|                  true|          false|     false|  false|     false|     false|                   false|          false|       false|        false|       false|     false|                    false| false|               true|          false|          false|      false|         false|    false|         false|            false|       false|     false|   false|         false|        true|     false|        false|             false|              false|                       false|            false|            false|               false|               false|         false|          false|    false|                  false|        false|false|       false|            false|         false|           false|       false|      false|               false|             false|               false|  false|       false|       false|       false|         false|            false|       false|            false|    false|       false|       false|        false|      false|      false|              false|          false|         false|           false|       false|          false|     false|           false|      false|        false|                false|        false|      false|     false|\n",
            "|   Absorbing Man|  false|              false|             false|                false|           true|      true|  false|             true| false|       false|               false|       false|         false|             false|            false|    false|       false|          true|      false|    false|       false|        false|      false|        false|          false|  false|        false|        false|    false|   false|      false|     false|                 false|              false|         false|                 false|      false|        false|          false|      false|       false|false|       false|false|       false|             false|      false|        false|               false|      false|     false|          false|  false|            false|               false|       false|     false|    false|          false|   false|           true|            false|       false|          false|       false|  false|          false|            false|         false|     false|              false|                        true|               false|                false|        false|    false|       false|       false|           true|           false|           false|     false|   false|       false|         false|         true|        false|         false|                  true|          false|     false|  false|     false|     false|                   false|          false|       false|        false|       false|     false|                    false| false|              false|           true|          false|      false|         false|    false|         false|            false|       false|     false|   false|         false|       false|     false|        false|             false|              false|                       false|            false|            false|               false|               false|         false|          false|    false|                  false|        false|false|       false|            false|         false|           false|       false|      false|               false|             false|               false|  false|       false|       false|       false|         false|            false|       false|             true|    false|       false|       false|        false|      false|      false|              false|          false|         false|           false|       false|          false|     false|           false|      false|        false|                false|        false|      false|     false|\n",
            "|     Adam Monroe|  false|               true|             false|                false|          false|     false|  false|            false| false|       false|               false|       false|         false|             false|            false|    false|       false|         false|      false|    false|       false|        false|      false|        false|          false|  false|        false|        false|    false|   false|      false|     false|                 false|              false|         false|                 false|      false|        false|          false|      false|       false|false|       false|false|       false|             false|      false|        false|               false|       true|     false|          false|  false|            false|               false|       false|     false|    false|          false|   false|          false|            false|       false|          false|       false|  false|          false|            false|         false|     false|              false|                       false|               false|                false|        false|    false|       false|       false|          false|           false|           false|     false|   false|       false|         false|        false|        false|         false|                 false|          false|     false|  false|     false|     false|                   false|          false|        true|        false|       false|     false|                    false| false|              false|          false|          false|      false|         false|    false|         false|            false|       false|     false|   false|         false|       false|     false|        false|             false|              false|                       false|            false|            false|               false|               false|         false|          false|    false|                  false|        false|false|       false|            false|         false|           false|       false|      false|               false|             false|               false|  false|       false|       false|       false|         false|            false|       false|            false|    false|       false|       false|        false|      false|      false|              false|          false|         false|           false|       false|          false|     false|           false|      false|        false|                false|        false|      false|     false|\n",
            "|    Adam Strange|  false|              false|             false|                false|          false|      true|   true|            false|  true|       false|               false|        true|          true|             false|            false|    false|        true|         false|      false|    false|       false|        false|      false|        false|          false|  false|        false|        false|    false|   false|       true|     false|                 false|              false|         false|                 false|      false|        false|          false|      false|       false|false|       false|false|       false|             false|      false|        false|               false|      false|     false|          false|  false|            false|               false|       false|     false|    false|          false|   false|          false|            false|       false|          false|       false|  false|          false|            false|         false|     false|              false|                       false|               false|                false|        false|    false|       false|       false|           true|           false|           false|     false|   false|       false|         false|        false|        false|          true|                 false|          false|     false|  false|      true|     false|                   false|          false|       false|        false|       false|     false|                    false| false|              false|          false|          false|      false|         false|    false|         false|            false|       false|     false|   false|         false|       false|     false|        false|             false|              false|                       false|            false|            false|               false|               false|         false|          false|    false|                  false|        false|false|       false|            false|         false|           false|       false|      false|               false|             false|               false|  false|       false|       false|       false|         false|            false|       false|            false|    false|       false|       false|        false|      false|      false|              false|          false|         false|           false|       false|          false|     false|           false|      false|        false|                false|        false|      false|     false|\n",
            "|       Agent Bob|  false|              false|             false|                false|          false|     false|   true|            false| false|       false|               false|       false|         false|             false|            false|    false|       false|         false|      false|    false|       false|        false|      false|        false|          false|  false|        false|        false|    false|   false|      false|     false|                 false|              false|         false|                 false|      false|        false|          false|      false|       false|false|       false|false|       false|             false|      false|        false|               false|      false|     false|          false|  false|            false|               false|       false|     false|    false|          false|   false|          false|            false|       false|          false|       false|  false|          false|            false|         false|     false|              false|                       false|               false|                false|        false|    false|       false|       false|          false|           false|           false|     false|   false|       false|         false|        false|        false|         false|                 false|          false|     false|  false|     false|     false|                   false|          false|       false|        false|       false|     false|                    false| false|              false|          false|          false|      false|         false|    false|         false|            false|       false|     false|   false|         false|       false|     false|        false|             false|              false|                       false|            false|            false|               false|               false|         false|          false|    false|                  false|        false|false|       false|            false|         false|           false|       false|      false|               false|             false|               false|  false|       false|       false|       false|         false|            false|       false|            false|    false|       false|       false|        false|      false|      false|              false|          false|         false|           false|       false|          false|     false|           false|      false|        false|                false|        false|      false|     false|\n",
            "|      Agent Zero|  false|              false|             false|                false|          false|     false|  false|             true| false|       false|               false|       false|         false|             false|            false|     true|       false|          true|      false|    false|       false|         true|      false|        false|          false|  false|        false|        false|    false|   false|      false|     false|                 false|              false|         false|                 false|      false|        false|          false|      false|        true|false|       false|false|       false|             false|      false|        false|               false|      false|     false|          false|  false|            false|               false|       false|     false|    false|          false|   false|          false|            false|       false|          false|       false|  false|          false|            false|         false|     false|              false|                       false|               false|                false|        false|    false|       false|       false|          false|           false|           false|     false|   false|       false|         false|        false|        false|         false|                 false|          false|     false|  false|      true|     false|                   false|          false|       false|        false|       false|     false|                    false| false|              false|          false|          false|      false|         false|    false|         false|            false|       false|     false|   false|         false|       false|     false|        false|             false|              false|                       false|            false|            false|               false|               false|         false|          false|    false|                  false|        false|false|       false|            false|         false|           false|       false|      false|               false|             false|               false|  false|       false|       false|       false|         false|            false|       false|            false|    false|       false|       false|        false|      false|      false|              false|          false|         false|           false|       false|          false|     false|           false|      false|        false|                false|        false|      false|     false|\n",
            "|      Air-Walker|  false|              false|             false|                false|          false|     false|  false|            false|  true|       false|               false|       false|         false|             false|            false|    false|       false|          true|      false|    false|       false|        false|      false|        false|          false|  false|        false|        false|    false|   false|       true|     false|                 false|              false|         false|                 false|      false|        false|          false|      false|       false|false|       false|false|       false|             false|      false|        false|               false|      false|     false|          false|  false|            false|               false|       false|     false|    false|          false|   false|          false|            false|       false|           true|       false|  false|          false|            false|         false|     false|              false|                       false|               false|                false|        false|    false|       false|       false|          false|           false|           false|     false|   false|       false|         false|        false|        false|         false|                  true|          false|     false|  false|     false|     false|                   false|          false|       false|        false|       false|     false|                    false| false|              false|          false|          false|      false|         false|    false|         false|            false|       false|     false|   false|         false|        true|     false|        false|             false|              false|                       false|            false|            false|               false|               false|         false|          false|    false|                  false|        false|false|       false|            false|         false|           false|       false|      false|               false|             false|               false|  false|       false|       false|       false|         false|            false|       false|            false|    false|       false|       false|        false|      false|      false|              false|          false|         false|           false|       false|          false|     false|           false|      false|        false|                false|        false|      false|     false|\n",
            "|            Ajax|   true|              false|             false|                false|          false|     false|  false|            false| false|       false|               false|       false|         false|             false|            false|    false|       false|          true|      false|    false|       false|        false|      false|        false|          false|  false|        false|        false|    false|   false|       true|     false|                 false|              false|         false|                 false|      false|        false|          false|      false|       false|false|       false|false|       false|             false|      false|        false|               false|      false|     false|          false|  false|            false|               false|       false|     false|    false|          false|   false|          false|            false|       false|          false|       false|  false|          false|            false|         false|     false|              false|                       false|               false|                false|        false|    false|       false|       false|          false|           false|           false|     false|   false|       false|         false|        false|        false|         false|                 false|           true|     false|  false|      true|     false|                   false|          false|       false|        false|       false|     false|                    false| false|              false|          false|          false|      false|         false|    false|         false|            false|       false|     false|   false|         false|       false|     false|        false|             false|              false|                       false|            false|            false|               false|               false|         false|          false|    false|                  false|        false|false|       false|            false|         false|           false|       false|      false|               false|             false|               false|  false|       false|       false|       false|         false|            false|       false|            false|    false|       false|       false|        false|      false|      false|              false|          false|         false|           false|       false|          false|     false|           false|      false|        false|                false|        false|      false|     false|\n",
            "|      Alan Scott|  false|              false|             false|                false|          false|     false|  false|            false|  true|        true|               false|       false|         false|             false|            false|    false|        true|         false|      false|     true|       false|         true|      false|        false|          false|  false|        false|        false|    false|   false|       true|     false|                 false|              false|         false|                 false|      false|         true|          false|      false|        true|false|       false|false|       false|             false|      false|        false|               false|      false|     false|          false|   true|            false|               false|       false|     false|    false|          false|   false|          false|            false|        true|          false|       false|  false|          false|            false|         false|     false|              false|                       false|               false|                false|        false|    false|       false|       false|          false|           false|           false|     false|   false|        true|         false|        false|        false|         false|                 false|          false|     false|  false|     false|     false|                   false|          false|       false|        false|       false|     false|                    false| false|               true|          false|          false|      false|         false|    false|         false|            false|       false|     false|   false|         false|       false|     false|        false|             false|              false|                       false|            false|            false|               false|               false|         false|          false|    false|                  false|        false|false|       false|            false|         false|           false|        true|      false|               false|             false|               false|  false|       false|       false|       false|         false|            false|       false|            false|    false|       false|       false|        false|      false|      false|              false|          false|         false|           false|       false|          false|     false|           false|      false|        false|                false|        false|      false|     false|\n",
            "|     Alex Mercer|   true|               true|             false|                false|          false|     false|   true|             true| false|        true|               false|        true|          true|             false|            false|     true|       false|          true|      false|    false|       false|         true|      false|        false|          false|   true|        false|        false|    false|   false|       true|     false|                 false|              false|         false|                 false|      false|        false|           true|      false|       false|false|       false| true|       false|             false|      false|         true|               false|       true|     false|          false|  false|            false|               false|       false|     false|    false|          false|   false|           true|            false|       false|          false|       false|  false|          false|            false|         false|      true|               true|                       false|               false|                false|        false|    false|       false|       false|          false|           false|            true|     false|   false|       false|         false|         true|        false|         false|                 false|          false|      true|   true|     false|     false|                   false|          false|       false|        false|       false|     false|                    false| false|              false|          false|           true|      false|         false|    false|         false|            false|       false|     false|   false|         false|       false|     false|        false|             false|              false|                       false|            false|            false|               false|               false|         false|          false|    false|                  false|        false|false|       false|            false|         false|           false|       false|      false|               false|             false|               false|  false|       false|       false|        true|         false|            false|       false|             true|    false|       false|       false|        false|      false|      false|              false|          false|         false|            true|       false|          false|     false|           false|      false|        false|                false|        false|      false|     false|\n",
            "|    Alex Woolsly|  false|              false|             false|                false|          false|     false|  false|            false| false|       false|                true|       false|         false|             false|            false|    false|       false|         false|      false|    false|       false|        false|      false|        false|          false|  false|        false|        false|    false|   false|      false|     false|                 false|              false|         false|                 false|      false|        false|          false|      false|       false|false|       false|false|       false|             false|      false|        false|               false|      false|     false|          false|  false|            false|               false|       false|     false|    false|          false|   false|          false|            false|       false|          false|       false|  false|          false|            false|         false|     false|              false|                       false|               false|                false|        false|    false|       false|       false|          false|           false|           false|     false|   false|       false|         false|        false|        false|         false|                 false|          false|     false|  false|     false|     false|                   false|          false|       false|        false|       false|     false|                    false| false|              false|          false|          false|      false|         false|    false|         false|            false|       false|     false|   false|         false|       false|     false|        false|             false|              false|                       false|            false|            false|               false|               false|         false|          false|    false|                  false|        false|false|       false|            false|         false|           false|       false|      false|               false|             false|               false|  false|       false|       false|       false|         false|            false|       false|            false|    false|       false|       false|        false|      false|      false|              false|          false|         false|           false|       false|          false|     false|           false|      false|        false|                false|        false|      false|     false|\n",
            "|           Alien|   true|              false|             false|                false|           true|      true|   true|            false| false|       false|               false|       false|         false|             false|            false|    false|       false|          true|      false|    false|       false|        false|      false|        false|          false|  false|        false|        false|    false|   false|       true|     false|                 false|              false|         false|                 false|      false|        false|           true|      false|       false|false|       false| true|       false|             false|      false|        false|               false|      false|     false|          false|  false|            false|               false|       false|     false|    false|          false|   false|          false|            false|       false|          false|       false|  false|          false|            false|         false|     false|               true|                       false|               false|                false|        false|    false|       false|       false|          false|           false|           false|     false|   false|       false|         false|         true|        false|         false|                 false|          false|     false|  false|     false|     false|                   false|          false|       false|        false|       false|     false|                    false| false|              false|           true|           true|      false|         false|    false|         false|            false|       false|     false|   false|         false|       false|     false|        false|             false|              false|                       false|            false|            false|               false|               false|         false|          false|    false|                  false|        false|false|       false|            false|         false|           false|       false|      false|               false|             false|               false|  false|       false|       false|        true|         false|            false|       false|            false|    false|       false|       false|        false|      false|      false|              false|          false|         false|            true|       false|          false|     false|           false|      false|        false|                false|        false|      false|     false|\n",
            "|Allan Quatermain|  false|              false|             false|                false|          false|     false|  false|            false| false|       false|               false|        true|         false|             false|            false|    false|       false|         false|      false|    false|       false|        false|      false|        false|          false|  false|        false|        false|    false|   false|      false|     false|                 false|              false|         false|                 false|      false|        false|          false|      false|       false|false|       false|false|       false|             false|      false|        false|               false|      false|     false|          false|  false|            false|               false|       false|     false|    false|          false|   false|          false|            false|       false|          false|       false|  false|          false|            false|         false|     false|              false|                       false|               false|                false|        false|    false|       false|       false|          false|           false|           false|     false|   false|       false|         false|        false|        false|         false|                 false|          false|     false|  false|     false|     false|                   false|          false|       false|        false|       false|     false|                    false| false|              false|          false|          false|      false|         false|    false|         false|            false|       false|     false|   false|         false|       false|     false|        false|             false|              false|                       false|            false|            false|               false|               false|         false|          false|    false|                  false|        false|false|       false|            false|         false|           false|       false|      false|               false|             false|               false|  false|       false|       false|       false|         false|            false|       false|            false|    false|       false|       false|        false|      false|      false|              false|          false|         false|           false|       false|          false|     false|           false|      false|        false|                false|        false|      false|     false|\n",
            "|           Amazo|   true|              false|              true|                false|          false|      true|  false|            false|  true|       false|                true|        true|         false|              true|            false|     true|        true|          true|       true|     true|       false|         true|       true|         true|          false|   true|        false|        false|    false|   false|       true|     false|                 false|               true|         false|                 false|      false|         true|           true|      false|       false|false|       false| true|       false|             false|      false|         true|               false|      false|      true|          false|   true|            false|               false|        true|     false|    false|           true|    true|           true|             true|        true|          false|       false|  false|          false|            false|         false|     false|              false|                       false|               false|                false|        false|    false|       false|       false|          false|            true|            true|     false|   false|       false|         false|        false|        false|         false|                 false|          false|     false|  false|     false|     false|                   false|          false|       false|        false|       false|     false|                    false| false|              false|          false|          false|       true|          true|    false|         false|            false|       false|     false|   false|         false|       false|     false|         true|             false|               true|                       false|            false|            false|               false|               false|         false|          false|     true|                  false|        false|false|       false|            false|         false|           false|        true|      false|               false|             false|                true|  false|       false|        true|       false|          true|            false|       false|            false|    false|       false|       false|         true|      false|      false|              false|          false|          true|            true|       false|          false|     false|           false|      false|        false|                false|        false|      false|     false|\n",
            "|            Ammo|  false|              false|             false|                false|          false|     false|  false|            false| false|       false|               false|       false|          true|             false|            false|    false|       false|         false|      false|    false|       false|        false|      false|        false|          false|  false|        false|        false|    false|   false|      false|     false|                 false|              false|         false|                 false|      false|        false|          false|      false|       false|false|       false|false|       false|             false|      false|        false|               false|      false|     false|          false|  false|            false|               false|       false|     false|    false|          false|   false|          false|            false|       false|          false|       false|  false|          false|            false|         false|     false|              false|                       false|               false|                false|        false|    false|       false|       false|          false|           false|           false|     false|   false|       false|         false|        false|        false|         false|                 false|          false|     false|  false|     false|     false|                   false|          false|       false|        false|       false|     false|                    false| false|              false|          false|          false|      false|         false|    false|         false|            false|       false|     false|   false|         false|       false|     false|        false|             false|              false|                       false|            false|            false|               false|               false|         false|          false|    false|                  false|        false|false|       false|            false|         false|           false|       false|      false|               false|             false|               false|  false|       false|       false|       false|         false|            false|       false|            false|    false|       false|       false|        false|      false|      false|              false|          false|         false|           false|       false|          false|     false|           false|      false|        false|                false|        false|      false|     false|\n",
            "+----------------+-------+-------------------+------------------+---------------------+---------------+----------+-------+-----------------+------+------------+--------------------+------------+--------------+------------------+-----------------+---------+------------+--------------+-----------+---------+------------+-------------+-----------+-------------+---------------+-------+-------------+-------------+---------+--------+-----------+----------+----------------------+-------------------+--------------+----------------------+-----------+-------------+---------------+-----------+------------+-----+------------+-----+------------+------------------+-----------+-------------+--------------------+-----------+----------+---------------+-------+-----------------+--------------------+------------+----------+---------+---------------+--------+---------------+-----------------+------------+---------------+------------+-------+---------------+-----------------+--------------+----------+-------------------+----------------------------+--------------------+---------------------+-------------+---------+------------+------------+---------------+----------------+----------------+----------+--------+------------+--------------+-------------+-------------+--------------+----------------------+---------------+----------+-------+----------+----------+------------------------+---------------+------------+-------------+------------+----------+-------------------------+------+-------------------+---------------+---------------+-----------+--------------+---------+--------------+-----------------+------------+----------+--------+--------------+------------+----------+-------------+------------------+-------------------+----------------------------+-----------------+-----------------+--------------------+--------------------+--------------+---------------+---------+-----------------------+-------------+-----+------------+-----------------+--------------+----------------+------------+-----------+--------------------+------------------+--------------------+-------+------------+------------+------------+--------------+-----------------+------------+-----------------+---------+------------+------------+-------------+-----------+-----------+-------------------+---------------+--------------+----------------+------------+---------------+----------+----------------+-----------+-------------+---------------------+-------------+-----------+----------+\n",
            "only showing top 20 rows\n",
            "\n"
          ]
        }
      ]
    },
    {
      "cell_type": "markdown",
      "metadata": {
        "id": "DckC1xuX8x5R"
      },
      "source": [
        "# Querying + Stat test"
      ]
    },
    {
      "cell_type": "code",
      "metadata": {
        "id": "XKJK3X2LjNZ9",
        "colab": {
          "base_uri": "https://localhost:8080/"
        },
        "outputId": "a83bae14-843a-460f-ffa0-42cf5bbb127a"
      },
      "source": [
        "df_hero_indi.count()"
      ],
      "execution_count": 6,
      "outputs": [
        {
          "output_type": "execute_result",
          "data": {
            "text/plain": [
              "734"
            ]
          },
          "metadata": {},
          "execution_count": 6
        }
      ]
    },
    {
      "cell_type": "code",
      "metadata": {
        "id": "UYI6IXHmKLEF",
        "colab": {
          "base_uri": "https://localhost:8080/"
        },
        "outputId": "4015b04f-8052-4929-f8ef-4f7f72b55ae2"
      },
      "source": [
        "df_hero_indi.select(\"Race\").show()"
      ],
      "execution_count": 7,
      "outputs": [
        {
          "output_type": "stream",
          "name": "stdout",
          "text": [
            "+-----------------+\n",
            "|             Race|\n",
            "+-----------------+\n",
            "|            Human|\n",
            "|    Icthyo Sapien|\n",
            "|          Ungaran|\n",
            "|Human / Radiation|\n",
            "|    Cosmic Entity|\n",
            "|            Human|\n",
            "|                -|\n",
            "|            Human|\n",
            "|                -|\n",
            "|            Human|\n",
            "|                -|\n",
            "|                -|\n",
            "|           Cyborg|\n",
            "|                -|\n",
            "|            Human|\n",
            "|                -|\n",
            "|            Human|\n",
            "|  Xenomorph XX121|\n",
            "|                -|\n",
            "|          Android|\n",
            "+-----------------+\n",
            "only showing top 20 rows\n",
            "\n"
          ]
        }
      ]
    },
    {
      "cell_type": "code",
      "metadata": {
        "id": "spURyBYTKTnv",
        "colab": {
          "base_uri": "https://localhost:8080/"
        },
        "outputId": "e25f5dca-217c-4c86-a41d-ba35e505d2e2"
      },
      "source": [
        "df_hero_indi.select(\"Race\").distinct().show()"
      ],
      "execution_count": 8,
      "outputs": [
        {
          "output_type": "stream",
          "name": "stdout",
          "text": [
            "+------------------+\n",
            "|              Race|\n",
            "+------------------+\n",
            "|          Neyaphem|\n",
            "|          Symbiote|\n",
            "|        Kryptonian|\n",
            "|           Ungaran|\n",
            "|           Martian|\n",
            "|         Strontian|\n",
            "| Human / Radiation|\n",
            "|   Kakarantharaian|\n",
            "|         Metahuman|\n",
            "|Dathomirian Zabrak|\n",
            "|    Human / Cosmic|\n",
            "|   Xenomorph XX121|\n",
            "|            Animal|\n",
            "|       Frost Giant|\n",
            "|            Cyborg|\n",
            "|           Inhuman|\n",
            "|     God / Eternal|\n",
            "|    Yoda's species|\n",
            "|     Icthyo Sapien|\n",
            "|            Rodian|\n",
            "+------------------+\n",
            "only showing top 20 rows\n",
            "\n"
          ]
        }
      ]
    },
    {
      "cell_type": "code",
      "metadata": {
        "id": "5l8lQFiwKyHN",
        "colab": {
          "base_uri": "https://localhost:8080/"
        },
        "outputId": "b6c3260a-ddff-43f5-be8b-015617c41f0a"
      },
      "source": [
        "df_hero_indi.filter(col(\"Race\")==\"Cyborg\").show()"
      ],
      "execution_count": 11,
      "outputs": [
        {
          "output_type": "stream",
          "name": "stdout",
          "text": [
            "+---+----------------+------+---------+------+----------+------+-----------------+----------+---------+------+\n",
            "|_c0|            name|Gender|Eye color|  Race|Hair color|Height|        Publisher|Skin color|Alignment|Weight|\n",
            "+---+----------------+------+---------+------+----------+------+-----------------+----------+---------+------+\n",
            "| 12|            Ajax|  Male|    brown|Cyborg|     Black| 193.0|    Marvel Comics|         -|      bad|  90.0|\n",
            "| 86|    Bionic Woman|Female|     blue|Cyborg|     Black| -99.0|             null|         -|     good| -99.0|\n",
            "|193|          Cyborg|  Male|    brown|Cyborg|     Black| 198.0|        DC Comics|         -|     good| 173.0|\n",
            "|194| Cyborg Superman|  Male|     blue|Cyborg|     Black| -99.0|        DC Comics|         -|      bad| -99.0|\n",
            "|207|     Darth Vader|  Male|   yellow|Cyborg|   No Hair| 198.0|     George Lucas|         -|      bad| 135.0|\n",
            "|214|        Deathlok|  Male|    brown|Cyborg|      Grey| 193.0|    Marvel Comics|         -|     good| 178.0|\n",
            "|400|Lady Deathstrike|Female|    brown|Cyborg|     Black| 175.0|    Marvel Comics|         -|      bad|  58.0|\n",
            "|463|           MODOK|  Male|    white|Cyborg|    Brownn| 366.0|    Marvel Comics|         -|      bad| 338.0|\n",
            "|652|           T-800|  Male|      red|Cyborg|         -| -99.0|Dark Horse Comics|         -|      bad| 176.0|\n",
            "|653|           T-850|  Male|      red|Cyborg|         -| -99.0|Dark Horse Comics|         -|      bad| 198.0|\n",
            "|654|             T-X|Female|        -|Cyborg|         -| -99.0|Dark Horse Comics|    silver|      bad| 149.0|\n",
            "+---+----------------+------+---------+------+----------+------+-----------------+----------+---------+------+\n",
            "\n"
          ]
        }
      ]
    },
    {
      "cell_type": "code",
      "metadata": {
        "id": "8cFaL8AUj8w3",
        "colab": {
          "base_uri": "https://localhost:8080/"
        },
        "outputId": "646aee1e-acbe-4860-a13d-ca4e2fd5a1c1"
      },
      "source": [
        "from pyspark.sql.functions import col, countDistinct\n",
        "\n",
        "df_hero_indi.agg(countDistinct(col(\"Race\"))).show()"
      ],
      "execution_count": 12,
      "outputs": [
        {
          "output_type": "stream",
          "name": "stdout",
          "text": [
            "+-----------+\n",
            "|count(Race)|\n",
            "+-----------+\n",
            "|         62|\n",
            "+-----------+\n",
            "\n"
          ]
        }
      ]
    },
    {
      "cell_type": "code",
      "metadata": {
        "id": "cwywxoCAjWZo",
        "colab": {
          "base_uri": "https://localhost:8080/"
        },
        "outputId": "4f70516c-fdb2-4a14-fcf1-162bb7f09791"
      },
      "source": [
        "from pyspark.sql.functions import col, countDistinct\n",
        "\n",
        "df_hero_indi.agg(*(countDistinct(col(c)).alias(c) for c in df_hero_indi.columns)).show()"
      ],
      "execution_count": 13,
      "outputs": [
        {
          "output_type": "stream",
          "name": "stdout",
          "text": [
            "+---+----+------+---------+----+----------+------+---------+----------+---------+------+\n",
            "|_c0|name|Gender|Eye color|Race|Hair color|Height|Publisher|Skin color|Alignment|Weight|\n",
            "+---+----+------+---------+----+----------+------+---------+----------+---------+------+\n",
            "|734| 715|     3|       23|  62|        30|    54|       24|        17|        4|   135|\n",
            "+---+----+------+---------+----+----------+------+---------+----------+---------+------+\n",
            "\n"
          ]
        }
      ]
    },
    {
      "cell_type": "code",
      "metadata": {
        "id": "12qsEZZXne3-",
        "colab": {
          "base_uri": "https://localhost:8080/"
        },
        "outputId": "d4d8e430-0945-41b6-8934-901e2a2d482a"
      },
      "source": [
        "from pyspark.sql import functions as F\n",
        "\n",
        "df_hero_indi.agg(F.min(col(\"Weight\"))\\\n",
        "              ,F.max(col(\"Weight\"))\\\n",
        "              ,F.avg(col(\"Weight\"))\\\n",
        "              ,F.sum(col(\"Weight\"))\\\n",
        "              ,F.stddev(col(\"Weight\")))\\\n",
        "              .show()"
      ],
      "execution_count": 14,
      "outputs": [
        {
          "output_type": "stream",
          "name": "stdout",
          "text": [
            "+-----------+-----------+----------------+-----------+-------------------+\n",
            "|min(Weight)|max(Weight)|     avg(Weight)|sum(Weight)|stddev_samp(Weight)|\n",
            "+-----------+-----------+----------------+-----------+-------------------+\n",
            "|      -99.0|      900.0|43.8551912568306|    32102.0| 130.82373271995195|\n",
            "+-----------+-----------+----------------+-----------+-------------------+\n",
            "\n"
          ]
        }
      ]
    },
    {
      "cell_type": "code",
      "source": [
        "df_hero_indi.groupBy(col(\"Race\")).agg(F.min(col(\"Weight\"))\\\n",
        "              ,F.max(col(\"Weight\"))\\\n",
        "              ,F.avg(col(\"Weight\"))\\\n",
        "              ,F.sum(col(\"Weight\"))\\\n",
        "              ,F.stddev(col(\"Weight\")))\\\n",
        "              .show()\n",
        "              "
      ],
      "metadata": {
        "id": "6Iqcv9oW-HiV",
        "outputId": "cc818a1c-dc0d-42d2-d7c9-96c5dd6ba448",
        "colab": {
          "base_uri": "https://localhost:8080/"
        }
      },
      "execution_count": 20,
      "outputs": [
        {
          "output_type": "stream",
          "name": "stdout",
          "text": [
            "+------------------+-----------+-----------+-------------------+-----------+-------------------+\n",
            "|              Race|min(Weight)|max(Weight)|        avg(Weight)|sum(Weight)|stddev_samp(Weight)|\n",
            "+------------------+-----------+-----------+-------------------+-----------+-------------------+\n",
            "|          Neyaphem|       67.0|       67.0|               67.0|       67.0|               null|\n",
            "|          Symbiote|      -99.0|      358.0| 109.77777777777777|      988.0|  158.4982474491262|\n",
            "|        Kryptonian|      -99.0|      101.0|               19.0|      133.0|  84.66207336621675|\n",
            "|           Ungaran|       90.0|       90.0|               90.0|       90.0|               null|\n",
            "|           Martian|      135.0|      135.0|              135.0|      135.0|               null|\n",
            "|         Strontian|      268.0|      268.0|              268.0|      268.0|               null|\n",
            "| Human / Radiation|       54.0|      630.0| 261.09090909090907|     2872.0| 216.24266671748873|\n",
            "|   Kakarantharaian|       18.0|       18.0|               18.0|       18.0|               null|\n",
            "|         Metahuman|       59.0|      356.0|              207.5|      415.0|  210.0107140124046|\n",
            "|Dathomirian Zabrak|      -99.0|      -99.0|              -99.0|      -99.0|               null|\n",
            "|    Human / Cosmic|      -99.0|       59.0|              -20.0|      -40.0| 111.72287142747452|\n",
            "|   Xenomorph XX121|      169.0|      169.0|              169.0|      169.0|               null|\n",
            "|            Animal|      -99.0|       25.0|-57.666666666666664|     -173.0|  71.59143337951359|\n",
            "|       Frost Giant|      -99.0|       58.0|              -20.5|      -41.0| 111.01576464628796|\n",
            "|            Cyborg|      -99.0|      338.0|  117.9090909090909|     1297.0|  128.2968858121307|\n",
            "|           Inhuman|       50.0|       95.0|               72.5|      290.0|  21.42428528562855|\n",
            "|     God / Eternal|      -99.0|      293.0| -54.92857142857143|     -769.0| 116.71692533364927|\n",
            "|    Yoda's species|       17.0|       17.0|               17.0|       17.0|               null|\n",
            "|     Icthyo Sapien|       65.0|       65.0|               65.0|       65.0|               null|\n",
            "|            Rodian|      -99.0|      -99.0|              -99.0|      -99.0|               null|\n",
            "+------------------+-----------+-----------+-------------------+-----------+-------------------+\n",
            "only showing top 20 rows\n",
            "\n"
          ]
        }
      ]
    },
    {
      "cell_type": "markdown",
      "metadata": {
        "id": "1d4ezAuyfxHM"
      },
      "source": [
        "## Finding Median\n",
        "http://infolab.stanford.edu/~datar/courses/cs361a/papers/quantiles.pdf"
      ]
    },
    {
      "cell_type": "code",
      "metadata": {
        "id": "B02ZhiwSfcuF",
        "colab": {
          "base_uri": "https://localhost:8080/"
        },
        "outputId": "61717f36-66ba-479a-f401-e9ce14846d5f"
      },
      "source": [
        "df_hero_indi.approxQuantile(\"weight\", [0.5], 0.0)"
      ],
      "execution_count": 21,
      "outputs": [
        {
          "output_type": "execute_result",
          "data": {
            "text/plain": [
              "[62.0]"
            ]
          },
          "metadata": {},
          "execution_count": 21
        }
      ]
    },
    {
      "cell_type": "markdown",
      "metadata": {
        "id": "kOc52NplFKmm"
      },
      "source": [
        "## \"Null\" **checking**"
      ]
    },
    {
      "cell_type": "code",
      "metadata": {
        "id": "ZKI0Dj7eFQwG",
        "colab": {
          "base_uri": "https://localhost:8080/"
        },
        "outputId": "d820b20f-3702-4a46-a0c5-68b605ecff15"
      },
      "source": [
        "df_hero_indi.filter(col(\"Weight\").isNull()).show()"
      ],
      "execution_count": 22,
      "outputs": [
        {
          "output_type": "stream",
          "name": "stdout",
          "text": [
            "+---+---------+------+---------+------+----------+------+---------+----------+---------+------+\n",
            "|_c0|     name|Gender|Eye color|  Race|Hair color|Height|Publisher|Skin color|Alignment|Weight|\n",
            "+---+---------+------+---------+------+----------+------+---------+----------+---------+------+\n",
            "|286| Godzilla|     -|        -| Kaiju|         -| 108.0|     null|      grey|      bad|  null|\n",
            "|389|King Kong|  Male|   yellow|Animal|     Black|  30.5|     null|         -|     good|  null|\n",
            "+---+---------+------+---------+------+----------+------+---------+----------+---------+------+\n",
            "\n"
          ]
        }
      ]
    },
    {
      "cell_type": "markdown",
      "metadata": {
        "id": "7wXp5oecQaO2"
      },
      "source": []
    },
    {
      "cell_type": "markdown",
      "metadata": {
        "id": "19H0zTUl9mmS"
      },
      "source": [
        "## Group by"
      ]
    },
    {
      "cell_type": "code",
      "metadata": {
        "id": "i0hzZzQKGHBa",
        "colab": {
          "base_uri": "https://localhost:8080/"
        },
        "outputId": "e98f5de8-98a2-4698-c6f0-b30488881a84"
      },
      "source": [
        "df_hero_indi.groupBy(\"Race\").count().show()"
      ],
      "execution_count": 24,
      "outputs": [
        {
          "output_type": "stream",
          "name": "stdout",
          "text": [
            "+------------------+-----+\n",
            "|              Race|count|\n",
            "+------------------+-----+\n",
            "|          Neyaphem|    1|\n",
            "|          Symbiote|    9|\n",
            "|        Kryptonian|    7|\n",
            "|           Ungaran|    1|\n",
            "|           Martian|    1|\n",
            "|         Strontian|    1|\n",
            "| Human / Radiation|   11|\n",
            "|   Kakarantharaian|    1|\n",
            "|         Metahuman|    2|\n",
            "|Dathomirian Zabrak|    1|\n",
            "|    Human / Cosmic|    2|\n",
            "|   Xenomorph XX121|    1|\n",
            "|            Animal|    4|\n",
            "|       Frost Giant|    2|\n",
            "|            Cyborg|   11|\n",
            "|           Inhuman|    4|\n",
            "|     God / Eternal|   14|\n",
            "|    Yoda's species|    1|\n",
            "|     Icthyo Sapien|    1|\n",
            "|            Rodian|    1|\n",
            "+------------------+-----+\n",
            "only showing top 20 rows\n",
            "\n"
          ]
        }
      ]
    },
    {
      "cell_type": "code",
      "metadata": {
        "id": "T_dJ41uAGoGR",
        "colab": {
          "base_uri": "https://localhost:8080/",
          "height": 132
        },
        "outputId": "6985ce20-8a59-48f8-f591-567684553d0a"
      },
      "source": [
        "df_hero_indi.groupBy(\"\""
      ],
      "execution_count": 25,
      "outputs": [
        {
          "output_type": "error",
          "ename": "SyntaxError",
          "evalue": "ignored",
          "traceback": [
            "\u001b[0;36m  File \u001b[0;32m\"<ipython-input-25-f6fcaaff91f0>\"\u001b[0;36m, line \u001b[0;32m1\u001b[0m\n\u001b[0;31m    df_hero_indi.groupBy(\"\"\u001b[0m\n\u001b[0m                           ^\u001b[0m\n\u001b[0;31mSyntaxError\u001b[0m\u001b[0;31m:\u001b[0m unexpected EOF while parsing\n"
          ]
        }
      ]
    },
    {
      "cell_type": "code",
      "metadata": {
        "id": "jwipUu3z9l1C",
        "colab": {
          "base_uri": "https://localhost:8080/"
        },
        "outputId": "4c958c73-d0c4-4e6a-fa13-3473214a038e"
      },
      "source": [
        "from pyspark.sql import functions as F\n",
        "\n",
        "df_hero_indi.groupby(col(\"Gender\")).agg(F.min(col(\"Weight\"))\\\n",
        "              ,F.max(col(\"Weight\"))\\\n",
        "              ,F.avg(col(\"Weight\"))\\\n",
        "              ,F.sum(col(\"Weight\"))\\\n",
        "              ,F.stddev(col(\"Weight\")))\\\n",
        "              .show()"
      ],
      "execution_count": 26,
      "outputs": [
        {
          "output_type": "stream",
          "name": "stdout",
          "text": [
            "+------+-----------+-----------+------------------+-----------+-------------------+\n",
            "|Gender|min(Weight)|max(Weight)|       avg(Weight)|sum(Weight)|stddev_samp(Weight)|\n",
            "+------+-----------+-----------+------------------+-----------+-------------------+\n",
            "|Female|      -99.0|      630.0|            27.265|     5453.0| 103.64800683856899|\n",
            "|     -|      -99.0|      383.0|14.821428571428571|      415.0|  137.7515351991964|\n",
            "|  Male|      -99.0|      900.0|52.051587301587304|    26234.0| 139.21298711960654|\n",
            "+------+-----------+-----------+------------------+-----------+-------------------+\n",
            "\n"
          ]
        }
      ]
    },
    {
      "cell_type": "code",
      "metadata": {
        "id": "H2lxGRWDqIWH",
        "colab": {
          "base_uri": "https://localhost:8080/"
        },
        "outputId": "277a0fcd-b563-4b7c-f8c7-070a0843c7de"
      },
      "source": [
        "df_hero_weight = df_hero_indi.filter(col(\"Weight\")!=-99).select(\"weight\")\n",
        "df_hero_weight.show()"
      ],
      "execution_count": 27,
      "outputs": [
        {
          "output_type": "stream",
          "name": "stdout",
          "text": [
            "+------+\n",
            "|weight|\n",
            "+------+\n",
            "| 441.0|\n",
            "|  65.0|\n",
            "|  90.0|\n",
            "| 441.0|\n",
            "| 122.0|\n",
            "|  88.0|\n",
            "|  61.0|\n",
            "|  81.0|\n",
            "| 104.0|\n",
            "| 108.0|\n",
            "|  90.0|\n",
            "|  90.0|\n",
            "|  72.0|\n",
            "| 169.0|\n",
            "| 173.0|\n",
            "| 101.0|\n",
            "|  68.0|\n",
            "|  57.0|\n",
            "|  54.0|\n",
            "|  83.0|\n",
            "+------+\n",
            "only showing top 20 rows\n",
            "\n"
          ]
        }
      ]
    },
    {
      "cell_type": "code",
      "metadata": {
        "id": "OW8IvINYqgoG",
        "colab": {
          "base_uri": "https://localhost:8080/"
        },
        "outputId": "686f145e-246b-4210-e14f-2b27422fcc55"
      },
      "source": [
        "df_hero_weight.agg(F.min(col(\"Weight\"))\\\n",
        "              ,F.max(col(\"Weight\"))\\\n",
        "              ,F.avg(col(\"Weight\"))\\\n",
        "              ,F.sum(col(\"Weight\"))\\\n",
        "              ,F.stddev(col(\"Weight\")))\\\n",
        "              .show()"
      ],
      "execution_count": 28,
      "outputs": [
        {
          "output_type": "stream",
          "name": "stdout",
          "text": [
            "+-----------+-----------+------------------+-----------+-------------------+\n",
            "|min(Weight)|max(Weight)|       avg(Weight)|sum(Weight)|stddev_samp(Weight)|\n",
            "+-----------+-----------+------------------+-----------+-------------------+\n",
            "|        2.0|      900.0|112.25252525252525|    55565.0| 104.15114206482691|\n",
            "+-----------+-----------+------------------+-----------+-------------------+\n",
            "\n"
          ]
        }
      ]
    },
    {
      "cell_type": "code",
      "metadata": {
        "id": "HAU2xxMarvHj",
        "colab": {
          "base_uri": "https://localhost:8080/"
        },
        "outputId": "dd623c62-26e6-4a38-c7d6-27f00d60d075"
      },
      "source": [
        "weight_histogram = df_hero_weight.rdd.flatMap(lambda x: x).histogram(11)\n",
        "\n",
        "print(weight_histogram)\n"
      ],
      "execution_count": 29,
      "outputs": [
        {
          "output_type": "stream",
          "name": "stdout",
          "text": [
            "([2.0, 83.63636363636364, 165.27272727272728, 246.90909090909093, 328.54545454545456, 410.1818181818182, 491.81818181818187, 573.4545454545455, 655.0909090909091, 736.7272727272727, 818.3636363636364, 900.0], [262, 163, 34, 13, 10, 6, 1, 3, 0, 1, 2])\n"
          ]
        }
      ]
    },
    {
      "cell_type": "markdown",
      "metadata": {
        "id": "n0NdtX8W-nuv"
      },
      "source": [
        "(Using Pandas and plot for showing graph)"
      ]
    },
    {
      "cell_type": "code",
      "metadata": {
        "id": "AsWds5zQscip",
        "colab": {
          "base_uri": "https://localhost:8080/",
          "height": 381
        },
        "outputId": "fc3fca01-6bc3-4777-baa0-ed80949908ed"
      },
      "source": [
        "pd.DataFrame(\n",
        "    list(zip(*weight_histogram)), \n",
        "    columns=['bin', 'frequency']\n",
        ").set_index(\n",
        "    'bin'\n",
        ").plot(kind='bar');"
      ],
      "execution_count": 30,
      "outputs": [
        {
          "output_type": "display_data",
          "data": {
            "text/plain": [
              "<Figure size 432x288 with 1 Axes>"
            ],
            "image/png": "[encoded data removed]"
          },
          "metadata": {
            "needs_background": "light"
          }
        }
      ]
    },
    {
      "cell_type": "markdown",
      "metadata": {
        "id": "IELW9L-H-Rug"
      },
      "source": [
        "## Joinning (yes, same as join in SQL)"
      ]
    },
    {
      "cell_type": "code",
      "metadata": {
        "id": "oAoP3Xjuk2b8",
        "colab": {
          "base_uri": "https://localhost:8080/"
        },
        "outputId": "04e3c502-5a91-4798-e911-0bb03176b630"
      },
      "source": [
        "#Rename to match\n",
        "df_power = df_hero_power.withColumnRenamed(\"hero_names\",\"name\")\n",
        "\n",
        "df_power.show()"
      ],
      "execution_count": 23,
      "outputs": [
        {
          "output_type": "stream",
          "name": "stdout",
          "text": [
            "+----------------+-------+-------------------+------------------+---------------------+---------------+----------+-------+-----------------+------+------------+--------------------+------------+--------------+------------------+-----------------+---------+------------+--------------+-----------+---------+------------+-------------+-----------+-------------+---------------+-------+-------------+-------------+---------+--------+-----------+----------+----------------------+-------------------+--------------+----------------------+-----------+-------------+---------------+-----------+------------+-----+------------+-----+------------+------------------+-----------+-------------+--------------------+-----------+----------+---------------+-------+-----------------+--------------------+------------+----------+---------+---------------+--------+---------------+-----------------+------------+---------------+------------+-------+---------------+-----------------+--------------+----------+-------------------+----------------------------+--------------------+---------------------+-------------+---------+------------+------------+---------------+----------------+----------------+----------+--------+------------+--------------+-------------+-------------+--------------+----------------------+---------------+----------+-------+----------+----------+------------------------+---------------+------------+-------------+------------+----------+-------------------------+------+-------------------+---------------+---------------+-----------+--------------+---------+--------------+-----------------+------------+----------+--------+--------------+------------+----------+-------------+------------------+-------------------+----------------------------+-----------------+-----------------+--------------------+--------------------+--------------+---------------+---------+-----------------------+-------------+-----+------------+-----------------+--------------+----------------+------------+-----------+--------------------+------------------+--------------------+-------+------------+------------+------------+--------------+-----------------+------------+-----------------+---------+------------+------------+-------------+-----------+-----------+-------------------+---------------+--------------+----------------+------------+---------------+----------+----------------+-----------+-------------+---------------------+-------------+-----------+----------+\n",
            "|            name|Agility|Accelerated Healing|Lantern Power Ring|Dimensional Awareness|Cold Resistance|Durability|Stealth|Energy Absorption|Flight|Danger Sense|Underwater breathing|Marksmanship|Weapons Master|Power Augmentation|Animal Attributes|Longevity|Intelligence|Super Strength|Cryokinesis|Telepathy|Energy Armor|Energy Blasts|Duplication|Size Changing|Density Control|Stamina|Astral Travel|Audio Control|Dexterity|Omnitrix|Super Speed|Possession|Animal Oriented Powers|Weapon-based Powers|Electrokinesis|Darkforce Manipulation|Death Touch|Teleportation|Enhanced Senses|Telekinesis|Energy Beams|Magic|Hyperkinesis| Jump|Clairvoyance|Dimensional Travel|Power Sense|Shapeshifting|Peak Human Condition|Immortality|Camouflage|Element Control|Phasing|Astral Projection|Electrical Transport|Fire Control|Projection|Summoning|Enhanced Memory|Reflexes|Invulnerability|Energy Constructs|Force Fields|Self-Sustenance|Anti-Gravity|Empathy|Power Nullifier|Radiation Control|Psionic Powers|Elasticity|Substance Secretion|Elemental Transmogrification|Technopath/Cyberpath|Photographic Reflexes|Seismic Power|Animation|Precognition|Mind Control|Fire Resistance|Power Absorption|Enhanced Hearing|Nova Force|Insanity|Hypnokinesis|Animal Control|Natural Armor|Intangibility|Enhanced Sight|Molecular Manipulation|Heat Generation|Adaptation|Gliding|Power Suit|Mind Blast|Probability Manipulation|Gravity Control|Regeneration|Light Control|Echolocation|Levitation|Toxin and Disease Control|Banish|Energy Manipulation|Heat Resistance|Natural Weapons|Time Travel|Enhanced Smell|Illusions|Thirstokinesis|Hair Manipulation|Illumination|Omnipotent|Cloaking|Changing Armor|Power Cosmic|Biokinesis|Water Control|Radiation Immunity|Vision - Telescopic|Toxin and Disease Resistance|Spatial Awareness|Energy Resistance|Telepathy Resistance|Molecular Combustion|Omnilingualism|Portal Creation|Magnetism|Mind Control Resistance|Plant Control|Sonar|Sonic Scream|Time Manipulation|Enhanced Touch|Magic Resistance|Invisibility|Sub-Mariner|Radiation Absorption|Intuitive aptitude|Vision - Microscopic|Melting|Wind Control|Super Breath|Wallcrawling|Vision - Night|Vision - Infrared|Grim Reaping|Matter Absorption|The Force|Resurrection|Terrakinesis|Vision - Heat|Vitakinesis|Radar Sense|Qwardian Power Ring|Weather Control|Vision - X-Ray|Vision - Thermal|Web Creation|Reality Warping|Odin Force|Symbiote Costume|Speed Force|Phoenix Force|Molecular Dissipation|Vision - Cryo|Omnipresent|Omniscient|\n",
            "+----------------+-------+-------------------+------------------+---------------------+---------------+----------+-------+-----------------+------+------------+--------------------+------------+--------------+------------------+-----------------+---------+------------+--------------+-----------+---------+------------+-------------+-----------+-------------+---------------+-------+-------------+-------------+---------+--------+-----------+----------+----------------------+-------------------+--------------+----------------------+-----------+-------------+---------------+-----------+------------+-----+------------+-----+------------+------------------+-----------+-------------+--------------------+-----------+----------+---------------+-------+-----------------+--------------------+------------+----------+---------+---------------+--------+---------------+-----------------+------------+---------------+------------+-------+---------------+-----------------+--------------+----------+-------------------+----------------------------+--------------------+---------------------+-------------+---------+------------+------------+---------------+----------------+----------------+----------+--------+------------+--------------+-------------+-------------+--------------+----------------------+---------------+----------+-------+----------+----------+------------------------+---------------+------------+-------------+------------+----------+-------------------------+------+-------------------+---------------+---------------+-----------+--------------+---------+--------------+-----------------+------------+----------+--------+--------------+------------+----------+-------------+------------------+-------------------+----------------------------+-----------------+-----------------+--------------------+--------------------+--------------+---------------+---------+-----------------------+-------------+-----+------------+-----------------+--------------+----------------+------------+-----------+--------------------+------------------+--------------------+-------+------------+------------+------------+--------------+-----------------+------------+-----------------+---------+------------+------------+-------------+-----------+-----------+-------------------+---------------+--------------+----------------+------------+---------------+----------+----------------+-----------+-------------+---------------------+-------------+-----------+----------+\n",
            "|         3-D Man|   true|              false|             false|                false|          false|     false|  false|            false| false|       false|               false|       false|         false|             false|            false|    false|       false|          true|      false|    false|       false|        false|      false|        false|          false|   true|        false|        false|    false|   false|       true|     false|                 false|              false|         false|                 false|      false|        false|          false|      false|       false|false|       false|false|       false|             false|      false|        false|               false|      false|     false|          false|  false|            false|               false|       false|     false|    false|          false|   false|          false|            false|       false|          false|       false|  false|          false|            false|         false|     false|              false|                       false|               false|                false|        false|    false|       false|       false|          false|           false|           false|     false|   false|       false|         false|        false|        false|         false|                 false|          false|     false|  false|     false|     false|                   false|          false|       false|        false|       false|     false|                    false| false|              false|          false|          false|      false|         false|    false|         false|            false|       false|     false|   false|         false|       false|     false|        false|             false|              false|                       false|            false|            false|               false|               false|         false|          false|    false|                  false|        false|false|       false|            false|         false|           false|       false|      false|               false|             false|               false|  false|       false|       false|       false|         false|            false|       false|            false|    false|       false|       false|        false|      false|      false|              false|          false|         false|           false|       false|          false|     false|           false|      false|        false|                false|        false|      false|     false|\n",
            "|          A-Bomb|  false|               true|             false|                false|          false|      true|  false|            false| false|       false|               false|       false|         false|             false|            false|     true|       false|          true|      false|    false|       false|        false|      false|        false|          false|   true|        false|        false|    false|   false|      false|     false|                 false|              false|         false|                 false|      false|        false|          false|      false|       false|false|       false|false|       false|             false|      false|        false|               false|      false|      true|          false|  false|            false|               false|       false|     false|    false|          false|   false|          false|            false|       false|           true|       false|  false|          false|            false|         false|     false|              false|                       false|               false|                false|        false|    false|       false|       false|          false|           false|           false|     false|   false|       false|         false|        false|        false|         false|                 false|          false|     false|  false|     false|     false|                   false|          false|       false|        false|       false|     false|                    false| false|              false|          false|          false|      false|         false|    false|         false|            false|       false|     false|   false|         false|       false|     false|        false|             false|              false|                       false|            false|            false|               false|               false|         false|          false|    false|                  false|        false|false|       false|            false|         false|           false|       false|      false|               false|             false|               false|  false|       false|       false|       false|         false|            false|       false|            false|    false|       false|       false|        false|      false|      false|              false|          false|         false|           false|       false|          false|     false|           false|      false|        false|                false|        false|      false|     false|\n",
            "|      Abe Sapien|   true|               true|             false|                false|           true|      true|  false|            false| false|       false|                true|        true|          true|             false|            false|     true|        true|          true|      false|     true|       false|        false|      false|        false|          false|   true|        false|        false|    false|   false|      false|     false|                 false|              false|         false|                 false|      false|        false|          false|      false|       false|false|       false|false|       false|             false|      false|        false|               false|       true|     false|          false|  false|            false|               false|       false|     false|    false|          false|    true|          false|            false|       false|          false|       false|  false|          false|            false|         false|     false|              false|                       false|               false|                false|        false|    false|       false|       false|          false|           false|           false|     false|   false|       false|         false|        false|        false|          true|                 false|          false|     false|  false|     false|     false|                   false|          false|       false|        false|       false|     false|                    false| false|              false|          false|          false|      false|         false|    false|         false|            false|       false|     false|   false|         false|       false|     false|        false|             false|              false|                       false|            false|            false|               false|               false|         false|          false|    false|                  false|        false|false|       false|            false|         false|           false|       false|       true|               false|             false|               false|  false|       false|       false|       false|         false|            false|       false|            false|    false|       false|       false|        false|      false|      false|              false|          false|         false|           false|       false|          false|     false|           false|      false|        false|                false|        false|      false|     false|\n",
            "|        Abin Sur|  false|              false|              true|                false|          false|     false|  false|            false| false|       false|               false|       false|         false|             false|            false|    false|       false|         false|      false|    false|       false|        false|      false|        false|          false|  false|        false|        false|    false|   false|      false|     false|                 false|              false|         false|                 false|      false|        false|          false|      false|       false|false|       false|false|       false|             false|      false|        false|               false|      false|     false|          false|  false|            false|               false|       false|     false|    false|          false|   false|          false|            false|       false|          false|       false|  false|          false|            false|         false|     false|              false|                       false|               false|                false|        false|    false|       false|       false|          false|           false|           false|     false|   false|       false|         false|        false|        false|         false|                 false|          false|     false|  false|     false|     false|                   false|          false|       false|        false|       false|     false|                    false| false|              false|          false|          false|      false|         false|    false|         false|            false|       false|     false|   false|         false|       false|     false|        false|             false|              false|                       false|            false|            false|               false|               false|         false|          false|    false|                  false|        false|false|       false|            false|         false|           false|       false|      false|               false|             false|               false|  false|       false|       false|       false|         false|            false|       false|            false|    false|       false|       false|        false|      false|      false|              false|          false|         false|           false|       false|          false|     false|           false|      false|        false|                false|        false|      false|     false|\n",
            "|     Abomination|  false|               true|             false|                false|          false|     false|  false|            false| false|       false|               false|       false|         false|             false|            false|    false|        true|          true|      false|    false|       false|        false|      false|        false|          false|   true|        false|        false|    false|   false|       true|     false|                 false|              false|         false|                 false|      false|        false|          false|      false|       false|false|       false|false|       false|             false|      false|        false|               false|      false|     false|          false|  false|            false|               false|       false|     false|    false|          false|   false|           true|            false|       false|          false|       false|  false|          false|            false|         false|     false|              false|                       false|               false|                false|        false|     true|       false|       false|          false|           false|           false|     false|   false|       false|         false|        false|        false|         false|                 false|          false|     false|  false|     false|     false|                   false|          false|       false|        false|       false|     false|                    false| false|              false|          false|          false|      false|         false|    false|         false|            false|       false|     false|   false|         false|       false|     false|        false|             false|              false|                       false|            false|            false|               false|               false|         false|          false|    false|                  false|        false|false|       false|            false|         false|           false|       false|      false|               false|             false|               false|  false|       false|        true|       false|         false|            false|       false|            false|    false|       false|       false|        false|      false|      false|              false|          false|         false|           false|       false|          false|     false|           false|      false|        false|                false|        false|      false|     false|\n",
            "|         Abraxas|  false|              false|             false|                 true|          false|     false|  false|            false|  true|       false|               false|       false|         false|             false|            false|    false|        true|          true|      false|    false|       false|        false|      false|         true|          false|  false|        false|        false|    false|   false|       true|     false|                 false|              false|         false|                 false|      false|         true|          false|      false|       false| true|       false|false|       false|              true|      false|        false|               false|       true|     false|          false|  false|            false|               false|       false|     false|    false|          false|   false|           true|            false|       false|          false|       false|  false|          false|            false|         false|     false|              false|                       false|               false|                false|        false|    false|       false|       false|          false|           false|           false|     false|   false|       false|         false|        false|        false|         false|                  true|          false|     false|  false|     false|     false|                   false|          false|       false|        false|       false|     false|                    false| false|               true|          false|          false|      false|         false|    false|         false|            false|       false|     false|   false|         false|        true|     false|        false|             false|              false|                       false|            false|            false|               false|               false|         false|          false|    false|                  false|        false|false|       false|            false|         false|           false|       false|      false|               false|             false|               false|  false|       false|       false|       false|         false|            false|       false|            false|    false|       false|       false|        false|      false|      false|              false|          false|         false|           false|       false|          false|     false|           false|      false|        false|                false|        false|      false|     false|\n",
            "|   Absorbing Man|  false|              false|             false|                false|           true|      true|  false|             true| false|       false|               false|       false|         false|             false|            false|    false|       false|          true|      false|    false|       false|        false|      false|        false|          false|  false|        false|        false|    false|   false|      false|     false|                 false|              false|         false|                 false|      false|        false|          false|      false|       false|false|       false|false|       false|             false|      false|        false|               false|      false|     false|          false|  false|            false|               false|       false|     false|    false|          false|   false|           true|            false|       false|          false|       false|  false|          false|            false|         false|     false|              false|                        true|               false|                false|        false|    false|       false|       false|           true|           false|           false|     false|   false|       false|         false|         true|        false|         false|                  true|          false|     false|  false|     false|     false|                   false|          false|       false|        false|       false|     false|                    false| false|              false|           true|          false|      false|         false|    false|         false|            false|       false|     false|   false|         false|       false|     false|        false|             false|              false|                       false|            false|            false|               false|               false|         false|          false|    false|                  false|        false|false|       false|            false|         false|           false|       false|      false|               false|             false|               false|  false|       false|       false|       false|         false|            false|       false|             true|    false|       false|       false|        false|      false|      false|              false|          false|         false|           false|       false|          false|     false|           false|      false|        false|                false|        false|      false|     false|\n",
            "|     Adam Monroe|  false|               true|             false|                false|          false|     false|  false|            false| false|       false|               false|       false|         false|             false|            false|    false|       false|         false|      false|    false|       false|        false|      false|        false|          false|  false|        false|        false|    false|   false|      false|     false|                 false|              false|         false|                 false|      false|        false|          false|      false|       false|false|       false|false|       false|             false|      false|        false|               false|       true|     false|          false|  false|            false|               false|       false|     false|    false|          false|   false|          false|            false|       false|          false|       false|  false|          false|            false|         false|     false|              false|                       false|               false|                false|        false|    false|       false|       false|          false|           false|           false|     false|   false|       false|         false|        false|        false|         false|                 false|          false|     false|  false|     false|     false|                   false|          false|        true|        false|       false|     false|                    false| false|              false|          false|          false|      false|         false|    false|         false|            false|       false|     false|   false|         false|       false|     false|        false|             false|              false|                       false|            false|            false|               false|               false|         false|          false|    false|                  false|        false|false|       false|            false|         false|           false|       false|      false|               false|             false|               false|  false|       false|       false|       false|         false|            false|       false|            false|    false|       false|       false|        false|      false|      false|              false|          false|         false|           false|       false|          false|     false|           false|      false|        false|                false|        false|      false|     false|\n",
            "|    Adam Strange|  false|              false|             false|                false|          false|      true|   true|            false|  true|       false|               false|        true|          true|             false|            false|    false|        true|         false|      false|    false|       false|        false|      false|        false|          false|  false|        false|        false|    false|   false|       true|     false|                 false|              false|         false|                 false|      false|        false|          false|      false|       false|false|       false|false|       false|             false|      false|        false|               false|      false|     false|          false|  false|            false|               false|       false|     false|    false|          false|   false|          false|            false|       false|          false|       false|  false|          false|            false|         false|     false|              false|                       false|               false|                false|        false|    false|       false|       false|           true|           false|           false|     false|   false|       false|         false|        false|        false|          true|                 false|          false|     false|  false|      true|     false|                   false|          false|       false|        false|       false|     false|                    false| false|              false|          false|          false|      false|         false|    false|         false|            false|       false|     false|   false|         false|       false|     false|        false|             false|              false|                       false|            false|            false|               false|               false|         false|          false|    false|                  false|        false|false|       false|            false|         false|           false|       false|      false|               false|             false|               false|  false|       false|       false|       false|         false|            false|       false|            false|    false|       false|       false|        false|      false|      false|              false|          false|         false|           false|       false|          false|     false|           false|      false|        false|                false|        false|      false|     false|\n",
            "|       Agent Bob|  false|              false|             false|                false|          false|     false|   true|            false| false|       false|               false|       false|         false|             false|            false|    false|       false|         false|      false|    false|       false|        false|      false|        false|          false|  false|        false|        false|    false|   false|      false|     false|                 false|              false|         false|                 false|      false|        false|          false|      false|       false|false|       false|false|       false|             false|      false|        false|               false|      false|     false|          false|  false|            false|               false|       false|     false|    false|          false|   false|          false|            false|       false|          false|       false|  false|          false|            false|         false|     false|              false|                       false|               false|                false|        false|    false|       false|       false|          false|           false|           false|     false|   false|       false|         false|        false|        false|         false|                 false|          false|     false|  false|     false|     false|                   false|          false|       false|        false|       false|     false|                    false| false|              false|          false|          false|      false|         false|    false|         false|            false|       false|     false|   false|         false|       false|     false|        false|             false|              false|                       false|            false|            false|               false|               false|         false|          false|    false|                  false|        false|false|       false|            false|         false|           false|       false|      false|               false|             false|               false|  false|       false|       false|       false|         false|            false|       false|            false|    false|       false|       false|        false|      false|      false|              false|          false|         false|           false|       false|          false|     false|           false|      false|        false|                false|        false|      false|     false|\n",
            "|      Agent Zero|  false|              false|             false|                false|          false|     false|  false|             true| false|       false|               false|       false|         false|             false|            false|     true|       false|          true|      false|    false|       false|         true|      false|        false|          false|  false|        false|        false|    false|   false|      false|     false|                 false|              false|         false|                 false|      false|        false|          false|      false|        true|false|       false|false|       false|             false|      false|        false|               false|      false|     false|          false|  false|            false|               false|       false|     false|    false|          false|   false|          false|            false|       false|          false|       false|  false|          false|            false|         false|     false|              false|                       false|               false|                false|        false|    false|       false|       false|          false|           false|           false|     false|   false|       false|         false|        false|        false|         false|                 false|          false|     false|  false|      true|     false|                   false|          false|       false|        false|       false|     false|                    false| false|              false|          false|          false|      false|         false|    false|         false|            false|       false|     false|   false|         false|       false|     false|        false|             false|              false|                       false|            false|            false|               false|               false|         false|          false|    false|                  false|        false|false|       false|            false|         false|           false|       false|      false|               false|             false|               false|  false|       false|       false|       false|         false|            false|       false|            false|    false|       false|       false|        false|      false|      false|              false|          false|         false|           false|       false|          false|     false|           false|      false|        false|                false|        false|      false|     false|\n",
            "|      Air-Walker|  false|              false|             false|                false|          false|     false|  false|            false|  true|       false|               false|       false|         false|             false|            false|    false|       false|          true|      false|    false|       false|        false|      false|        false|          false|  false|        false|        false|    false|   false|       true|     false|                 false|              false|         false|                 false|      false|        false|          false|      false|       false|false|       false|false|       false|             false|      false|        false|               false|      false|     false|          false|  false|            false|               false|       false|     false|    false|          false|   false|          false|            false|       false|           true|       false|  false|          false|            false|         false|     false|              false|                       false|               false|                false|        false|    false|       false|       false|          false|           false|           false|     false|   false|       false|         false|        false|        false|         false|                  true|          false|     false|  false|     false|     false|                   false|          false|       false|        false|       false|     false|                    false| false|              false|          false|          false|      false|         false|    false|         false|            false|       false|     false|   false|         false|        true|     false|        false|             false|              false|                       false|            false|            false|               false|               false|         false|          false|    false|                  false|        false|false|       false|            false|         false|           false|       false|      false|               false|             false|               false|  false|       false|       false|       false|         false|            false|       false|            false|    false|       false|       false|        false|      false|      false|              false|          false|         false|           false|       false|          false|     false|           false|      false|        false|                false|        false|      false|     false|\n",
            "|            Ajax|   true|              false|             false|                false|          false|     false|  false|            false| false|       false|               false|       false|         false|             false|            false|    false|       false|          true|      false|    false|       false|        false|      false|        false|          false|  false|        false|        false|    false|   false|       true|     false|                 false|              false|         false|                 false|      false|        false|          false|      false|       false|false|       false|false|       false|             false|      false|        false|               false|      false|     false|          false|  false|            false|               false|       false|     false|    false|          false|   false|          false|            false|       false|          false|       false|  false|          false|            false|         false|     false|              false|                       false|               false|                false|        false|    false|       false|       false|          false|           false|           false|     false|   false|       false|         false|        false|        false|         false|                 false|           true|     false|  false|      true|     false|                   false|          false|       false|        false|       false|     false|                    false| false|              false|          false|          false|      false|         false|    false|         false|            false|       false|     false|   false|         false|       false|     false|        false|             false|              false|                       false|            false|            false|               false|               false|         false|          false|    false|                  false|        false|false|       false|            false|         false|           false|       false|      false|               false|             false|               false|  false|       false|       false|       false|         false|            false|       false|            false|    false|       false|       false|        false|      false|      false|              false|          false|         false|           false|       false|          false|     false|           false|      false|        false|                false|        false|      false|     false|\n",
            "|      Alan Scott|  false|              false|             false|                false|          false|     false|  false|            false|  true|        true|               false|       false|         false|             false|            false|    false|        true|         false|      false|     true|       false|         true|      false|        false|          false|  false|        false|        false|    false|   false|       true|     false|                 false|              false|         false|                 false|      false|         true|          false|      false|        true|false|       false|false|       false|             false|      false|        false|               false|      false|     false|          false|   true|            false|               false|       false|     false|    false|          false|   false|          false|            false|        true|          false|       false|  false|          false|            false|         false|     false|              false|                       false|               false|                false|        false|    false|       false|       false|          false|           false|           false|     false|   false|        true|         false|        false|        false|         false|                 false|          false|     false|  false|     false|     false|                   false|          false|       false|        false|       false|     false|                    false| false|               true|          false|          false|      false|         false|    false|         false|            false|       false|     false|   false|         false|       false|     false|        false|             false|              false|                       false|            false|            false|               false|               false|         false|          false|    false|                  false|        false|false|       false|            false|         false|           false|        true|      false|               false|             false|               false|  false|       false|       false|       false|         false|            false|       false|            false|    false|       false|       false|        false|      false|      false|              false|          false|         false|           false|       false|          false|     false|           false|      false|        false|                false|        false|      false|     false|\n",
            "|     Alex Mercer|   true|               true|             false|                false|          false|     false|   true|             true| false|        true|               false|        true|          true|             false|            false|     true|       false|          true|      false|    false|       false|         true|      false|        false|          false|   true|        false|        false|    false|   false|       true|     false|                 false|              false|         false|                 false|      false|        false|           true|      false|       false|false|       false| true|       false|             false|      false|         true|               false|       true|     false|          false|  false|            false|               false|       false|     false|    false|          false|   false|           true|            false|       false|          false|       false|  false|          false|            false|         false|      true|               true|                       false|               false|                false|        false|    false|       false|       false|          false|           false|            true|     false|   false|       false|         false|         true|        false|         false|                 false|          false|      true|   true|     false|     false|                   false|          false|       false|        false|       false|     false|                    false| false|              false|          false|           true|      false|         false|    false|         false|            false|       false|     false|   false|         false|       false|     false|        false|             false|              false|                       false|            false|            false|               false|               false|         false|          false|    false|                  false|        false|false|       false|            false|         false|           false|       false|      false|               false|             false|               false|  false|       false|       false|        true|         false|            false|       false|             true|    false|       false|       false|        false|      false|      false|              false|          false|         false|            true|       false|          false|     false|           false|      false|        false|                false|        false|      false|     false|\n",
            "|    Alex Woolsly|  false|              false|             false|                false|          false|     false|  false|            false| false|       false|                true|       false|         false|             false|            false|    false|       false|         false|      false|    false|       false|        false|      false|        false|          false|  false|        false|        false|    false|   false|      false|     false|                 false|              false|         false|                 false|      false|        false|          false|      false|       false|false|       false|false|       false|             false|      false|        false|               false|      false|     false|          false|  false|            false|               false|       false|     false|    false|          false|   false|          false|            false|       false|          false|       false|  false|          false|            false|         false|     false|              false|                       false|               false|                false|        false|    false|       false|       false|          false|           false|           false|     false|   false|       false|         false|        false|        false|         false|                 false|          false|     false|  false|     false|     false|                   false|          false|       false|        false|       false|     false|                    false| false|              false|          false|          false|      false|         false|    false|         false|            false|       false|     false|   false|         false|       false|     false|        false|             false|              false|                       false|            false|            false|               false|               false|         false|          false|    false|                  false|        false|false|       false|            false|         false|           false|       false|      false|               false|             false|               false|  false|       false|       false|       false|         false|            false|       false|            false|    false|       false|       false|        false|      false|      false|              false|          false|         false|           false|       false|          false|     false|           false|      false|        false|                false|        false|      false|     false|\n",
            "|           Alien|   true|              false|             false|                false|           true|      true|   true|            false| false|       false|               false|       false|         false|             false|            false|    false|       false|          true|      false|    false|       false|        false|      false|        false|          false|  false|        false|        false|    false|   false|       true|     false|                 false|              false|         false|                 false|      false|        false|           true|      false|       false|false|       false| true|       false|             false|      false|        false|               false|      false|     false|          false|  false|            false|               false|       false|     false|    false|          false|   false|          false|            false|       false|          false|       false|  false|          false|            false|         false|     false|               true|                       false|               false|                false|        false|    false|       false|       false|          false|           false|           false|     false|   false|       false|         false|         true|        false|         false|                 false|          false|     false|  false|     false|     false|                   false|          false|       false|        false|       false|     false|                    false| false|              false|           true|           true|      false|         false|    false|         false|            false|       false|     false|   false|         false|       false|     false|        false|             false|              false|                       false|            false|            false|               false|               false|         false|          false|    false|                  false|        false|false|       false|            false|         false|           false|       false|      false|               false|             false|               false|  false|       false|       false|        true|         false|            false|       false|            false|    false|       false|       false|        false|      false|      false|              false|          false|         false|            true|       false|          false|     false|           false|      false|        false|                false|        false|      false|     false|\n",
            "|Allan Quatermain|  false|              false|             false|                false|          false|     false|  false|            false| false|       false|               false|        true|         false|             false|            false|    false|       false|         false|      false|    false|       false|        false|      false|        false|          false|  false|        false|        false|    false|   false|      false|     false|                 false|              false|         false|                 false|      false|        false|          false|      false|       false|false|       false|false|       false|             false|      false|        false|               false|      false|     false|          false|  false|            false|               false|       false|     false|    false|          false|   false|          false|            false|       false|          false|       false|  false|          false|            false|         false|     false|              false|                       false|               false|                false|        false|    false|       false|       false|          false|           false|           false|     false|   false|       false|         false|        false|        false|         false|                 false|          false|     false|  false|     false|     false|                   false|          false|       false|        false|       false|     false|                    false| false|              false|          false|          false|      false|         false|    false|         false|            false|       false|     false|   false|         false|       false|     false|        false|             false|              false|                       false|            false|            false|               false|               false|         false|          false|    false|                  false|        false|false|       false|            false|         false|           false|       false|      false|               false|             false|               false|  false|       false|       false|       false|         false|            false|       false|            false|    false|       false|       false|        false|      false|      false|              false|          false|         false|           false|       false|          false|     false|           false|      false|        false|                false|        false|      false|     false|\n",
            "|           Amazo|   true|              false|              true|                false|          false|      true|  false|            false|  true|       false|                true|        true|         false|              true|            false|     true|        true|          true|       true|     true|       false|         true|       true|         true|          false|   true|        false|        false|    false|   false|       true|     false|                 false|               true|         false|                 false|      false|         true|           true|      false|       false|false|       false| true|       false|             false|      false|         true|               false|      false|      true|          false|   true|            false|               false|        true|     false|    false|           true|    true|           true|             true|        true|          false|       false|  false|          false|            false|         false|     false|              false|                       false|               false|                false|        false|    false|       false|       false|          false|            true|            true|     false|   false|       false|         false|        false|        false|         false|                 false|          false|     false|  false|     false|     false|                   false|          false|       false|        false|       false|     false|                    false| false|              false|          false|          false|       true|          true|    false|         false|            false|       false|     false|   false|         false|       false|     false|         true|             false|               true|                       false|            false|            false|               false|               false|         false|          false|     true|                  false|        false|false|       false|            false|         false|           false|        true|      false|               false|             false|                true|  false|       false|        true|       false|          true|            false|       false|            false|    false|       false|       false|         true|      false|      false|              false|          false|          true|            true|       false|          false|     false|           false|      false|        false|                false|        false|      false|     false|\n",
            "|            Ammo|  false|              false|             false|                false|          false|     false|  false|            false| false|       false|               false|       false|          true|             false|            false|    false|       false|         false|      false|    false|       false|        false|      false|        false|          false|  false|        false|        false|    false|   false|      false|     false|                 false|              false|         false|                 false|      false|        false|          false|      false|       false|false|       false|false|       false|             false|      false|        false|               false|      false|     false|          false|  false|            false|               false|       false|     false|    false|          false|   false|          false|            false|       false|          false|       false|  false|          false|            false|         false|     false|              false|                       false|               false|                false|        false|    false|       false|       false|          false|           false|           false|     false|   false|       false|         false|        false|        false|         false|                 false|          false|     false|  false|     false|     false|                   false|          false|       false|        false|       false|     false|                    false| false|              false|          false|          false|      false|         false|    false|         false|            false|       false|     false|   false|         false|       false|     false|        false|             false|              false|                       false|            false|            false|               false|               false|         false|          false|    false|                  false|        false|false|       false|            false|         false|           false|       false|      false|               false|             false|               false|  false|       false|       false|       false|         false|            false|       false|            false|    false|       false|       false|        false|      false|      false|              false|          false|         false|           false|       false|          false|     false|           false|      false|        false|                false|        false|      false|     false|\n",
            "+----------------+-------+-------------------+------------------+---------------------+---------------+----------+-------+-----------------+------+------------+--------------------+------------+--------------+------------------+-----------------+---------+------------+--------------+-----------+---------+------------+-------------+-----------+-------------+---------------+-------+-------------+-------------+---------+--------+-----------+----------+----------------------+-------------------+--------------+----------------------+-----------+-------------+---------------+-----------+------------+-----+------------+-----+------------+------------------+-----------+-------------+--------------------+-----------+----------+---------------+-------+-----------------+--------------------+------------+----------+---------+---------------+--------+---------------+-----------------+------------+---------------+------------+-------+---------------+-----------------+--------------+----------+-------------------+----------------------------+--------------------+---------------------+-------------+---------+------------+------------+---------------+----------------+----------------+----------+--------+------------+--------------+-------------+-------------+--------------+----------------------+---------------+----------+-------+----------+----------+------------------------+---------------+------------+-------------+------------+----------+-------------------------+------+-------------------+---------------+---------------+-----------+--------------+---------+--------------+-----------------+------------+----------+--------+--------------+------------+----------+-------------+------------------+-------------------+----------------------------+-----------------+-----------------+--------------------+--------------------+--------------+---------------+---------+-----------------------+-------------+-----+------------+-----------------+--------------+----------------+------------+-----------+--------------------+------------------+--------------------+-------+------------+------------+------------+--------------+-----------------+------------+-----------------+---------+------------+------------+-------------+-----------+-----------+-------------------+---------------+--------------+----------------+------------+---------------+----------+----------------+-----------+-------------+---------------------+-------------+-----------+----------+\n",
            "only showing top 20 rows\n",
            "\n"
          ]
        }
      ]
    },
    {
      "cell_type": "code",
      "metadata": {
        "id": "7CjD7e8K-kM_",
        "colab": {
          "base_uri": "https://localhost:8080/"
        },
        "outputId": "c01cfd16-69de-40d2-eddd-f81f3ecb621a"
      },
      "source": [
        "df_joined = df_hero_indi.join(df_power, on=\"name\",how=\"left\")\n",
        "df_joined.show()"
      ],
      "execution_count": 31,
      "outputs": [
        {
          "output_type": "stream",
          "name": "stdout",
          "text": [
            "+-----------------+---+------+---------+-----------------+----------+------+-----------------+----------+---------+------+-------+-------------------+------------------+---------------------+---------------+----------+-------+-----------------+------+------------+--------------------+------------+--------------+------------------+-----------------+---------+------------+--------------+-----------+---------+------------+-------------+-----------+-------------+---------------+-------+-------------+-------------+---------+--------+-----------+----------+----------------------+-------------------+--------------+----------------------+-----------+-------------+---------------+-----------+------------+-----+------------+-----+------------+------------------+-----------+-------------+--------------------+-----------+----------+---------------+-------+-----------------+--------------------+------------+----------+---------+---------------+--------+---------------+-----------------+------------+---------------+------------+-------+---------------+-----------------+--------------+----------+-------------------+----------------------------+--------------------+---------------------+-------------+---------+------------+------------+---------------+----------------+----------------+----------+--------+------------+--------------+-------------+-------------+--------------+----------------------+---------------+----------+-------+----------+----------+------------------------+---------------+------------+-------------+------------+----------+-------------------------+------+-------------------+---------------+---------------+-----------+--------------+---------+--------------+-----------------+------------+----------+--------+--------------+------------+----------+-------------+------------------+-------------------+----------------------------+-----------------+-----------------+--------------------+--------------------+--------------+---------------+---------+-----------------------+-------------+-----+------------+-----------------+--------------+----------------+------------+-----------+--------------------+------------------+--------------------+-------+------------+------------+------------+--------------+-----------------+------------+-----------------+---------+------------+------------+-------------+-----------+-----------+-------------------+---------------+--------------+----------------+------------+---------------+----------+----------------+-----------+-------------+---------------------+-------------+-----------+----------+\n",
            "|             name|_c0|Gender|Eye color|             Race|Hair color|Height|        Publisher|Skin color|Alignment|Weight|Agility|Accelerated Healing|Lantern Power Ring|Dimensional Awareness|Cold Resistance|Durability|Stealth|Energy Absorption|Flight|Danger Sense|Underwater breathing|Marksmanship|Weapons Master|Power Augmentation|Animal Attributes|Longevity|Intelligence|Super Strength|Cryokinesis|Telepathy|Energy Armor|Energy Blasts|Duplication|Size Changing|Density Control|Stamina|Astral Travel|Audio Control|Dexterity|Omnitrix|Super Speed|Possession|Animal Oriented Powers|Weapon-based Powers|Electrokinesis|Darkforce Manipulation|Death Touch|Teleportation|Enhanced Senses|Telekinesis|Energy Beams|Magic|Hyperkinesis| Jump|Clairvoyance|Dimensional Travel|Power Sense|Shapeshifting|Peak Human Condition|Immortality|Camouflage|Element Control|Phasing|Astral Projection|Electrical Transport|Fire Control|Projection|Summoning|Enhanced Memory|Reflexes|Invulnerability|Energy Constructs|Force Fields|Self-Sustenance|Anti-Gravity|Empathy|Power Nullifier|Radiation Control|Psionic Powers|Elasticity|Substance Secretion|Elemental Transmogrification|Technopath/Cyberpath|Photographic Reflexes|Seismic Power|Animation|Precognition|Mind Control|Fire Resistance|Power Absorption|Enhanced Hearing|Nova Force|Insanity|Hypnokinesis|Animal Control|Natural Armor|Intangibility|Enhanced Sight|Molecular Manipulation|Heat Generation|Adaptation|Gliding|Power Suit|Mind Blast|Probability Manipulation|Gravity Control|Regeneration|Light Control|Echolocation|Levitation|Toxin and Disease Control|Banish|Energy Manipulation|Heat Resistance|Natural Weapons|Time Travel|Enhanced Smell|Illusions|Thirstokinesis|Hair Manipulation|Illumination|Omnipotent|Cloaking|Changing Armor|Power Cosmic|Biokinesis|Water Control|Radiation Immunity|Vision - Telescopic|Toxin and Disease Resistance|Spatial Awareness|Energy Resistance|Telepathy Resistance|Molecular Combustion|Omnilingualism|Portal Creation|Magnetism|Mind Control Resistance|Plant Control|Sonar|Sonic Scream|Time Manipulation|Enhanced Touch|Magic Resistance|Invisibility|Sub-Mariner|Radiation Absorption|Intuitive aptitude|Vision - Microscopic|Melting|Wind Control|Super Breath|Wallcrawling|Vision - Night|Vision - Infrared|Grim Reaping|Matter Absorption|The Force|Resurrection|Terrakinesis|Vision - Heat|Vitakinesis|Radar Sense|Qwardian Power Ring|Weather Control|Vision - X-Ray|Vision - Thermal|Web Creation|Reality Warping|Odin Force|Symbiote Costume|Speed Force|Phoenix Force|Molecular Dissipation|Vision - Cryo|Omnipresent|Omniscient|\n",
            "+-----------------+---+------+---------+-----------------+----------+------+-----------------+----------+---------+------+-------+-------------------+------------------+---------------------+---------------+----------+-------+-----------------+------+------------+--------------------+------------+--------------+------------------+-----------------+---------+------------+--------------+-----------+---------+------------+-------------+-----------+-------------+---------------+-------+-------------+-------------+---------+--------+-----------+----------+----------------------+-------------------+--------------+----------------------+-----------+-------------+---------------+-----------+------------+-----+------------+-----+------------+------------------+-----------+-------------+--------------------+-----------+----------+---------------+-------+-----------------+--------------------+------------+----------+---------+---------------+--------+---------------+-----------------+------------+---------------+------------+-------+---------------+-----------------+--------------+----------+-------------------+----------------------------+--------------------+---------------------+-------------+---------+------------+------------+---------------+----------------+----------------+----------+--------+------------+--------------+-------------+-------------+--------------+----------------------+---------------+----------+-------+----------+----------+------------------------+---------------+------------+-------------+------------+----------+-------------------------+------+-------------------+---------------+---------------+-----------+--------------+---------+--------------+-----------------+------------+----------+--------+--------------+------------+----------+-------------+------------------+-------------------+----------------------------+-----------------+-----------------+--------------------+--------------------+--------------+---------------+---------+-----------------------+-------------+-----+------------+-----------------+--------------+----------------+------------+-----------+--------------------+------------------+--------------------+-------+------------+------------+------------+--------------+-----------------+------------+-----------------+---------+------------+------------+-------------+-----------+-----------+-------------------+---------------+--------------+----------------+------------+---------------+----------+----------------+-----------+-------------+---------------------+-------------+-----------+----------+\n",
            "|           A-Bomb|  0|  Male|   yellow|            Human|   No Hair| 203.0|    Marvel Comics|         -|     good| 441.0|  false|               true|             false|                false|          false|      true|  false|            false| false|       false|               false|       false|         false|             false|            false|     true|       false|          true|      false|    false|       false|        false|      false|        false|          false|   true|        false|        false|    false|   false|      false|     false|                 false|              false|         false|                 false|      false|        false|          false|      false|       false|false|       false|false|       false|             false|      false|        false|               false|      false|      true|          false|  false|            false|               false|       false|     false|    false|          false|   false|          false|            false|       false|           true|       false|  false|          false|            false|         false|     false|              false|                       false|               false|                false|        false|    false|       false|       false|          false|           false|           false|     false|   false|       false|         false|        false|        false|         false|                 false|          false|     false|  false|     false|     false|                   false|          false|       false|        false|       false|     false|                    false| false|              false|          false|          false|      false|         false|    false|         false|            false|       false|     false|   false|         false|       false|     false|        false|             false|              false|                       false|            false|            false|               false|               false|         false|          false|    false|                  false|        false|false|       false|            false|         false|           false|       false|      false|               false|             false|               false|  false|       false|       false|       false|         false|            false|       false|            false|    false|       false|       false|        false|      false|      false|              false|          false|         false|           false|       false|          false|     false|           false|      false|        false|                false|        false|      false|     false|\n",
            "|       Abe Sapien|  1|  Male|     blue|    Icthyo Sapien|   No Hair| 191.0|Dark Horse Comics|      blue|     good|  65.0|   true|               true|             false|                false|           true|      true|  false|            false| false|       false|                true|        true|          true|             false|            false|     true|        true|          true|      false|     true|       false|        false|      false|        false|          false|   true|        false|        false|    false|   false|      false|     false|                 false|              false|         false|                 false|      false|        false|          false|      false|       false|false|       false|false|       false|             false|      false|        false|               false|       true|     false|          false|  false|            false|               false|       false|     false|    false|          false|    true|          false|            false|       false|          false|       false|  false|          false|            false|         false|     false|              false|                       false|               false|                false|        false|    false|       false|       false|          false|           false|           false|     false|   false|       false|         false|        false|        false|          true|                 false|          false|     false|  false|     false|     false|                   false|          false|       false|        false|       false|     false|                    false| false|              false|          false|          false|      false|         false|    false|         false|            false|       false|     false|   false|         false|       false|     false|        false|             false|              false|                       false|            false|            false|               false|               false|         false|          false|    false|                  false|        false|false|       false|            false|         false|           false|       false|       true|               false|             false|               false|  false|       false|       false|       false|         false|            false|       false|            false|    false|       false|       false|        false|      false|      false|              false|          false|         false|           false|       false|          false|     false|           false|      false|        false|                false|        false|      false|     false|\n",
            "|         Abin Sur|  2|  Male|     blue|          Ungaran|   No Hair| 185.0|        DC Comics|       red|     good|  90.0|  false|              false|              true|                false|          false|     false|  false|            false| false|       false|               false|       false|         false|             false|            false|    false|       false|         false|      false|    false|       false|        false|      false|        false|          false|  false|        false|        false|    false|   false|      false|     false|                 false|              false|         false|                 false|      false|        false|          false|      false|       false|false|       false|false|       false|             false|      false|        false|               false|      false|     false|          false|  false|            false|               false|       false|     false|    false|          false|   false|          false|            false|       false|          false|       false|  false|          false|            false|         false|     false|              false|                       false|               false|                false|        false|    false|       false|       false|          false|           false|           false|     false|   false|       false|         false|        false|        false|         false|                 false|          false|     false|  false|     false|     false|                   false|          false|       false|        false|       false|     false|                    false| false|              false|          false|          false|      false|         false|    false|         false|            false|       false|     false|   false|         false|       false|     false|        false|             false|              false|                       false|            false|            false|               false|               false|         false|          false|    false|                  false|        false|false|       false|            false|         false|           false|       false|      false|               false|             false|               false|  false|       false|       false|       false|         false|            false|       false|            false|    false|       false|       false|        false|      false|      false|              false|          false|         false|           false|       false|          false|     false|           false|      false|        false|                false|        false|      false|     false|\n",
            "|      Abomination|  3|  Male|    green|Human / Radiation|   No Hair| 203.0|    Marvel Comics|         -|      bad| 441.0|  false|               true|             false|                false|          false|     false|  false|            false| false|       false|               false|       false|         false|             false|            false|    false|        true|          true|      false|    false|       false|        false|      false|        false|          false|   true|        false|        false|    false|   false|       true|     false|                 false|              false|         false|                 false|      false|        false|          false|      false|       false|false|       false|false|       false|             false|      false|        false|               false|      false|     false|          false|  false|            false|               false|       false|     false|    false|          false|   false|           true|            false|       false|          false|       false|  false|          false|            false|         false|     false|              false|                       false|               false|                false|        false|     true|       false|       false|          false|           false|           false|     false|   false|       false|         false|        false|        false|         false|                 false|          false|     false|  false|     false|     false|                   false|          false|       false|        false|       false|     false|                    false| false|              false|          false|          false|      false|         false|    false|         false|            false|       false|     false|   false|         false|       false|     false|        false|             false|              false|                       false|            false|            false|               false|               false|         false|          false|    false|                  false|        false|false|       false|            false|         false|           false|       false|      false|               false|             false|               false|  false|       false|        true|       false|         false|            false|       false|            false|    false|       false|       false|        false|      false|      false|              false|          false|         false|           false|       false|          false|     false|           false|      false|        false|                false|        false|      false|     false|\n",
            "|          Abraxas|  4|  Male|     blue|    Cosmic Entity|     Black| -99.0|    Marvel Comics|         -|      bad| -99.0|  false|              false|             false|                 true|          false|     false|  false|            false|  true|       false|               false|       false|         false|             false|            false|    false|        true|          true|      false|    false|       false|        false|      false|         true|          false|  false|        false|        false|    false|   false|       true|     false|                 false|              false|         false|                 false|      false|         true|          false|      false|       false| true|       false|false|       false|              true|      false|        false|               false|       true|     false|          false|  false|            false|               false|       false|     false|    false|          false|   false|           true|            false|       false|          false|       false|  false|          false|            false|         false|     false|              false|                       false|               false|                false|        false|    false|       false|       false|          false|           false|           false|     false|   false|       false|         false|        false|        false|         false|                  true|          false|     false|  false|     false|     false|                   false|          false|       false|        false|       false|     false|                    false| false|               true|          false|          false|      false|         false|    false|         false|            false|       false|     false|   false|         false|        true|     false|        false|             false|              false|                       false|            false|            false|               false|               false|         false|          false|    false|                  false|        false|false|       false|            false|         false|           false|       false|      false|               false|             false|               false|  false|       false|       false|       false|         false|            false|       false|            false|    false|       false|       false|        false|      false|      false|              false|          false|         false|           false|       false|          false|     false|           false|      false|        false|                false|        false|      false|     false|\n",
            "|    Absorbing Man|  5|  Male|     blue|            Human|   No Hair| 193.0|    Marvel Comics|         -|      bad| 122.0|  false|              false|             false|                false|           true|      true|  false|             true| false|       false|               false|       false|         false|             false|            false|    false|       false|          true|      false|    false|       false|        false|      false|        false|          false|  false|        false|        false|    false|   false|      false|     false|                 false|              false|         false|                 false|      false|        false|          false|      false|       false|false|       false|false|       false|             false|      false|        false|               false|      false|     false|          false|  false|            false|               false|       false|     false|    false|          false|   false|           true|            false|       false|          false|       false|  false|          false|            false|         false|     false|              false|                        true|               false|                false|        false|    false|       false|       false|           true|           false|           false|     false|   false|       false|         false|         true|        false|         false|                  true|          false|     false|  false|     false|     false|                   false|          false|       false|        false|       false|     false|                    false| false|              false|           true|          false|      false|         false|    false|         false|            false|       false|     false|   false|         false|       false|     false|        false|             false|              false|                       false|            false|            false|               false|               false|         false|          false|    false|                  false|        false|false|       false|            false|         false|           false|       false|      false|               false|             false|               false|  false|       false|       false|       false|         false|            false|       false|             true|    false|       false|       false|        false|      false|      false|              false|          false|         false|           false|       false|          false|     false|           false|      false|        false|                false|        false|      false|     false|\n",
            "|      Adam Monroe|  6|  Male|     blue|                -|     Blond| -99.0|     NBC - Heroes|         -|     good| -99.0|  false|               true|             false|                false|          false|     false|  false|            false| false|       false|               false|       false|         false|             false|            false|    false|       false|         false|      false|    false|       false|        false|      false|        false|          false|  false|        false|        false|    false|   false|      false|     false|                 false|              false|         false|                 false|      false|        false|          false|      false|       false|false|       false|false|       false|             false|      false|        false|               false|       true|     false|          false|  false|            false|               false|       false|     false|    false|          false|   false|          false|            false|       false|          false|       false|  false|          false|            false|         false|     false|              false|                       false|               false|                false|        false|    false|       false|       false|          false|           false|           false|     false|   false|       false|         false|        false|        false|         false|                 false|          false|     false|  false|     false|     false|                   false|          false|        true|        false|       false|     false|                    false| false|              false|          false|          false|      false|         false|    false|         false|            false|       false|     false|   false|         false|       false|     false|        false|             false|              false|                       false|            false|            false|               false|               false|         false|          false|    false|                  false|        false|false|       false|            false|         false|           false|       false|      false|               false|             false|               false|  false|       false|       false|       false|         false|            false|       false|            false|    false|       false|       false|        false|      false|      false|              false|          false|         false|           false|       false|          false|     false|           false|      false|        false|                false|        false|      false|     false|\n",
            "|     Adam Strange|  7|  Male|     blue|            Human|     Blond| 185.0|        DC Comics|         -|     good|  88.0|  false|              false|             false|                false|          false|      true|   true|            false|  true|       false|               false|        true|          true|             false|            false|    false|        true|         false|      false|    false|       false|        false|      false|        false|          false|  false|        false|        false|    false|   false|       true|     false|                 false|              false|         false|                 false|      false|        false|          false|      false|       false|false|       false|false|       false|             false|      false|        false|               false|      false|     false|          false|  false|            false|               false|       false|     false|    false|          false|   false|          false|            false|       false|          false|       false|  false|          false|            false|         false|     false|              false|                       false|               false|                false|        false|    false|       false|       false|           true|           false|           false|     false|   false|       false|         false|        false|        false|          true|                 false|          false|     false|  false|      true|     false|                   false|          false|       false|        false|       false|     false|                    false| false|              false|          false|          false|      false|         false|    false|         false|            false|       false|     false|   false|         false|       false|     false|        false|             false|              false|                       false|            false|            false|               false|               false|         false|          false|    false|                  false|        false|false|       false|            false|         false|           false|       false|      false|               false|             false|               false|  false|       false|       false|       false|         false|            false|       false|            false|    false|       false|       false|        false|      false|      false|              false|          false|         false|           false|       false|          false|     false|           false|      false|        false|                false|        false|      false|     false|\n",
            "|         Agent 13|  8|Female|     blue|                -|     Blond| 173.0|    Marvel Comics|         -|     good|  61.0|   null|               null|              null|                 null|           null|      null|   null|             null|  null|        null|                null|        null|          null|              null|             null|     null|        null|          null|       null|     null|        null|         null|       null|         null|           null|   null|         null|         null|     null|    null|       null|      null|                  null|               null|          null|                  null|       null|         null|           null|       null|        null| null|        null| null|        null|              null|       null|         null|                null|       null|      null|           null|   null|             null|                null|        null|      null|     null|           null|    null|           null|             null|        null|           null|        null|   null|           null|             null|          null|      null|               null|                        null|                null|                 null|         null|     null|        null|        null|           null|            null|            null|      null|    null|        null|          null|         null|         null|          null|                  null|           null|      null|   null|      null|      null|                    null|           null|        null|         null|        null|      null|                     null|  null|               null|           null|           null|       null|          null|     null|          null|             null|        null|      null|    null|          null|        null|      null|         null|              null|               null|                        null|             null|             null|                null|                null|          null|           null|     null|                   null|         null| null|        null|             null|          null|            null|        null|       null|                null|              null|                null|   null|        null|        null|        null|          null|             null|        null|             null|     null|        null|        null|         null|       null|       null|               null|           null|          null|            null|        null|           null|      null|            null|       null|         null|                 null|         null|       null|      null|\n",
            "|        Agent Bob|  9|  Male|    brown|            Human|     Brown| 178.0|    Marvel Comics|         -|     good|  81.0|  false|              false|             false|                false|          false|     false|   true|            false| false|       false|               false|       false|         false|             false|            false|    false|       false|         false|      false|    false|       false|        false|      false|        false|          false|  false|        false|        false|    false|   false|      false|     false|                 false|              false|         false|                 false|      false|        false|          false|      false|       false|false|       false|false|       false|             false|      false|        false|               false|      false|     false|          false|  false|            false|               false|       false|     false|    false|          false|   false|          false|            false|       false|          false|       false|  false|          false|            false|         false|     false|              false|                       false|               false|                false|        false|    false|       false|       false|          false|           false|           false|     false|   false|       false|         false|        false|        false|         false|                 false|          false|     false|  false|     false|     false|                   false|          false|       false|        false|       false|     false|                    false| false|              false|          false|          false|      false|         false|    false|         false|            false|       false|     false|   false|         false|       false|     false|        false|             false|              false|                       false|            false|            false|               false|               false|         false|          false|    false|                  false|        false|false|       false|            false|         false|           false|       false|      false|               false|             false|               false|  false|       false|       false|       false|         false|            false|       false|            false|    false|       false|       false|        false|      false|      false|              false|          false|         false|           false|       false|          false|     false|           false|      false|        false|                false|        false|      false|     false|\n",
            "|       Agent Zero| 10|  Male|        -|                -|         -| 191.0|    Marvel Comics|         -|     good| 104.0|  false|              false|             false|                false|          false|     false|  false|             true| false|       false|               false|       false|         false|             false|            false|     true|       false|          true|      false|    false|       false|         true|      false|        false|          false|  false|        false|        false|    false|   false|      false|     false|                 false|              false|         false|                 false|      false|        false|          false|      false|        true|false|       false|false|       false|             false|      false|        false|               false|      false|     false|          false|  false|            false|               false|       false|     false|    false|          false|   false|          false|            false|       false|          false|       false|  false|          false|            false|         false|     false|              false|                       false|               false|                false|        false|    false|       false|       false|          false|           false|           false|     false|   false|       false|         false|        false|        false|         false|                 false|          false|     false|  false|      true|     false|                   false|          false|       false|        false|       false|     false|                    false| false|              false|          false|          false|      false|         false|    false|         false|            false|       false|     false|   false|         false|       false|     false|        false|             false|              false|                       false|            false|            false|               false|               false|         false|          false|    false|                  false|        false|false|       false|            false|         false|           false|       false|      false|               false|             false|               false|  false|       false|       false|       false|         false|            false|       false|            false|    false|       false|       false|        false|      false|      false|              false|          false|         false|           false|       false|          false|     false|           false|      false|        false|                false|        false|      false|     false|\n",
            "|       Air-Walker| 11|  Male|     blue|                -|     White| 188.0|    Marvel Comics|         -|      bad| 108.0|  false|              false|             false|                false|          false|     false|  false|            false|  true|       false|               false|       false|         false|             false|            false|    false|       false|          true|      false|    false|       false|        false|      false|        false|          false|  false|        false|        false|    false|   false|       true|     false|                 false|              false|         false|                 false|      false|        false|          false|      false|       false|false|       false|false|       false|             false|      false|        false|               false|      false|     false|          false|  false|            false|               false|       false|     false|    false|          false|   false|          false|            false|       false|           true|       false|  false|          false|            false|         false|     false|              false|                       false|               false|                false|        false|    false|       false|       false|          false|           false|           false|     false|   false|       false|         false|        false|        false|         false|                  true|          false|     false|  false|     false|     false|                   false|          false|       false|        false|       false|     false|                    false| false|              false|          false|          false|      false|         false|    false|         false|            false|       false|     false|   false|         false|        true|     false|        false|             false|              false|                       false|            false|            false|               false|               false|         false|          false|    false|                  false|        false|false|       false|            false|         false|           false|       false|      false|               false|             false|               false|  false|       false|       false|       false|         false|            false|       false|            false|    false|       false|       false|        false|      false|      false|              false|          false|         false|           false|       false|          false|     false|           false|      false|        false|                false|        false|      false|     false|\n",
            "|             Ajax| 12|  Male|    brown|           Cyborg|     Black| 193.0|    Marvel Comics|         -|      bad|  90.0|   true|              false|             false|                false|          false|     false|  false|            false| false|       false|               false|       false|         false|             false|            false|    false|       false|          true|      false|    false|       false|        false|      false|        false|          false|  false|        false|        false|    false|   false|       true|     false|                 false|              false|         false|                 false|      false|        false|          false|      false|       false|false|       false|false|       false|             false|      false|        false|               false|      false|     false|          false|  false|            false|               false|       false|     false|    false|          false|   false|          false|            false|       false|          false|       false|  false|          false|            false|         false|     false|              false|                       false|               false|                false|        false|    false|       false|       false|          false|           false|           false|     false|   false|       false|         false|        false|        false|         false|                 false|           true|     false|  false|      true|     false|                   false|          false|       false|        false|       false|     false|                    false| false|              false|          false|          false|      false|         false|    false|         false|            false|       false|     false|   false|         false|       false|     false|        false|             false|              false|                       false|            false|            false|               false|               false|         false|          false|    false|                  false|        false|false|       false|            false|         false|           false|       false|      false|               false|             false|               false|  false|       false|       false|       false|         false|            false|       false|            false|    false|       false|       false|        false|      false|      false|              false|          false|         false|           false|       false|          false|     false|           false|      false|        false|                false|        false|      false|     false|\n",
            "|       Alan Scott| 13|  Male|     blue|                -|     Blond| 180.0|        DC Comics|         -|     good|  90.0|  false|              false|             false|                false|          false|     false|  false|            false|  true|        true|               false|       false|         false|             false|            false|    false|        true|         false|      false|     true|       false|         true|      false|        false|          false|  false|        false|        false|    false|   false|       true|     false|                 false|              false|         false|                 false|      false|         true|          false|      false|        true|false|       false|false|       false|             false|      false|        false|               false|      false|     false|          false|   true|            false|               false|       false|     false|    false|          false|   false|          false|            false|        true|          false|       false|  false|          false|            false|         false|     false|              false|                       false|               false|                false|        false|    false|       false|       false|          false|           false|           false|     false|   false|        true|         false|        false|        false|         false|                 false|          false|     false|  false|     false|     false|                   false|          false|       false|        false|       false|     false|                    false| false|               true|          false|          false|      false|         false|    false|         false|            false|       false|     false|   false|         false|       false|     false|        false|             false|              false|                       false|            false|            false|               false|               false|         false|          false|    false|                  false|        false|false|       false|            false|         false|           false|        true|      false|               false|             false|               false|  false|       false|       false|       false|         false|            false|       false|            false|    false|       false|       false|        false|      false|      false|              false|          false|         false|           false|       false|          false|     false|           false|      false|        false|                false|        false|      false|     false|\n",
            "|      Alex Mercer| 14|  Male|        -|            Human|         -| -99.0|        Wildstorm|         -|      bad| -99.0|   true|               true|             false|                false|          false|     false|   true|             true| false|        true|               false|        true|          true|             false|            false|     true|       false|          true|      false|    false|       false|         true|      false|        false|          false|   true|        false|        false|    false|   false|       true|     false|                 false|              false|         false|                 false|      false|        false|           true|      false|       false|false|       false| true|       false|             false|      false|         true|               false|       true|     false|          false|  false|            false|               false|       false|     false|    false|          false|   false|           true|            false|       false|          false|       false|  false|          false|            false|         false|      true|               true|                       false|               false|                false|        false|    false|       false|       false|          false|           false|            true|     false|   false|       false|         false|         true|        false|         false|                 false|          false|      true|   true|     false|     false|                   false|          false|       false|        false|       false|     false|                    false| false|              false|          false|           true|      false|         false|    false|         false|            false|       false|     false|   false|         false|       false|     false|        false|             false|              false|                       false|            false|            false|               false|               false|         false|          false|    false|                  false|        false|false|       false|            false|         false|           false|       false|      false|               false|             false|               false|  false|       false|       false|        true|         false|            false|       false|             true|    false|       false|       false|        false|      false|      false|              false|          false|         false|            true|       false|          false|     false|           false|      false|        false|                false|        false|      false|     false|\n",
            "|     Alex Woolsly| 15|  Male|        -|                -|         -| -99.0|     NBC - Heroes|         -|     good| -99.0|  false|              false|             false|                false|          false|     false|  false|            false| false|       false|                true|       false|         false|             false|            false|    false|       false|         false|      false|    false|       false|        false|      false|        false|          false|  false|        false|        false|    false|   false|      false|     false|                 false|              false|         false|                 false|      false|        false|          false|      false|       false|false|       false|false|       false|             false|      false|        false|               false|      false|     false|          false|  false|            false|               false|       false|     false|    false|          false|   false|          false|            false|       false|          false|       false|  false|          false|            false|         false|     false|              false|                       false|               false|                false|        false|    false|       false|       false|          false|           false|           false|     false|   false|       false|         false|        false|        false|         false|                 false|          false|     false|  false|     false|     false|                   false|          false|       false|        false|       false|     false|                    false| false|              false|          false|          false|      false|         false|    false|         false|            false|       false|     false|   false|         false|       false|     false|        false|             false|              false|                       false|            false|            false|               false|               false|         false|          false|    false|                  false|        false|false|       false|            false|         false|           false|       false|      false|               false|             false|               false|  false|       false|       false|       false|         false|            false|       false|            false|    false|       false|       false|        false|      false|      false|              false|          false|         false|           false|       false|          false|     false|           false|      false|        false|                false|        false|      false|     false|\n",
            "|Alfred Pennyworth| 16|  Male|     blue|            Human|     Black| 178.0|        DC Comics|         -|     good|  72.0|   null|               null|              null|                 null|           null|      null|   null|             null|  null|        null|                null|        null|          null|              null|             null|     null|        null|          null|       null|     null|        null|         null|       null|         null|           null|   null|         null|         null|     null|    null|       null|      null|                  null|               null|          null|                  null|       null|         null|           null|       null|        null| null|        null| null|        null|              null|       null|         null|                null|       null|      null|           null|   null|             null|                null|        null|      null|     null|           null|    null|           null|             null|        null|           null|        null|   null|           null|             null|          null|      null|               null|                        null|                null|                 null|         null|     null|        null|        null|           null|            null|            null|      null|    null|        null|          null|         null|         null|          null|                  null|           null|      null|   null|      null|      null|                    null|           null|        null|         null|        null|      null|                     null|  null|               null|           null|           null|       null|          null|     null|          null|             null|        null|      null|    null|          null|        null|      null|         null|              null|               null|                        null|             null|             null|                null|                null|          null|           null|     null|                   null|         null| null|        null|             null|          null|            null|        null|       null|                null|              null|                null|   null|        null|        null|        null|          null|             null|        null|             null|     null|        null|        null|         null|       null|       null|               null|           null|          null|            null|        null|           null|      null|            null|       null|         null|                 null|         null|       null|      null|\n",
            "|            Alien| 17|  Male|        -|  Xenomorph XX121|   No Hair| 244.0|Dark Horse Comics|     black|      bad| 169.0|   true|              false|             false|                false|           true|      true|   true|            false| false|       false|               false|       false|         false|             false|            false|    false|       false|          true|      false|    false|       false|        false|      false|        false|          false|  false|        false|        false|    false|   false|       true|     false|                 false|              false|         false|                 false|      false|        false|           true|      false|       false|false|       false| true|       false|             false|      false|        false|               false|      false|     false|          false|  false|            false|               false|       false|     false|    false|          false|   false|          false|            false|       false|          false|       false|  false|          false|            false|         false|     false|               true|                       false|               false|                false|        false|    false|       false|       false|          false|           false|           false|     false|   false|       false|         false|         true|        false|         false|                 false|          false|     false|  false|     false|     false|                   false|          false|       false|        false|       false|     false|                    false| false|              false|           true|           true|      false|         false|    false|         false|            false|       false|     false|   false|         false|       false|     false|        false|             false|              false|                       false|            false|            false|               false|               false|         false|          false|    false|                  false|        false|false|       false|            false|         false|           false|       false|      false|               false|             false|               false|  false|       false|       false|        true|         false|            false|       false|            false|    false|       false|       false|        false|      false|      false|              false|          false|         false|            true|       false|          false|     false|           false|      false|        false|                false|        false|      false|     false|\n",
            "| Allan Quatermain| 18|  Male|        -|                -|         -| -99.0|        Wildstorm|         -|     good| -99.0|  false|              false|             false|                false|          false|     false|  false|            false| false|       false|               false|        true|         false|             false|            false|    false|       false|         false|      false|    false|       false|        false|      false|        false|          false|  false|        false|        false|    false|   false|      false|     false|                 false|              false|         false|                 false|      false|        false|          false|      false|       false|false|       false|false|       false|             false|      false|        false|               false|      false|     false|          false|  false|            false|               false|       false|     false|    false|          false|   false|          false|            false|       false|          false|       false|  false|          false|            false|         false|     false|              false|                       false|               false|                false|        false|    false|       false|       false|          false|           false|           false|     false|   false|       false|         false|        false|        false|         false|                 false|          false|     false|  false|     false|     false|                   false|          false|       false|        false|       false|     false|                    false| false|              false|          false|          false|      false|         false|    false|         false|            false|       false|     false|   false|         false|       false|     false|        false|             false|              false|                       false|            false|            false|               false|               false|         false|          false|    false|                  false|        false|false|       false|            false|         false|           false|       false|      false|               false|             false|               false|  false|       false|       false|       false|         false|            false|       false|            false|    false|       false|       false|        false|      false|      false|              false|          false|         false|           false|       false|          false|     false|           false|      false|        false|                false|        false|      false|     false|\n",
            "|            Amazo| 19|  Male|      red|          Android|         -| 257.0|        DC Comics|         -|      bad| 173.0|   true|              false|              true|                false|          false|      true|  false|            false|  true|       false|                true|        true|         false|              true|            false|     true|        true|          true|       true|     true|       false|         true|       true|         true|          false|   true|        false|        false|    false|   false|       true|     false|                 false|               true|         false|                 false|      false|         true|           true|      false|       false|false|       false| true|       false|             false|      false|         true|               false|      false|      true|          false|   true|            false|               false|        true|     false|    false|           true|    true|           true|             true|        true|          false|       false|  false|          false|            false|         false|     false|              false|                       false|               false|                false|        false|    false|       false|       false|          false|            true|            true|     false|   false|       false|         false|        false|        false|         false|                 false|          false|     false|  false|     false|     false|                   false|          false|       false|        false|       false|     false|                    false| false|              false|          false|          false|       true|          true|    false|         false|            false|       false|     false|   false|         false|       false|     false|         true|             false|               true|                       false|            false|            false|               false|               false|         false|          false|     true|                  false|        false|false|       false|            false|         false|           false|        true|      false|               false|             false|                true|  false|       false|        true|       false|          true|            false|       false|            false|    false|       false|       false|         true|      false|      false|              false|          false|          true|            true|       false|          false|     false|           false|      false|        false|                false|        false|      false|     false|\n",
            "+-----------------+---+------+---------+-----------------+----------+------+-----------------+----------+---------+------+-------+-------------------+------------------+---------------------+---------------+----------+-------+-----------------+------+------------+--------------------+------------+--------------+------------------+-----------------+---------+------------+--------------+-----------+---------+------------+-------------+-----------+-------------+---------------+-------+-------------+-------------+---------+--------+-----------+----------+----------------------+-------------------+--------------+----------------------+-----------+-------------+---------------+-----------+------------+-----+------------+-----+------------+------------------+-----------+-------------+--------------------+-----------+----------+---------------+-------+-----------------+--------------------+------------+----------+---------+---------------+--------+---------------+-----------------+------------+---------------+------------+-------+---------------+-----------------+--------------+----------+-------------------+----------------------------+--------------------+---------------------+-------------+---------+------------+------------+---------------+----------------+----------------+----------+--------+------------+--------------+-------------+-------------+--------------+----------------------+---------------+----------+-------+----------+----------+------------------------+---------------+------------+-------------+------------+----------+-------------------------+------+-------------------+---------------+---------------+-----------+--------------+---------+--------------+-----------------+------------+----------+--------+--------------+------------+----------+-------------+------------------+-------------------+----------------------------+-----------------+-----------------+--------------------+--------------------+--------------+---------------+---------+-----------------------+-------------+-----+------------+-----------------+--------------+----------------+------------+-----------+--------------------+------------------+--------------------+-------+------------+------------+------------+--------------+-----------------+------------+-----------------+---------+------------+------------+-------------+-----------+-----------+-------------------+---------------+--------------+----------------+------------+---------------+----------+----------------+-----------+-------------+---------------------+-------------+-----------+----------+\n",
            "only showing top 20 rows\n",
            "\n"
          ]
        }
      ]
    },
    {
      "cell_type": "markdown",
      "metadata": {
        "id": "EXaHFl9_gXfx"
      },
      "source": [
        "# Basic Transformation"
      ]
    },
    {
      "cell_type": "markdown",
      "metadata": {
        "id": "8eND1Kk-H7R-"
      },
      "source": [
        "## New conditional column"
      ]
    },
    {
      "cell_type": "markdown",
      "metadata": {
        "id": "Bs0LUgeYIJjN"
      },
      "source": [
        "Due to WORM (write once read many) so normally we will not alter df, we would add with new column"
      ]
    },
    {
      "cell_type": "code",
      "metadata": {
        "id": "HR28Jg5TH6mP",
        "colab": {
          "base_uri": "https://localhost:8080/"
        },
        "outputId": "fd813266-ac20-4d9f-bac2-3273bb07220b"
      },
      "source": [
        "from pyspark.sql.functions import col, expr, when\n",
        "\n",
        "new_column = F.when(col(\"Race\")==\"-\",\"null\").otherwise(col(\"Race\"))\n",
        "\n",
        "df_test_nc = df_hero_indi.withColumn(\"clean_Race\",new_column)\n",
        "df_test_nc.show()"
      ],
      "execution_count": 32,
      "outputs": [
        {
          "output_type": "stream",
          "name": "stdout",
          "text": [
            "+---+-----------------+------+---------+-----------------+----------+------+-----------------+----------+---------+------+-----------------+\n",
            "|_c0|             name|Gender|Eye color|             Race|Hair color|Height|        Publisher|Skin color|Alignment|Weight|       clean_Race|\n",
            "+---+-----------------+------+---------+-----------------+----------+------+-----------------+----------+---------+------+-----------------+\n",
            "|  0|           A-Bomb|  Male|   yellow|            Human|   No Hair| 203.0|    Marvel Comics|         -|     good| 441.0|            Human|\n",
            "|  1|       Abe Sapien|  Male|     blue|    Icthyo Sapien|   No Hair| 191.0|Dark Horse Comics|      blue|     good|  65.0|    Icthyo Sapien|\n",
            "|  2|         Abin Sur|  Male|     blue|          Ungaran|   No Hair| 185.0|        DC Comics|       red|     good|  90.0|          Ungaran|\n",
            "|  3|      Abomination|  Male|    green|Human / Radiation|   No Hair| 203.0|    Marvel Comics|         -|      bad| 441.0|Human / Radiation|\n",
            "|  4|          Abraxas|  Male|     blue|    Cosmic Entity|     Black| -99.0|    Marvel Comics|         -|      bad| -99.0|    Cosmic Entity|\n",
            "|  5|    Absorbing Man|  Male|     blue|            Human|   No Hair| 193.0|    Marvel Comics|         -|      bad| 122.0|            Human|\n",
            "|  6|      Adam Monroe|  Male|     blue|                -|     Blond| -99.0|     NBC - Heroes|         -|     good| -99.0|             null|\n",
            "|  7|     Adam Strange|  Male|     blue|            Human|     Blond| 185.0|        DC Comics|         -|     good|  88.0|            Human|\n",
            "|  8|         Agent 13|Female|     blue|                -|     Blond| 173.0|    Marvel Comics|         -|     good|  61.0|             null|\n",
            "|  9|        Agent Bob|  Male|    brown|            Human|     Brown| 178.0|    Marvel Comics|         -|     good|  81.0|            Human|\n",
            "| 10|       Agent Zero|  Male|        -|                -|         -| 191.0|    Marvel Comics|         -|     good| 104.0|             null|\n",
            "| 11|       Air-Walker|  Male|     blue|                -|     White| 188.0|    Marvel Comics|         -|      bad| 108.0|             null|\n",
            "| 12|             Ajax|  Male|    brown|           Cyborg|     Black| 193.0|    Marvel Comics|         -|      bad|  90.0|           Cyborg|\n",
            "| 13|       Alan Scott|  Male|     blue|                -|     Blond| 180.0|        DC Comics|         -|     good|  90.0|             null|\n",
            "| 14|      Alex Mercer|  Male|        -|            Human|         -| -99.0|        Wildstorm|         -|      bad| -99.0|            Human|\n",
            "| 15|     Alex Woolsly|  Male|        -|                -|         -| -99.0|     NBC - Heroes|         -|     good| -99.0|             null|\n",
            "| 16|Alfred Pennyworth|  Male|     blue|            Human|     Black| 178.0|        DC Comics|         -|     good|  72.0|            Human|\n",
            "| 17|            Alien|  Male|        -|  Xenomorph XX121|   No Hair| 244.0|Dark Horse Comics|     black|      bad| 169.0|  Xenomorph XX121|\n",
            "| 18| Allan Quatermain|  Male|        -|                -|         -| -99.0|        Wildstorm|         -|     good| -99.0|             null|\n",
            "| 19|            Amazo|  Male|      red|          Android|         -| 257.0|        DC Comics|         -|      bad| 173.0|          Android|\n",
            "+---+-----------------+------+---------+-----------------+----------+------+-----------------+----------+---------+------+-----------------+\n",
            "only showing top 20 rows\n",
            "\n"
          ]
        }
      ]
    },
    {
      "cell_type": "markdown",
      "metadata": {
        "id": "uiNUq462QN-H"
      },
      "source": [
        "Apply same concept to clean null"
      ]
    },
    {
      "cell_type": "code",
      "metadata": {
        "id": "JHMJlH-5QSEn",
        "colab": {
          "base_uri": "https://localhost:8080/"
        },
        "outputId": "817c2019-8aba-4f6d-8353-b0ecc09e162f"
      },
      "source": [
        "from pyspark.sql.functions import col, expr, when\n",
        "\n",
        "new_column = F.when(col(\"weight\").isNull(),-99).otherwise(col(\"weight\"))\n",
        "\n",
        "df_test_nc = df_hero_indi.withColumn(\"clean_weight1\",new_column)\n",
        "df_test_nc.show()"
      ],
      "execution_count": 33,
      "outputs": [
        {
          "output_type": "stream",
          "name": "stdout",
          "text": [
            "+---+-----------------+------+---------+-----------------+----------+------+-----------------+----------+---------+------+-------------+\n",
            "|_c0|             name|Gender|Eye color|             Race|Hair color|Height|        Publisher|Skin color|Alignment|Weight|clean_weight1|\n",
            "+---+-----------------+------+---------+-----------------+----------+------+-----------------+----------+---------+------+-------------+\n",
            "|  0|           A-Bomb|  Male|   yellow|            Human|   No Hair| 203.0|    Marvel Comics|         -|     good| 441.0|        441.0|\n",
            "|  1|       Abe Sapien|  Male|     blue|    Icthyo Sapien|   No Hair| 191.0|Dark Horse Comics|      blue|     good|  65.0|         65.0|\n",
            "|  2|         Abin Sur|  Male|     blue|          Ungaran|   No Hair| 185.0|        DC Comics|       red|     good|  90.0|         90.0|\n",
            "|  3|      Abomination|  Male|    green|Human / Radiation|   No Hair| 203.0|    Marvel Comics|         -|      bad| 441.0|        441.0|\n",
            "|  4|          Abraxas|  Male|     blue|    Cosmic Entity|     Black| -99.0|    Marvel Comics|         -|      bad| -99.0|        -99.0|\n",
            "|  5|    Absorbing Man|  Male|     blue|            Human|   No Hair| 193.0|    Marvel Comics|         -|      bad| 122.0|        122.0|\n",
            "|  6|      Adam Monroe|  Male|     blue|                -|     Blond| -99.0|     NBC - Heroes|         -|     good| -99.0|        -99.0|\n",
            "|  7|     Adam Strange|  Male|     blue|            Human|     Blond| 185.0|        DC Comics|         -|     good|  88.0|         88.0|\n",
            "|  8|         Agent 13|Female|     blue|                -|     Blond| 173.0|    Marvel Comics|         -|     good|  61.0|         61.0|\n",
            "|  9|        Agent Bob|  Male|    brown|            Human|     Brown| 178.0|    Marvel Comics|         -|     good|  81.0|         81.0|\n",
            "| 10|       Agent Zero|  Male|        -|                -|         -| 191.0|    Marvel Comics|         -|     good| 104.0|        104.0|\n",
            "| 11|       Air-Walker|  Male|     blue|                -|     White| 188.0|    Marvel Comics|         -|      bad| 108.0|        108.0|\n",
            "| 12|             Ajax|  Male|    brown|           Cyborg|     Black| 193.0|    Marvel Comics|         -|      bad|  90.0|         90.0|\n",
            "| 13|       Alan Scott|  Male|     blue|                -|     Blond| 180.0|        DC Comics|         -|     good|  90.0|         90.0|\n",
            "| 14|      Alex Mercer|  Male|        -|            Human|         -| -99.0|        Wildstorm|         -|      bad| -99.0|        -99.0|\n",
            "| 15|     Alex Woolsly|  Male|        -|                -|         -| -99.0|     NBC - Heroes|         -|     good| -99.0|        -99.0|\n",
            "| 16|Alfred Pennyworth|  Male|     blue|            Human|     Black| 178.0|        DC Comics|         -|     good|  72.0|         72.0|\n",
            "| 17|            Alien|  Male|        -|  Xenomorph XX121|   No Hair| 244.0|Dark Horse Comics|     black|      bad| 169.0|        169.0|\n",
            "| 18| Allan Quatermain|  Male|        -|                -|         -| -99.0|        Wildstorm|         -|     good| -99.0|        -99.0|\n",
            "| 19|            Amazo|  Male|      red|          Android|         -| 257.0|        DC Comics|         -|      bad| 173.0|        173.0|\n",
            "+---+-----------------+------+---------+-----------------+----------+------+-----------------+----------+---------+------+-------------+\n",
            "only showing top 20 rows\n",
            "\n"
          ]
        }
      ]
    },
    {
      "cell_type": "markdown",
      "metadata": {
        "id": "3Spu6hfogBFk"
      },
      "source": [
        "## UDF: User defined function(s)\n",
        "Spark does not support direct calculation to each cell values so there is some reway to do calculation, in distribution mode."
      ]
    },
    {
      "cell_type": "code",
      "metadata": {
        "id": "6uvdQiE1g-t0",
        "colab": {
          "base_uri": "https://localhost:8080/",
          "height": 479
        },
        "outputId": "34baac96-4d68-41af-9f12-f5ba31365d32"
      },
      "source": [
        "from pyspark.sql.types import *\n",
        "from pyspark.sql.functions import udf\n",
        "\n",
        "def lbs2kg(lbs):\n",
        "    return lbs*0.4536\n",
        "\n",
        "lbs2kg_udf = udf(lbs2kg, FloatType())\n",
        "df_test = df_hero_indi.withColumn('weight_in_kg',lbs2kg_udf(df_hero_indi[\"weight\"]))\n",
        "df_test.show()"
      ],
      "execution_count": null,
      "outputs": [
        {
          "output_type": "stream",
          "text": [
            "+---+-----------------+------+---------+-----------------+----------+------+-----------------+----------+---------+------+------------+\n",
            "|_c0|             name|Gender|Eye color|             Race|Hair color|Height|        Publisher|Skin color|Alignment|Weight|weight_in_kg|\n",
            "+---+-----------------+------+---------+-----------------+----------+------+-----------------+----------+---------+------+------------+\n",
            "|  0|           A-Bomb|  Male|   yellow|            Human|   No Hair| 203.0|    Marvel Comics|         -|     good| 441.0|    200.0376|\n",
            "|  1|       Abe Sapien|  Male|     blue|    Icthyo Sapien|   No Hair| 191.0|Dark Horse Comics|      blue|     good|  65.0|      29.484|\n",
            "|  2|         Abin Sur|  Male|     blue|          Ungaran|   No Hair| 185.0|        DC Comics|       red|     good|  90.0|      40.824|\n",
            "|  3|      Abomination|  Male|    green|Human / Radiation|   No Hair| 203.0|    Marvel Comics|         -|      bad| 441.0|    200.0376|\n",
            "|  4|          Abraxas|  Male|     blue|    Cosmic Entity|     Black| -99.0|    Marvel Comics|         -|      bad| -99.0|    -44.9064|\n",
            "|  5|    Absorbing Man|  Male|     blue|            Human|   No Hair| 193.0|    Marvel Comics|         -|      bad| 122.0|     55.3392|\n",
            "|  6|      Adam Monroe|  Male|     blue|                -|     Blond| -99.0|     NBC - Heroes|         -|     good| -99.0|    -44.9064|\n",
            "|  7|     Adam Strange|  Male|     blue|            Human|     Blond| 185.0|        DC Comics|         -|     good|  88.0|     39.9168|\n",
            "|  8|         Agent 13|Female|     blue|                -|     Blond| 173.0|    Marvel Comics|         -|     good|  61.0|     27.6696|\n",
            "|  9|        Agent Bob|  Male|    brown|            Human|     Brown| 178.0|    Marvel Comics|         -|     good|  81.0|     36.7416|\n",
            "| 10|       Agent Zero|  Male|        -|                -|         -| 191.0|    Marvel Comics|         -|     good| 104.0|     47.1744|\n",
            "| 11|       Air-Walker|  Male|     blue|                -|     White| 188.0|    Marvel Comics|         -|      bad| 108.0|     48.9888|\n",
            "| 12|             Ajax|  Male|    brown|           Cyborg|     Black| 193.0|    Marvel Comics|         -|      bad|  90.0|      40.824|\n",
            "| 13|       Alan Scott|  Male|     blue|                -|     Blond| 180.0|        DC Comics|         -|     good|  90.0|      40.824|\n",
            "| 14|      Alex Mercer|  Male|        -|            Human|         -| -99.0|        Wildstorm|         -|      bad| -99.0|    -44.9064|\n",
            "| 15|     Alex Woolsly|  Male|        -|                -|         -| -99.0|     NBC - Heroes|         -|     good| -99.0|    -44.9064|\n",
            "| 16|Alfred Pennyworth|  Male|     blue|            Human|     Black| 178.0|        DC Comics|         -|     good|  72.0|     32.6592|\n",
            "| 17|            Alien|  Male|        -|  Xenomorph XX121|   No Hair| 244.0|Dark Horse Comics|     black|      bad| 169.0|     76.6584|\n",
            "| 18| Allan Quatermain|  Male|        -|                -|         -| -99.0|        Wildstorm|         -|     good| -99.0|    -44.9064|\n",
            "| 19|            Amazo|  Male|      red|          Android|         -| 257.0|        DC Comics|         -|      bad| 173.0|     78.4728|\n",
            "+---+-----------------+------+---------+-----------------+----------+------+-----------------+----------+---------+------+------------+\n",
            "only showing top 20 rows\n",
            "\n"
          ],
          "name": "stdout"
        }
      ]
    },
    {
      "cell_type": "markdown",
      "metadata": {
        "id": "CCZJ0tqL8jp1"
      },
      "source": [
        "## Binarizer"
      ]
    },
    {
      "cell_type": "code",
      "metadata": {
        "id": "I4AsqBsw7acZ",
        "colab": {
          "base_uri": "https://localhost:8080/"
        },
        "outputId": "98c4c9c9-cbc1-47e8-9d62-b9758a60d98c"
      },
      "source": [
        "from pyspark.ml.feature import Binarizer\n",
        "\n",
        "binarizer = Binarizer(threshold=112.25, inputCol=\"Weight\", outputCol=\"binarized_weight\")\n",
        "binarizedDataFrame = binarizer.transform(df_hero_indi)\n",
        "binarizedDataFrame.show()"
      ],
      "execution_count": 34,
      "outputs": [
        {
          "output_type": "stream",
          "name": "stdout",
          "text": [
            "+---+-----------------+------+---------+-----------------+----------+------+-----------------+----------+---------+------+----------------+\n",
            "|_c0|             name|Gender|Eye color|             Race|Hair color|Height|        Publisher|Skin color|Alignment|Weight|binarized_weight|\n",
            "+---+-----------------+------+---------+-----------------+----------+------+-----------------+----------+---------+------+----------------+\n",
            "|  0|           A-Bomb|  Male|   yellow|            Human|   No Hair| 203.0|    Marvel Comics|         -|     good| 441.0|             1.0|\n",
            "|  1|       Abe Sapien|  Male|     blue|    Icthyo Sapien|   No Hair| 191.0|Dark Horse Comics|      blue|     good|  65.0|             0.0|\n",
            "|  2|         Abin Sur|  Male|     blue|          Ungaran|   No Hair| 185.0|        DC Comics|       red|     good|  90.0|             0.0|\n",
            "|  3|      Abomination|  Male|    green|Human / Radiation|   No Hair| 203.0|    Marvel Comics|         -|      bad| 441.0|             1.0|\n",
            "|  4|          Abraxas|  Male|     blue|    Cosmic Entity|     Black| -99.0|    Marvel Comics|         -|      bad| -99.0|             0.0|\n",
            "|  5|    Absorbing Man|  Male|     blue|            Human|   No Hair| 193.0|    Marvel Comics|         -|      bad| 122.0|             1.0|\n",
            "|  6|      Adam Monroe|  Male|     blue|                -|     Blond| -99.0|     NBC - Heroes|         -|     good| -99.0|             0.0|\n",
            "|  7|     Adam Strange|  Male|     blue|            Human|     Blond| 185.0|        DC Comics|         -|     good|  88.0|             0.0|\n",
            "|  8|         Agent 13|Female|     blue|                -|     Blond| 173.0|    Marvel Comics|         -|     good|  61.0|             0.0|\n",
            "|  9|        Agent Bob|  Male|    brown|            Human|     Brown| 178.0|    Marvel Comics|         -|     good|  81.0|             0.0|\n",
            "| 10|       Agent Zero|  Male|        -|                -|         -| 191.0|    Marvel Comics|         -|     good| 104.0|             0.0|\n",
            "| 11|       Air-Walker|  Male|     blue|                -|     White| 188.0|    Marvel Comics|         -|      bad| 108.0|             0.0|\n",
            "| 12|             Ajax|  Male|    brown|           Cyborg|     Black| 193.0|    Marvel Comics|         -|      bad|  90.0|             0.0|\n",
            "| 13|       Alan Scott|  Male|     blue|                -|     Blond| 180.0|        DC Comics|         -|     good|  90.0|             0.0|\n",
            "| 14|      Alex Mercer|  Male|        -|            Human|         -| -99.0|        Wildstorm|         -|      bad| -99.0|             0.0|\n",
            "| 15|     Alex Woolsly|  Male|        -|                -|         -| -99.0|     NBC - Heroes|         -|     good| -99.0|             0.0|\n",
            "| 16|Alfred Pennyworth|  Male|     blue|            Human|     Black| 178.0|        DC Comics|         -|     good|  72.0|             0.0|\n",
            "| 17|            Alien|  Male|        -|  Xenomorph XX121|   No Hair| 244.0|Dark Horse Comics|     black|      bad| 169.0|             1.0|\n",
            "| 18| Allan Quatermain|  Male|        -|                -|         -| -99.0|        Wildstorm|         -|     good| -99.0|             0.0|\n",
            "| 19|            Amazo|  Male|      red|          Android|         -| 257.0|        DC Comics|         -|      bad| 173.0|             1.0|\n",
            "+---+-----------------+------+---------+-----------------+----------+------+-----------------+----------+---------+------+----------------+\n",
            "only showing top 20 rows\n",
            "\n"
          ]
        }
      ]
    },
    {
      "cell_type": "markdown",
      "metadata": {
        "id": "fg-gTociizgU"
      },
      "source": [
        "## Quatile / Percentile"
      ]
    },
    {
      "cell_type": "code",
      "metadata": {
        "id": "4MA3-T4dkQu9",
        "colab": {
          "base_uri": "https://localhost:8080/"
        },
        "outputId": "3aad2449-0f0e-4b2c-bee5-b35b8b1178c9"
      },
      "source": [
        "bounds = {\n",
        "    c: dict(\n",
        "        zip([\"q1\", \"q3\"], df_hero_weight.approxQuantile(c, [0.25, 0.75], 0))\n",
        "    )\n",
        "    for c in df_hero_weight.columns\n",
        "}\n",
        "\n",
        "print(bounds)"
      ],
      "execution_count": 35,
      "outputs": [
        {
          "output_type": "stream",
          "name": "stdout",
          "text": [
            "{'weight': {'q1': 61.0, 'q3': 108.0}}\n"
          ]
        }
      ]
    },
    {
      "cell_type": "markdown",
      "metadata": {
        "id": "SYrDRiqeyE7e"
      },
      "source": [
        "Using quatile to check outlier"
      ]
    },
    {
      "cell_type": "code",
      "metadata": {
        "id": "xH-EbI5Xxrkm",
        "colab": {
          "base_uri": "https://localhost:8080/"
        },
        "outputId": "7077034f-689c-42e7-defa-1406b51e77b6"
      },
      "source": [
        "for c in bounds:\n",
        "    iqr = bounds[c]['q3'] - bounds[c]['q1']\n",
        "    bounds[c]['lower'] = bounds[c]['q1'] - (iqr * 1.5)\n",
        "    bounds[c]['upper'] = bounds[c]['q3'] + (iqr * 1.5)\n",
        "print(bounds)"
      ],
      "execution_count": 36,
      "outputs": [
        {
          "output_type": "stream",
          "name": "stdout",
          "text": [
            "{'weight': {'q1': 61.0, 'q3': 108.0, 'lower': -9.5, 'upper': 178.5}}\n"
          ]
        }
      ]
    },
    {
      "cell_type": "code",
      "metadata": {
        "id": "HwR6pRjExxXn",
        "colab": {
          "base_uri": "https://localhost:8080/"
        },
        "outputId": "ccb906f2-04fb-475a-942b-e286290de958"
      },
      "source": [
        "import pyspark.sql.functions as f\n",
        "df_hero_weight.select(\n",
        "    \"*\",\n",
        "    *[\n",
        "        f.when(\n",
        "            f.col(c).between(bounds[c]['lower'], bounds[c]['upper']),\n",
        "            0\n",
        "        ).otherwise(1).alias(c+\"_out\") \n",
        "        for c in df_hero_weight.columns\n",
        "    ]\n",
        ").show()"
      ],
      "execution_count": 37,
      "outputs": [
        {
          "output_type": "stream",
          "name": "stdout",
          "text": [
            "+------+----------+\n",
            "|weight|weight_out|\n",
            "+------+----------+\n",
            "| 441.0|         1|\n",
            "|  65.0|         0|\n",
            "|  90.0|         0|\n",
            "| 441.0|         1|\n",
            "| 122.0|         0|\n",
            "|  88.0|         0|\n",
            "|  61.0|         0|\n",
            "|  81.0|         0|\n",
            "| 104.0|         0|\n",
            "| 108.0|         0|\n",
            "|  90.0|         0|\n",
            "|  90.0|         0|\n",
            "|  72.0|         0|\n",
            "| 169.0|         0|\n",
            "| 173.0|         0|\n",
            "| 101.0|         0|\n",
            "|  68.0|         0|\n",
            "|  57.0|         0|\n",
            "|  54.0|         0|\n",
            "|  83.0|         0|\n",
            "+------+----------+\n",
            "only showing top 20 rows\n",
            "\n"
          ]
        }
      ]
    },
    {
      "cell_type": "markdown",
      "metadata": {
        "id": "r75YSs3A4oHP"
      },
      "source": [
        "Advanced solution for percentile / quatile"
      ]
    },
    {
      "cell_type": "code",
      "metadata": {
        "id": "36t2cq094tXv"
      },
      "source": [
        "from pyspark.sql import functions as F\n",
        "from pyspark.sql.types import DoubleType\n",
        "from pyspark.sql import DataFrameStatFunctions as statFunc\n",
        "import numpy as np\n",
        "\n",
        "from pyspark.sql import Column\n",
        "from pyspark.sql.window import Window\n",
        "from pyspark.sql.functions import *\n",
        "from pyspark.sql.types import *\n",
        "import ast\n",
        "\n",
        "\n",
        "class Discretize:\n",
        "    @staticmethod\n",
        "    def threshold_index(col_val, threshold: Column, threshold_str: bool = False):\n",
        "        if threshold_str:\n",
        "            # convert list that represent as string to normal list\n",
        "            threshold = ast.literal_eval(threshold)\n",
        "        for i, val_i in enumerate(threshold):\n",
        "            current = threshold[i]\n",
        "            if i > 0:\n",
        "                previous = threshold[i - 1]\n",
        "                if col_val > previous and col_val <= current:\n",
        "                    result = int(i)\n",
        "                elif col_val > previous and col_val > current:\n",
        "                    # for threshold cutoff (extend positive limit bound)\n",
        "                    result = int(i) + 1\n",
        "            if i == 0 and col_val <= current:\n",
        "                result = int(i)\n",
        "        return result\n",
        "\n",
        "    @staticmethod\n",
        "    def human_score(x, y):\n",
        "        return (int(y) - int(x))\n",
        "\n",
        "    @staticmethod\n",
        "    def indexer(df_in, columnname, x, output_name, invert: bool = True):\n",
        "\n",
        "        threshold_index_udf = udf(Discretize.threshold_index, IntegerType())\n",
        "        human_score_udf = udf(Discretize.human_score, IntegerType())\n",
        "\n",
        "        index = list(np.linspace(1. / x, 1, x))\n",
        "        pthvalue = statFunc(df_in).approxQuantile(columnname, index, 0.0)  # get list of cutoff nth //\n",
        "        df_out = df_in.withColumn(\"pth\", array([lit(df_in) for df_in in pthvalue]))\n",
        "        df_out = df_out.withColumn('ranking', threshold_index_udf(columnname, \"pth\"))\n",
        "        if invert:\n",
        "            df_out = df_out.withColumn(\"maxpth\", lit(x))\n",
        "            df_out = df_out.withColumn(output_name, col(\"maxpth\") - col(\"ranking\")).drop(\"maxpth\")\n",
        "        else:\n",
        "            df_out = df_out.withColumn(output_name, lit(\"ranking\"))\n",
        "        df_out = df_out.drop(\"pth\")\n",
        "        return df_out"
      ],
      "execution_count": 38,
      "outputs": []
    },
    {
      "cell_type": "code",
      "metadata": {
        "id": "3ALhQDbI5GgP",
        "colab": {
          "base_uri": "https://localhost:8080/",
          "height": 459
        },
        "outputId": "f94eeab4-7977-4fee-a49f-c2115f37a932"
      },
      "source": [
        "output_data=Discretize.indexer(df_hero_weight,\"Weight\",100,\"Percnetile_weight\")\n",
        "output_data.show()"
      ],
      "execution_count": null,
      "outputs": [
        {
          "output_type": "stream",
          "text": [
            "+------+-------+-----------------+\n",
            "|weight|ranking|Percnetile_weight|\n",
            "+------+-------+-----------------+\n",
            "| 441.0|     97|                3|\n",
            "|  65.0|     28|               72|\n",
            "|  90.0|     59|               41|\n",
            "| 441.0|     97|                3|\n",
            "| 122.0|     79|               21|\n",
            "|  88.0|     56|               44|\n",
            "|  61.0|     23|               77|\n",
            "|  81.0|     46|               54|\n",
            "| 104.0|     72|               28|\n",
            "| 108.0|     74|               26|\n",
            "|  90.0|     59|               41|\n",
            "|  90.0|     59|               41|\n",
            "|  72.0|     34|               66|\n",
            "| 169.0|     86|               14|\n",
            "| 173.0|     87|               13|\n",
            "| 101.0|     69|               31|\n",
            "|  68.0|     30|               70|\n",
            "|  57.0|     17|               83|\n",
            "|  54.0|      9|               91|\n",
            "|  83.0|     50|               50|\n",
            "+------+-------+-----------------+\n",
            "only showing top 20 rows\n",
            "\n"
          ],
          "name": "stdout"
        }
      ]
    },
    {
      "cell_type": "markdown",
      "metadata": {
        "id": "yUQ9JABUC0DL"
      },
      "source": [
        "## Numerical to categorical"
      ]
    },
    {
      "cell_type": "code",
      "metadata": {
        "id": "lJoS8CMq74j-",
        "colab": {
          "base_uri": "https://localhost:8080/",
          "height": 255
        },
        "outputId": "7798f2b6-e96b-4ee5-83fd-6e6cd0494cb9"
      },
      "source": [
        "from pyspark.sql import functions as F\n",
        "from pyspark.sql.window import Window\n",
        "\n",
        "lookup = spark.createDataFrame(\n",
        "    [(-100.0,0.000,\"NA\"),\n",
        "     (0.001,50.00,\"0-50 Lbs\"),\n",
        "     (50.00,100.00,\"51-100 Lbs\"),\n",
        "     (100.00,200.00,\"101-200 Lbs\"),\n",
        "     (200.00,300.00,\"201-300 Lbs\"),\n",
        "     (300.00,400.00,\"301-400 Lbs\"),\n",
        "     (400.00,500.00,\"401-500 Lbs\"),\n",
        "     (500.00,600.00,\"501-600 Lbs\"),\n",
        "     (600.00,1000.00,\"600+ Lbs\")],\n",
        "    (\"b\",\"t\",\"weight_grp\"))\n",
        "    \n",
        "df_test_grp = df_hero_indi\\\n",
        "    .join(lookup,[F.col(\"weight\")>=F.col(\"b\"),F.col(\"weight\") < F.col(\"t\")],\"leftouter\")\n",
        "  \n",
        "df_test_grp.groupby(\"weight_grp\").count().orderBy(\"weight_grp\").show()"
      ],
      "execution_count": null,
      "outputs": [
        {
          "output_type": "stream",
          "text": [
            "+-----------+-----+\n",
            "| weight_grp|count|\n",
            "+-----------+-----+\n",
            "|       null|    2|\n",
            "|   0-50 Lbs|   19|\n",
            "|101-200 Lbs|   98|\n",
            "|201-300 Lbs|   23|\n",
            "|301-400 Lbs|   13|\n",
            "|401-500 Lbs|    9|\n",
            "| 51-100 Lbs|  327|\n",
            "|   600+ Lbs|    6|\n",
            "|         NA|  237|\n",
            "+-----------+-----+\n",
            "\n"
          ],
          "name": "stdout"
        }
      ]
    },
    {
      "cell_type": "code",
      "metadata": {
        "id": "6xjlDLmtSt8O",
        "colab": {
          "base_uri": "https://localhost:8080/",
          "height": 238
        },
        "outputId": "543a2455-6636-4bf4-d9e6-653c5e6e2970"
      },
      "source": [
        "df_test_grp2 = df_test_nc\\\n",
        "    .join(lookup,[F.col(\"clean_weight1\")>=F.col(\"b\"),F.col(\"clean_weight1\") < F.col(\"t\")],\"leftouter\")\n",
        "  \n",
        "df_test_grp2.groupby(\"weight_grp\").count().orderBy(\"weight_grp\").show()"
      ],
      "execution_count": null,
      "outputs": [
        {
          "output_type": "stream",
          "text": [
            "+-----------+-----+\n",
            "| weight_grp|count|\n",
            "+-----------+-----+\n",
            "|   0-50 Lbs|   19|\n",
            "|101-200 Lbs|   98|\n",
            "|201-300 Lbs|   23|\n",
            "|301-400 Lbs|   13|\n",
            "|401-500 Lbs|    9|\n",
            "| 51-100 Lbs|  327|\n",
            "|   600+ Lbs|    6|\n",
            "|         NA|  239|\n",
            "+-----------+-----+\n",
            "\n"
          ],
          "name": "stdout"
        }
      ]
    },
    {
      "cell_type": "markdown",
      "metadata": {
        "id": "3K1IuPZd2qhI"
      },
      "source": [
        "## Standardization"
      ]
    },
    {
      "cell_type": "code",
      "metadata": {
        "id": "w4mpJIR320_J"
      },
      "source": [
        "from pyspark.mllib.util import MLUtils\n",
        "from pyspark.ml.feature import StandardScaler\n",
        "\n",
        "scaler = StandardScaler(inputCol=\"Weight\", outputCol=\"scaled_weight\",\n",
        "                        withStd=True, withMean=False)\n",
        "\n",
        "# Compute summary statistics by fitting the StandardScaler\n",
        "scalerModel = scaler.fit(df_hero_indi)\n",
        "\n",
        "# Normalize each feature to have unit standard deviation.\n",
        "scaledData = scalerModel.transform(df_hero_indi)\n",
        "scaledData.show()"
      ],
      "execution_count": null,
      "outputs": []
    },
    {
      "cell_type": "markdown",
      "metadata": {
        "id": "eSXErnlI37uO"
      },
      "source": [
        "More reading: https://spark.apache.org/docs/1.4.1/ml-features.html"
      ]
    },
    {
      "cell_type": "markdown",
      "metadata": {
        "id": "kfH1jH8jh-P4"
      },
      "source": [
        "#Lab"
      ]
    },
    {
      "cell_type": "markdown",
      "metadata": {
        "id": "1QJAWj9NfL4F"
      },
      "source": [
        "Try to utilize spark as much as possible"
      ]
    },
    {
      "cell_type": "markdown",
      "metadata": {
        "id": "9sPpi8-LbYR7"
      },
      "source": [
        "## Ingest data"
      ]
    },
    {
      "cell_type": "markdown",
      "metadata": {
        "id": "g4Wg3WpmUXpu"
      },
      "source": [
        "Data set: [here](https://www.kaggle.com/mashlyn/online-retail-ii-uci)"
      ]
    },
    {
      "cell_type": "code",
      "metadata": {
        "id": "6M4nrPN5_Z1W",
        "colab": {
          "base_uri": "https://localhost:8080/",
          "height": 139
        },
        "outputId": "53acb818-6ffa-4e8d-8888-eb11c09a9052"
      },
      "source": [
        "from google.colab import drive\n",
        "drive.mount('/content/gdrive')\n",
        "\n",
        "import os\n",
        "os.environ['KAGGLE_CONFIG_DIR'] = \"/content/gdrive/My Drive/Kaggle\"\n",
        "\n",
        "#Adding API code here\n",
        "\n",
        "#Unzip and delete zip file\n",
        "!unzip ##  && rm ##"
      ],
      "execution_count": null,
      "outputs": [
        {
          "output_type": "stream",
          "text": [
            "Drive already mounted at /content/gdrive; to attempt to forcibly remount, call drive.mount(\"/content/gdrive\", force_remount=True).\n",
            "Downloading online-retail-ii-uci.zip to /content\n",
            "100% 14.5M/14.5M [00:00<00:00, 72.4MB/s]\n",
            "\n",
            "Archive:  /content/online-retail-ii-uci.zip\n",
            "  inflating: online_retail_II.csv    \n"
          ],
          "name": "stdout"
        }
      ]
    },
    {
      "cell_type": "markdown",
      "metadata": {
        "id": "nvrbcfIXbSt7"
      },
      "source": [
        "## Data Description\n",
        "\n",
        "This Online Retail II data set contains all the transactions occurring for a UK-based and registered, \n",
        "non-store online retail between 01/12/2009 and 09/12/2011. The company mainly sells unique all-occasion gift-ware. \n",
        "Many customers of the company are wholesalers.\n",
        "\n",
        "Attribute Information:\n",
        "\n",
        "- InvoiceNo: Invoice number. Nominal. A 6-digit integral number uniquely assigned to each transaction. If this code starts with the letter 'c', it indicates a cancellation.\n",
        "- StockCode: Product (item) code. Nominal. A 5-digit integral number uniquely assigned to each distinct product.\n",
        "- Description: Product (item) name. Nominal.\n",
        "- Quantity: The quantities of each product (item) per transaction. Numeric.\n",
        "- InvoiceDate: Invice date and time. Numeric. The day and time when a transaction was generated.\n",
        "- UnitPrice: Unit price. Numeric. Product price per unit in sterling (Â£).\n",
        "- CustomerID: Customer number. Nominal. A 5-digit integral number uniquely assigned to each customer.\n",
        "- Country: Country name. Nominal. The name of the country where a customer resides."
      ]
    },
    {
      "cell_type": "markdown",
      "metadata": {
        "id": "z1YoN645USbk"
      },
      "source": [
        "### 1. Explore the Data: Check NULL values, Check for outliers, and highlight\n",
        "\n"
      ]
    },
    {
      "cell_type": "code",
      "metadata": {
        "id": "T9aI9lEFUKen"
      },
      "source": [
        "#code here\n",
        "[]"
      ],
      "execution_count": null,
      "outputs": []
    },
    {
      "cell_type": "markdown",
      "metadata": {
        "id": "PgXtwt7JdkVu"
      },
      "source": [
        "## For all questions, assume the current date is 10/12/2011"
      ]
    },
    {
      "cell_type": "markdown",
      "metadata": {
        "id": "R9g7xbaTdX4Y"
      },
      "source": [
        "### 2. Find an average basket size of customer in each country in the year 2010\n",
        "\n",
        "#### Basket size = Total Sales Amount / Total Number of Invoices\n",
        "\n",
        "Hint: df.select(to_date(df.STRING_COLUMN).alias('new_date')).show()\n",
        "\n"
      ]
    },
    {
      "cell_type": "code",
      "metadata": {
        "id": "ZuFzPpNjeQnc"
      },
      "source": [],
      "execution_count": null,
      "outputs": []
    },
    {
      "cell_type": "markdown",
      "metadata": {
        "id": "gX8T0Y6aeaW5"
      },
      "source": [
        "###  3. Does the basket size in each country change over time? Which country has the highest growth in terms of both sales amount and basket size in the past 6 months?"
      ]
    },
    {
      "cell_type": "code",
      "metadata": {
        "id": "d1Raj77XegSl"
      },
      "source": [],
      "execution_count": null,
      "outputs": []
    },
    {
      "cell_type": "markdown",
      "metadata": {
        "id": "kTvMhqd9ehoy"
      },
      "source": [
        "### 4. Monitor weekly sales and visit by country, Past 1 week, Past 2 weeks, Past 4 weeks, Year-to-date\n",
        "#### Create a report that includes the following columns:\n",
        "- Country\n",
        "- Number of Customers in past 1 week\n",
        "- Number of Customers in past 2 weeks\n",
        "- Number of Customers in past 4 weeks\n",
        "- Number of Customers accumulated since 01/01/2011\n",
        "- Sales amount in past 1 week\n",
        "- Sales amount in past 2 weeks\n",
        "- Sales amount in past 4 weeks\n",
        "- Sales amount since 01/01/2011\n",
        "- Number of Invoices in past 1 week\n",
        "- Number of Invoices in past 2 weeks\n",
        "- Number of Invoices in past 4 weeks\n",
        "- Number of Invoices since 01/01/2011"
      ]
    },
    {
      "cell_type": "code",
      "metadata": {
        "id": "m7auHJ3Deoo9"
      },
      "source": [],
      "execution_count": null,
      "outputs": []
    },
    {
      "cell_type": "markdown",
      "metadata": {
        "id": "L_SzPYRadtP3"
      },
      "source": [
        "### 5. Find the average number of days since last visit of the customer in each country"
      ]
    },
    {
      "cell_type": "code",
      "metadata": {
        "id": "w63raV3sfFLo"
      },
      "source": [],
      "execution_count": null,
      "outputs": []
    }
  ]
}