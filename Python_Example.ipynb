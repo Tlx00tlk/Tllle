{
  "nbformat": 4,
  "nbformat_minor": 0,
  "metadata": {
    "colab": {
      "name": "Python Example.ipynb",
      "provenance": [],
      "collapsed_sections": [],
      "authorship_tag": "ABX9TyMrWl2iRtaWaQxJ+JB6kLk+",
      "include_colab_link": true
    },
    "kernelspec": {
      "name": "python3",
      "display_name": "Python 3"
    }
  },
  "cells": [
    {
      "cell_type": "markdown",
      "metadata": {
        "id": "view-in-github",
        "colab_type": "text"
      },
      "source": [
        "<a href=\"https://colab.research.google.com/github/pasdptt/PasdPublicNB/blob/master/Python_Example.ipynb\" target=\"_parent\"><img src=\"https://colab.research.google.com/assets/colab-badge.svg\" alt=\"Open In Colab\"/></a>"
      ]
    },
    {
      "cell_type": "code",
      "metadata": {
        "id": "JPy87JCA0M88"
      },
      "source": [
        "#To clear all output\n",
        "from IPython.display import clear_output\n",
        "clear_output(wait=True)"
      ],
      "execution_count": null,
      "outputs": []
    },
    {
      "cell_type": "markdown",
      "metadata": {
        "id": "rV-XrwG9mBv7"
      },
      "source": [
        "Let Guest what is this one?"
      ]
    },
    {
      "cell_type": "code",
      "metadata": {
        "id": "ooaGFeO9CQB3",
        "colab": {
          "base_uri": "https://localhost:8080/"
        },
        "outputId": "d459223b-b1aa-4548-ab65-4d5458615f44"
      },
      "source": [
        "def someGreatFunction(arr):\n",
        "  if len(arr) <= 1:\n",
        "    return arr\n",
        "  pivot = arr[len(arr) // 2]\n",
        "  left = [x for x in arr if x < pivot]\n",
        "  middle = [x for x in arr if x == pivot]\n",
        "  right = [x for x in arr if x > pivot]\n",
        "  return someGreatFunction(left) + middle + someGreatFunction(right)\n",
        "\n",
        "print(someGreatFunction([3,6,8,10,1,2,1]))"
      ],
      "execution_count": 3,
      "outputs": [
        {
          "output_type": "stream",
          "name": "stdout",
          "text": [
            "[1, 1, 2, 3, 6, 8, 10]\n"
          ]
        }
      ]
    },
    {
      "cell_type": "markdown",
      "metadata": {
        "id": "Holh-78AseSA"
      },
      "source": [
        "# Example Variables"
      ]
    },
    {
      "cell_type": "markdown",
      "metadata": {
        "id": "le5QM3l2sU4-"
      },
      "source": [
        ""
      ]
    },
    {
      "cell_type": "code",
      "metadata": {
        "id": "W15rgUNiVNKG"
      },
      "source": [
        "x = 10\n",
        "y = 3"
      ],
      "execution_count": 4,
      "outputs": []
    },
    {
      "cell_type": "code",
      "source": [
        "print(x,y)"
      ],
      "metadata": {
        "colab": {
          "base_uri": "https://localhost:8080/"
        },
        "id": "Ht2jb7yXv2wQ",
        "outputId": "6dbeb8f0-de46-47c9-99a6-856bbe26b9c3"
      },
      "execution_count": 6,
      "outputs": [
        {
          "output_type": "stream",
          "name": "stdout",
          "text": [
            "10 3\n"
          ]
        }
      ]
    },
    {
      "cell_type": "code",
      "metadata": {
        "id": "TJUn1ZWqmYN5",
        "colab": {
          "base_uri": "https://localhost:8080/"
        },
        "outputId": "672f9d5a-95dc-4560-a4bb-8a9ed60561f4"
      },
      "source": [
        "x + y"
      ],
      "execution_count": 7,
      "outputs": [
        {
          "output_type": "execute_result",
          "data": {
            "text/plain": [
              "13"
            ]
          },
          "metadata": {},
          "execution_count": 7
        }
      ]
    },
    {
      "cell_type": "code",
      "metadata": {
        "id": "3UspTcUDmquH",
        "colab": {
          "base_uri": "https://localhost:8080/"
        },
        "outputId": "7be82b3f-0054-46e5-a8d0-434e32a646f5"
      },
      "source": [
        "x - y"
      ],
      "execution_count": 8,
      "outputs": [
        {
          "output_type": "execute_result",
          "data": {
            "text/plain": [
              "7"
            ]
          },
          "metadata": {},
          "execution_count": 8
        }
      ]
    },
    {
      "cell_type": "code",
      "metadata": {
        "id": "bkyP0HP8mwOP",
        "colab": {
          "base_uri": "https://localhost:8080/"
        },
        "outputId": "a1ad98e2-af72-4ae8-c62f-05e464ef9a8f"
      },
      "source": [
        "x ** y"
      ],
      "execution_count": 9,
      "outputs": [
        {
          "output_type": "execute_result",
          "data": {
            "text/plain": [
              "1000"
            ]
          },
          "metadata": {},
          "execution_count": 9
        }
      ]
    },
    {
      "cell_type": "code",
      "metadata": {
        "id": "rBvrjsSFmx0X",
        "colab": {
          "base_uri": "https://localhost:8080/"
        },
        "outputId": "7b42ed37-aff1-428c-cd33-56dc48ba0a9a"
      },
      "source": [
        "x / y"
      ],
      "execution_count": 10,
      "outputs": [
        {
          "output_type": "execute_result",
          "data": {
            "text/plain": [
              "3.3333333333333335"
            ]
          },
          "metadata": {},
          "execution_count": 10
        }
      ]
    },
    {
      "cell_type": "code",
      "metadata": {
        "id": "iRjEilGKm0fD",
        "colab": {
          "base_uri": "https://localhost:8080/"
        },
        "outputId": "984e27c3-e03f-4a56-a2f8-788111b5539e"
      },
      "source": [
        "x / float(y)"
      ],
      "execution_count": 11,
      "outputs": [
        {
          "output_type": "execute_result",
          "data": {
            "text/plain": [
              "3.3333333333333335"
            ]
          },
          "metadata": {},
          "execution_count": 11
        }
      ]
    },
    {
      "cell_type": "code",
      "source": [
        "int(x/y)"
      ],
      "metadata": {
        "colab": {
          "base_uri": "https://localhost:8080/"
        },
        "id": "mT58ucgWwTT2",
        "outputId": "1cbaa76b-7643-40f2-e467-42f55fdf0810"
      },
      "execution_count": 12,
      "outputs": [
        {
          "output_type": "execute_result",
          "data": {
            "text/plain": [
              "3"
            ]
          },
          "metadata": {},
          "execution_count": 12
        }
      ]
    },
    {
      "cell_type": "code",
      "metadata": {
        "id": "CzDK5jXkrD3B",
        "colab": {
          "base_uri": "https://localhost:8080/",
          "height": 35
        },
        "outputId": "388a9829-de70-4c08-8b7b-ca304596b8e7"
      },
      "source": [
        "str(x)+\"+\"+str(y)"
      ],
      "execution_count": 13,
      "outputs": [
        {
          "output_type": "execute_result",
          "data": {
            "text/plain": [
              "'10+3'"
            ],
            "application/vnd.google.colaboratory.intrinsic+json": {
              "type": "string"
            }
          },
          "metadata": {},
          "execution_count": 13
        }
      ]
    },
    {
      "cell_type": "markdown",
      "metadata": {
        "id": "W21-ayTDnCv1"
      },
      "source": [
        "**Built-in Values** # Usual true/false values\n",
        "\n",
        "*  True\n",
        "*  False\n",
        "*  None # Represents the absence of something\n",
        "> * x = None # Variables can be None\n",
        "> * array = [1,2,None] # Lists can contain None\n"
      ]
    },
    {
      "cell_type": "markdown",
      "metadata": {
        "id": "_9wpVRWPobyf"
      },
      "source": [
        "**Functions can return None**"
      ]
    },
    {
      "cell_type": "code",
      "metadata": {
        "id": "xVfoAd8nnGHv"
      },
      "source": [
        "def func():\n",
        "  return None "
      ],
      "execution_count": 14,
      "outputs": []
    },
    {
      "cell_type": "markdown",
      "metadata": {
        "id": "dSgaZEPdotYW"
      },
      "source": [
        "\n",
        "\n",
        "**Can check for equality**"
      ]
    },
    {
      "cell_type": "code",
      "metadata": {
        "id": "K1UgVNdnoV3q",
        "colab": {
          "base_uri": "https://localhost:8080/"
        },
        "outputId": "0ab76d0c-cc56-48b2-9dfb-713e99f2c385"
      },
      "source": [
        "if [1,2] != [3,4]:\n",
        "  print (\"Error!\")"
      ],
      "execution_count": 15,
      "outputs": [
        {
          "output_type": "stream",
          "name": "stdout",
          "text": [
            "Error!\n"
          ]
        }
      ]
    },
    {
      "cell_type": "markdown",
      "metadata": {
        "id": "cxm8i6lusxsx"
      },
      "source": [
        "# No Brackets, use Indents"
      ]
    },
    {
      "cell_type": "markdown",
      "metadata": {
        "id": "fkJgSmB5pHMq"
      },
      "source": [
        "<n>Code blocks are created using indents.\n",
        "\n",
        "*   Indents can be 2 or 4 spaces, but should be consistent throughout the file.\n",
        "*   If using Vim, set this value to be consistent in your .vimrc\n"
      ]
    },
    {
      "cell_type": "code",
      "metadata": {
        "id": "vvAJRtJSokb8"
      },
      "source": [
        "def fib(n):\n",
        "  # Indent level 1: function body\n",
        "  if n <= 1:\n",
        "    # Indent level 2: if statement body\n",
        "    return 1\n",
        "  else:\n",
        "    # Indent level 2: else statement body\n",
        "    return fib(n-1)+fib(n-2)\n",
        "\n",
        "fib(10)"
      ],
      "execution_count": null,
      "outputs": []
    },
    {
      "cell_type": "markdown",
      "source": [
        "fibonancci series = 0, 1, 1, 2, 3, 5, ..."
      ],
      "metadata": {
        "id": "7vV-We32xNSv"
      }
    },
    {
      "cell_type": "markdown",
      "metadata": {
        "id": "M_0A0GGhs_v3"
      },
      "source": [
        "# Python is a strongly-typed and dynamically-typed language."
      ]
    },
    {
      "cell_type": "markdown",
      "metadata": {
        "id": "IARl62_Sp6zm"
      },
      "source": [
        "**Strongly-typed**: Types will not be coerced silently like in JavaScript.\n",
        "\n",
        "**Dynamically-typed**: Variables are names for values or object references.\n",
        "\n",
        "Variables can be reassigned to values of a different type.\n",
        "\n",
        "Execution: Python is “slower”, but it can run highly optimized C/C++ subroutines which make scientific computing (e.g. matrix multiplication) really fast."
      ]
    },
    {
      "cell_type": "code",
      "metadata": {
        "id": "3tIuBhbhpON8",
        "colab": {
          "base_uri": "https://localhost:8080/",
          "height": 132
        },
        "outputId": "9ad29f7f-b12f-40de-b4ad-b62694a86c5d"
      },
      "source": [
        "#Strongly-typed\n",
        "1 + ‘1’"
      ],
      "execution_count": 16,
      "outputs": [
        {
          "output_type": "error",
          "ename": "SyntaxError",
          "evalue": "ignored",
          "traceback": [
            "\u001b[0;36m  File \u001b[0;32m\"<ipython-input-16-ee8f8ec78fb4>\"\u001b[0;36m, line \u001b[0;32m2\u001b[0m\n\u001b[0;31m    1 + ‘1’\u001b[0m\n\u001b[0m          ^\u001b[0m\n\u001b[0;31mSyntaxError\u001b[0m\u001b[0;31m:\u001b[0m invalid character in identifier\n"
          ]
        }
      ]
    },
    {
      "cell_type": "code",
      "metadata": {
        "id": "RWIYiePXqlBa",
        "colab": {
          "base_uri": "https://localhost:8080/"
        },
        "outputId": "9c67f0e9-b7eb-47d9-a5c6-8546a0adccbc"
      },
      "source": [
        "#Dynamically-typed\n",
        "foo = [1,2,3]\n",
        "print(foo)"
      ],
      "execution_count": 17,
      "outputs": [
        {
          "output_type": "stream",
          "name": "stdout",
          "text": [
            "[1, 2, 3]\n"
          ]
        }
      ]
    },
    {
      "cell_type": "code",
      "metadata": {
        "id": "-TkAJyCdqusV",
        "colab": {
          "base_uri": "https://localhost:8080/"
        },
        "outputId": "f110be55-f935-47d8-fdb0-12c7f4ce16be"
      },
      "source": [
        "foo =  \"hello!\"\n",
        "print(foo)"
      ],
      "execution_count": 18,
      "outputs": [
        {
          "output_type": "stream",
          "name": "stdout",
          "text": [
            "hello!\n"
          ]
        }
      ]
    },
    {
      "cell_type": "markdown",
      "metadata": {
        "id": "4fAPpfDktP1D"
      },
      "source": [
        "# Collections: List"
      ]
    },
    {
      "cell_type": "markdown",
      "metadata": {
        "id": "sQ5Q4Faitd0_"
      },
      "source": [
        "## Lists are mutable arrays"
      ]
    },
    {
      "cell_type": "code",
      "metadata": {
        "id": "-7FUw7-5udCu",
        "colab": {
          "base_uri": "https://localhost:8080/"
        },
        "outputId": "63505195-4c1e-40ca-b642-fab433509944"
      },
      "source": [
        "names=[]\n",
        "print(names)"
      ],
      "execution_count": 19,
      "outputs": [
        {
          "output_type": "stream",
          "name": "stdout",
          "text": [
            "[]\n"
          ]
        }
      ]
    },
    {
      "cell_type": "code",
      "metadata": {
        "id": "yJcIki9sujMp",
        "colab": {
          "base_uri": "https://localhost:8080/"
        },
        "outputId": "62b80634-93c8-4124-9853-d9c7231d0fa2"
      },
      "source": [
        "names=list()\n",
        "print(names)"
      ],
      "execution_count": 20,
      "outputs": [
        {
          "output_type": "stream",
          "name": "stdout",
          "text": [
            "[]\n"
          ]
        }
      ]
    },
    {
      "cell_type": "code",
      "metadata": {
        "id": "OYiaLt3PsBoc"
      },
      "source": [
        "names = ['Zach', 'Jay']"
      ],
      "execution_count": 21,
      "outputs": []
    },
    {
      "cell_type": "code",
      "metadata": {
        "id": "qCrEMfcgq07n",
        "colab": {
          "base_uri": "https://localhost:8080/"
        },
        "outputId": "9357d694-dea5-4de2-d2d5-67afe965ff4a"
      },
      "source": [
        "names[0] == 'Zach'"
      ],
      "execution_count": 22,
      "outputs": [
        {
          "output_type": "execute_result",
          "data": {
            "text/plain": [
              "True"
            ]
          },
          "metadata": {},
          "execution_count": 22
        }
      ]
    },
    {
      "cell_type": "code",
      "metadata": {
        "id": "IH09Tc99tr4A"
      },
      "source": [
        "names.append('Richard')"
      ],
      "execution_count": 23,
      "outputs": []
    },
    {
      "cell_type": "code",
      "metadata": {
        "id": "L3isuF6NtvXl",
        "colab": {
          "base_uri": "https://localhost:8080/"
        },
        "outputId": "4898afb7-18e2-464d-8653-b7be69a141e1"
      },
      "source": [
        "len(names) == 3"
      ],
      "execution_count": 24,
      "outputs": [
        {
          "output_type": "execute_result",
          "data": {
            "text/plain": [
              "True"
            ]
          },
          "metadata": {},
          "execution_count": 24
        }
      ]
    },
    {
      "cell_type": "code",
      "metadata": {
        "id": "qJbYBm0Zt1EN",
        "colab": {
          "base_uri": "https://localhost:8080/"
        },
        "outputId": "241f8779-4cf7-4100-8ece-7bd2759a801a"
      },
      "source": [
        "print(names)"
      ],
      "execution_count": 25,
      "outputs": [
        {
          "output_type": "stream",
          "name": "stdout",
          "text": [
            "['Zach', 'Jay', 'Richard']\n"
          ]
        }
      ]
    },
    {
      "cell_type": "code",
      "metadata": {
        "id": "wsNfPiLLtyUW"
      },
      "source": [
        "names.extend(['Abi', 'Kevin'])"
      ],
      "execution_count": 26,
      "outputs": []
    },
    {
      "cell_type": "code",
      "metadata": {
        "id": "NssNrCPLuBmR",
        "colab": {
          "base_uri": "https://localhost:8080/"
        },
        "outputId": "67ad8788-efcb-4c7e-de46-3121ae77d76f"
      },
      "source": [
        "print(names)"
      ],
      "execution_count": 27,
      "outputs": [
        {
          "output_type": "stream",
          "name": "stdout",
          "text": [
            "['Zach', 'Jay', 'Richard', 'Abi', 'Kevin']\n"
          ]
        }
      ]
    },
    {
      "cell_type": "code",
      "metadata": {
        "id": "nzgyCdhDuPCW",
        "colab": {
          "base_uri": "https://localhost:8080/"
        },
        "outputId": "b92eb352-72e6-489e-c10b-4b3c484e8000"
      },
      "source": [
        "stuff = [1, ['hi','bye'], -0.12, None]\n",
        "print(stuff)"
      ],
      "execution_count": 28,
      "outputs": [
        {
          "output_type": "stream",
          "name": "stdout",
          "text": [
            "[1, ['hi', 'bye'], -0.12, None]\n"
          ]
        }
      ]
    },
    {
      "cell_type": "markdown",
      "metadata": {
        "id": "66QH6vv8vAlL"
      },
      "source": [
        "## List Slicing\n",
        "\n",
        "List elements can be accessed in convenient ways.\n",
        "\n",
        "Basic format: some_list[start_index:end_index]"
      ]
    },
    {
      "cell_type": "code",
      "metadata": {
        "id": "NRlfnUFGuqoV"
      },
      "source": [
        "numbers = [0, 1, 2, 3, 4, 5, 6]"
      ],
      "execution_count": 29,
      "outputs": []
    },
    {
      "cell_type": "code",
      "metadata": {
        "id": "smR-LBtVv-Ak",
        "colab": {
          "base_uri": "https://localhost:8080/"
        },
        "outputId": "6f327de9-9e1f-4a6b-e5db-f1361e5cac0a"
      },
      "source": [
        "numbers[0:3] == numbers[:3] == [0, 1, 2]"
      ],
      "execution_count": 30,
      "outputs": [
        {
          "output_type": "execute_result",
          "data": {
            "text/plain": [
              "True"
            ]
          },
          "metadata": {},
          "execution_count": 30
        }
      ]
    },
    {
      "cell_type": "code",
      "metadata": {
        "id": "l67hQg__v-m1",
        "colab": {
          "base_uri": "https://localhost:8080/"
        },
        "outputId": "fba9f218-45eb-4d0d-f670-57e2806a0618"
      },
      "source": [
        "numbers[5:] == numbers[5:7] == [5, 6]"
      ],
      "execution_count": 31,
      "outputs": [
        {
          "output_type": "execute_result",
          "data": {
            "text/plain": [
              "True"
            ]
          },
          "metadata": {},
          "execution_count": 31
        }
      ]
    },
    {
      "cell_type": "code",
      "metadata": {
        "id": "-ciXjLmswBIP",
        "colab": {
          "base_uri": "https://localhost:8080/"
        },
        "outputId": "5d7c8437-9857-41a7-f467-1890cfc16a48"
      },
      "source": [
        "numbers[:] == numbers == [0, 1, 2, 3, 4, 5, 6]"
      ],
      "execution_count": 32,
      "outputs": [
        {
          "output_type": "execute_result",
          "data": {
            "text/plain": [
              "True"
            ]
          },
          "metadata": {},
          "execution_count": 32
        }
      ]
    },
    {
      "cell_type": "code",
      "metadata": {
        "id": "gh8edQpZwD3W",
        "colab": {
          "base_uri": "https://localhost:8080/"
        },
        "outputId": "669be375-ff80-4f9e-f715-f18055b6f55f"
      },
      "source": [
        "numbers[-1] == 6"
      ],
      "execution_count": 33,
      "outputs": [
        {
          "output_type": "execute_result",
          "data": {
            "text/plain": [
              "True"
            ]
          },
          "metadata": {},
          "execution_count": 33
        }
      ]
    },
    {
      "cell_type": "code",
      "metadata": {
        "id": "ks8VNSuDwKIb",
        "colab": {
          "base_uri": "https://localhost:8080/"
        },
        "outputId": "7cdc4792-b5b8-4d90-b4de-236bffb552c9"
      },
      "source": [
        "numbers[-3:] == [4, 5, 6]"
      ],
      "execution_count": 34,
      "outputs": [
        {
          "output_type": "execute_result",
          "data": {
            "text/plain": [
              "True"
            ]
          },
          "metadata": {},
          "execution_count": 34
        }
      ]
    },
    {
      "cell_type": "code",
      "metadata": {
        "id": "a8wpfwh-wM8c",
        "colab": {
          "base_uri": "https://localhost:8080/"
        },
        "outputId": "9ab8a903-2775-4727-dc01-6771565d10dd"
      },
      "source": [
        "numbers[3:-2] == [3, 4]"
      ],
      "execution_count": 35,
      "outputs": [
        {
          "output_type": "execute_result",
          "data": {
            "text/plain": [
              "True"
            ]
          },
          "metadata": {},
          "execution_count": 35
        }
      ]
    },
    {
      "cell_type": "markdown",
      "metadata": {
        "id": "CWjuRoOawUto"
      },
      "source": [
        "# Collections: Tuple\n",
        "\n",
        "Tuples are immutable arrays"
      ]
    },
    {
      "cell_type": "code",
      "metadata": {
        "id": "lUC-x4NKwQXI"
      },
      "source": [
        "names = ('Zach', 'Jay') # Note the parentheses"
      ],
      "execution_count": 36,
      "outputs": []
    },
    {
      "cell_type": "code",
      "metadata": {
        "id": "cwFNln2NwgiV",
        "colab": {
          "base_uri": "https://localhost:8080/"
        },
        "outputId": "c832dce5-4c29-4773-b144-a5be2bc2fd59"
      },
      "source": [
        "names[0] == 'Zach'"
      ],
      "execution_count": 37,
      "outputs": [
        {
          "output_type": "execute_result",
          "data": {
            "text/plain": [
              "True"
            ]
          },
          "metadata": {},
          "execution_count": 37
        }
      ]
    },
    {
      "cell_type": "code",
      "metadata": {
        "id": "e2Gn64jFwzmQ",
        "colab": {
          "base_uri": "https://localhost:8080/"
        },
        "outputId": "dc130180-fccf-4e6b-9299-6d78d1ea210d"
      },
      "source": [
        "len(names) == 2"
      ],
      "execution_count": 38,
      "outputs": [
        {
          "output_type": "execute_result",
          "data": {
            "text/plain": [
              "True"
            ]
          },
          "metadata": {},
          "execution_count": 38
        }
      ]
    },
    {
      "cell_type": "code",
      "metadata": {
        "id": "neMsYQsuwwu8",
        "colab": {
          "base_uri": "https://localhost:8080/"
        },
        "outputId": "5bf2d82c-5acc-4ce0-bac0-45bc0cb7b3f1"
      },
      "source": [
        "print(names)"
      ],
      "execution_count": 39,
      "outputs": [
        {
          "output_type": "stream",
          "name": "stdout",
          "text": [
            "('Zach', 'Jay')\n"
          ]
        }
      ]
    },
    {
      "cell_type": "code",
      "metadata": {
        "id": "vfdMeqUewpcB",
        "colab": {
          "base_uri": "https://localhost:8080/",
          "height": 132
        },
        "outputId": "7f34d751-f6ad-4fba-b6d2-8dbdd14b9643"
      },
      "source": [
        "names[0] = ‘Richard’"
      ],
      "execution_count": 40,
      "outputs": [
        {
          "output_type": "error",
          "ename": "SyntaxError",
          "evalue": "ignored",
          "traceback": [
            "\u001b[0;36m  File \u001b[0;32m\"<ipython-input-40-f7ff45d082bd>\"\u001b[0;36m, line \u001b[0;32m1\u001b[0m\n\u001b[0;31m    names[0] = ‘Richard’\u001b[0m\n\u001b[0m                       ^\u001b[0m\n\u001b[0;31mSyntaxError\u001b[0m\u001b[0;31m:\u001b[0m invalid character in identifier\n"
          ]
        }
      ]
    },
    {
      "cell_type": "code",
      "metadata": {
        "id": "9G8vCb7dw2wc",
        "colab": {
          "base_uri": "https://localhost:8080/"
        },
        "outputId": "7cc292d1-3c51-450f-fe5d-9e7e5fa21dbc"
      },
      "source": [
        "empty = tuple()\n",
        "print(empty)"
      ],
      "execution_count": 41,
      "outputs": [
        {
          "output_type": "stream",
          "name": "stdout",
          "text": [
            "()\n"
          ]
        }
      ]
    },
    {
      "cell_type": "code",
      "metadata": {
        "id": "xuz-ycrvw-qT",
        "colab": {
          "base_uri": "https://localhost:8080/"
        },
        "outputId": "30ecc3f0-81db-4b82-a814-373b481452a8"
      },
      "source": [
        "single = (10,)\n",
        "print(single)"
      ],
      "execution_count": 42,
      "outputs": [
        {
          "output_type": "stream",
          "name": "stdout",
          "text": [
            "(10,)\n"
          ]
        }
      ]
    },
    {
      "cell_type": "markdown",
      "metadata": {
        "id": "zCPJJhWTxLS8"
      },
      "source": [
        "# Collections: Dictionary\n",
        "\n",
        "Dictionaries are hash maps"
      ]
    },
    {
      "cell_type": "code",
      "metadata": {
        "id": "DQ0KQ1r3xGMS",
        "colab": {
          "base_uri": "https://localhost:8080/"
        },
        "outputId": "1b1ff132-4e3c-4325-984f-eca49ffd3abf"
      },
      "source": [
        "phonebook = dict() # Empty dictionary\n",
        "print(phonebook)"
      ],
      "execution_count": 43,
      "outputs": [
        {
          "output_type": "stream",
          "name": "stdout",
          "text": [
            "{}\n"
          ]
        }
      ]
    },
    {
      "cell_type": "code",
      "metadata": {
        "id": "tuqoE7ygxVN5",
        "colab": {
          "base_uri": "https://localhost:8080/"
        },
        "outputId": "4759988a-391c-43c7-abb3-0bfe6347fe46"
      },
      "source": [
        "phonebook = {'Zach': '12-37'}\n",
        "print(phonebook)"
      ],
      "execution_count": 44,
      "outputs": [
        {
          "output_type": "stream",
          "name": "stdout",
          "text": [
            "{'Zach': '12-37'}\n"
          ]
        }
      ]
    },
    {
      "cell_type": "code",
      "metadata": {
        "id": "7doGBELcxhlH",
        "colab": {
          "base_uri": "https://localhost:8080/"
        },
        "outputId": "60b04407-ced4-4560-f7fc-2421076c3915"
      },
      "source": [
        "phonebook['Jay'] = '34-23'\n",
        "print(phonebook)"
      ],
      "execution_count": 45,
      "outputs": [
        {
          "output_type": "stream",
          "name": "stdout",
          "text": [
            "{'Zach': '12-37', 'Jay': '34-23'}\n"
          ]
        }
      ]
    },
    {
      "cell_type": "code",
      "metadata": {
        "id": "CMgTSYUnxyJE",
        "colab": {
          "base_uri": "https://localhost:8080/"
        },
        "outputId": "0e092ca7-fff3-4574-90a9-680a37a64a8c"
      },
      "source": [
        "print('Zach' in phonebook)"
      ],
      "execution_count": 46,
      "outputs": [
        {
          "output_type": "stream",
          "name": "stdout",
          "text": [
            "True\n"
          ]
        }
      ]
    },
    {
      "cell_type": "code",
      "metadata": {
        "id": "KjCplAcTx_rE",
        "colab": {
          "base_uri": "https://localhost:8080/"
        },
        "outputId": "a14d2e9d-0d27-4c6b-9a9b-c34585317e6b"
      },
      "source": [
        "print('Kavin' in phonebook)"
      ],
      "execution_count": 47,
      "outputs": [
        {
          "output_type": "stream",
          "name": "stdout",
          "text": [
            "False\n"
          ]
        }
      ]
    },
    {
      "cell_type": "code",
      "metadata": {
        "id": "GovtUuQoyDVY",
        "colab": {
          "base_uri": "https://localhost:8080/"
        },
        "outputId": "71cf2e9c-0b46-4012-dd5e-46448f1008a1"
      },
      "source": [
        "print(phonebook['Jay'])"
      ],
      "execution_count": 48,
      "outputs": [
        {
          "output_type": "stream",
          "name": "stdout",
          "text": [
            "34-23\n"
          ]
        }
      ]
    },
    {
      "cell_type": "code",
      "metadata": {
        "id": "Hp2yDaZ3yKIP"
      },
      "source": [
        "del phonebook['Zach']"
      ],
      "execution_count": 49,
      "outputs": []
    },
    {
      "cell_type": "code",
      "metadata": {
        "id": "A2gx-9evyOVW",
        "colab": {
          "base_uri": "https://localhost:8080/"
        },
        "outputId": "30a95a34-99bc-4514-94e3-37bb34ff002b"
      },
      "source": [
        "print(phonebook)"
      ],
      "execution_count": 50,
      "outputs": [
        {
          "output_type": "stream",
          "name": "stdout",
          "text": [
            "{'Jay': '34-23'}\n"
          ]
        }
      ]
    },
    {
      "cell_type": "code",
      "metadata": {
        "id": "16iUCsAoySTi",
        "colab": {
          "base_uri": "https://localhost:8080/"
        },
        "outputId": "87c6c372-0b35-4114-a232-897bac4ff2ab"
      },
      "source": [
        "for name, number in phonebook.items():\n",
        "  print (name, number)"
      ],
      "execution_count": 51,
      "outputs": [
        {
          "output_type": "stream",
          "name": "stdout",
          "text": [
            "Jay 34-23\n"
          ]
        }
      ]
    },
    {
      "cell_type": "markdown",
      "metadata": {
        "id": "PfSWoLJ1ze2N"
      },
      "source": [
        "# Play with Loop"
      ]
    },
    {
      "cell_type": "code",
      "metadata": {
        "id": "geH9snn4yX58",
        "colab": {
          "base_uri": "https://localhost:8080/"
        },
        "outputId": "da5b89d1-1e27-4061-d068-e845dfd7f787"
      },
      "source": [
        "for name in ['Zack', 'Jay', 'Richard']:\n",
        " print ('Hi ' + name + '!')"
      ],
      "execution_count": 52,
      "outputs": [
        {
          "output_type": "stream",
          "name": "stdout",
          "text": [
            "Hi Zack!\n",
            "Hi Jay!\n",
            "Hi Richard!\n"
          ]
        }
      ]
    },
    {
      "cell_type": "code",
      "metadata": {
        "id": "cZ7M484_zqAQ",
        "colab": {
          "base_uri": "https://localhost:8080/"
        },
        "outputId": "f4bb1d01-6e1c-4cd8-f752-0171d3ffc850"
      },
      "source": [
        "while True:\n",
        "  print('We’re stuck in a loop...')\n",
        "  break"
      ],
      "execution_count": 53,
      "outputs": [
        {
          "output_type": "stream",
          "name": "stdout",
          "text": [
            "We’re stuck in a loop...\n"
          ]
        }
      ]
    },
    {
      "cell_type": "code",
      "metadata": {
        "id": "GMJRmJCw0bbf",
        "colab": {
          "base_uri": "https://localhost:8080/"
        },
        "outputId": "83cfe472-fbfd-48c0-fe74-cb9d2156b34d"
      },
      "source": [
        "for i in range(10): # Want an index also?\n",
        "  print ('Line ' + str(i)) # Look at enumerate()!"
      ],
      "execution_count": 54,
      "outputs": [
        {
          "output_type": "stream",
          "name": "stdout",
          "text": [
            "Line 0\n",
            "Line 1\n",
            "Line 2\n",
            "Line 3\n",
            "Line 4\n",
            "Line 5\n",
            "Line 6\n",
            "Line 7\n",
            "Line 8\n",
            "Line 9\n"
          ]
        }
      ]
    },
    {
      "cell_type": "code",
      "metadata": {
        "id": "G9xgUb3x0oP1",
        "colab": {
          "base_uri": "https://localhost:8080/"
        },
        "outputId": "69920bcc-7dc2-4968-b0e6-3a391e76d2af"
      },
      "source": [
        "for x, y in [(1,10), (2,20), (3,30)]:\n",
        "  print (x, y)"
      ],
      "execution_count": 55,
      "outputs": [
        {
          "output_type": "stream",
          "name": "stdout",
          "text": [
            "1 10\n",
            "2 20\n",
            "3 30\n"
          ]
        }
      ]
    },
    {
      "cell_type": "markdown",
      "metadata": {
        "id": "RaLyK1010535"
      },
      "source": [
        "# Python as OOP"
      ]
    },
    {
      "cell_type": "code",
      "metadata": {
        "id": "x9Ya67Dv0xQO"
      },
      "source": [
        "class Animal(object):\n",
        "  def __init__(self, species, age): # Constructor `a = Animal(‘bird’, 10)`\n",
        "    self.species = species # Refer to instance with `self`\n",
        "    self.age = age # All instance variables are public\n",
        "\n",
        "  def isPerson(self): # Invoked with `a.isPerson()`\n",
        "    return self.species == 'Homo Sapiens'\n",
        "\n",
        "  def ageOneYear(self):\n",
        "    self.age += 1\n",
        "\n",
        "class Dog(Animal): # Inherits Animal’s methods\n",
        "  def ageOneYear(self): # Override for dog years\n",
        "    self.age += 7"
      ],
      "execution_count": 56,
      "outputs": []
    },
    {
      "cell_type": "code",
      "metadata": {
        "id": "FXHkkKqLiT_P"
      },
      "source": [
        ""
      ],
      "execution_count": null,
      "outputs": []
    },
    {
      "cell_type": "code",
      "metadata": {
        "id": "pb7J5X0W1MFO",
        "colab": {
          "base_uri": "https://localhost:8080/"
        },
        "outputId": "147bca5d-fd48-447f-f8f4-6740a68f8a65"
      },
      "source": [
        "a = Animal('bird', 10)\n",
        "print(a.species, a.age)"
      ],
      "execution_count": 57,
      "outputs": [
        {
          "output_type": "stream",
          "name": "stdout",
          "text": [
            "bird 10\n"
          ]
        }
      ]
    },
    {
      "cell_type": "code",
      "metadata": {
        "id": "u7OUUYuQ1YsN"
      },
      "source": [
        "print(a.isPerson())"
      ],
      "execution_count": null,
      "outputs": []
    },
    {
      "cell_type": "markdown",
      "metadata": {
        "id": "7M2o1Rop122e"
      },
      "source": [
        "# Importing Modules"
      ]
    },
    {
      "cell_type": "code",
      "metadata": {
        "id": "Id6N-xiq1rp-"
      },
      "source": [
        "# Import ‘os’ and ‘time’ modules\n",
        "import os, time\n",
        "# Import under an alias\n",
        "import numpy as np\n",
        "np.dot(x, y) # Access components with pkg.fn\n",
        "# Import specific submodules/functions\n",
        "from numpy import linalg as la, dot as matrix_multiply"
      ],
      "execution_count": null,
      "outputs": []
    },
    {
      "cell_type": "code",
      "metadata": {
        "id": "812Fx8Vd2A6e",
        "colab": {
          "base_uri": "https://localhost:8080/",
          "height": 1000
        },
        "outputId": "110974f1-0b9d-457d-ebb7-ca21d5c6bf32"
      },
      "source": [
        "!sudo apt update\n",
        "!apt-get install openjdk-8-jdk-headless -qq > /dev/null\n",
        "!wget -q https://dlcdn.apache.org/spark/spark-3.3.0/spark-3.3.0-bin-hadoop3.tgz\n",
        "!tar xf spark-3.3.0-bin-hadoop3.tgz\n",
        "!pip install -q findspark\n",
        "!pip install pyspark\n",
        "\n"
      ],
      "execution_count": 58,
      "outputs": [
        {
          "output_type": "stream",
          "name": "stdout",
          "text": [
            "\u001b[33m\r0% [Working]\u001b[0m\r            \rGet:1 https://cloud.r-project.org/bin/linux/ubuntu bionic-cran40/ InRelease [3,626 B]\n",
            "\u001b[33m\r0% [Connecting to archive.ubuntu.com (185.125.190.36)] [Connecting to security.\u001b[0m\u001b[33m\r0% [Connecting to archive.ubuntu.com (185.125.190.36)] [Connecting to security.\u001b[0m\u001b[33m\r0% [1 InRelease gpgv 3,626 B] [Waiting for headers] [Connecting to security.ubu\u001b[0m\r                                                                               \rIgn:2 https://developer.download.nvidia.com/compute/machine-learning/repos/ubuntu1804/x86_64  InRelease\n",
            "\u001b[33m\r0% [1 InRelease gpgv 3,626 B] [Waiting for headers] [Waiting for headers] [Wait\u001b[0m\r                                                                               \rGet:3 https://developer.download.nvidia.com/compute/cuda/repos/ubuntu1804/x86_64  InRelease [1,581 B]\n",
            "\u001b[33m\r0% [1 InRelease gpgv 3,626 B] [Waiting for headers] [Waiting for headers] [3 In\u001b[0m\u001b[33m\r0% [1 InRelease gpgv 3,626 B] [Waiting for headers] [Waiting for headers] [Wait\u001b[0m\r                                                                               \rGet:4 http://security.ubuntu.com/ubuntu bionic-security InRelease [88.7 kB]\n",
            "\r                                                                               \rHit:5 https://developer.download.nvidia.com/compute/machine-learning/repos/ubuntu1804/x86_64  Release\n",
            "\u001b[33m\r0% [1 InRelease gpgv 3,626 B] [Waiting for headers] [4 InRelease 14.2 kB/88.7 k\u001b[0m\r                                                                               \rGet:6 http://ppa.launchpad.net/c2d4u.team/c2d4u4.0+/ubuntu bionic InRelease [15.9 kB]\n",
            "Hit:7 http://archive.ubuntu.com/ubuntu bionic InRelease\n",
            "Get:8 http://archive.ubuntu.com/ubuntu bionic-updates InRelease [88.7 kB]\n",
            "Get:9 https://developer.download.nvidia.com/compute/cuda/repos/ubuntu1804/x86_64  Packages [910 kB]\n",
            "Hit:11 http://ppa.launchpad.net/cran/libgit2/ubuntu bionic InRelease\n",
            "Get:12 http://archive.ubuntu.com/ubuntu bionic-backports InRelease [74.6 kB]\n",
            "Hit:13 http://ppa.launchpad.net/deadsnakes/ppa/ubuntu bionic InRelease\n",
            "Get:14 http://security.ubuntu.com/ubuntu bionic-security/main amd64 Packages [2,937 kB]\n",
            "Hit:15 http://ppa.launchpad.net/graphics-drivers/ppa/ubuntu bionic InRelease\n",
            "Get:16 http://security.ubuntu.com/ubuntu bionic-security/universe amd64 Packages [1,533 kB]\n",
            "Get:17 http://ppa.launchpad.net/c2d4u.team/c2d4u4.0+/ubuntu bionic/main Sources [2,095 kB]\n",
            "Get:18 http://archive.ubuntu.com/ubuntu bionic-updates/main amd64 Packages [3,369 kB]\n",
            "Get:19 http://archive.ubuntu.com/ubuntu bionic-updates/universe amd64 Packages [2,311 kB]\n",
            "Get:20 http://ppa.launchpad.net/c2d4u.team/c2d4u4.0+/ubuntu bionic/main amd64 Packages [1,073 kB]\n",
            "Fetched 14.5 MB in 3s (4,956 kB/s)\n",
            "Reading package lists... Done\n",
            "Building dependency tree       \n",
            "Reading state information... Done\n",
            "25 packages can be upgraded. Run 'apt list --upgradable' to see them.\n",
            "Looking in indexes: https://pypi.org/simple, https://us-python.pkg.dev/colab-wheels/public/simple/\n",
            "Collecting pyspark\n",
            "  Downloading pyspark-3.3.0.tar.gz (281.3 MB)\n",
            "\u001b[K     |████████████████████████████████| 281.3 MB 44 kB/s \n",
            "\u001b[?25hCollecting py4j==0.10.9.5\n",
            "  Downloading py4j-0.10.9.5-py2.py3-none-any.whl (199 kB)\n",
            "\u001b[K     |████████████████████████████████| 199 kB 33.5 MB/s \n",
            "\u001b[?25hBuilding wheels for collected packages: pyspark\n",
            "  Building wheel for pyspark (setup.py) ... \u001b[?25l\u001b[?25hdone\n",
            "  Created wheel for pyspark: filename=pyspark-3.3.0-py2.py3-none-any.whl size=281764026 sha256=d40a0d14ef8a83e89ac70b1349b1c14d1e0c8cfb5162e900c86c7c37d002dd7d\n",
            "  Stored in directory: /root/.cache/pip/wheels/7a/8e/1b/f73a52650d2e5f337708d9f6a1750d451a7349a867f928b885\n",
            "Successfully built pyspark\n",
            "Installing collected packages: py4j, pyspark\n",
            "Successfully installed py4j-0.10.9.5 pyspark-3.3.0\n"
          ]
        },
        {
          "output_type": "error",
          "ename": "Exception",
          "evalue": "ignored",
          "traceback": [
            "\u001b[0;31m---------------------------------------------------------------------------\u001b[0m",
            "\u001b[0;31mIndexError\u001b[0m                                Traceback (most recent call last)",
            "\u001b[0;32m/usr/local/lib/python3.7/dist-packages/findspark.py\u001b[0m in \u001b[0;36minit\u001b[0;34m(spark_home, python_path, edit_rc, edit_profile)\u001b[0m\n\u001b[1;32m    158\u001b[0m         \u001b[0;32mtry\u001b[0m\u001b[0;34m:\u001b[0m\u001b[0;34m\u001b[0m\u001b[0;34m\u001b[0m\u001b[0m\n\u001b[0;32m--> 159\u001b[0;31m             \u001b[0mpy4j\u001b[0m \u001b[0;34m=\u001b[0m \u001b[0mglob\u001b[0m\u001b[0;34m(\u001b[0m\u001b[0mos\u001b[0m\u001b[0;34m.\u001b[0m\u001b[0mpath\u001b[0m\u001b[0;34m.\u001b[0m\u001b[0mjoin\u001b[0m\u001b[0;34m(\u001b[0m\u001b[0mspark_python\u001b[0m\u001b[0;34m,\u001b[0m \u001b[0;34m\"lib\"\u001b[0m\u001b[0;34m,\u001b[0m \u001b[0;34m\"py4j-*.zip\"\u001b[0m\u001b[0;34m)\u001b[0m\u001b[0;34m)\u001b[0m\u001b[0;34m[\u001b[0m\u001b[0;36m0\u001b[0m\u001b[0;34m]\u001b[0m\u001b[0;34m\u001b[0m\u001b[0;34m\u001b[0m\u001b[0m\n\u001b[0m\u001b[1;32m    160\u001b[0m         \u001b[0;32mexcept\u001b[0m \u001b[0mIndexError\u001b[0m\u001b[0;34m:\u001b[0m\u001b[0;34m\u001b[0m\u001b[0;34m\u001b[0m\u001b[0m\n",
            "\u001b[0;31mIndexError\u001b[0m: list index out of range",
            "\nDuring handling of the above exception, another exception occurred:\n",
            "\u001b[0;31mException\u001b[0m                                 Traceback (most recent call last)",
            "\u001b[0;32m<ipython-input-58-e9e0b9e6c45b>\u001b[0m in \u001b[0;36m<module>\u001b[0;34m\u001b[0m\n\u001b[1;32m     11\u001b[0m \u001b[0;34m\u001b[0m\u001b[0m\n\u001b[1;32m     12\u001b[0m \u001b[0;32mimport\u001b[0m \u001b[0mfindspark\u001b[0m\u001b[0;34m\u001b[0m\u001b[0;34m\u001b[0m\u001b[0m\n\u001b[0;32m---> 13\u001b[0;31m \u001b[0mfindspark\u001b[0m\u001b[0;34m.\u001b[0m\u001b[0minit\u001b[0m\u001b[0;34m(\u001b[0m\u001b[0;34m)\u001b[0m\u001b[0;34m\u001b[0m\u001b[0;34m\u001b[0m\u001b[0m\n\u001b[0m\u001b[1;32m     14\u001b[0m \u001b[0mfindspark\u001b[0m\u001b[0;34m.\u001b[0m\u001b[0mfind\u001b[0m\u001b[0;34m(\u001b[0m\u001b[0;34m)\u001b[0m\u001b[0;34m\u001b[0m\u001b[0;34m\u001b[0m\u001b[0m\n\u001b[1;32m     15\u001b[0m \u001b[0;34m\u001b[0m\u001b[0m\n",
            "\u001b[0;32m/usr/local/lib/python3.7/dist-packages/findspark.py\u001b[0m in \u001b[0;36minit\u001b[0;34m(spark_home, python_path, edit_rc, edit_profile)\u001b[0m\n\u001b[1;32m    161\u001b[0m             raise Exception(\n\u001b[1;32m    162\u001b[0m                 \"Unable to find py4j in {}, your SPARK_HOME may not be configured correctly\".format(\n\u001b[0;32m--> 163\u001b[0;31m                     \u001b[0mspark_python\u001b[0m\u001b[0;34m\u001b[0m\u001b[0;34m\u001b[0m\u001b[0m\n\u001b[0m\u001b[1;32m    164\u001b[0m                 )\n\u001b[1;32m    165\u001b[0m             )\n",
            "\u001b[0;31mException\u001b[0m: Unable to find py4j in /content/spark-3.2.0-bin-hadoop3.2/python, your SPARK_HOME may not be configured correctly"
          ]
        }
      ]
    },
    {
      "cell_type": "code",
      "source": [
        "import os\n",
        "os.environ[\"JAVA_HOME\"] = \"/usr/lib/jvm/java-8-openjdk-amd64\"\n",
        "os.environ[\"SPARK_HOME\"] = \"/content/spark-3.3.0-bin-hadoop3\"\n",
        "\n",
        "import findspark\n",
        "findspark.init()\n",
        "findspark.find()\n",
        "\n",
        "from pyspark.sql import DataFrame, SparkSession\n",
        "from typing import List\n",
        "import pyspark.sql.types as T\n",
        "import pyspark.sql.functions as F\n",
        "\n",
        "spark = SparkSession \\\n",
        "       .builder \\\n",
        "       .appName(\"Our First Spark example\") \\\n",
        "       .getOrCreate()\n",
        "\n",
        "spark"
      ],
      "metadata": {
        "colab": {
          "base_uri": "https://localhost:8080/",
          "height": 219
        },
        "id": "npgIChOF2o-_",
        "outputId": "c11e4d4d-f587-45ae-9c7d-6e6f055e61a1"
      },
      "execution_count": 59,
      "outputs": [
        {
          "output_type": "execute_result",
          "data": {
            "text/plain": [
              "<pyspark.sql.session.SparkSession at 0x7f545f01d390>"
            ],
            "text/html": [
              "\n",
              "            <div>\n",
              "                <p><b>SparkSession - in-memory</b></p>\n",
              "                \n",
              "        <div>\n",
              "            <p><b>SparkContext</b></p>\n",
              "\n",
              "            <p><a href=\"http://a3e4fbf6672e:4040\">Spark UI</a></p>\n",
              "\n",
              "            <dl>\n",
              "              <dt>Version</dt>\n",
              "                <dd><code>v3.3.0</code></dd>\n",
              "              <dt>Master</dt>\n",
              "                <dd><code>local[*]</code></dd>\n",
              "              <dt>AppName</dt>\n",
              "                <dd><code>Our First Spark example</code></dd>\n",
              "            </dl>\n",
              "        </div>\n",
              "        \n",
              "            </div>\n",
              "        "
            ]
          },
          "metadata": {},
          "execution_count": 59
        }
      ]
    },
    {
      "cell_type": "code",
      "source": [
        ""
      ],
      "metadata": {
        "id": "qcfn5zvM2scV"
      },
      "execution_count": null,
      "outputs": []
    }
  ]
}