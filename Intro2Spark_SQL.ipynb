{
  "nbformat": 4,
  "nbformat_minor": 0,
  "metadata": {
    "colab": {
      "name": "Intro2Spark-SQL.ipynb",
      "provenance": [],
      "toc_visible": true,
      "mount_file_id": "19ULyJvOAqd7CVucbT_-FwRWsl_xo8JuD",
      "authorship_tag": "ABX9TyOg9WKnZ8PmcLpZ9YMjiva0",
      "include_colab_link": true
    },
    "kernelspec": {
      "name": "python3",
      "display_name": "Python 3"
    }
  },
  "cells": [
    {
      "cell_type": "markdown",
      "metadata": {
        "id": "view-in-github",
        "colab_type": "text"
      },
      "source": [
        "<a href=\"https://colab.research.google.com/github/pasdptt/PasdPublicNB/blob/master/Intro2Spark_SQL.ipynb\" target=\"_parent\"><img src=\"https://colab.research.google.com/assets/colab-badge.svg\" alt=\"Open In Colab\"/></a>"
      ]
    },
    {
      "cell_type": "markdown",
      "metadata": {
        "id": "C9KMmFCmbfNN"
      },
      "source": [
        "# Installing Spark on Colab\n",
        "References Readings/Links <br>\n",
        "*   http://apache.osuosl.org/spark/spark-3.0.0-preview2/\n",
        "*   https://medium.com/@sushantgautam_930/apache-spark-in-google-collaboratory-in-3-steps-e0acbba654e6 <br>\n",
        "*   https://notebooks.gesis.org/binder/jupyter/user/databricks-koalas-kuv5qckt/notebooks/docs/source/getting_started/10min.ipynb <br>\n",
        "*   https://medium.com/@sushantgautam_930/apache-spark-in-google-collaboratory-in-3-steps-e0acbba654e6 <br>\n",
        "*   https://towardsdatascience.com/introduction-to-apache-spark-207a479c3001\n",
        "*   https://spark.apache.org/\n",
        "*   https://medium.com/@amjadraza24/spark-ifying-pandas-databricks-koalas-with-google-colab-93028890db5"
      ]
    },
    {
      "cell_type": "markdown",
      "metadata": {
        "id": "lVX8dTTDQah6"
      },
      "source": [
        "# Step 1 : Install Java, Spark, and Findspark"
      ]
    },
    {
      "cell_type": "code",
      "metadata": {
        "id": "0B7jFURxNSPm",
        "colab": {
          "base_uri": "https://localhost:8080/"
        },
        "outputId": "2ef8f1d0-8a24-4bba-f2eb-26bee3e9aa12"
      },
      "source": [
        "!apt-get update"
      ],
      "execution_count": 1,
      "outputs": [
        {
          "output_type": "stream",
          "text": [
            "Get:1 https://cloud.r-project.org/bin/linux/ubuntu bionic-cran40/ InRelease [3,626 B]\n",
            "Ign:2 https://developer.download.nvidia.com/compute/cuda/repos/ubuntu1804/x86_64  InRelease\n",
            "Ign:3 https://developer.download.nvidia.com/compute/machine-learning/repos/ubuntu1804/x86_64  InRelease\n",
            "Get:4 http://ppa.launchpad.net/c2d4u.team/c2d4u4.0+/ubuntu bionic InRelease [15.9 kB]\n",
            "Hit:5 https://developer.download.nvidia.com/compute/cuda/repos/ubuntu1804/x86_64  Release\n",
            "Hit:6 https://developer.download.nvidia.com/compute/machine-learning/repos/ubuntu1804/x86_64  Release\n",
            "Hit:8 http://archive.ubuntu.com/ubuntu bionic InRelease\n",
            "Get:10 http://archive.ubuntu.com/ubuntu bionic-updates InRelease [88.7 kB]\n",
            "Get:11 http://security.ubuntu.com/ubuntu bionic-security InRelease [88.7 kB]\n",
            "Hit:12 http://ppa.launchpad.net/cran/libgit2/ubuntu bionic InRelease\n",
            "Hit:13 http://ppa.launchpad.net/deadsnakes/ppa/ubuntu bionic InRelease\n",
            "Get:14 http://archive.ubuntu.com/ubuntu bionic-backports InRelease [74.6 kB]\n",
            "Hit:15 http://ppa.launchpad.net/graphics-drivers/ppa/ubuntu bionic InRelease\n",
            "Get:16 http://archive.ubuntu.com/ubuntu bionic-updates/restricted amd64 Packages [575 kB]\n",
            "Get:17 http://security.ubuntu.com/ubuntu bionic-security/main amd64 Packages [2,294 kB]\n",
            "Get:18 http://ppa.launchpad.net/c2d4u.team/c2d4u4.0+/ubuntu bionic/main Sources [1,792 kB]\n",
            "Get:19 http://archive.ubuntu.com/ubuntu bionic-updates/universe amd64 Packages [2,196 kB]\n",
            "Get:20 http://archive.ubuntu.com/ubuntu bionic-updates/multiverse amd64 Packages [34.4 kB]\n",
            "Get:21 http://archive.ubuntu.com/ubuntu bionic-updates/main amd64 Packages [2,729 kB]\n",
            "Get:22 http://security.ubuntu.com/ubuntu bionic-security/restricted amd64 Packages [543 kB]\n",
            "Get:23 http://security.ubuntu.com/ubuntu bionic-security/universe amd64 Packages [1,421 kB]\n",
            "Get:24 http://ppa.launchpad.net/c2d4u.team/c2d4u4.0+/ubuntu bionic/main amd64 Packages [917 kB]\n",
            "Fetched 12.8 MB in 6s (2,079 kB/s)\n",
            "Reading package lists... Done\n"
          ],
          "name": "stdout"
        }
      ]
    },
    {
      "cell_type": "code",
      "metadata": {
        "id": "hd-TIOupNYev"
      },
      "source": [
        "!apt-get install openjdk-8-jdk-headless -qq > /dev/null"
      ],
      "execution_count": 2,
      "outputs": []
    },
    {
      "cell_type": "code",
      "metadata": {
        "id": "QJlYzNhVbEZk"
      },
      "source": [
        "#Get Install the Java Development Kit\n",
        "!apt-get install openjdk-8-jdk-headless -qq > /dev/null\n",
        "#Get Spark lib -- address need to be change according to the current version of Spark: https://downloads.apache.org/spark/\n",
        "#!wget -q http://apache.osuosl.org/spark/spark-3.0.3/spark-3.0.3-bin-hadoop3.2.tgz\n",
        "#Unzip th Spark\n",
        "!tar xf spark-3.0.3-bin-hadoop3.2.tgz\n",
        "#install findspark for Python\n",
        "!pip install -q findspark\n",
        "#!pip install -q sparksql-magic\n"
      ],
      "execution_count": 10,
      "outputs": []
    },
    {
      "cell_type": "markdown",
      "metadata": {
        "id": "Kj1hdKRmMV38"
      },
      "source": [
        ""
      ]
    },
    {
      "cell_type": "code",
      "metadata": {
        "id": "cCCaFr8glaIR"
      },
      "source": [
        "#Install extra lib(s)\n",
        "!pip install -q xlrd\n",
        "!pip install -q kaggle\n",
        "!pip install -q kora\n"
      ],
      "execution_count": 11,
      "outputs": []
    },
    {
      "cell_type": "markdown",
      "metadata": {
        "id": "TOvKLeaAQVuM"
      },
      "source": [
        "# Step 2: Set Environment Variables"
      ]
    },
    {
      "cell_type": "code",
      "metadata": {
        "id": "eTyD1-8ibZeJ"
      },
      "source": [
        "#import and set environment for spark\n",
        "import os\n",
        "os.environ[\"JAVA_HOME\"] = \"/usr/lib/jvm/java-8-openjdk-amd64\"\n",
        "os.environ[\"SPARK_HOME\"] = \"/content/spark-3.0.3-bin-hadoop3.2\""
      ],
      "execution_count": 12,
      "outputs": []
    },
    {
      "cell_type": "code",
      "metadata": {
        "id": "iMDdy3dBhqoQ"
      },
      "source": [
        "import kora\n",
        "import pandas as pd"
      ],
      "execution_count": 13,
      "outputs": []
    },
    {
      "cell_type": "markdown",
      "metadata": {
        "id": "BHyD-vULQyJv"
      },
      "source": [
        "# Step 3: Start a SparkSession"
      ]
    },
    {
      "cell_type": "code",
      "metadata": {
        "id": "sBSPWIEacWlX"
      },
      "source": [
        "import findspark\n",
        "findspark.init()\n",
        "from pyspark import SparkContext\n",
        "from pyspark.sql import SparkSession\n",
        "from pyspark.sql import *\n",
        "\n",
        "SPARK_URL = \"local[*]\"\n",
        "\n",
        "spark = SparkSession.builder.master(SPARK_URL).getOrCreate()"
      ],
      "execution_count": 14,
      "outputs": []
    },
    {
      "cell_type": "code",
      "metadata": {
        "id": "PEbJcscjTzs3",
        "colab": {
          "base_uri": "https://localhost:8080/"
        },
        "outputId": "760934c8-6fc9-4ef8-fdf1-604251cded27"
      },
      "source": [
        "# Check the pyspark version\n",
        "import pyspark\n",
        "print(pyspark.__version__)"
      ],
      "execution_count": 15,
      "outputs": [
        {
          "output_type": "stream",
          "text": [
            "3.0.3\n"
          ],
          "name": "stdout"
        }
      ]
    },
    {
      "cell_type": "code",
      "metadata": {
        "id": "_lo95bI5Q62X",
        "colab": {
          "base_uri": "https://localhost:8080/"
        },
        "outputId": "f8df5600-c22d-4dae-e323-6a07e364d94b"
      },
      "source": [
        "df = spark.createDataFrame([{\"hello\": \"world\"} for x in range(1000)])\n",
        "df.show(3)"
      ],
      "execution_count": 16,
      "outputs": [
        {
          "output_type": "stream",
          "text": [
            "/content/spark-3.0.3-bin-hadoop3.2/python/pyspark/sql/session.py:381: UserWarning: inferring schema from dict is deprecated,please use pyspark.sql.Row instead\n",
            "  warnings.warn(\"inferring schema from dict is deprecated,\"\n"
          ],
          "name": "stderr"
        },
        {
          "output_type": "stream",
          "text": [
            "+-----+\n",
            "|hello|\n",
            "+-----+\n",
            "|world|\n",
            "|world|\n",
            "|world|\n",
            "+-----+\n",
            "only showing top 3 rows\n",
            "\n"
          ],
          "name": "stdout"
        }
      ]
    },
    {
      "cell_type": "markdown",
      "metadata": {
        "id": "GwiLOrQ7nsb2"
      },
      "source": [
        "# Special Step: Getting data from kaggle"
      ]
    },
    {
      "cell_type": "code",
      "metadata": {
        "id": "Vd0MkIVmiDHW",
        "colab": {
          "base_uri": "https://localhost:8080/",
          "height": 122
        },
        "outputId": "a9613702-9faa-4e35-9780-80a316b15591"
      },
      "source": [
        "from google.colab import drive\n",
        "drive.mount('/content/gdrive')"
      ],
      "execution_count": null,
      "outputs": [
        {
          "output_type": "stream",
          "text": [
            "Go to this URL in a browser: https://accounts.google.com/o/oauth2/auth?client_id=947318989803-6bn6qk8qdgf4n4g3pfee6491hc0brc4i.apps.googleusercontent.com&redirect_uri=urn%3aietf%3awg%3aoauth%3a2.0%3aoob&response_type=code&scope=email%20https%3a%2f%2fwww.googleapis.com%2fauth%2fdocs.test%20https%3a%2f%2fwww.googleapis.com%2fauth%2fdrive%20https%3a%2f%2fwww.googleapis.com%2fauth%2fdrive.photos.readonly%20https%3a%2f%2fwww.googleapis.com%2fauth%2fpeopleapi.readonly\n",
            "\n",
            "Enter your authorization code:\n",
            "··········\n",
            "Mounted at /content/gdrive\n"
          ],
          "name": "stdout"
        }
      ]
    },
    {
      "cell_type": "code",
      "metadata": {
        "id": "Tj7p0RoJn85L"
      },
      "source": [
        "import os\n",
        "os.environ['KAGGLE_CONFIG_DIR'] = \"/content/gdrive/My Drive/Kaggle\""
      ],
      "execution_count": null,
      "outputs": []
    },
    {
      "cell_type": "code",
      "metadata": {
        "id": "BUMol2wzpCOL",
        "colab": {
          "base_uri": "https://localhost:8080/",
          "height": 68
        },
        "outputId": "522a69f9-38c0-4fd1-b298-f8e8a7606515"
      },
      "source": [
        "!kaggle datasets download -d hverified/web-scraped-data-of-fifa-world-cup-2018-players"
      ],
      "execution_count": null,
      "outputs": [
        {
          "output_type": "stream",
          "text": [
            "Downloading web-scraped-data-of-fifa-world-cup-2018-players.zip to /content\n",
            "\r  0% 0.00/13.7k [00:00<?, ?B/s]\n",
            "\r100% 13.7k/13.7k [00:00<00:00, 12.3MB/s]\n"
          ],
          "name": "stdout"
        }
      ]
    },
    {
      "cell_type": "code",
      "metadata": {
        "id": "GUFMuU5SpLVJ",
        "colab": {
          "base_uri": "https://localhost:8080/",
          "height": 51
        },
        "outputId": "fa9b42eb-5525-4843-ade8-3fbec2b59074"
      },
      "source": [
        "!unzip /content/web-scraped-data-of-fifa-world-cup-2018-players.zip  && rm /content/web-scraped-data-of-fifa-world-cup-2018-players.zip"
      ],
      "execution_count": null,
      "outputs": [
        {
          "output_type": "stream",
          "text": [
            "Archive:  /content/web-scraped-data-of-fifa-world-cup-2018-players.zip\n",
            "  inflating: Fifa_players.csv        \n"
          ],
          "name": "stdout"
        }
      ]
    },
    {
      "cell_type": "markdown",
      "metadata": {
        "id": "qCp8TPPMp9Xp"
      },
      "source": [
        "# Step 4: Mount CSV data to table"
      ]
    },
    {
      "cell_type": "code",
      "metadata": {
        "id": "CggmHcWIpyB0",
        "colab": {
          "base_uri": "https://localhost:8080/",
          "height": 479
        },
        "outputId": "19b6e017-bdea-4186-a3ed-fab4d6afe35d"
      },
      "source": [
        "file_path = \"./Fifa_players.csv\"\n",
        "\n",
        "df_test = spark.read.options(header=\"true\",inferschema = \"true\").csv(file_path)\n",
        "\n",
        "df_test.show()"
      ],
      "execution_count": null,
      "outputs": [
        {
          "output_type": "stream",
          "text": [
            "+---+---+-------+----------+------------------+-------------------+-------------------+----------+\n",
            "|_c0|Age|Country|Height(cm)|International Caps|International Goals|               Name|      Role|\n",
            "+---+---+-------+----------+------------------+-------------------+-------------------+----------+\n",
            "|  0| 29|   Peru|  189.0 cm|                42|                  0|      Pedro GALLESE|Goalkeeper|\n",
            "|  1| 34|   Peru|  179.0 cm|                75|                  0|  Alberto RODRIGUEZ|  Defender|\n",
            "|  2| 29|   Peru|  172.0 cm|                24|                  0|         Aldo CORZO|  Defender|\n",
            "|  3| 27|   Peru|  185.0 cm|                 8|                  0|Anderson SANTAMARIA|  Defender|\n",
            "|  4| 24|   Peru|  178.0 cm|                 8|                  0|      Miguel ARAUJO|  Defender|\n",
            "|  5| 26|   Peru|  169.0 cm|                29|                  0|      Miguel TRAUCO|  Defender|\n",
            "|  6| 28|   Peru|  175.0 cm|                34|                  3|      Paolo HURTADO|Midfielder|\n",
            "|  7| 27|   Peru|  169.0 cm|                48|                  8|    Christian CUEVA|Midfielder|\n",
            "|  8| 35|   Peru|  185.0 cm|                92|                 36|     Paolo GUERRERO|   Forward|\n",
            "|  9| 34|   Peru|  178.0 cm|                86|                 25|   Jefferson FARFAN|   Forward|\n",
            "| 10| 28|   Peru|  169.0 cm|                32|                  4|       Raul RUIDIAZ|   Forward|\n",
            "| 11| 27|   Peru|  185.0 cm|                 6|                  0|      Carlos CACEDA|Goalkeeper|\n",
            "| 12| 23|   Peru|  185.0 cm|                33|                  3|       Renato TAPIA|Midfielder|\n",
            "| 13| 24|   Peru|  174.0 cm|                17|                  1|          Andy POLO|Midfielder|\n",
            "| 14| 30|   Peru|  185.0 cm|                73|                  3|    Christian RAMOS|  Defender|\n",
            "| 15| 24|   Peru|  179.0 cm|                 4|                  0|   Wilder CARTAGENA|Midfielder|\n",
            "| 16| 29|   Peru|  178.0 cm|                68|                  0|     Luis ADVINCULA|  Defender|\n",
            "| 17| 27|   Peru|  181.0 cm|                49|                  6|     Andre CARRILLO|   Forward|\n",
            "| 18| 28|   Peru|  173.0 cm|                76|                  2|     Yoshimar YOTUN|Midfielder|\n",
            "| 19| 24|   Peru|  170.0 cm|                32|                  9|      Edison FLORES|   Forward|\n",
            "+---+---+-------+----------+------------------+-------------------+-------------------+----------+\n",
            "only showing top 20 rows\n",
            "\n"
          ],
          "name": "stdout"
        }
      ]
    },
    {
      "cell_type": "code",
      "metadata": {
        "id": "JSKqR62Ure9I",
        "colab": {
          "base_uri": "https://localhost:8080/",
          "height": 479
        },
        "outputId": "55dca216-04a0-47e8-dfde-b15a6311cd1a"
      },
      "source": [
        "#or\n",
        "\n",
        "sqlContext = SQLContext(spark)\n",
        "\n",
        "df_test2 = sqlContext.read.format('com.databricks.spark.csv')\\\n",
        "  .options(header='true', inferschema='true')\\\n",
        "  .load(file_path)\n",
        "\n",
        "df_test2.show()"
      ],
      "execution_count": null,
      "outputs": [
        {
          "output_type": "stream",
          "text": [
            "+---+---+-------+----------+------------------+-------------------+-------------------+----------+\n",
            "|_c0|Age|Country|Height(cm)|International Caps|International Goals|               Name|      Role|\n",
            "+---+---+-------+----------+------------------+-------------------+-------------------+----------+\n",
            "|  0| 29|   Peru|  189.0 cm|                42|                  0|      Pedro GALLESE|Goalkeeper|\n",
            "|  1| 34|   Peru|  179.0 cm|                75|                  0|  Alberto RODRIGUEZ|  Defender|\n",
            "|  2| 29|   Peru|  172.0 cm|                24|                  0|         Aldo CORZO|  Defender|\n",
            "|  3| 27|   Peru|  185.0 cm|                 8|                  0|Anderson SANTAMARIA|  Defender|\n",
            "|  4| 24|   Peru|  178.0 cm|                 8|                  0|      Miguel ARAUJO|  Defender|\n",
            "|  5| 26|   Peru|  169.0 cm|                29|                  0|      Miguel TRAUCO|  Defender|\n",
            "|  6| 28|   Peru|  175.0 cm|                34|                  3|      Paolo HURTADO|Midfielder|\n",
            "|  7| 27|   Peru|  169.0 cm|                48|                  8|    Christian CUEVA|Midfielder|\n",
            "|  8| 35|   Peru|  185.0 cm|                92|                 36|     Paolo GUERRERO|   Forward|\n",
            "|  9| 34|   Peru|  178.0 cm|                86|                 25|   Jefferson FARFAN|   Forward|\n",
            "| 10| 28|   Peru|  169.0 cm|                32|                  4|       Raul RUIDIAZ|   Forward|\n",
            "| 11| 27|   Peru|  185.0 cm|                 6|                  0|      Carlos CACEDA|Goalkeeper|\n",
            "| 12| 23|   Peru|  185.0 cm|                33|                  3|       Renato TAPIA|Midfielder|\n",
            "| 13| 24|   Peru|  174.0 cm|                17|                  1|          Andy POLO|Midfielder|\n",
            "| 14| 30|   Peru|  185.0 cm|                73|                  3|    Christian RAMOS|  Defender|\n",
            "| 15| 24|   Peru|  179.0 cm|                 4|                  0|   Wilder CARTAGENA|Midfielder|\n",
            "| 16| 29|   Peru|  178.0 cm|                68|                  0|     Luis ADVINCULA|  Defender|\n",
            "| 17| 27|   Peru|  181.0 cm|                49|                  6|     Andre CARRILLO|   Forward|\n",
            "| 18| 28|   Peru|  173.0 cm|                76|                  2|     Yoshimar YOTUN|Midfielder|\n",
            "| 19| 24|   Peru|  170.0 cm|                32|                  9|      Edison FLORES|   Forward|\n",
            "+---+---+-------+----------+------------------+-------------------+-------------------+----------+\n",
            "only showing top 20 rows\n",
            "\n"
          ],
          "name": "stdout"
        }
      ]
    },
    {
      "cell_type": "code",
      "metadata": {
        "id": "F1A3PSpxrVWf"
      },
      "source": [
        "df_test.registerTempTable(\"fifa2018\")"
      ],
      "execution_count": null,
      "outputs": []
    },
    {
      "cell_type": "code",
      "metadata": {
        "id": "FDUOtIyoqvkh",
        "colab": {
          "base_uri": "https://localhost:8080/",
          "height": 479
        },
        "outputId": "9536f626-53af-4a03-9a60-99249a92cc7a"
      },
      "source": [
        "sqlContext.sql(\"\"\"\n",
        "select * from fifa2018\n",
        "\"\"\").show()"
      ],
      "execution_count": null,
      "outputs": [
        {
          "output_type": "stream",
          "text": [
            "+---+---+-------+----------+------------------+-------------------+-------------------+----------+\n",
            "|_c0|Age|Country|Height(cm)|International Caps|International Goals|               Name|      Role|\n",
            "+---+---+-------+----------+------------------+-------------------+-------------------+----------+\n",
            "|  0| 29|   Peru|  189.0 cm|                42|                  0|      Pedro GALLESE|Goalkeeper|\n",
            "|  1| 34|   Peru|  179.0 cm|                75|                  0|  Alberto RODRIGUEZ|  Defender|\n",
            "|  2| 29|   Peru|  172.0 cm|                24|                  0|         Aldo CORZO|  Defender|\n",
            "|  3| 27|   Peru|  185.0 cm|                 8|                  0|Anderson SANTAMARIA|  Defender|\n",
            "|  4| 24|   Peru|  178.0 cm|                 8|                  0|      Miguel ARAUJO|  Defender|\n",
            "|  5| 26|   Peru|  169.0 cm|                29|                  0|      Miguel TRAUCO|  Defender|\n",
            "|  6| 28|   Peru|  175.0 cm|                34|                  3|      Paolo HURTADO|Midfielder|\n",
            "|  7| 27|   Peru|  169.0 cm|                48|                  8|    Christian CUEVA|Midfielder|\n",
            "|  8| 35|   Peru|  185.0 cm|                92|                 36|     Paolo GUERRERO|   Forward|\n",
            "|  9| 34|   Peru|  178.0 cm|                86|                 25|   Jefferson FARFAN|   Forward|\n",
            "| 10| 28|   Peru|  169.0 cm|                32|                  4|       Raul RUIDIAZ|   Forward|\n",
            "| 11| 27|   Peru|  185.0 cm|                 6|                  0|      Carlos CACEDA|Goalkeeper|\n",
            "| 12| 23|   Peru|  185.0 cm|                33|                  3|       Renato TAPIA|Midfielder|\n",
            "| 13| 24|   Peru|  174.0 cm|                17|                  1|          Andy POLO|Midfielder|\n",
            "| 14| 30|   Peru|  185.0 cm|                73|                  3|    Christian RAMOS|  Defender|\n",
            "| 15| 24|   Peru|  179.0 cm|                 4|                  0|   Wilder CARTAGENA|Midfielder|\n",
            "| 16| 29|   Peru|  178.0 cm|                68|                  0|     Luis ADVINCULA|  Defender|\n",
            "| 17| 27|   Peru|  181.0 cm|                49|                  6|     Andre CARRILLO|   Forward|\n",
            "| 18| 28|   Peru|  173.0 cm|                76|                  2|     Yoshimar YOTUN|Midfielder|\n",
            "| 19| 24|   Peru|  170.0 cm|                32|                  9|      Edison FLORES|   Forward|\n",
            "+---+---+-------+----------+------------------+-------------------+-------------------+----------+\n",
            "only showing top 20 rows\n",
            "\n"
          ],
          "name": "stdout"
        }
      ]
    },
    {
      "cell_type": "code",
      "metadata": {
        "id": "6b21wKT_T7h9",
        "colab": {
          "base_uri": "https://localhost:8080/",
          "height": 187
        },
        "outputId": "becdf9a0-2cf4-464d-eef7-f0518868cf08"
      },
      "source": [
        "sqlContext.sql(\"\"\"\n",
        "select Role,count(*) from fifa2018 group by Role\n",
        "\"\"\").show()"
      ],
      "execution_count": null,
      "outputs": [
        {
          "output_type": "stream",
          "text": [
            "+----------+--------+\n",
            "|      Role|count(1)|\n",
            "+----------+--------+\n",
            "|      null|       2|\n",
            "|  Defender|     246|\n",
            "|Goalkeeper|      96|\n",
            "|   Forward|     159|\n",
            "|Midfielder|     233|\n",
            "+----------+--------+\n",
            "\n"
          ],
          "name": "stdout"
        }
      ]
    },
    {
      "cell_type": "markdown",
      "metadata": {
        "id": "qnAGyPIzvJ3-"
      },
      "source": [
        "# How to save result as CSV to your \"Drive\""
      ]
    },
    {
      "cell_type": "code",
      "metadata": {
        "id": "AVuZTCUXvHSi"
      },
      "source": [
        "df_test\\\n",
        "   .coalesce(1)\\\n",
        "   .write.format(\"com.databricks.spark.csv\")\\\n",
        "   .option(\"header\", \"true\")\\\n",
        "   .save(\"test_output.csv\")\\"
      ],
      "execution_count": null,
      "outputs": []
    },
    {
      "cell_type": "markdown",
      "metadata": {
        "id": "O8D458SAtf40"
      },
      "source": [
        "# Lab 2"
      ]
    },
    {
      "cell_type": "markdown",
      "metadata": {
        "id": "ZYB8k6c9topN"
      },
      "source": [
        "\n",
        "\n",
        "1.   Find total unique player in Fifa 2018\n",
        "2.   Find out that which role (position) paticipate most in Fifa 2018\n",
        "3.   Find out that in each country, which role (position) paticipate most\n",
        "4.   Find Maximum and Minimum age in each country players\n",
        "5.   Find out the average age of each role (position)\n",
        "6.   How many country paticipate in Fifa 2018\n",
        "7.   Total Goal of each country by posistion in decending order\n",
        "8.   Identify how many player(s) who has name as \"Miguel\", and which country(s) the came from\n",
        "\n"
      ]
    },
    {
      "cell_type": "code",
      "metadata": {
        "id": "5jSjfBE0tVyZ",
        "colab": {
          "base_uri": "https://localhost:8080/",
          "height": 119
        },
        "outputId": "06131d4b-6cae-4a65-a556-18e64d7d7a18"
      },
      "source": [
        "#Hint\n",
        "\n",
        "df_result = sqlContext.sql(\"\"\"\n",
        "\"\"\").show()\n",
        "\n",
        "df_test\\\n",
        "   .coalesce(1)\\\n",
        "   .write.format(\"com.databricks.spark.csv\")\\\n",
        "   .option(\"header\", \"true\")\\\n",
        "   .save()\\"
      ],
      "execution_count": null,
      "outputs": [
        {
          "output_type": "stream",
          "text": [
            "+--------+--------------------+\n",
            "|count(1)|count(DISTINCT Name)|\n",
            "+--------+--------------------+\n",
            "|       4|                   4|\n",
            "+--------+--------------------+\n",
            "\n"
          ],
          "name": "stdout"
        }
      ]
    },
    {
      "cell_type": "markdown",
      "metadata": {
        "id": "R5mlA8ejxTyt"
      },
      "source": [
        "Delivery Point\n",
        "\n",
        "\n",
        "1.   Results\n",
        "2.   SQL script(s) to get the result\n",
        "\n"
      ]
    },
    {
      "cell_type": "code",
      "metadata": {
        "id": "rrbh_GmouV-k"
      },
      "source": [
        ""
      ],
      "execution_count": null,
      "outputs": []
    }
  ]
}